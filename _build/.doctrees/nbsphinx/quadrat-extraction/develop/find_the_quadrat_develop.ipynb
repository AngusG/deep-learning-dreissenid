{
 "cells": [
  {
   "cell_type": "markdown",
   "metadata": {},
   "source": [
    "# This notebook for development purposes only"
   ]
  },
  {
   "cell_type": "code",
   "execution_count": null,
   "metadata": {},
   "outputs": [],
   "source": [
    "import os \n",
    "import numpy as np\n",
    "import matplotlib.pyplot as plt\n",
    "from skimage import transform\n",
    "import cv2\n",
    "\n",
    "rad2deg = 180 / np.pi"
   ]
  },
  {
   "cell_type": "code",
   "execution_count": null,
   "metadata": {},
   "outputs": [],
   "source": [
    "%matplotlib inline"
   ]
  },
  {
   "cell_type": "code",
   "execution_count": null,
   "metadata": {},
   "outputs": [],
   "source": [
    "path = '/scratch/ssd/cciw/sample_data/'\n",
    "images = os.listdir(path)\n",
    "#img = images[-3]\n",
    "img = '1340_2016-07-11_1_GLN_3447.JPG'\n",
    "#img = '1349_2016-07-06_2_GLN_3061.JPG'\n",
    "#img = '1342_2016-07-07_2_GLN_3182.JPG'\n",
    "#img = 'sudoku.png'"
   ]
  },
  {
   "cell_type": "code",
   "execution_count": null,
   "metadata": {},
   "outputs": [],
   "source": [
    "f = os.path.join(path, img)"
   ]
  },
  {
   "cell_type": "code",
   "execution_count": null,
   "metadata": {},
   "outputs": [],
   "source": [
    "im = cv2.imread(f)"
   ]
  },
  {
   "cell_type": "code",
   "execution_count": null,
   "metadata": {},
   "outputs": [],
   "source": [
    "im.shape  # (height, width)"
   ]
  },
  {
   "cell_type": "code",
   "execution_count": null,
   "metadata": {},
   "outputs": [],
   "source": [
    "ds = 8  # naive downsampling by factor of 8\n",
    "plt.figure(figsize=(14, 10))\n",
    "plt.imshow(im[::ds, ::ds])"
   ]
  },
  {
   "cell_type": "code",
   "execution_count": null,
   "metadata": {},
   "outputs": [],
   "source": [
    "#img = im[::ds, ::ds].astype(np.uint8).copy()\n",
    "img = np.ascontiguousarray(im[::ds, ::ds], dtype=np.uint8)\n",
    "gray = cv2.cvtColor(img, cv2.COLOR_RGB2GRAY)  # convert to greyscale for edge detection\n",
    "print(gray.shape)"
   ]
  },
  {
   "cell_type": "code",
   "execution_count": null,
   "metadata": {},
   "outputs": [],
   "source": [
    "# indices, `DP' = data point\n",
    "DP_1 = 0\n",
    "DP_2 = 1\n",
    "X_COORD = 0\n",
    "Y_COORD = 1"
   ]
  },
  {
   "cell_type": "code",
   "execution_count": null,
   "metadata": {},
   "outputs": [],
   "source": [
    "'''\n",
    "@param threshold Accumulator threshold parameter. Only those lines are returned that get enough\n",
    "       votes ( \\f$>\\texttt{threshold}\\f$ ).\n",
    "@param minLineLength Minimum line length. Line segments shorter than that are rejected.\n",
    "@param maxLineGap Maximum allowed gap between points on the same line to link them.\n",
    "'''\n",
    "#img = im[::ds, ::ds].astype(np.uint8).copy()\n",
    "img = np.ascontiguousarray(im[::ds, ::ds], dtype=np.uint8)\n",
    "img_h = img.shape[0]\n",
    "img_w = img.shape[1]\n",
    "gray = cv2.cvtColor(img, cv2.COLOR_RGB2GRAY)\n",
    "\n",
    "#edges = cv2.Canny(gray, 100, 500, L2gradient=True)\n",
    "edges = cv2.Canny(gray, 20, 400, L2gradient=True) # GLN_3447\n",
    "\n",
    "# @param rho Distance resolution of the accumulator in pixels.\n",
    "rho = 1  \n",
    "# @param theta Angle resolution of the accumulator in radians.\n",
    "theta = np.pi / 90  # note, with 180 getting too many overlapping lines.\n",
    "\n",
    "lines  =  cv2.HoughLines(edges, rho, theta, threshold=100)\n",
    "#linesP = cv2.HoughLinesP(edges, 1, theta, 110)\n",
    "#linesP = cv2.HoughLinesP(edges, rho, theta, threshold=100, minLineLength=200, maxLineGap=100)\n",
    "\n",
    "#print(lines.shape)  # (N - number of lines found, r - pixels, theta - radians)\n",
    "#coords = []\n",
    "N = 1\n",
    "\n",
    "coords = np.zeros((N, 2, 2)).astype('int') # points, start/end, x/y\n",
    "angles = np.zeros(N)\n",
    "for i in range(len(lines[:N])):\n",
    "    for r, theta in lines[i]:\n",
    "        # theta is normal to the line wrt x-axis, so we subtract 90\n",
    "        if r > 0:\n",
    "            angles[i] = 90 - theta * 180 / np.pi\n",
    "        else: \n",
    "            angles[i] = 270 - theta * 180 / np.pi\n",
    "        print(i, '%.2f' % angles[i])\n",
    "        a = np.cos(theta)\n",
    "        b = np.sin(theta)\n",
    "        x0, y0 = a * r, b * r\n",
    "        x1 = int(x0 + img_w * -b)\n",
    "        y1 = int(y0 + img_w *  a)\n",
    "        x2 = int(x0 - img_w * -b)\n",
    "        y2 = int(y0 - img_w *  a)\n",
    "        #coords.append([[x1, y1], [x2, y2]])\n",
    "        coords[i, DP_1, X_COORD] = x1\n",
    "        coords[i, DP_1, Y_COORD] = y1\n",
    "        coords[i, DP_2, X_COORD] = x2\n",
    "        coords[i, DP_2, Y_COORD] = y2\n",
    "        print(i, (x1, y1), (x2, y2))\n",
    "        cv2.line(img, (x1, y1), (x2, y2), (0, 0, 255), 2)\n",
    "plt.figure(figsize=(8,8))\n",
    "plt.imshow(img)\n",
    "plt.xlabel('x')\n",
    "plt.ylabel('y')\n",
    "plt.show()        "
   ]
  },
  {
   "cell_type": "markdown",
   "metadata": {},
   "source": [
    "## Post processing (deprecated)"
   ]
  },
  {
   "cell_type": "code",
   "execution_count": null,
   "metadata": {},
   "outputs": [],
   "source": [
    "tol = 5  # tolerance in degrees\n",
    "ref = angles[0]\n",
    "candidates = []\n",
    "candidates.append((0, a))\n",
    "similar_angles = []\n",
    "for i, a in enumerate(angles[1:]):\n",
    "    if a >= ref and ref + tol > a:\n",
    "        similar_angles.append((i + 1, a))\n",
    "    else:\n",
    "        candidates.append((i + 1, a))\n",
    "print(similar_angles)\n",
    "print(candidates)\n",
    "\n",
    "# Of the lines with a similar angle, keep only those that are offset\n",
    "ref_coord = coords[0]\n",
    "\n",
    "for i, a in similar_angles:\n",
    "    if abs(coords[i, DP_1, X_COORD] - ref_coord[DP_1, X_COORD]) > 50:\n",
    "        print('x-coords differ')\n",
    "        candidates.append((i, a))\n",
    "        ref_coord = coords[i]  # update ref_coord\n",
    "        \n",
    "    if abs(coords[i, DP_1, Y_COORD] - ref_coord[DP_1, Y_COORD]) > 50:\n",
    "        print('y-coords differ')\n",
    "        candidates.append((i, a))\n",
    "        ref_coord = coords[i]  # update ref_coord\n",
    "\n",
    "print(candidates)\n",
    "\n",
    "plt.figure(figsize=(8,8))\n",
    "img = np.ascontiguousarray(im[::ds, ::ds], dtype=np.uint8)\n",
    "for (i, _) in candidates:\n",
    "    cv2.line(img, (coords[i, DP_1, X_COORD], coords[i, DP_1, Y_COORD]), \n",
    "                  (coords[i, DP_2, X_COORD], coords[i, DP_2, Y_COORD]), (0, 0, 255), 2)\n",
    "plt.imshow(img)\n",
    "plt.xlabel('x')\n",
    "plt.ylabel('y')\n",
    "plt.show()"
   ]
  },
  {
   "cell_type": "markdown",
   "metadata": {},
   "source": [
    "## Probabilistic HoughLines"
   ]
  },
  {
   "cell_type": "code",
   "execution_count": null,
   "metadata": {},
   "outputs": [],
   "source": [
    "#plt.figure(figsize=(12, 10))\n",
    "#plt.imshow(edges)"
   ]
  },
  {
   "cell_type": "code",
   "execution_count": null,
   "metadata": {},
   "outputs": [],
   "source": [
    "img = np.ascontiguousarray(im[::ds, ::ds], dtype=np.uint8)\n",
    "img_h = img.shape[0]\n",
    "img_w = img.shape[1]\n",
    "gray = cv2.cvtColor(img, cv2.COLOR_RGB2GRAY)\n",
    "\n",
    "# @param canny_threshold1 Histeresis threshold 1\n",
    "# @param canny_threshold2\n",
    "canny_thresh1 = 20\n",
    "canny_thresh2 = 400\n",
    "\n",
    "# run the Canny edge detector on the rotated gray scale image\n",
    "edges = cv2.Canny(gray, threshold1=canny_thresh1, threshold2=canny_thresh2, L2gradient=True) # GLN_3447\n",
    "\n",
    "# @param rho Distance resolution of the accumulator (pixels).\n",
    "rho = 1  \n",
    "\n",
    "# @param theta Angle resolution of the accumulator (radians).\n",
    "theta = np.pi / 90\n",
    "\n",
    "# @param threshold Accumulator threshold, return lines with more than threshold of votes. (intersection points)\n",
    "threshold = 100\n",
    "\n",
    "# @param minLineLength Minimum line length. Line segments shorter than that are rejected. (pixels)\n",
    "mLL = 300\n",
    "\n",
    "# @param maxLineGap Maximum allowed gap between points on the same line to link them. (pixels)\n",
    "mLG = 100\n",
    "\n",
    "# run the probabilistic hough lines transform\n",
    "linesP = cv2.HoughLinesP(edges, rho, theta, threshold=threshold, minLineLength=mLL, maxLineGap=mLG)\n",
    "\n",
    "# @param lines The extremes of the detected lines if any (<N_LINES_FOUND>, 1, x_0, y_0, x_1, y_1). (pixels)\n",
    "print('Found %d lines' % len(linesP))\n",
    "\n",
    "N = 8  # top N results to draw\n",
    "if linesP is not None:\n",
    "    for i in range(len(linesP[:N])):\n",
    "        l = linesP[i][0]\n",
    "        cv2.line(img, (l[0], l[1]), (l[2], l[3]), (255,0,0), 3, cv2.LINE_AA)\n",
    "plt.figure(figsize=(12, 10))\n",
    "plt.imshow(img)\n",
    "plt.xlabel('x')\n",
    "plt.ylabel('y')\n",
    "plt.show()"
   ]
  },
  {
   "cell_type": "code",
   "execution_count": null,
   "metadata": {},
   "outputs": [],
   "source": [
    "# line below origin, rho positive, angle less than 180\n",
    "# line above origin, rho negative, angle less than 180\n",
    "lines = cv2.HoughLines(edges, rho, theta, threshold=100)\n",
    "rot_deg = 90 - lines[0][0][1] * rad2deg\n",
    "t = rot_deg / rad2deg"
   ]
  },
  {
   "cell_type": "code",
   "execution_count": null,
   "metadata": {},
   "outputs": [],
   "source": [
    "coordsP = np.zeros((np.minimum(N, len(linesP)), 2, 2)).astype('int') # points, start/end, x/y\n",
    "\n",
    "for i in range(len(linesP[:N])):\n",
    "    l = linesP[i][0]\n",
    "    coordsP[i, DP_1, X_COORD] = l[0] # x1\n",
    "    coordsP[i, DP_1, Y_COORD] = l[1] # y1\n",
    "    coordsP[i, DP_2, X_COORD] = l[2] # x2\n",
    "    coordsP[i, DP_2, Y_COORD] = l[3] # y2\n",
    "    \n",
    "R = np.array([[np.cos(-t), -np.sin(-t)],\n",
    "              [np.sin(-t),  np.cos(-t)]])\n",
    "\n",
    "coords = np.dot(coordsP, R)\n",
    "\n",
    "correction_factor = coordsP[0, DP_1, Y_COORD] - coords[0, DP_1, Y_COORD]\n",
    "\n",
    "for i in range(len(linesP[:N])):\n",
    "    coords[i, DP_1, Y_COORD] += correction_factor\n",
    "    coords[i, DP_2, Y_COORD] += correction_factor"
   ]
  },
  {
   "cell_type": "code",
   "execution_count": null,
   "metadata": {},
   "outputs": [],
   "source": [
    "#plt.figure(figsize=(12, 10))\n",
    "center = (coordsP[0, DP_1, X_COORD], coordsP[0, DP_1, Y_COORD])\n",
    "imgr = transform.rotate(np.ascontiguousarray(im[::ds, ::ds], dtype=np.uint8), -rot_deg, center=center, resize=False)\n",
    "imgr = (255 * imgr).astype(np.uint8)\n",
    "plt.imshow(imgr[:, :])\n",
    "plt.show()"
   ]
  },
  {
   "cell_type": "code",
   "execution_count": null,
   "metadata": {},
   "outputs": [],
   "source": [
    "for i in range(len(linesP[:N])):\n",
    "    cv2.line(imgr, (int(coords[i, DP_1, X_COORD]),\n",
    "                    int(coords[i, DP_1, Y_COORD])),\n",
    "                   (int(coords[i, DP_2, X_COORD]),\n",
    "                    int(coords[i, DP_2, Y_COORD])),\n",
    "             (128, 0, 255), 3, cv2.LINE_AA)\n",
    "plt.figure(figsize=(12, 10))\n",
    "plt.imshow(imgr)"
   ]
  },
  {
   "cell_type": "markdown",
   "metadata": {},
   "source": [
    "# Find Intersection Points"
   ]
  },
  {
   "cell_type": "code",
   "execution_count": null,
   "metadata": {},
   "outputs": [],
   "source": [
    "# first pass \n",
    "# find all the vertical and horizontal lines (dX or dY == 0)\n",
    "# get intersection points\n",
    "# use fact that it's a square to figure out horizontal distance."
   ]
  },
  {
   "cell_type": "code",
   "execution_count": null,
   "metadata": {},
   "outputs": [],
   "source": []
  },
  {
   "cell_type": "code",
   "execution_count": null,
   "metadata": {},
   "outputs": [],
   "source": [
    "# process vertical lines\n",
    "hlinesmask = dY == 0\n",
    "vlinesmask = dX == 0\n",
    "print(vlinesmask)"
   ]
  },
  {
   "cell_type": "code",
   "execution_count": null,
   "metadata": {},
   "outputs": [],
   "source": [
    "print(vlines[0])\n",
    "print(vlines_y1[0])\n",
    "print(vlines_y2[0])"
   ]
  },
  {
   "cell_type": "code",
   "execution_count": null,
   "metadata": {},
   "outputs": [],
   "source": [
    "print(hlines[0])\n",
    "print(hlines_x1[0])\n",
    "print(hlines_x2[0])"
   ]
  },
  {
   "cell_type": "code",
   "execution_count": null,
   "metadata": {},
   "outputs": [],
   "source": [
    "X = 0"
   ]
  },
  {
   "cell_type": "code",
   "execution_count": null,
   "metadata": {},
   "outputs": [],
   "source": [
    "Y = Y_COORD"
   ]
  },
  {
   "cell_type": "code",
   "execution_count": null,
   "metadata": {},
   "outputs": [],
   "source": [
    "DP1 = DP_1\n",
    "DP2 = DP_2"
   ]
  },
  {
   "cell_type": "code",
   "execution_count": null,
   "metadata": {},
   "outputs": [],
   "source": [
    "coords"
   ]
  },
  {
   "cell_type": "code",
   "execution_count": null,
   "metadata": {},
   "outputs": [],
   "source": [
    "def line_intersection(line1, line2):\n",
    "    xdiff = (line1[0][0] - line1[1][0], line2[0][0] - line2[1][0])\n",
    "    ydiff = (line1[0][1] - line1[1][1], line2[0][1] - line2[1][1])\n",
    "\n",
    "    def det(a, b):\n",
    "        return a[0] * b[1] - a[1] * b[0]\n",
    "\n",
    "    div = det(xdiff, ydiff)\n",
    "    if div == 0:\n",
    "        return None\n",
    "\n",
    "    d = (det(*line1), det(*line2))\n",
    "    x = det(d, xdiff) / div\n",
    "    y = det(d, ydiff) / div\n",
    "    return x, y\n",
    "\n",
    "print(line_intersection((coords[0, DP1], coords[0, DP2]), \n",
    "                        (coords[1, DP1], coords[0, DP2])))"
   ]
  },
  {
   "cell_type": "code",
   "execution_count": null,
   "metadata": {},
   "outputs": [],
   "source": [
    "corners = []\n",
    "for i in range(len(coords)):\n",
    "    for j in range(i + 1, len(coords)):\n",
    "        intersection = line_intersection((coords[i, DP1], coords[i, DP2]), \n",
    "                                         (coords[j, DP1], coords[j, DP2]))\n",
    "        # check if intersection is a valid corner\n",
    "        if intersection is not None:\n",
    "            cond1 = 0 < intersection[X] and intersection[X] < img_w\n",
    "            cond2 = 0 < intersection[Y] and intersection[Y] < img_h\n",
    "            if cond1 and cond2:\n",
    "                corners.append(intersection)\n",
    "corners = np.asarray(corners)\n",
    "print(len(corners))\n",
    "centroid = corners.mean(axis=0, keepdims=True)[0]\n",
    "corner_dist = np.linalg.norm(corners - centroid, axis=1)\n",
    "indices = np.argsort(corner_dist)\n",
    "crop = corners[indices][:4].astype('int')"
   ]
  },
  {
   "cell_type": "code",
   "execution_count": null,
   "metadata": {},
   "outputs": [],
   "source": [
    "fig, (ax1, ax2) = plt.subplots(2, 1, figsize=(12, 12), sharex=True)\n",
    "ax1.scatter(corners[:, 0], corners[:, 1], c='r')\n",
    "ax2.scatter(corners[:, 0], corners[:, 1], c='r')\n",
    "ax1.scatter(centroid[0], centroid[1], c='k')\n",
    "ax1.scatter(crop[:, 0], crop[:, 1], c='b')\n",
    "ax1.set_xlim(0, img_w)\n",
    "ax1.set_ylim(img_h, 0)\n",
    "ax2.imshow(imgr)\n",
    "ax1.set_aspect('equal')"
   ]
  },
  {
   "cell_type": "code",
   "execution_count": null,
   "metadata": {},
   "outputs": [],
   "source": [
    "buffer = 10\n",
    "cropped_img = imgr[crop[:, 1].min() + buffer:crop[:, 1].max() - buffer, \n",
    "                   crop[:, 0].min() + buffer:crop[:, 0].max() - buffer, :]\n",
    "plt.imshow(cropped_img)"
   ]
  },
  {
   "cell_type": "markdown",
   "metadata": {},
   "source": [
    "# Deprecated code"
   ]
  },
  {
   "cell_type": "code",
   "execution_count": null,
   "metadata": {},
   "outputs": [],
   "source": [
    "x_start = 0\n",
    "x_end   = 0\n",
    "y_start = 0\n",
    "y_end   = 0\n",
    "counter = 0 # how many vertical lines crossed\n",
    "\n",
    "for i in range(len(line_eqns)):\n",
    "    \n",
    "    if line_pts[i] == 0:\n",
    "        \n",
    "        min_pt = np.minimum(coordsP_r[i, DP_1, Y_COORD], coordsP_r[i, DP_2, Y_COORD])\n",
    "        max_pt = np.maximum(coordsP_r[i, DP_1, Y_COORD], coordsP_r[i, DP_2, Y_COORD])\n",
    "        \n",
    "        plt.vlines(int(coordsP_r[i, DP_2, X_COORD]), min_pt, max_pt)\n",
    "        \n",
    "        print(i, int(coordsP_r[i, DP_2, X_COORD]))\n",
    "        \n",
    "        if int(coordsP_r[i, DP_2, X_COORD]) > x_start:\n",
    "            x_start = int(coordsP_r[i, DP_2, X_COORD])\n",
    "            print(counter, x_start)\n",
    "        counter += 1            \n",
    "        \n",
    "    offset = np.minimum(coordsP_r[i, DP_1, X_COORD], coordsP_r[i, DP_2, X_COORD])\n",
    "    plt.scatter(np.arange(int(line_pts[i])) +  offset * np.ones(int(line_pts[i])),\n",
    "                line_eqns[i, :int(line_pts[i])])\n",
    "plt.xlim(0, img_w)\n",
    "plt.ylim(img_h, 0)"
   ]
  },
  {
   "cell_type": "code",
   "execution_count": null,
   "metadata": {},
   "outputs": [],
   "source": [
    "def check_for_corner(coords, i, j, idx):\n",
    "    \n",
    "    #np.sign(coords[j, DP2, ])\n",
    "    \n",
    "    if int(coords[j, DP2, X]) >= int(coords[i, idx, X]) and \\\n",
    "       int(coords[j, DP1, X]) <= int(coords[i, idx, X]) and \\\n",
    "       int(coords[i, DP1, Y]) >= int(coords[j, idx, Y]) and \\\n",
    "       int(coords[i, DP2, Y]) <= int(coords[j, idx, Y]):\n",
    "        return (int(coords[i, idx, X]), int(coords[j, idx, Y]))\n",
    "\n",
    "    elif int(coords[j, DP2, X]) >= int(coords[i, idx, X]) and \\\n",
    "         int(coords[j, DP1, X]) <= int(coords[i, idx, X]) and \\\n",
    "         int(coords[i, DP2, Y]) >= int(coords[j, idx, Y]) and \\\n",
    "         int(coords[i, DP1, Y]) <= int(coords[j, idx, Y]):\n",
    "        return (int(coords[i, idx, X]), int(coords[j, idx, Y]))\n",
    "\n",
    "    elif int(coords[j, DP1, X]) >= int(coords[i, idx, X]) and \\\n",
    "         int(coords[j, DP2, X]) <= int(coords[i, idx, X]) and \\\n",
    "         int(coords[i, DP2, Y]) >= int(coords[j, idx, Y]) and \\\n",
    "         int(coords[i, DP1, Y]) <= int(coords[j, idx, Y]):\n",
    "        return (int(coords[i, idx, X]), int(coords[j, idx, Y]))\n",
    "\n",
    "    elif int(coords[j, DP1, X]) >= int(coords[i, idx, X]) and \\\n",
    "         int(coords[j, DP2, X]) <= int(coords[i, idx, X]) and \\\n",
    "         int(coords[i, DP1, Y]) >= int(coords[j, idx, Y]) and \\\n",
    "         int(coords[i, DP2, Y]) <= int(coords[j, idx, Y]):\n",
    "        return (int(coords[i, idx, X]), int(coords[j, idx, Y]))"
   ]
  },
  {
   "cell_type": "code",
   "execution_count": null,
   "metadata": {},
   "outputs": [],
   "source": [
    "x_start"
   ]
  },
  {
   "cell_type": "code",
   "execution_count": null,
   "metadata": {},
   "outputs": [],
   "source": []
  },
  {
   "cell_type": "code",
   "execution_count": null,
   "metadata": {},
   "outputs": [],
   "source": [
    "# equation of each line\n",
    "#line_eqns = np.zeros((np.minimum(N, len(linesP)), np.maximum(img_h, img_w)) )\n",
    "\n",
    "line_eqns = np.zeros((np.minimum(N, len(linesP)), np.maximum(img_h, img_w)) )\n",
    "\n",
    "# length of each line\n",
    "line_pts  = np.zeros( np.minimum(N, len(linesP)) )\n",
    "\n",
    "for i in range(len(line_eqns)):\n",
    "    dX = coords[i, DP_2, X_COORD] - coords[i, DP_1, X_COORD]\n",
    "    if int(dX) != 0:\n",
    "        dY = coords[i, DP_2, Y_COORD] - coords[i, DP_1, Y_COORD]\n",
    "        \n",
    "        #line_pts[i] = int(np.maximum(abs(dX), abs(dY)))\n",
    "        line_pts[i] = int(abs(dX))\n",
    "        \n",
    "        m =  dY / dX  # slope, delta Y over delta X\n",
    "        \n",
    "        # point-slope formula y - y_1 = m(x - x_1) ==> y = mx - m * x_1 + y_1\n",
    "        b = coords[i, DP_1, Y_COORD] - m * coords[i, DP_1, X_COORD]\n",
    "        \n",
    "        y = m * np.arange(line_pts[i]) + b  # y = mx + b\n",
    "        line_eqns[i, :len(y)] = y\n",
    "    else:\n",
    "        print('Vertical line', i)\n",
    "        \n",
    "dY = (coords[:, DP_2, Y_COORD] - coords[:, DP_1, Y_COORD]).astype('int') # 0 means horizontal line\n",
    "dY\n",
    "\n",
    "dX = (coords[:, DP_2, X_COORD] - coords[:, DP_1, X_COORD]).astype('int')\n",
    "dX        "
   ]
  },
  {
   "cell_type": "code",
   "execution_count": null,
   "metadata": {},
   "outputs": [],
   "source": [
    "# vertical lines\n",
    "vlines = coords[vlinesmask, DP_1, X].astype('int')\n",
    "# start point of each vertical line\n",
    "vlines_y1 = coords[vlinesmask, DP_1, Y].astype('int')\n",
    "# end point of each vertical line\n",
    "vlines_y2 = coords[vlinesmask, DP_2, Y].astype('int')\n",
    "\n",
    "# horizontal lines\n",
    "hlines = coords[hlinesmask, DP_1, Y].astype('int')\n",
    "# start point of each horizontal line\n",
    "hlines_x1 = coords[hlinesmask, DP_1, X].astype('int')\n",
    "# end point of each horizontal line\n",
    "hlines_x2 = coords[hlinesmask, DP_2, X].astype('int')\n",
    "\n",
    "perf_corners = []\n",
    "next_corners = []\n",
    "\n",
    "# Find the corners\n",
    "for i in range(len(vlines)):\n",
    "    \n",
    "    # check each known horizontal line against all vertical lines\n",
    "    for j in range(len(hlines)):\n",
    "        if hlines_x2[j] >= vlines[i] and hlines_x1[j] <= vlines[i]:\n",
    "            perf_corners.append((vlines[i], hlines[j]))\n",
    "        elif hlines_x2[j] <= vlines[i] and hlines_x1[j] >= vlines[i]:\n",
    "            perf_corners.append((vlines[i], hlines[j]))\n",
    "    \n",
    "    # check the remaining lines, which are not horizontal or vertical lines, against vlines\n",
    "    remaining_mask = ~ (hlinesmask | vlinesmask) # Bitwise or\n",
    "    remaining_mask_cp = remaining_mask.copy()\n",
    "    \n",
    "    rem_lines = coords[remaining_mask, DP_1, Y].astype('int')\n",
    "    rem_lines_x1 = coords[remaining_mask, DP_1, X].astype('int')\n",
    "    rem_lines_x2 = coords[remaining_mask, DP_2, X].astype('int')\n",
    "    \n",
    "    for j in range(remaining_mask_cp.sum()):\n",
    "        if rem_lines_x2[j] >= vlines[i] and rem_lines_x1[j] <= vlines[i]:\n",
    "            next_corners.append((vlines[i], rem_lines[j]))\n",
    "            remaining_mask[i] = 'False'\n",
    "        elif rem_lines_x2[j] <= vlines[i] and rem_lines_x1[j] >= vlines[i]:\n",
    "            next_corners.append((vlines[i], rem_lines[j]))\n",
    "            remaining_mask[i] = 'False'\n",
    "            \n",
    "    # check the remaining lines against hlines\n",
    "    rem_lines = coords[remaining_mask, DP_1, Y].astype('int')\n",
    "    rem_lines_x1 = coords[remaining_mask, DP_1, X].astype('int')\n",
    "    rem_lines_x2 = coords[remaining_mask, DP_2, X].astype('int')\n",
    "    \n",
    "    for j in range(len(hlines)):\n",
    "        if rem_lines_x2[i] >= hlines[j] and rem_lines_x1[i] <= hlines[j]:\n",
    "            next_corners.append((rem_lines[i], hlines[j]))\n",
    "        elif rem_lines_x2[i] <= hlines[j] and rem_lines_x1[i] >= hlines[j]:\n",
    "            next_corners.append((rem_lines[i], hlines[j]))\n",
    "    \n",
    "perf_corners = np.asarray(perf_corners)\n",
    "next_corners = np.asarray(next_corners)\n",
    "print(len(perf_corners))\n",
    "print(perf_corners)\n",
    "print(len(next_corners))\n",
    "print(next_corners)"
   ]
  }
 ],
 "metadata": {
  "kernelspec": {
   "display_name": "Python 3",
   "language": "python",
   "name": "python3"
  },
  "language_info": {
   "codemirror_mode": {
    "name": "ipython",
    "version": 3
   },
   "file_extension": ".py",
   "mimetype": "text/x-python",
   "name": "python",
   "nbconvert_exporter": "python",
   "pygments_lexer": "ipython3",
   "version": "3.6.7"
  }
 },
 "nbformat": 4,
 "nbformat_minor": 2
}
