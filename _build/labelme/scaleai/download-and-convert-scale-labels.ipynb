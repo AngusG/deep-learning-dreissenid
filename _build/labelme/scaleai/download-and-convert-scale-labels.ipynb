{
 "cells": [
  {
   "cell_type": "markdown",
   "metadata": {},
   "source": [
    "# Download and Convert Labels from Scale into VOC Format\n",
    "\n",
    "This notebook looks for files like `task-5e53f31f4e39270010025f6f.json` from Scale, then downloads, renames, and formats the labels consistent with the existing dataset in Pascal VOC format."
   ]
  },
  {
   "cell_type": "code",
   "execution_count": null,
   "metadata": {},
   "outputs": [],
   "source": [
    "import os\n",
    "import cv2\n",
    "import json\n",
    "import glob\n",
    "import urllib.request\n",
    "\n",
    "import os.path as osp\n",
    "\n",
    "import numpy as np\n",
    "import PIL.Image"
   ]
  },
  {
   "cell_type": "code",
   "execution_count": null,
   "metadata": {},
   "outputs": [],
   "source": [
    "def lblsave(filename, lbl):\n",
    "    import imgviz\n",
    "\n",
    "    if osp.splitext(filename)[1] != '.png':\n",
    "        filename += '.png'\n",
    "    # Assume label ranges [-1, 254] for int32,\n",
    "    # and [0, 255] for uint8 as VOC.\n",
    "    if lbl.min() >= -1 and lbl.max() < 255:\n",
    "        lbl_pil = PIL.Image.fromarray(lbl.astype(np.uint8), mode='P')\n",
    "        colormap = imgviz.label_colormap()\n",
    "        lbl_pil.putpalette(colormap.flatten())\n",
    "        lbl_pil.save(filename)\n",
    "    else:\n",
    "        raise ValueError(\n",
    "            '[%s] Cannot save the pixel-wise class label as PNG. '\n",
    "            'Please consider using the .npy format.' % filename\n",
    "        )"
   ]
  },
  {
   "cell_type": "code",
   "execution_count": null,
   "metadata": {},
   "outputs": [],
   "source": [
    "#scale_tasks_path = '/scratch/ssd/gallowaa/cciw/dataset_raw_v0-2-x/Test/GLNI/land/scale/' # 18\n",
    "#scale_tasks_path = '/scratch/ssd/gallowaa/cciw/dataset_raw_v0-2-x/Test/GLNI/port/scale/' # 4\n",
    "#scale_tasks_path = '/scratch/ssd/gallowaa/cciw/dataset_raw_v0-2-x/Test/WHERD/scale/' # 6\n",
    "#scale_tasks_path = '/scratch/ssd/gallowaa/cciw/dataset_raw_v0-2-x/Test/Tripod/503/' # 1\n",
    "#scale_tasks_path = '/scratch/ssd/gallowaa/cciw/dataset_raw/Train/2017-08-bak-16-good-labels/' # 3\n",
    "#scale_tasks_path = '/scratch/ssd/gallowaa/cciw/dataset_raw/Test/Lab' # 3\n",
    "#scale_tasks_path = '/scratch/ssd/gallowaa/cciw/dataset_raw/Train/2018-06/land' # 14\n",
    "\n",
    "#scale_tasks_path = osp.join(os.environ['DATA_PATH'], 'cciw/dataset_raw/Train/2016-07/')\n",
    "scale_tasks_path = osp.join(os.environ['DATA_PATH'], 'cciw/dataset_raw/Train/2017-06/to_label/')\n",
    "\n",
    "task_list = glob.glob(osp.join(scale_tasks_path, 'task-*.json'))\n",
    "print(len(task_list))\n",
    "task_list"
   ]
  },
  {
   "cell_type": "code",
   "execution_count": null,
   "metadata": {},
   "outputs": [],
   "source": [
    "for i in range(len(task_list)):\n",
    "\n",
    "    with open(task_list[i], 'r') as f:\n",
    "        att = json.load(f)\n",
    "\n",
    "    source_image_name = att['params']['attachment']\n",
    "    source_image_root = source_image_name.split('/')[-1].split('.')[0]\n",
    "\n",
    "    outfile = os.path.join(scale_tasks_path, source_image_root)\n",
    "\n",
    "    \"\"\"This will download the pink and green mask from scale, \n",
    "    but this is overwritten by the VOC format mask.\"\"\"\n",
    "    file, http_msg = urllib.request.urlretrieve(\n",
    "        att['response']['annotations']['combined']['image'], filename=outfile + '_scale.png')\n",
    "\n",
    "    np_img = cv2.imread(outfile + '_scale.png') # in BlueGreenRed (BGR) format\n",
    "\n",
    "    lbl = np.zeros((np_img.shape[0], np_img.shape[1]))\n",
    "    lbl[(np_img[:, :, 2] ==  60)] = 1\n",
    "\n",
    "    lblsave(outfile + '.png', lbl) # save as indexed color RGB image\n",
    "    #cv2.imwrite(outfile + '.png', np_img) # this is incorrect and saves as a normal RGB image\n",
    "    print('Saved item %d' % i, outfile)"
   ]
  },
  {
   "cell_type": "code",
   "execution_count": null,
   "metadata": {},
   "outputs": [],
   "source": []
  }
 ],
 "metadata": {
  "kernelspec": {
   "display_name": "Python 3",
   "language": "python",
   "name": "python3"
  },
  "language_info": {
   "codemirror_mode": {
    "name": "ipython",
    "version": 3
   },
   "file_extension": ".py",
   "mimetype": "text/x-python",
   "name": "python",
   "nbconvert_exporter": "python",
   "pygments_lexer": "ipython3",
   "version": "3.6.7"
  }
 },
 "nbformat": 4,
 "nbformat_minor": 4
}
