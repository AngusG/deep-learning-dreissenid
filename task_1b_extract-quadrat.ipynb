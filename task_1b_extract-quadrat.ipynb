{
 "cells": [
  {
   "cell_type": "code",
   "execution_count": null,
   "metadata": {},
   "outputs": [],
   "source": [
    "import os \n",
    "import cv2\n",
    "import numpy as np\n",
    "from skimage import transform\n",
    "\n",
    "import matplotlib.pyplot as plt\n",
    "%matplotlib inline"
   ]
  },
  {
   "cell_type": "code",
   "execution_count": null,
   "metadata": {},
   "outputs": [],
   "source": [
    "rad2deg = 180 / np.pi\n",
    "figsize = (12, 8)\n",
    "\n",
    "# indices, `DP' = data point\n",
    "DP1 = 0\n",
    "DP2 = 1\n",
    "X = 0\n",
    "Y = 1\n",
    "\n",
    "save_figures = False"
   ]
  },
  {
   "cell_type": "code",
   "execution_count": null,
   "metadata": {},
   "outputs": [],
   "source": [
    "path = '/scratch/ssd/cciw/sample_data/'\n",
    "images = os.listdir(path)\n",
    "\n",
    "#file = '1340_2016-07-11_1_GLN_3447.JPG' # 5/5\n",
    "#file = '1340_2016-07-11_2_GLN_3450.JPG' # 4/5\n",
    "file = '1340_2016-07-11_3_GLN_3452.JPG' # ?/5\n",
    "#file = '1349_2016-07-06_2_GLN_3061.JPG'  # 3/5, step 3 lines are offset, probably because portrait vs. landscape mode\n",
    "#img = '1342_2016-07-07_2_GLN_3182.JPG'\n",
    "#img = 'sudoku.png'\n",
    "outpath = file.split('.')[0]"
   ]
  },
  {
   "cell_type": "code",
   "execution_count": null,
   "metadata": {},
   "outputs": [],
   "source": [
    "f = os.path.join(path, file)\n",
    "im = cv2.imread(f)\n",
    "im.shape  # (height, width) # (3776, 6720, 3)"
   ]
  },
  {
   "cell_type": "code",
   "execution_count": null,
   "metadata": {},
   "outputs": [],
   "source": [
    "ds = 8  # naive downsampling by factor of 8\n",
    "plt.figure(figsize=figsize)\n",
    "plt.imshow(im[::ds, ::ds])"
   ]
  },
  {
   "cell_type": "code",
   "execution_count": null,
   "metadata": {},
   "outputs": [],
   "source": [
    "'''\n",
    "@param threshold Accumulator threshold parameter. Only those lines are returned that get enough\n",
    "       votes ( \\f$>\\texttt{threshold}\\f$ ).\n",
    "@param minLineLength Minimum line length. Line segments shorter than that are rejected.\n",
    "@param maxLineGap Maximum allowed gap between points on the same line to link them.\n",
    "'''\n",
    "img = np.ascontiguousarray(im[::ds, ::ds], dtype=np.uint8)\n",
    "img_h = img.shape[0]\n",
    "img_w = img.shape[1]\n",
    "gray = cv2.cvtColor(img, cv2.COLOR_RGB2GRAY)\n",
    "\n",
    "edges = cv2.Canny(gray, 20, 400, L2gradient=True) # GLN_3447\n",
    "\n",
    "# @param rho Distance resolution of the accumulator in pixels.\n",
    "rho = 1  \n",
    "# @param theta Angle resolution of the accumulator in radians.\n",
    "theta = np.pi / 90  # note, with 180 getting too many overlapping lines.\n",
    "\n",
    "lines  =  cv2.HoughLines(edges, rho, theta, threshold=100)\n",
    "N = 1\n",
    "coords = np.zeros((N, 2, 2)).astype('int') # points, start/end, x/y\n",
    "angles = np.zeros(N)\n",
    "for i in range(len(lines[:N])):\n",
    "    for r, theta in lines[i]:\n",
    "        # theta is normal to the line wrt x-axis, so we subtract 90\n",
    "        if r > 0:\n",
    "            angles[i] = 90 - theta * 180 / np.pi\n",
    "        else: \n",
    "            angles[i] = 270 - theta * 180 / np.pi\n",
    "        print(i, '%.2f' % angles[i])\n",
    "        a = np.cos(theta)\n",
    "        b = np.sin(theta)\n",
    "        x0, y0 = a * r, b * r\n",
    "        x1 = int(x0 + img_w * -b)\n",
    "        y1 = int(y0 + img_w *  a)\n",
    "        x2 = int(x0 - img_w * -b)\n",
    "        y2 = int(y0 - img_w *  a)\n",
    "        #coords.append([[x1, y1], [x2, y2]])\n",
    "        coords[i, DP1, X] = x1\n",
    "        coords[i, DP1, Y] = y1\n",
    "        coords[i, DP2, X] = x2\n",
    "        coords[i, DP2, Y] = y2\n",
    "        print(i, (x1, y1), (x2, y2))\n",
    "        cv2.line(img, (x1, y1), (x2, y2), (0, 0, 255), 2)\n",
    "plt.figure(figsize=figsize)\n",
    "plt.imshow(img)\n",
    "#plt.xlabel('x')\n",
    "#plt.ylabel('y')\n",
    "plt.tight_layout()\n",
    "if save_figures:\n",
    "    plt.savefig('img/' + outpath + '-Step-1.png')\n",
    "plt.show()"
   ]
  },
  {
   "cell_type": "markdown",
   "metadata": {},
   "source": [
    "## Probabilistic HoughLines"
   ]
  },
  {
   "cell_type": "code",
   "execution_count": null,
   "metadata": {},
   "outputs": [],
   "source": [
    "img = np.ascontiguousarray(im[::ds, ::ds], dtype=np.uint8)\n",
    "img_h = img.shape[0]\n",
    "img_w = img.shape[1]\n",
    "gray = cv2.cvtColor(img, cv2.COLOR_RGB2GRAY)\n",
    "\n",
    "# @param canny_threshold1 Histeresis threshold 1\n",
    "# @param canny_threshold2\n",
    "canny_thresh1 = 20\n",
    "canny_thresh2 = 400\n",
    "\n",
    "# run the Canny edge detector on the rotated gray scale image\n",
    "edges = cv2.Canny(gray, threshold1=canny_thresh1, threshold2=canny_thresh2, L2gradient=True) # GLN_3447\n",
    "\n",
    "# @param rho Distance resolution of the accumulator (pixels).\n",
    "rho = 1  \n",
    "\n",
    "# @param theta Angle resolution of the accumulator (radians).\n",
    "theta = np.pi / 90\n",
    "\n",
    "# @param threshold Accumulator threshold, return lines with more than threshold of votes. (intersection points)\n",
    "threshold = 100\n",
    "\n",
    "# @param minLineLength Minimum line length. Line segments shorter than that are rejected. (pixels)\n",
    "mLL = 300\n",
    "\n",
    "# @param maxLineGap Maximum allowed gap between points on the same line to link them. (pixels)\n",
    "mLG = 100\n",
    "\n",
    "# run the probabilistic hough lines transform\n",
    "linesP = cv2.HoughLinesP(edges, rho, theta, threshold=threshold, minLineLength=mLL, maxLineGap=mLG)\n",
    "\n",
    "# @param lines The extremes of the detected lines if any (<N_LINES_FOUND>, 1, x_0, y_0, x_1, y_1). (pixels)\n",
    "print('Found %d lines' % len(linesP))\n",
    "\n",
    "N = 8  # top N results to draw\n",
    "if linesP is not None:\n",
    "    for i in range(len(linesP[:N])):\n",
    "        l = linesP[i][0]\n",
    "        cv2.line(img, (l[0], l[1]), (l[2], l[3]), (255,0,0), 3, cv2.LINE_AA)\n",
    "plt.figure(figsize=figsize)\n",
    "plt.imshow(img)\n",
    "#plt.xlabel('x')\n",
    "#plt.ylabel('y')\n",
    "plt.tight_layout()\n",
    "if save_figures:\n",
    "    plt.savefig('img/' + outpath + '-Step-2.png')\n",
    "plt.show()"
   ]
  },
  {
   "cell_type": "code",
   "execution_count": null,
   "metadata": {},
   "outputs": [],
   "source": []
  },
  {
   "cell_type": "code",
   "execution_count": null,
   "metadata": {},
   "outputs": [],
   "source": [
    "# line below origin, rho positive, angle less than 180\n",
    "# line above origin, rho negative, angle less than 180\n",
    "lines = cv2.HoughLines(edges, rho, theta, threshold=100)\n",
    "\n",
    "if lines[0][0][1] > 0:\n",
    "    rot_deg = 90 - lines[0][0][1] * rad2deg\n",
    "else:\n",
    "    rot_deg = 0\n",
    "t = rot_deg / rad2deg"
   ]
  },
  {
   "cell_type": "code",
   "execution_count": null,
   "metadata": {},
   "outputs": [],
   "source": [
    "coordsP = np.zeros((np.minimum(N, len(linesP)), 2, 2)).astype('int') # points, start/end, x/y\n",
    "\n",
    "for i in range(len(linesP[:N])):\n",
    "    l = linesP[i][0]\n",
    "    coordsP[i, DP1, X] = l[0] # x1\n",
    "    coordsP[i, DP1, Y] = l[1] # y1\n",
    "    coordsP[i, DP2, X] = l[2] # x2\n",
    "    coordsP[i, DP2, Y] = l[3] # y2\n",
    "    \n",
    "R = np.array([[np.cos(-t), -np.sin(-t)],\n",
    "              [np.sin(-t),  np.cos(-t)]])\n",
    "coords = np.dot(coordsP, R)\n",
    "\n",
    "correction_factor = coordsP[0, DP1, Y] - coords[0, DP1, Y]\n",
    "\n",
    "for i in range(len(linesP[:N])):\n",
    "    coords[i, DP1, Y] += correction_factor\n",
    "    coords[i, DP2, Y] += correction_factor"
   ]
  },
  {
   "cell_type": "code",
   "execution_count": null,
   "metadata": {},
   "outputs": [],
   "source": [
    "#plt.figure(figsize=(12, 10))\n",
    "center = (coordsP[0, DP1, X], coordsP[0, DP1, Y])\n",
    "imgr = transform.rotate(np.ascontiguousarray(im[::ds, ::ds], dtype=np.uint8), -rot_deg, center=center, resize=False)\n",
    "imgr = (255 * imgr).astype(np.uint8)\n",
    "clean_img = imgr.copy()\n",
    "plt.imshow(imgr[:, :])\n",
    "plt.show()"
   ]
  },
  {
   "cell_type": "code",
   "execution_count": null,
   "metadata": {},
   "outputs": [],
   "source": [
    "for i in range(len(linesP[:N])):\n",
    "    cv2.line(imgr, (int(coords[i, DP1, X]),\n",
    "                    int(coords[i, DP1, Y])),\n",
    "                   (int(coords[i, DP2, X]),\n",
    "                    int(coords[i, DP2, Y])),\n",
    "             (255, 0, 0), 3, cv2.LINE_AA)\n",
    "plt.figure(figsize=figsize)\n",
    "plt.imshow(imgr)\n",
    "plt.tight_layout()\n",
    "if save_figures:\n",
    "    plt.savefig('img/' + outpath + '-Step-3.png')"
   ]
  },
  {
   "cell_type": "markdown",
   "metadata": {},
   "source": [
    "# Find Intersection Points"
   ]
  },
  {
   "cell_type": "code",
   "execution_count": null,
   "metadata": {},
   "outputs": [],
   "source": [
    "def line_intersection(line1, line2):\n",
    "    xdiff = (line1[0][0] - line1[1][0], line2[0][0] - line2[1][0])\n",
    "    ydiff = (line1[0][1] - line1[1][1], line2[0][1] - line2[1][1])\n",
    "\n",
    "    def det(a, b):\n",
    "        return a[0] * b[1] - a[1] * b[0]\n",
    "\n",
    "    div = det(xdiff, ydiff)\n",
    "    if div == 0:\n",
    "        return None\n",
    "\n",
    "    d = (det(*line1), det(*line2))\n",
    "    x = det(d, xdiff) / div\n",
    "    y = det(d, ydiff) / div\n",
    "    return x, y\n",
    "\n",
    "'''print(line_intersection((coords[0, DP1], coords[0, DP2]), \n",
    "                           (coords[1, DP1], coords[0, DP2])))'''"
   ]
  },
  {
   "cell_type": "code",
   "execution_count": null,
   "metadata": {},
   "outputs": [],
   "source": [
    "corners = []\n",
    "for i in range(len(coords)):\n",
    "    for j in range(i + 1, len(coords)):\n",
    "        intersection = line_intersection((coords[i, DP1], coords[i, DP2]), \n",
    "                                         (coords[j, DP1], coords[j, DP2]))\n",
    "        # check if intersection is a valid corner\n",
    "        if intersection is not None:\n",
    "            cond1 = 0 < intersection[X] and intersection[X] < img_w\n",
    "            cond2 = 0 < intersection[Y] and intersection[Y] < img_h\n",
    "            if cond1 and cond2:\n",
    "                corners.append(intersection)\n",
    "corners = np.asarray(corners)\n",
    "centroid = corners.mean(axis=0, keepdims=True)[0]\n",
    "corner_dist = np.linalg.norm(corners - centroid, axis=1)\n",
    "indices = np.argsort(corner_dist)\n",
    "crop = corners[indices][:4].astype('int')"
   ]
  },
  {
   "cell_type": "code",
   "execution_count": null,
   "metadata": {},
   "outputs": [],
   "source": [
    "#fig, (ax1, ax2) = plt.subplots(2, 1, figsize=(12, 12), sharex=True)\n",
    "#fig, ax2 = plt.subplots(1, 1, figsize, sharex=True)\n",
    "fig = plt.figure(figsize=figsize)\n",
    "ax2 = fig.gca()\n",
    "#ax1.scatter(corners[:, 0], corners[:, 1], c='r')\n",
    "ax2.scatter(corners[:, 0], corners[:, 1], c='b')\n",
    "ax2.scatter(centroid[0], centroid[1], c='k')\n",
    "ax2.scatter(crop[:, 0], crop[:, 1], c='pink')\n",
    "#ax1.set_xlim(0, img_w)\n",
    "#ax1.set_ylim(img_h, 0)\n",
    "ax2.imshow(imgr)\n",
    "plt.tight_layout()\n",
    "if save_figures:\n",
    "    plt.savefig('img/' + outpath + '-Step-4.png')\n",
    "#ax1.set_aspect('equal')"
   ]
  },
  {
   "cell_type": "code",
   "execution_count": null,
   "metadata": {},
   "outputs": [],
   "source": [
    "buffer = 10\n",
    "plt.figure(figsize=(6, 6))\n",
    "cropped_img = clean_img[crop[:, 1].min() + buffer:crop[:, 1].max() - buffer, \n",
    "                        crop[:, 0].min() + buffer:crop[:, 0].max() - buffer, :]\n",
    "plt.imshow(cropped_img)\n",
    "plt.tight_layout()\n",
    "if save_figures:\n",
    "    plt.savefig('img/' + outpath + '-Step-5.png')"
   ]
  },
  {
   "cell_type": "code",
   "execution_count": null,
   "metadata": {},
   "outputs": [],
   "source": []
  }
 ],
 "metadata": {
  "kernelspec": {
   "display_name": "Python 3",
   "language": "python",
   "name": "python3"
  },
  "language_info": {
   "codemirror_mode": {
    "name": "ipython",
    "version": 3
   },
   "file_extension": ".py",
   "mimetype": "text/x-python",
   "name": "python",
   "nbconvert_exporter": "python",
   "pygments_lexer": "ipython3",
   "version": "3.6.7"
  }
 },
 "nbformat": 4,
 "nbformat_minor": 2
}
