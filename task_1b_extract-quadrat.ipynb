{
 "cells": [
  {
   "cell_type": "code",
   "execution_count": null,
   "metadata": {},
   "outputs": [],
   "source": [
    "import os \n",
    "import cv2\n",
    "import numpy as np\n",
    "from numpy.linalg import det, norm\n",
    "from skimage import transform\n",
    "\n",
    "import matplotlib.pyplot as plt\n",
    "%matplotlib inline\n",
    "\n",
    "# local libraries\n",
    "#from utils import line_intersection\n",
    "from utils import find_parallel\n",
    "from utils import get_intersection_pts\n",
    "from utils import compute_pairwise_angles\n",
    "from utils import compute_pairwise_distances\n",
    "\n",
    "%load_ext autoreload\n",
    "%autoreload 2"
   ]
  },
  {
   "cell_type": "code",
   "execution_count": null,
   "metadata": {},
   "outputs": [],
   "source": [
    "# various constants\n",
    "rad2deg = 180 / np.pi\n",
    "DP1, DP2 = 0, 1  # indices, `DP' = data point\n",
    "X, Y = 0, 1\n",
    "\n",
    "# global figure properties\n",
    "save_figures = False\n",
    "figsize = (10, 6)\n",
    "s = 75"
   ]
  },
  {
   "cell_type": "code",
   "execution_count": null,
   "metadata": {},
   "outputs": [],
   "source": [
    "path = '/scratch/ssd/cciw/sample_data/'\n",
    "images = os.listdir(path)\n",
    "\n",
    "#file = '1340_2016-07-11_1_GLN_3447.JPG' # 5/5 (3776, 6720, 3)\n",
    "file = '1340_2016-07-11_2_GLN_3450.JPG' # 4/5 (4912, 7360, 3)\n",
    "#file = '1340_2016-07-11_3_GLN_3452.JPG' # 5/5 (4912, 7360, 3)\n",
    "#file = '1349_2016-07-06_2_GLN_3061.JPG'  # 3/5, step 3 lines are offset, probably because portrait vs. landscape mode\n",
    "#file = '1342_2016-07-07_2_GLN_3182.JPG'\n",
    "#file = 'GLNI_456-1_2016-07-20_image-2.jpg' # (4924, 7378, 3)\n",
    "outpath = file.split('.')[0]"
   ]
  },
  {
   "cell_type": "code",
   "execution_count": null,
   "metadata": {},
   "outputs": [],
   "source": [
    "f = os.path.join(path, file)\n",
    "im = cv2.imread(f)\n",
    "im.shape  # (height, width)"
   ]
  },
  {
   "cell_type": "code",
   "execution_count": null,
   "metadata": {},
   "outputs": [],
   "source": [
    "ds = 8  # naive downsampling by factor of 8\n",
    "plt.figure(figsize=figsize)\n",
    "plt.imshow(im[::ds, ::ds])"
   ]
  },
  {
   "cell_type": "code",
   "execution_count": null,
   "metadata": {},
   "outputs": [],
   "source": [
    "'''\n",
    "@param threshold Accumulator threshold parameter. Only those lines are returned that get enough\n",
    "       votes ( \\f$>\\texttt{threshold}\\f$ ).\n",
    "@param minLineLength Minimum line length. Line segments shorter than that are rejected.\n",
    "@param maxLineGap Maximum allowed gap between points on the same line to link them.\n",
    "'''\n",
    "img = np.ascontiguousarray(im[::ds, ::ds], dtype=np.uint8)\n",
    "img_h = img.shape[0]\n",
    "img_w = img.shape[1]\n",
    "gray = cv2.cvtColor(img, cv2.COLOR_RGB2GRAY)\n",
    "\n",
    "edges = cv2.Canny(gray, 20, 400, L2gradient=True) # GLN_3447\n",
    "\n",
    "# @param rho Distance resolution of the accumulator in pixels.\n",
    "rho = 1  \n",
    "# @param theta Angle resolution of the accumulator in radians.\n",
    "theta = np.pi / 90  # note, with 180 getting too many overlapping lines.\n",
    "\n",
    "lines  =  cv2.HoughLines(edges, rho, theta, threshold=100)\n",
    "N = 1\n",
    "coords = np.zeros((N, 2, 2)).astype('int') # points, start/end, x/y\n",
    "angles = np.zeros(N)\n",
    "for i in range(len(lines[:N])):\n",
    "    for r, theta in lines[i]:\n",
    "        # theta is normal to the line wrt x-axis, so we subtract 90\n",
    "        if r > 0:\n",
    "            angles[i] = 90 - theta * 180 / np.pi\n",
    "        else: \n",
    "            angles[i] = 270 - theta * 180 / np.pi\n",
    "        print(i, '%.2f' % angles[i])\n",
    "        a = np.cos(theta)\n",
    "        b = np.sin(theta)\n",
    "        x0, y0 = a * r, b * r\n",
    "        x1 = int(x0 + img_w * -b)\n",
    "        y1 = int(y0 + img_w *  a)\n",
    "        x2 = int(x0 - img_w * -b)\n",
    "        y2 = int(y0 - img_w *  a)\n",
    "        #coords.append([[x1, y1], [x2, y2]])\n",
    "        coords[i, DP1, X] = x1\n",
    "        coords[i, DP1, Y] = y1\n",
    "        coords[i, DP2, X] = x2\n",
    "        coords[i, DP2, Y] = y2\n",
    "        print(i, (x1, y1), (x2, y2))\n",
    "        cv2.line(img, (x1, y1), (x2, y2), (0, 0, 255), 2)  # 2 is the line width\n",
    "plt.figure(figsize=figsize)\n",
    "plt.imshow(img)\n",
    "#plt.xlabel('x')\n",
    "#plt.ylabel('y')\n",
    "plt.tight_layout()\n",
    "if save_figures:\n",
    "    plt.savefig('img/' + outpath + '-Step-1.png')\n",
    "plt.show()"
   ]
  },
  {
   "cell_type": "markdown",
   "metadata": {},
   "source": [
    "## Probabilistic HoughLines"
   ]
  },
  {
   "cell_type": "code",
   "execution_count": null,
   "metadata": {},
   "outputs": [],
   "source": [
    "plt.imshow(edges)"
   ]
  },
  {
   "cell_type": "code",
   "execution_count": null,
   "metadata": {},
   "outputs": [],
   "source": [
    "img = np.ascontiguousarray(im[::ds, ::ds], dtype=np.uint8)\n",
    "img_h = img.shape[0]\n",
    "img_w = img.shape[1]\n",
    "gray = cv2.cvtColor(img, cv2.COLOR_RGB2GRAY)\n",
    "\n",
    "# @param canny_threshold1 Histeresis threshold 1\n",
    "# @param canny_threshold2\n",
    "canny_thresh1 = 40\n",
    "canny_thresh2 = 400\n",
    "\n",
    "# run the Canny edge detector on the rotated gray scale image\n",
    "edges = cv2.Canny(gray, threshold1=canny_thresh1, threshold2=canny_thresh2, L2gradient=False) # GLN_3447\n",
    "\n",
    "# @param rho Distance resolution of the accumulator (pixels).\n",
    "rho = 1  \n",
    "\n",
    "# @param theta Angle resolution of the accumulator (radians).\n",
    "theta = np.pi / 90\n",
    "\n",
    "# @param threshold Accumulator threshold, return lines with more than threshold of votes. (intersection points)\n",
    "threshold = 100\n",
    "\n",
    "# @param minLineLength Minimum line length. Line segments shorter than that are rejected. (pixels)\n",
    "mLL = 300\n",
    "\n",
    "# @param maxLineGap Maximum allowed gap between points on the same line to link them. (pixels)\n",
    "mLG = 100\n",
    "#mLG = 200 # increased to 200 for GLNI_456-1_2016-07-20_image-2.jpg\n",
    "\n",
    "# run the probabilistic hough lines transform\n",
    "linesP = cv2.HoughLinesP(edges, rho, theta, threshold=threshold, minLineLength=mLL, maxLineGap=mLG)\n",
    "\n",
    "# @param lines The extremes of the detected lines if any (<N_LINES_FOUND>, 1, x_0, y_0, x_1, y_1). (pixels)\n",
    "print('Found %d lines' % len(linesP))\n",
    "\n",
    "N = 100  # top N results to draw\n",
    "if linesP is not None:\n",
    "    for i in range(len(linesP[:N])):\n",
    "        l = linesP[i][0]\n",
    "        pt1 = (l[0], l[1])\n",
    "        pt2 = (l[2], l[3])\n",
    "        rgb = (255, 0, 0)\n",
    "        line_width = 3\n",
    "        cv2.line(img, pt1, pt2, rgb, line_width, cv2.LINE_AA)\n",
    "plt.figure(figsize=figsize)\n",
    "plt.imshow(img)\n",
    "#plt.xlabel('x')\n",
    "#plt.ylabel('y')\n",
    "plt.tight_layout()\n",
    "if save_figures:\n",
    "    plt.savefig('img/' + outpath + '-Step-2.png')\n",
    "plt.show()"
   ]
  },
  {
   "cell_type": "code",
   "execution_count": null,
   "metadata": {},
   "outputs": [],
   "source": [
    "# line below origin, rho positive, angle less than 180\n",
    "# line above origin, rho negative, angle less than 180\n",
    "#lines = cv2.HoughLines(edges, rho, theta, threshold=100)\n",
    "\n",
    "if lines[0, 0, 1] > 0:\n",
    "    if lines[0, 0, 0] > 0 or lines[0, 0, 1] < np.pi / 2:\n",
    "        print('rho positive, or theta < 90')\n",
    "        rot_deg = 90 - lines[0, 0, 1] * rad2deg\n",
    "    else:\n",
    "        print('rho negative')\n",
    "        rot_deg = 90 - lines[0, 0, 1] * rad2deg\n",
    "        #rot_deg = 180 - lines[0, 0, 1] * rad2deg\n",
    "else:\n",
    "    rot_deg = 0\n",
    "t = rot_deg / rad2deg\n",
    "print(t)"
   ]
  },
  {
   "cell_type": "code",
   "execution_count": null,
   "metadata": {},
   "outputs": [],
   "source": [
    "linesP_ls = linesP.squeeze().tolist()"
   ]
  },
  {
   "cell_type": "code",
   "execution_count": null,
   "metadata": {},
   "outputs": [],
   "source": [
    "coordsP = np.zeros((np.minimum(N, len(linesP)), 2, 2)).astype('int') # points, start/end, x/y\n",
    "for i in range(len(linesP[:N])):\n",
    "    l = linesP[i][0]\n",
    "    coordsP[i, DP1, X] = l[0] # x1\n",
    "    coordsP[i, DP1, Y] = l[1] # y1\n",
    "    coordsP[i, DP2, X] = l[2] # x2\n",
    "    coordsP[i, DP2, Y] = l[3] # y2    \n",
    "R = np.array([[np.cos(-t), -np.sin(-t)],\n",
    "              [np.sin(-t),  np.cos(-t)]])\n",
    "coords = np.dot(coordsP, R)\n",
    "correction_factor = coordsP[0, DP1, Y] - coords[0, DP1, Y]\n",
    "for i in range(len(linesP[:N])):\n",
    "    coords[i, DP1, Y] += correction_factor\n",
    "    coords[i, DP2, Y] += correction_factor"
   ]
  },
  {
   "cell_type": "code",
   "execution_count": null,
   "metadata": {},
   "outputs": [],
   "source": [
    "#angles = compute_pairwise_angles(coordsP)"
   ]
  },
  {
   "cell_type": "code",
   "execution_count": null,
   "metadata": {},
   "outputs": [],
   "source": [
    "#plt.figure(figsize=(12, 10))\n",
    "center = (coordsP[0, DP1, X], coordsP[0, DP1, Y])\n",
    "imgr = transform.rotate(\n",
    "    np.ascontiguousarray(\n",
    "        im[::ds, ::ds], dtype=np.uint8\n",
    "    ), -rot_deg, center=center, resize=False)\n",
    "imgr = (255 * imgr).astype(np.uint8)\n",
    "clean_img = imgr.copy()\n",
    "#plt.imshow(imgr[:, :])\n",
    "#plt.show()\n",
    "#for i in lines_to_merge[7]:\n",
    "'''\n",
    "cv2.line(imgr, (int(coords[i, DP1, X]), int(coords[i, DP1, Y])),\n",
    "                   (int(coords[i, DP2, X]), int(coords[i, DP2, Y])),\n",
    "             (255, 0, 0), 3, cv2.LINE_AA)         \n",
    "plt.imshow(imgr)\n",
    "'''"
   ]
  },
  {
   "cell_type": "code",
   "execution_count": null,
   "metadata": {},
   "outputs": [],
   "source": [
    "#i = 7\n",
    "#for i in range(len(linesP[:N])):    \n",
    "#for i in outlier_line_idx:\n",
    "for i in range(len(coords)):\n",
    "    cv2.line(imgr, (int(coords[i, DP1, X]), int(coords[i, DP1, Y])),\n",
    "                   (int(coords[i, DP2, X]), int(coords[i, DP2, Y])),\n",
    "             (255, 0, 0), 3, cv2.LINE_AA)         \n",
    "#plt.figure(figsize=figsize)\n",
    "plt.imshow(imgr)\n",
    "plt.tight_layout()\n",
    "if save_figures:\n",
    "    plt.savefig('img/' + outpath + '-Step-3.png')"
   ]
  },
  {
   "cell_type": "code",
   "execution_count": null,
   "metadata": {},
   "outputs": [],
   "source": [
    "# Check angle between lines"
   ]
  },
  {
   "cell_type": "code",
   "execution_count": null,
   "metadata": {},
   "outputs": [],
   "source": [
    "angles = compute_pairwise_angles(coords)\n",
    "print(len(angles))"
   ]
  },
  {
   "cell_type": "code",
   "execution_count": null,
   "metadata": {},
   "outputs": [],
   "source": [
    "values, counts = np.unique(angles[:, 2], return_counts=True)\n",
    "print(values)\n",
    "print(counts)"
   ]
  },
  {
   "cell_type": "code",
   "execution_count": null,
   "metadata": {},
   "outputs": [],
   "source": [
    "#np.allclose?"
   ]
  },
  {
   "cell_type": "code",
   "execution_count": null,
   "metadata": {},
   "outputs": [],
   "source": [
    "TOLERANCE = 4  # Max deviation"
   ]
  },
  {
   "cell_type": "code",
   "execution_count": null,
   "metadata": {},
   "outputs": [],
   "source": [
    "greater_180_mask = angles[:, 2] > 180 + TOLERANCE\n",
    "less_180_mask = angles[:, 2] < 180 - TOLERANCE\n",
    "greater_90_mask = angles[:, 2] > 90 + TOLERANCE\n",
    "less_90_mask = angles[:, 2] < 90 - TOLERANCE\n",
    "greater_tol_mask = angles[:, 2] > TOLERANCE\n",
    "outlier_angle_mask  = greater_180_mask\n",
    "outlier_angle_mask |= (less_180_mask & greater_90_mask)\n",
    "outlier_angle_mask |= (less_90_mask & greater_tol_mask)"
   ]
  },
  {
   "cell_type": "code",
   "execution_count": null,
   "metadata": {},
   "outputs": [],
   "source": [
    "print(angles[outlier_angle_mask])\n",
    "print(len(angles[outlier_angle_mask]))\n",
    "# 1. lines get more points according to how many inlier angles they contribute to\n",
    "# 2. prefer lines with lower index in case of a tie because they have more hough votes"
   ]
  },
  {
   "cell_type": "code",
   "execution_count": null,
   "metadata": {},
   "outputs": [],
   "source": [
    "candidate_outlier_line_idx, cts = np.unique(\n",
    "    angles[outlier_angle_mask, :2], return_counts=True)\n",
    "print(candidate_outlier_line_idx)\n",
    "print(cts)"
   ]
  },
  {
   "cell_type": "code",
   "execution_count": null,
   "metadata": {},
   "outputs": [],
   "source": [
    "outlier_line_idx = candidate_outlier_line_idx[cts > cts.min()]"
   ]
  },
  {
   "cell_type": "code",
   "execution_count": null,
   "metadata": {},
   "outputs": [],
   "source": [
    "n_inliers = len(coords) - len(outlier_line_idx)\n",
    "n_inliers"
   ]
  },
  {
   "cell_type": "code",
   "execution_count": null,
   "metadata": {},
   "outputs": [],
   "source": [
    "outlier_line_idx"
   ]
  },
  {
   "cell_type": "code",
   "execution_count": null,
   "metadata": {},
   "outputs": [],
   "source": [
    "coords.shape"
   ]
  },
  {
   "cell_type": "code",
   "execution_count": null,
   "metadata": {},
   "outputs": [],
   "source": [
    "coord_list = coords.tolist()\n",
    "# pop with an offset because the list shrinks after each pop\n",
    "for offset, idx in enumerate(outlier_line_idx):\n",
    "    print(coord_list.pop(idx - offset))"
   ]
  },
  {
   "cell_type": "code",
   "execution_count": null,
   "metadata": {},
   "outputs": [],
   "source": [
    "coords = np.asarray(coord_list)\n",
    "print(len(coords))\n",
    "angles = compute_pairwise_angles(coords)\n",
    "print(len(angles))"
   ]
  },
  {
   "cell_type": "code",
   "execution_count": null,
   "metadata": {},
   "outputs": [],
   "source": [
    "parallel_mask  = angles[:, 2] < TOLERANCE\n",
    "greater_180_mask = angles[:, 2] > 180 - TOLERANCE\n",
    "less_180_mask = angles[:, 2] < 180 + TOLERANCE\n",
    "parallel_mask |= ( greater_180_mask & less_180_mask)\n",
    "len(angles[parallel_mask])\n",
    "#print(angles[parallel_mask])"
   ]
  },
  {
   "cell_type": "code",
   "execution_count": null,
   "metadata": {},
   "outputs": [],
   "source": [
    "coords[0, DP1]"
   ]
  },
  {
   "cell_type": "code",
   "execution_count": null,
   "metadata": {},
   "outputs": [],
   "source": [
    "l2m = []  # lines to merge\n",
    "OTHER_LINE_IDX = 1\n",
    "\n",
    "for i in range(len(coords)):\n",
    "    # get angle of all lines wrt line i\n",
    "    cur_angles = angles[angles[:, 0] == i]\n",
    "    # find all lines parallel to line i\n",
    "    par_angles = cur_angles[find_parallel(cur_angles[:, 2], 5)]\n",
    "    # compare endpoints\n",
    "    par_lines = par_angles[:, OTHER_LINE_IDX] # other line indices\n",
    "    # distance between endpoints\n",
    "    pointwise_dist = norm(np.minimum(\n",
    "        np.maximum(coords[i, DP1] - coords[par_lines, DP1], \n",
    "                   coords[i, DP1] - coords[par_lines, DP2]), \n",
    "        np.maximum(coords[i, DP2] - coords[par_lines, DP1], \n",
    "                   coords[i, DP2] - coords[par_lines, DP2])), axis=1)\n",
    "    # parallel lines with close endpoints can be merged to line i\n",
    "    to_merge_idx = par_lines[pointwise_dist < 20]\n",
    "    if len(to_merge_idx) > 0:\n",
    "        l2m.append(\n",
    "            (np.concatenate(((i,), to_merge_idx))).tolist()\n",
    "        )\n",
    "    \n",
    "for i in range(len(l2m)):\n",
    "    a = coords[l2m[i]].copy()\n",
    "    a.sort(axis=1)\n",
    "    coords[l2m[i]] = np.array([[a[:, DP1, X].mean(), a[:, DP1, Y].mean()], \n",
    "                               [a[:, DP2, X].mean(), a[:, DP2, Y].mean()]])\n",
    "    \n",
    "    coord_list = coords.tolist()\n",
    "# pop with an offset because the list shrinks after each pop\n",
    "for offset, idx in enumerate(outlier_line_idx):\n",
    "    print(coord_list.pop(idx - offset))\n",
    "    \n",
    "    \n",
    "#print(l2m)"
   ]
  },
  {
   "cell_type": "code",
   "execution_count": null,
   "metadata": {},
   "outputs": [],
   "source": [
    "#.count(0)"
   ]
  },
  {
   "cell_type": "markdown",
   "metadata": {},
   "source": [
    "# Find Intersection Points"
   ]
  },
  {
   "cell_type": "code",
   "execution_count": null,
   "metadata": {},
   "outputs": [],
   "source": [
    "corners_np = get_intersection_pts(coords, img_w, img_h)\n",
    "print(len(corners_np))"
   ]
  },
  {
   "cell_type": "code",
   "execution_count": null,
   "metadata": {},
   "outputs": [],
   "source": [
    "from utils import centroid_and_crop_pts"
   ]
  },
  {
   "cell_type": "code",
   "execution_count": null,
   "metadata": {},
   "outputs": [],
   "source": [
    "fig = plt.figure(figsize=figsize)\n",
    "ax2 = fig.gca()\n",
    "centroid, crop = centroid_and_crop_pts(corners_np)\n",
    "for i in range(len(corners_np)):\n",
    "    ax2.scatter(corners_np[i, 0], corners_np[i, 1], c='b', s=s)\n",
    "    ax2.annotate(i, xy=(corners_np[i, 0] + 1, corners_np[i, 1] + 1), \n",
    "                 c='white', fontsize=18)\n",
    "ax2.scatter(centroid[0], centroid[1], c='white', s=s)\n",
    "ax2.scatter(crop[:, 0], crop[:, 1], c='pink')\n",
    "ax2.imshow(imgr)\n",
    "ax2.axis('off')\n",
    "plt.tight_layout()\n",
    "#plt.savefig('img/' + outpath + '-Step-4-noisy-corners.png')"
   ]
  },
  {
   "cell_type": "code",
   "execution_count": null,
   "metadata": {},
   "outputs": [],
   "source": [
    "# check crop points are equidistant\n",
    "crop_dist_centroid = norm(crop - centroid, axis=1)\n",
    "print(crop_dist_centroid.var())\n",
    "print(crop_dist_centroid)"
   ]
  },
  {
   "cell_type": "code",
   "execution_count": null,
   "metadata": {},
   "outputs": [],
   "source": [
    "crop_distances = compute_pairwise_distances(crop)"
   ]
  },
  {
   "cell_type": "code",
   "execution_count": null,
   "metadata": {},
   "outputs": [],
   "source": [
    "#corners_np"
   ]
  },
  {
   "cell_type": "code",
   "execution_count": null,
   "metadata": {},
   "outputs": [],
   "source": [
    "len(corner_distances_np)"
   ]
  },
  {
   "cell_type": "code",
   "execution_count": null,
   "metadata": {},
   "outputs": [],
   "source": [
    "plt.hist(corner_distances_np[:, 2], bins=50)"
   ]
  },
  {
   "cell_type": "code",
   "execution_count": null,
   "metadata": {},
   "outputs": [],
   "source": [
    "corner_distances_np = compute_pairwise_distances(corners_np)\n",
    "distances = corner_distances_np[:, 2]\n",
    "#print(distances)\n",
    "values, counts = np.unique(distances, return_counts=True)\n",
    "print(values)\n",
    "print(counts)"
   ]
  },
  {
   "cell_type": "code",
   "execution_count": null,
   "metadata": {},
   "outputs": [],
   "source": [
    "#plt.hist(counts)"
   ]
  },
  {
   "cell_type": "code",
   "execution_count": null,
   "metadata": {},
   "outputs": [],
   "source": [
    "crop_distances"
   ]
  },
  {
   "cell_type": "code",
   "execution_count": null,
   "metadata": {},
   "outputs": [],
   "source": [
    "cond1 = crop_dist_centroid.var() > 10\n",
    "cond2 = (crop_distances[:, 2] < 200).sum() > 1\n",
    "#print(cond1)\n",
    "#print(cond2)\n",
    "\n",
    "#if cond2:\n",
    "    \n",
    "# Filter corner points that have too small pairwise distance\n",
    "corner_distances_np = compute_pairwise_distances(corners_np)\n",
    "distances = corner_distances_np[:, 2]\n",
    "#disc_data = np.digitize(distances, bins=np.linspace(min(distances), max(distances), 75))\n",
    "values, counts = np.unique(distances, return_counts=True)\n",
    "#print(values)\n",
    "print(counts)\n",
    "\n",
    "small_mask = distances < values[np.argsort(counts)[-3]]\n",
    "\n",
    "small_dist = corner_distances_np[small_mask]\n",
    "\n",
    "sm_values, sm_counts = np.unique(small_dist[:, :2], return_counts=True)\n",
    "#print(values)  # corners implicated \n",
    "#print(counts)\n",
    "outliers = sm_values[sm_counts > 1]\n",
    "print(outliers)\n",
    "\n",
    "# filter points that are part of lines that are too small\n",
    "#for out in outliers:\n",
    "#    corners_np[out] = -1"
   ]
  },
  {
   "cell_type": "code",
   "execution_count": null,
   "metadata": {},
   "outputs": [],
   "source": [
    "plt.hist(distances, bins=50)"
   ]
  },
  {
   "cell_type": "code",
   "execution_count": null,
   "metadata": {},
   "outputs": [],
   "source": [
    "bins = np.linspace(min(distances), max(distances), 75)\n",
    "disc_data = np.digitize(distances, bins=bins)\n",
    "values, counts = np.unique(disc_data, return_counts=True)\n",
    "\n",
    "print(values)\n",
    "print(counts)"
   ]
  },
  {
   "cell_type": "code",
   "execution_count": null,
   "metadata": {},
   "outputs": [],
   "source": [
    "values"
   ]
  },
  {
   "cell_type": "code",
   "execution_count": null,
   "metadata": {},
   "outputs": [],
   "source": [
    "counts"
   ]
  },
  {
   "cell_type": "code",
   "execution_count": null,
   "metadata": {},
   "outputs": [],
   "source": []
  },
  {
   "cell_type": "code",
   "execution_count": null,
   "metadata": {},
   "outputs": [],
   "source": [
    "#distances < 442"
   ]
  },
  {
   "cell_type": "code",
   "execution_count": null,
   "metadata": {},
   "outputs": [],
   "source": [
    "corner_dis"
   ]
  },
  {
   "cell_type": "code",
   "execution_count": null,
   "metadata": {},
   "outputs": [],
   "source": [
    "# any points contributing to long line segments are considered inliers\n",
    "nb_terms = (counts > 2).sum()\n",
    "    long_mask = distances == values[np.argsort(counts)[-1]]\n",
    "    print(long_mask.sum())\n",
    "\n",
    "    for i in range(2, nb_terms):\n",
    "        long_mask |= distances == values[np.argsort(counts)[-i]]\n",
    "        print(i, long_mask.sum())\n",
    "\n",
    "    inliers = np.unique(corner_distances_np[long_mask][:, :2])\n",
    "    print(inliers)"
   ]
  },
  {
   "cell_type": "code",
   "execution_count": null,
   "metadata": {},
   "outputs": [],
   "source": [
    "        \n",
    "    # filer points that aren't contributing to a long segment\n",
    "    for i in range(len(corners_np)):\n",
    "        if i not in inliers:\n",
    "            corners_np[i] = -1\n",
    "    corners_clean_np = corners_np[corners_np > -1]\n",
    "    corners_clean_np = corners_clean_np.reshape(-1, 2)\n",
    "    \n",
    "    centroid = corners_clean_np.mean(axis=0, keepdims=True)[0]\n",
    "    corner_dist = np.linalg.norm(corners_clean_np - centroid, axis=1)\n",
    "    indices = np.argsort(corner_dist)\n",
    "    crop = corners_clean_np[indices][:4].astype('int')\n",
    "\n",
    "    # check crop points are equidistant\n",
    "    crop_dist_centroid = np.linalg.norm(crop - centroid, axis=1)"
   ]
  },
  {
   "cell_type": "code",
   "execution_count": null,
   "metadata": {},
   "outputs": [],
   "source": []
  },
  {
   "cell_type": "code",
   "execution_count": null,
   "metadata": {},
   "outputs": [],
   "source": [
    "\"\"\"\n",
    "Note that 10 is an arbitrary threshold on the variance \n",
    "of the distances of the crop points to the centroid.\n",
    "The consequence of incorrectly choosing this value \n",
    "is minor as the crop area will be estimated from the \n",
    "best 2 of 4 points. If we already have the correct\n",
    "4 interior points, we can skip this error check.\n",
    "\"\"\"\n",
    "#if crop_dist_centroid.var() > 10:\n",
    "if True:\n",
    "    crop_distances = compute_pairwise_distances(crop)\n",
    "\n",
    "    cts = np.zeros(len(crop))\n",
    "    thresh = np.median(crop_distances[:, 2])\n",
    "    for i in range(len(crop_distances)):\n",
    "        if crop_distances[i, 2] > thresh:\n",
    "            cts[crop_distances[i, 0]] += 1\n",
    "            cts[crop_distances[i, 1]] += 1\n",
    "    ref_point = np.argmax(cts)\n",
    "\n",
    "    # the second reference point is the one with min dist to the ref_point\n",
    "    best = 1000\n",
    "    for i in range(len(crop)):\n",
    "        if i != ref_point:\n",
    "            dist_to_ref = int(np.linalg.norm(crop[ref_point] - crop[i]))\n",
    "            #print(i, dist_to_ref)\n",
    "            if dist_to_ref < best:\n",
    "                best = dist_to_ref\n",
    "                best_idx = i\n",
    "    #print(best_idx)\n",
    "    print(crop[ref_point])\n",
    "    print(crop[best_idx])\n",
    "    \n",
    "    start_x = np.minimum(crop[best_idx, 0], crop[ref_point, 0])\n",
    "    end_x   = np.maximum(crop[best_idx, 0], crop[ref_point, 0])\n",
    "    delta_x = end_x - start_x\n",
    "\n",
    "    start_y = np.minimum(crop[best_idx, 1], crop[ref_point, 1])\n",
    "    end_y   = np.maximum(crop[best_idx, 1], crop[ref_point, 1])\n",
    "    delta_y = end_y - start_y\n",
    "\n",
    "    if delta_x > delta_y:\n",
    "        end_y  = int(np.maximum(end_y, delta_x)) + start_y\n",
    "    else:\n",
    "        end_x  = int(np.maximum(end_x, delta_y)) + start_x\n",
    "\n",
    "# else use the existing points\n",
    "else:\n",
    "    print(\"Using existing crop pts\")\n",
    "    #crop.sort(0)\n",
    "    buffer = 10\n",
    "    start_x = crop[:, 0].min() + buffer # crop[ 0, 0]\n",
    "    end_x   = crop[:, 0].max() - buffer # crop[-2, 0]\n",
    "    start_y = crop[:, 1].min() + buffer # crop[ 1, 1]\n",
    "    end_y   = crop[:, 1].max() - buffer # crop[ 2, 1]"
   ]
  },
  {
   "cell_type": "code",
   "execution_count": null,
   "metadata": {},
   "outputs": [],
   "source": [
    "start_x"
   ]
  },
  {
   "cell_type": "code",
   "execution_count": null,
   "metadata": {},
   "outputs": [],
   "source": [
    "end_x"
   ]
  },
  {
   "cell_type": "code",
   "execution_count": null,
   "metadata": {},
   "outputs": [],
   "source": [
    "fig = plt.figure(figsize=figsize)\n",
    "ax2 = fig.gca()\n",
    "for i in range(len(corners_np)):\n",
    "    #if i not in outliers:\n",
    "    ax2.scatter(corners_np[i, 0], corners_np[i, 1], c='b', s=s)\n",
    "    ax2.annotate(i, xy=(corners_np[i, 0] + 1, corners_np[i, 1] + 1), \n",
    "                 c='white', fontsize=18)\n",
    "ax2.scatter(centroid[0], centroid[1], c='white', s=s)\n",
    "ax2.scatter(crop[:, 0], crop[:, 1], c='pink')\n",
    "ax2.scatter(start_x, start_y, c='y', s=s)\n",
    "ax2.scatter(end_x,   end_y, c='y', s=s)\n",
    "ax2.imshow(imgr)\n",
    "plt.tight_layout()\n",
    "if save_figures:\n",
    "    plt.savefig('img/' + outpath + '-Step-4-clean-corners.png')"
   ]
  },
  {
   "cell_type": "code",
   "execution_count": null,
   "metadata": {},
   "outputs": [],
   "source": [
    "buffer = 10\n",
    "plt.figure(figsize=(6, 6))\n",
    "cropped_img = clean_img[start_y:end_y, start_x:end_x, :]\n",
    "plt.imshow(cropped_img)\n",
    "plt.tight_layout()\n",
    "if save_figures:\n",
    "    plt.savefig('img/' + outpath + '-Step-5.png')"
   ]
  },
  {
   "cell_type": "code",
   "execution_count": null,
   "metadata": {},
   "outputs": [],
   "source": []
  }
 ],
 "metadata": {
  "kernelspec": {
   "display_name": "Python 3",
   "language": "python",
   "name": "python3"
  },
  "language_info": {
   "codemirror_mode": {
    "name": "ipython",
    "version": 3
   },
   "file_extension": ".py",
   "mimetype": "text/x-python",
   "name": "python",
   "nbconvert_exporter": "python",
   "pygments_lexer": "ipython3",
   "version": "3.6.7"
  }
 },
 "nbformat": 4,
 "nbformat_minor": 2
}
