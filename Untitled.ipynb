{
 "cells": [
  {
   "cell_type": "code",
   "execution_count": 2,
   "metadata": {},
   "outputs": [],
   "source": [
    "import cv2 as cv\n",
    "import sys\n",
    "import math\n",
    "import numpy as np"
   ]
  },
  {
   "cell_type": "code",
   "execution_count": 11,
   "metadata": {},
   "outputs": [],
   "source": [
    "## [load]\n",
    "default_file = '/scratch/ssd/cciw/sample_data/sudoku.png'\n",
    "#filename = argv[0] if len(argv) > 0 else default_file\n",
    "\n",
    "# Loads an image\n",
    "#src = cv.imread(cv.samples.findFile(filename), cv.IMREAD_GRAYSCALE)\n",
    "src = cv.imread(default_file, cv.IMREAD_GRAYSCALE)\n",
    "\n",
    "# Check if image is loaded fine\n",
    "if src is None:\n",
    "    print ('Error opening image!')\n",
    "    print ('Usage: hough_lines.py [image_name -- default ' + default_file + '] \\n')\n",
    "    #return -1\n",
    "## [load]\n",
    "\n",
    "## [edge_detection]\n",
    "# Edge detection\n",
    "dst = cv.Canny(src, 50, 200, None, 3)\n",
    "## [edge_detection]\n",
    "\n",
    "# Copy edges to the images that will display the results in BGR\n",
    "cdst = cv.cvtColor(dst, cv.COLOR_GRAY2BGR)\n",
    "cdstP = np.copy(cdst)\n",
    "\n",
    "## [hough_lines]\n",
    "#  Standard Hough Line Transform\n",
    "lines = cv.HoughLines(dst, 1, np.pi / 180, 150, None, 0, 0)\n",
    "## [hough_lines]\n",
    "## [draw_lines]\n",
    "# Draw the lines\n",
    "if lines is not None:\n",
    "    for i in range(0, len(lines)):\n",
    "        rho = lines[i][0][0]\n",
    "        theta = lines[i][0][1]\n",
    "        a = math.cos(theta)\n",
    "        b = math.sin(theta)\n",
    "        x0 = a * rho\n",
    "        y0 = b * rho\n",
    "        pt1 = (int(x0 + 1000*(-b)), int(y0 + 1000*(a)))\n",
    "        pt2 = (int(x0 - 1000*(-b)), int(y0 - 1000*(a)))\n",
    "\n",
    "        cv.line(cdst, pt1, pt2, (0,0,255), 3, cv.LINE_AA)\n",
    "## [draw_lines]\n",
    "\n",
    "## [hough_lines_p]\n",
    "# Probabilistic Line Transform\n",
    "linesP = cv.HoughLinesP(dst, 1, np.pi / 180, 50, None, 50, 10)\n",
    "## [hough_lines_p]\n",
    "## [draw_lines_p]\n",
    "# Draw the lines\n",
    "if linesP is not None:\n",
    "    for i in range(0, len(linesP)):\n",
    "        l = linesP[i][0]\n",
    "        cv.line(cdstP, (l[0], l[1]), (l[2], l[3]), (0,0,255), 3, cv.LINE_AA)\n",
    "## [draw_lines_p]\n",
    "## [imshow]\n",
    "# Show results\n",
    "cv.imshow(\"Source\", src)\n",
    "cv.imshow(\"Detected Lines (in red) - Standard Hough Line Transform\", cdst)\n",
    "cv.imshow(\"Detected Lines (in red) - Probabilistic Line Transform\", cdstP)\n",
    "## [imshow]\n",
    "## [exit]\n",
    "# Wait and Exit\n",
    "#cv.waitKey()\n",
    "#return 0\n",
    "## [exit]"
   ]
  },
  {
   "cell_type": "code",
   "execution_count": 10,
   "metadata": {},
   "outputs": [],
   "source": [
    "cv.line?"
   ]
  },
  {
   "cell_type": "code",
   "execution_count": 12,
   "metadata": {},
   "outputs": [
    {
     "data": {
      "image/png": "[encoded data removed]",
      "text/plain": [
       "<Figure size 432x288 with 1 Axes>"
      ]
     },
     "metadata": {
      "needs_background": "light"
     },
     "output_type": "display_data"
    }
   ],
   "source": [
    "from matplotlib import pyplot as plt\n",
    "\n",
    "import numpy as np\n",
    "from skimage import data\n",
    "from skimage.feature import corner_harris, corner_subpix, corner_peaks\n",
    "from skimage.transform import warp, AffineTransform\n",
    "from skimage.draw import ellipse\n",
    "\n",
    "# Sheared checkerboard\n",
    "#tform = AffineTransform(scale=(1.3, 1.1), rotation=1, shear=0.7,\n",
    "#                        translation=(110, 30))\n",
    "#image = warp(data.checkerboard()[:90, :90], tform.inverse,\n",
    "#             output_shape=(200, 310))\n",
    "image = np.zeros((300, 300))\n",
    "# Ellipse\n",
    "#rr, cc = ellipse(160, 175, 10, 100)\n",
    "#image[rr, cc] = 1\n",
    "# Two squares\n",
    "image[30:80, 200:250] = 1\n",
    "image[80:130, 250:300] = 1\n",
    "\n",
    "coords = corner_peaks(corner_harris(image), min_distance=5)\n",
    "coords_subpix = corner_subpix(image, coords, window_size=13)\n",
    "\n",
    "fig, ax = plt.subplots()\n",
    "ax.imshow(image, cmap=plt.cm.gray)\n",
    "ax.plot(coords[:, 1], coords[:, 0], color='cyan', marker='o',\n",
    "        linestyle='None', markersize=6)\n",
    "#ax.plot(coords_subpix[:, 1], coords_subpix[:, 0], '+r', markersize=15)\n",
    "#ax.axis((0, 310, 200, 0))\n",
    "plt.show()"
   ]
  },
  {
   "cell_type": "code",
   "execution_count": 9,
   "metadata": {},
   "outputs": [
    {
     "data": {
      "text/plain": [
       "array([[ 30, 200],\n",
       "       [ 30, 249],\n",
       "       [ 79, 200],\n",
       "       [ 79, 249],\n",
       "       [129, 250]])"
      ]
     },
     "execution_count": 9,
     "metadata": {},
     "output_type": "execute_result"
    }
   ],
   "source": [
    "coords"
   ]
  },
  {
   "cell_type": "code",
   "execution_count": 10,
   "metadata": {},
   "outputs": [
    {
     "data": {
      "text/plain": [
       "array([[ 29.51754386, 199.51754386],\n",
       "       [ 29.51754386, 249.48245614],\n",
       "       [ 79.48245614, 199.51754386],\n",
       "       [ 79.5       , 249.5       ],\n",
       "       [129.48245614, 249.51754386]])"
      ]
     },
     "execution_count": 10,
     "metadata": {},
     "output_type": "execute_result"
    }
   ],
   "source": [
    "coords_subpix"
   ]
  },
  {
   "cell_type": "code",
   "execution_count": null,
   "metadata": {},
   "outputs": [],
   "source": []
  }
 ],
 "metadata": {
  "kernelspec": {
   "display_name": "Python 3",
   "language": "python",
   "name": "python3"
  },
  "language_info": {
   "codemirror_mode": {
    "name": "ipython",
    "version": 3
   },
   "file_extension": ".py",
   "mimetype": "text/x-python",
   "name": "python",
   "nbconvert_exporter": "python",
   "pygments_lexer": "ipython3",
   "version": "3.6.7"
  }
 },
 "nbformat": 4,
 "nbformat_minor": 2
}
