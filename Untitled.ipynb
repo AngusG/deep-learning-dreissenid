{
 "cells": [
  {
   "cell_type": "code",
   "execution_count": 2,
   "metadata": {},
   "outputs": [],
   "source": [
    "import cv2 as cv\n",
    "import sys\n",
    "import math\n",
    "import numpy as np"
   ]
  },
  {
   "cell_type": "code",
   "execution_count": 11,
   "metadata": {},
   "outputs": [],
   "source": [
    "## [load]\n",
    "default_file = '/scratch/ssd/cciw/sample_data/sudoku.png'\n",
    "#filename = argv[0] if len(argv) > 0 else default_file\n",
    "\n",
    "# Loads an image\n",
    "#src = cv.imread(cv.samples.findFile(filename), cv.IMREAD_GRAYSCALE)\n",
    "src = cv.imread(default_file, cv.IMREAD_GRAYSCALE)\n",
    "\n",
    "# Check if image is loaded fine\n",
    "if src is None:\n",
    "    print ('Error opening image!')\n",
    "    print ('Usage: hough_lines.py [image_name -- default ' + default_file + '] \\n')\n",
    "    #return -1\n",
    "## [load]\n",
    "\n",
    "## [edge_detection]\n",
    "# Edge detection\n",
    "dst = cv.Canny(src, 50, 200, None, 3)\n",
    "## [edge_detection]\n",
    "\n",
    "# Copy edges to the images that will display the results in BGR\n",
    "cdst = cv.cvtColor(dst, cv.COLOR_GRAY2BGR)\n",
    "cdstP = np.copy(cdst)\n",
    "\n",
    "## [hough_lines]\n",
    "#  Standard Hough Line Transform\n",
    "lines = cv.HoughLines(dst, 1, np.pi / 180, 150, None, 0, 0)\n",
    "## [hough_lines]\n",
    "## [draw_lines]\n",
    "# Draw the lines\n",
    "if lines is not None:\n",
    "    for i in range(0, len(lines)):\n",
    "        rho = lines[i][0][0]\n",
    "        theta = lines[i][0][1]\n",
    "        a = math.cos(theta)\n",
    "        b = math.sin(theta)\n",
    "        x0 = a * rho\n",
    "        y0 = b * rho\n",
    "        pt1 = (int(x0 + 1000*(-b)), int(y0 + 1000*(a)))\n",
    "        pt2 = (int(x0 - 1000*(-b)), int(y0 - 1000*(a)))\n",
    "\n",
    "        cv.line(cdst, pt1, pt2, (0,0,255), 3, cv.LINE_AA)\n",
    "## [draw_lines]\n",
    "\n",
    "## [hough_lines_p]\n",
    "# Probabilistic Line Transform\n",
    "linesP = cv.HoughLinesP(dst, 1, np.pi / 180, 50, None, 50, 10)\n",
    "## [hough_lines_p]\n",
    "## [draw_lines_p]\n",
    "# Draw the lines\n",
    "if linesP is not None:\n",
    "    for i in range(0, len(linesP)):\n",
    "        l = linesP[i][0]\n",
    "        cv.line(cdstP, (l[0], l[1]), (l[2], l[3]), (0,0,255), 3, cv.LINE_AA)\n",
    "## [draw_lines_p]\n",
    "## [imshow]\n",
    "# Show results\n",
    "cv.imshow(\"Source\", src)\n",
    "cv.imshow(\"Detected Lines (in red) - Standard Hough Line Transform\", cdst)\n",
    "cv.imshow(\"Detected Lines (in red) - Probabilistic Line Transform\", cdstP)\n",
    "## [imshow]\n",
    "## [exit]\n",
    "# Wait and Exit\n",
    "#cv.waitKey()\n",
    "#return 0\n",
    "## [exit]"
   ]
  },
  {
   "cell_type": "code",
   "execution_count": 10,
   "metadata": {},
   "outputs": [],
   "source": [
    "cv.line?"
   ]
  },
  {
   "cell_type": "code",
   "execution_count": null,
   "metadata": {},
   "outputs": [],
   "source": []
  }
 ],
 "metadata": {
  "kernelspec": {
   "display_name": "Python 3",
   "language": "python",
   "name": "python3"
  },
  "language_info": {
   "codemirror_mode": {
    "name": "ipython",
    "version": 3
   },
   "file_extension": ".py",
   "mimetype": "text/x-python",
   "name": "python",
   "nbconvert_exporter": "python",
   "pygments_lexer": "ipython3",
   "version": "3.6.6"
  }
 },
 "nbformat": 4,
 "nbformat_minor": 2
}
