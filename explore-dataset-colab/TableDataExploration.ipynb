{
 "cells": [
  {
   "cell_type": "markdown",
   "metadata": {
    "colab_type": "text",
    "id": "uMO2DApYasZM"
   },
   "source": [
    "### Setup"
   ]
  },
  {
   "cell_type": "code",
   "execution_count": null,
   "metadata": {
    "colab": {
     "base_uri": "https://localhost:8080/",
     "height": 479
    },
    "colab_type": "code",
    "executionInfo": {
     "elapsed": 8413,
     "status": "ok",
     "timestamp": 1579026403412,
     "user": {
      "displayName": "Team Mussels",
      "photoUrl": "",
      "userId": "02846834132225962569"
     },
     "user_tz": 300
    },
    "id": "bjA3PMZbReJP",
    "outputId": "96acac25-f53f-414c-d254-12d196ed8382"
   },
   "outputs": [],
   "source": [
    "!pip install geopandas # Tables with spatial queries"
   ]
  },
  {
   "cell_type": "code",
   "execution_count": null,
   "metadata": {
    "colab": {
     "base_uri": "https://localhost:8080/",
     "height": 1000
    },
    "colab_type": "code",
    "executionInfo": {
     "elapsed": 54800,
     "status": "ok",
     "timestamp": 1579026449851,
     "user": {
      "displayName": "Team Mussels",
      "photoUrl": "",
      "userId": "02846834132225962569"
     },
     "user_tz": 300
    },
    "id": "UyD3Db1xVKYI",
    "outputId": "5ceccb39-9d5b-4aef-b315-22bbdea1a4a6"
   },
   "outputs": [],
   "source": [
    "# Recipe for installing Cartopy: https://github.com/googlecolab/colabtools/issues/85\n",
    "#!apt-get install libproj-dev proj-data proj-bin\n",
    "#!apt-get install libgeos-dev\n",
    "#!pip install cython\n",
    "!pip install cartopy # Maps"
   ]
  },
  {
   "cell_type": "code",
   "execution_count": null,
   "metadata": {},
   "outputs": [],
   "source": [
    "import os\n",
    "import pandas as pd\n",
    "import numpy as np\n",
    "import geopandas as gpd\n",
    "\n",
    "from matplotlib import pyplot as plt"
   ]
  },
  {
   "cell_type": "code",
   "execution_count": null,
   "metadata": {
    "colab": {},
    "colab_type": "code",
    "id": "mqtzgEcTIjKU"
   },
   "outputs": [],
   "source": [
    "import cartopy.io.img_tiles as cimgt"
   ]
  },
  {
   "cell_type": "code",
   "execution_count": null,
   "metadata": {},
   "outputs": [],
   "source": [
    "#import cartopy"
   ]
  },
  {
   "cell_type": "code",
   "execution_count": null,
   "metadata": {},
   "outputs": [],
   "source": []
  },
  {
   "cell_type": "code",
   "execution_count": null,
   "metadata": {},
   "outputs": [],
   "source": [
    "from datetime import datetime"
   ]
  },
  {
   "cell_type": "code",
   "execution_count": null,
   "metadata": {
    "colab": {
     "base_uri": "https://localhost:8080/",
     "height": 129
    },
    "colab_type": "code",
    "executionInfo": {
     "elapsed": 204637,
     "status": "ok",
     "timestamp": 1579026604663,
     "user": {
      "displayName": "Team Mussels",
      "photoUrl": "",
      "userId": "02846834132225962569"
     },
     "user_tz": 300
    },
    "id": "l0cuc6AjMef7",
    "outputId": "32ce74e3-b974-4066-d1aa-1a6644fbf3c3"
   },
   "outputs": [],
   "source": [
    "from google.colab import drive\n",
    "drive.mount('/content/drive', force_remount=True)"
   ]
  },
  {
   "cell_type": "markdown",
   "metadata": {
    "colab_type": "text",
    "id": "FR6kn1_Ia0tM"
   },
   "source": [
    "\n",
    "\n",
    "\n",
    "\n",
    "\n",
    "\n",
    "\n",
    "\n",
    "\n",
    "### Import tables"
   ]
  },
  {
   "cell_type": "code",
   "execution_count": null,
   "metadata": {},
   "outputs": [],
   "source": [
    "import os.path as osp"
   ]
  },
  {
   "cell_type": "code",
   "execution_count": null,
   "metadata": {},
   "outputs": [],
   "source": [
    "DATA_PATH = osp.join(os.environ['DATA_PATH'], 'cciw/Data')"
   ]
  },
  {
   "cell_type": "code",
   "execution_count": null,
   "metadata": {
    "colab": {},
    "colab_type": "code",
    "id": "dVE-9xrvM90-"
   },
   "outputs": [],
   "source": [
    "#DATA_PATH = r'/content/drive/My Drive/Data'\n",
    "analysis_path = os.path.join(DATA_PATH, 'Tables', 'Analysis.csv')\n",
    "dive_path = os.path.join(DATA_PATH, 'Tables', 'Dives.csv')\n",
    "site_path = os.path.join(DATA_PATH, 'Tables', 'Sites.csv')\n",
    "merged_path = os.path.join(DATA_PATH, 'Tables', 'MergedTable.csv')\n",
    "simplified_path = os.path.join(DATA_PATH, 'Tables', 'SimplifiedImagingAnalysis.csv')"
   ]
  },
  {
   "cell_type": "code",
   "execution_count": null,
   "metadata": {
    "colab": {},
    "colab_type": "code",
    "id": "YPa0RvUeO-Wn"
   },
   "outputs": [],
   "source": [
    "analysis_df = pd.read_csv(analysis_path, index_col=0,\n",
    "                          dtype={'Count':float})\n",
    "dive_df = pd.read_csv(dive_path, index_col=0, parse_dates=['Date'])\n",
    "site_df = pd.read_csv(site_path, index_col=0)\n",
    "merged_df = pd.read_csv(merged_path, index_col=0)\n",
    "simplified_df = pd.read_csv(simplified_path, index_col=0)"
   ]
  },
  {
   "cell_type": "markdown",
   "metadata": {
    "colab_type": "text",
    "id": "kup8KyZsaTuQ"
   },
   "source": [
    "### Map diving sites on map"
   ]
  },
  {
   "cell_type": "code",
   "execution_count": null,
   "metadata": {
    "colab": {
     "base_uri": "https://localhost:8080/",
     "height": 455
    },
    "colab_type": "code",
    "executionInfo": {
     "elapsed": 746,
     "status": "ok",
     "timestamp": 1579026615492,
     "user": {
      "displayName": "Team Mussels",
      "photoUrl": "",
      "userId": "02846834132225962569"
     },
     "user_tz": 300
    },
    "id": "LdTlLjdVPenn",
    "outputId": "648c0a96-f36d-4c99-f34f-acc7fda4a809"
   },
   "outputs": [],
   "source": [
    "site_df.set_index('PSN')"
   ]
  },
  {
   "cell_type": "code",
   "execution_count": null,
   "metadata": {},
   "outputs": [],
   "source": [
    "cimgt.Stamen?"
   ]
  },
  {
   "cell_type": "code",
   "execution_count": null,
   "metadata": {
    "colab": {},
    "colab_type": "code",
    "id": "H9JVV6F6Uf_4"
   },
   "outputs": [],
   "source": [
    "stamen_terrain = cimgt.Stamen(style='terrain-background')\n",
    " # Load basemap online"
   ]
  },
  {
   "cell_type": "code",
   "execution_count": null,
   "metadata": {
    "colab": {},
    "colab_type": "code",
    "id": "nliOILDyWTmP"
   },
   "outputs": [],
   "source": [
    "# Convert DataFrame to GeoDataFrame with WGS-1984 (GPS latitude/longitude) coordinate reference system \n",
    "site_gdf = gpd.GeoDataFrame(site_df,\n",
    "                            crs={'init': 'epsg:4326'},\n",
    "                            geometry=gpd.points_from_xy(site_df.Longitude, site_df.Latitude))"
   ]
  },
  {
   "cell_type": "code",
   "execution_count": null,
   "metadata": {
    "colab": {
     "base_uri": "https://localhost:8080/",
     "height": 54
    },
    "colab_type": "code",
    "executionInfo": {
     "elapsed": 566,
     "status": "ok",
     "timestamp": 1579026630209,
     "user": {
      "displayName": "Team Mussels",
      "photoUrl": "",
      "userId": "02846834132225962569"
     },
     "user_tz": 300
    },
    "id": "TzkqjMtIXLdk",
    "outputId": "bcb67998-18d9-430c-a9e3-2cefcd70f097"
   },
   "outputs": [],
   "source": [
    "# Reproject site coordinates to basemap crs\n",
    "site_gdf = site_gdf.to_crs(stamen_terrain.crs.proj4_params)"
   ]
  },
  {
   "cell_type": "code",
   "execution_count": null,
   "metadata": {
    "colab": {
     "base_uri": "https://localhost:8080/",
     "height": 548
    },
    "colab_type": "code",
    "executionInfo": {
     "elapsed": 4106,
     "status": "ok",
     "timestamp": 1579026647850,
     "user": {
      "displayName": "Team Mussels",
      "photoUrl": "",
      "userId": "02846834132225962569"
     },
     "user_tz": 300
    },
    "id": "AP6yDswCSDEf",
    "outputId": "3d2dad65-cf7c-4c39-b408-9664b3162942"
   },
   "outputs": [],
   "source": [
    "# Map sites on basemap\n",
    "#fig = plt.figure(figsize=(15, 15))\n",
    "fig = plt.figure(figsize=(12, 7))\n",
    "ax = plt.axes(projection=stamen_terrain.crs)\n",
    "ax.set_extent([-81.8, -77.2, 42.2, 44.2])\n",
    "ax.add_image(stamen_terrain, 8)\n",
    "#site_gdf.plot(ax=ax, markersize=50, marker='o', facecolor='none', edgecolor='k')\n",
    "site_gdf.plot(ax=ax, markersize=50, facecolor='k')\n",
    "plt.tight_layout()\n",
    "#fig.savefig('dive-sites.eps', format='eps')\n",
    "fig.savefig('dive-sites.jpg', format='jpg')"
   ]
  },
  {
   "cell_type": "code",
   "execution_count": null,
   "metadata": {},
   "outputs": [],
   "source": [
    "#site_gdf.plot?"
   ]
  },
  {
   "cell_type": "markdown",
   "metadata": {
    "colab_type": "text",
    "id": "JeWq8rUZbDdM"
   },
   "source": [
    "### Dive table exploration"
   ]
  },
  {
   "cell_type": "code",
   "execution_count": null,
   "metadata": {
    "colab": {
     "base_uri": "https://localhost:8080/",
     "height": 490
    },
    "colab_type": "code",
    "executionInfo": {
     "elapsed": 674,
     "status": "ok",
     "timestamp": 1579026685123,
     "user": {
      "displayName": "Team Mussels",
      "photoUrl": "",
      "userId": "02846834132225962569"
     },
     "user_tz": 300
    },
    "id": "UJNa6zQLbJIA",
    "outputId": "3688d4d5-09ed-4496-c7d3-3afe6c57264a"
   },
   "outputs": [],
   "source": [
    "dive_df"
   ]
  },
  {
   "cell_type": "code",
   "execution_count": null,
   "metadata": {
    "colab": {
     "base_uri": "https://localhost:8080/",
     "height": 148
    },
    "colab_type": "code",
    "executionInfo": {
     "elapsed": 121089,
     "status": "ok",
     "timestamp": 1574784232635,
     "user": {
      "displayName": "Team Mussels",
      "photoUrl": "",
      "userId": "02846834132225962569"
     },
     "user_tz": 300
    },
    "id": "9xqxnRFlbLZA",
    "outputId": "d9c8b53d-ecb3-4017-e275-75610301d258"
   },
   "outputs": [],
   "source": [
    "# All boat cruise campaigns\n",
    "all_cruises = dive_df['Cruise #'].unique()\n",
    "all_cruises"
   ]
  },
  {
   "cell_type": "code",
   "execution_count": null,
   "metadata": {
    "colab": {
     "base_uri": "https://localhost:8080/",
     "height": 36
    },
    "colab_type": "code",
    "executionInfo": {
     "elapsed": 121068,
     "status": "ok",
     "timestamp": 1574784232642,
     "user": {
      "displayName": "Team Mussels",
      "photoUrl": "",
      "userId": "02846834132225962569"
     },
     "user_tz": 300
    },
    "id": "qAb5QjlybjG4",
    "outputId": "3cf0c0d1-d0fd-4bfd-ee0e-e793f0338334"
   },
   "outputs": [],
   "source": [
    "print(f\"Total number of boat cruises: {len(all_cruises)}\")"
   ]
  },
  {
   "cell_type": "code",
   "execution_count": null,
   "metadata": {
    "colab": {
     "base_uri": "https://localhost:8080/",
     "height": 260
    },
    "colab_type": "code",
    "executionInfo": {
     "elapsed": 121053,
     "status": "ok",
     "timestamp": 1574784232653,
     "user": {
      "displayName": "Team Mussels",
      "photoUrl": "",
      "userId": "02846834132225962569"
     },
     "user_tz": 300
    },
    "id": "s0NUtu5tiXha",
    "outputId": "a1b8849a-be9a-46dc-985c-81b2911f0e78"
   },
   "outputs": [],
   "source": [
    "# Count number of dives for each day\n",
    "dive_df_by_date = dive_df.groupby(by='Date')['PSN'].count()\n",
    "dive_df_by_date"
   ]
  },
  {
   "cell_type": "code",
   "execution_count": null,
   "metadata": {
    "colab": {
     "base_uri": "https://localhost:8080/",
     "height": 36
    },
    "colab_type": "code",
    "executionInfo": {
     "elapsed": 121019,
     "status": "ok",
     "timestamp": 1574784232658,
     "user": {
      "displayName": "Team Mussels",
      "photoUrl": "",
      "userId": "02846834132225962569"
     },
     "user_tz": 300
    },
    "id": "xIGFv7eZcjit",
    "outputId": "8fb64dcd-c217-4d70-bede-b7e79eda3e31"
   },
   "outputs": [],
   "source": [
    "print(f\"Total number of days of diving: {len(dive_df_by_date)}\")"
   ]
  },
  {
   "cell_type": "code",
   "execution_count": null,
   "metadata": {
    "colab": {
     "base_uri": "https://localhost:8080/",
     "height": 36
    },
    "colab_type": "code",
    "executionInfo": {
     "elapsed": 120977,
     "status": "ok",
     "timestamp": 1574784232661,
     "user": {
      "displayName": "Team Mussels",
      "photoUrl": "",
      "userId": "02846834132225962569"
     },
     "user_tz": 300
    },
    "id": "bKK0HIHfcsZi",
    "outputId": "af2d6722-0eac-4a83-c642-7667447ee0dc"
   },
   "outputs": [],
   "source": [
    "print(f\"Date range for diving: {dive_df_by_date.index.min().strftime('%Y-%b-%d')} \\\n",
    "to {dive_df_by_date.index.max().strftime('%Y-%b-%d')}\")"
   ]
  },
  {
   "cell_type": "code",
   "execution_count": null,
   "metadata": {
    "colab": {
     "base_uri": "https://localhost:8080/",
     "height": 284
    },
    "colab_type": "code",
    "executionInfo": {
     "elapsed": 120951,
     "status": "ok",
     "timestamp": 1574784232664,
     "user": {
      "displayName": "Team Mussels",
      "photoUrl": "",
      "userId": "02846834132225962569"
     },
     "user_tz": 300
    },
    "id": "1Pr-wFXfjDsH",
    "outputId": "5e7be51f-fdb1-494f-ff7a-8801fd5e7132"
   },
   "outputs": [],
   "source": [
    "# Frequency for number of dives per day\n",
    "dive_df_by_date.hist(bins=[0.5,1.5,2.5,3.5,4.5,5.5,6.5,7.5,8.5,9.5,10.5])"
   ]
  },
  {
   "cell_type": "code",
   "execution_count": null,
   "metadata": {
    "colab": {
     "base_uri": "https://localhost:8080/",
     "height": 447
    },
    "colab_type": "code",
    "executionInfo": {
     "elapsed": 120926,
     "status": "ok",
     "timestamp": 1574784232667,
     "user": {
      "displayName": "Team Mussels",
      "photoUrl": "",
      "userId": "02846834132225962569"
     },
     "user_tz": 300
    },
    "id": "MyTbqb1WkzHZ",
    "outputId": "b1e76f41-28e4-4320-8d82-b5bd0ff3bcc6"
   },
   "outputs": [],
   "source": [
    "# Number of dives for each year-month\n",
    "dive_df['Year-Month'] = dive_df['Date'].dt.strftime('%Y-%m')\n",
    "dive_df_by_year_month = dive_df.groupby(by='Year-Month').count()['PSN']\n",
    "dive_df_by_year_month.index = [datetime.strptime(year_month, '%Y-%m') for year_month in dive_df_by_year_month.index]\n",
    "dive_df_by_year_month"
   ]
  },
  {
   "cell_type": "code",
   "execution_count": null,
   "metadata": {
    "colab": {},
    "colab_type": "code",
    "id": "KfZd7cquplpc"
   },
   "outputs": [],
   "source": [
    "def line_format(label): # https://stackoverflow.com/questions/30133280/pandas-bar-plot-changes-date-format\n",
    "    \"\"\"\n",
    "    Convert time label to the format of pandas line plot\n",
    "    \"\"\"\n",
    "    month = label.month_name()[:3]\n",
    "    if month == 'Jul':\n",
    "        month += f'\\n{label.year}'\n",
    "    elif month in ['Apr','May','Jun']:\n",
    "        month += f'\\n>'\n",
    "    elif month in ['Aug','Sep','Oct']:\n",
    "        month += f'\\n<'\n",
    "    return month"
   ]
  },
  {
   "cell_type": "code",
   "execution_count": null,
   "metadata": {
    "colab": {
     "base_uri": "https://localhost:8080/",
     "height": 905
    },
    "colab_type": "code",
    "executionInfo": {
     "elapsed": 124660,
     "status": "ok",
     "timestamp": 1574784236440,
     "user": {
      "displayName": "Team Mussels",
      "photoUrl": "",
      "userId": "02846834132225962569"
     },
     "user_tz": 300
    },
    "id": "hW0-LIG5nmLt",
    "outputId": "a52014c8-dc2e-4daa-e384-fb6a01304598"
   },
   "outputs": [],
   "source": [
    "# Note that we specify rot here\n",
    "ax = dive_df_by_year_month.plot(kind='bar', figsize=(12, 8), color='#2ecc71', rot=0)\n",
    "ax.set_xticklabels(map(lambda x: line_format(x), dive_df_by_year_month.index))"
   ]
  },
  {
   "cell_type": "code",
   "execution_count": null,
   "metadata": {
    "colab": {
     "base_uri": "https://localhost:8080/",
     "height": 185
    },
    "colab_type": "code",
    "executionInfo": {
     "elapsed": 124639,
     "status": "ok",
     "timestamp": 1574784236453,
     "user": {
      "displayName": "Team Mussels",
      "photoUrl": "",
      "userId": "02846834132225962569"
     },
     "user_tz": 300
    },
    "id": "jXiUj4fvpsio",
    "outputId": "e45d8362-2aa7-4e95-8755-2de10cfc6cd9"
   },
   "outputs": [],
   "source": [
    "# Number of dives for each year\n",
    "dive_df['Year'] = dive_df['Date'].dt.year\n",
    "dive_df_by_year = dive_df.groupby(by='Year').count()['PSN']\n",
    "#dive_df_by_year.index = [datetime.strptime(year, '%Y-%m') for year_month in dive_df_by_year_month.index]\n",
    "dive_df_by_year"
   ]
  },
  {
   "cell_type": "code",
   "execution_count": null,
   "metadata": {
    "colab": {
     "base_uri": "https://localhost:8080/",
     "height": 53
    },
    "colab_type": "code",
    "executionInfo": {
     "elapsed": 124616,
     "status": "ok",
     "timestamp": 1574784236456,
     "user": {
      "displayName": "Team Mussels",
      "photoUrl": "",
      "userId": "02846834132225962569"
     },
     "user_tz": 300
    },
    "id": "W4WKtBCkqD84",
    "outputId": "cc991cdc-3469-41a2-e38d-d579bbe6e08f"
   },
   "outputs": [],
   "source": [
    "dive_df_by_year.plot.bar()"
   ]
  },
  {
   "cell_type": "code",
   "execution_count": null,
   "metadata": {
    "colab": {
     "base_uri": "https://localhost:8080/",
     "height": 53
    },
    "colab_type": "code",
    "executionInfo": {
     "elapsed": 124597,
     "status": "ok",
     "timestamp": 1574784236461,
     "user": {
      "displayName": "Team Mussels",
      "photoUrl": "",
      "userId": "02846834132225962569"
     },
     "user_tz": 300
    },
    "id": "Emq8qiL4qk5N",
    "outputId": "0cffc949-0419-4d2b-e49d-b7d596989f9d"
   },
   "outputs": [],
   "source": [
    "# Depth in meters of the lake bed at the diving site\n",
    "dive_df['Depth (m)'].hist()"
   ]
  },
  {
   "cell_type": "code",
   "execution_count": null,
   "metadata": {
    "colab": {
     "base_uri": "https://localhost:8080/",
     "height": 53
    },
    "colab_type": "code",
    "executionInfo": {
     "elapsed": 124580,
     "status": "ok",
     "timestamp": 1574784236465,
     "user": {
      "displayName": "Team Mussels",
      "photoUrl": "",
      "userId": "02846834132225962569"
     },
     "user_tz": 300
    },
    "id": "40kUdIO-qvkM",
    "outputId": "7e8e76d6-e1bf-40f8-fc52-26024ed3171d"
   },
   "outputs": [],
   "source": [
    "# Overall percentage mussels coverage for the whole extent of the diving site (as estimated visually by diver)\n",
    "dive_df['Overall Coverage'].hist()\n",
    "# Note: this should not be used to estimate percentage coverage within a quadrat"
   ]
  },
  {
   "cell_type": "code",
   "execution_count": null,
   "metadata": {
    "colab": {
     "base_uri": "https://localhost:8080/",
     "height": 490
    },
    "colab_type": "code",
    "executionInfo": {
     "elapsed": 124553,
     "status": "ok",
     "timestamp": 1574784236469,
     "user": {
      "displayName": "Team Mussels",
      "photoUrl": "",
      "userId": "02846834132225962569"
     },
     "user_tz": 300
    },
    "id": "08CfNE7jrVR8",
    "outputId": "0f038517-3363-4915-d28f-6f947dbbe3a4"
   },
   "outputs": [],
   "source": [
    "# Estimated substrate proportion of the lake bed\n",
    "dive_substrate_df = dive_df[['Silt (%)', 'Clay (%)', 'Sand (%)', 'Gravel (%)', \n",
    "                             'Cobble (%)', 'Rock (%)', 'Bedrock (%)', \n",
    "                             'Boulders (%)', 'Shale (%)']]\n",
    "dive_substrate_df"
   ]
  },
  {
   "cell_type": "code",
   "execution_count": null,
   "metadata": {
    "colab": {
     "base_uri": "https://localhost:8080/",
     "height": 261
    },
    "colab_type": "code",
    "executionInfo": {
     "elapsed": 125785,
     "status": "ok",
     "timestamp": 1574784237728,
     "user": {
      "displayName": "Team Mussels",
      "photoUrl": "",
      "userId": "02846834132225962569"
     },
     "user_tz": 300
    },
    "id": "7O4gejM5r8oY",
    "outputId": "72b84b41-672e-4d5b-e48f-6fdb69dc23fa"
   },
   "outputs": [],
   "source": [
    "fig = plt.figure(figsize=(15,15))\n",
    "ax = fig.gca()\n",
    "dive_substrate_df.hist(ax=ax)"
   ]
  },
  {
   "cell_type": "code",
   "execution_count": null,
   "metadata": {
    "colab": {
     "base_uri": "https://localhost:8080/",
     "height": 17
    },
    "colab_type": "code",
    "executionInfo": {
     "elapsed": 125758,
     "status": "ok",
     "timestamp": 1574784237733,
     "user": {
      "displayName": "Team Mussels",
      "photoUrl": "",
      "userId": "02846834132225962569"
     },
     "user_tz": 300
    },
    "id": "BDAGi02cserd",
    "outputId": "e1e3f7c0-83f0-484e-dc76-52f0adc274f3"
   },
   "outputs": [],
   "source": [
    "dive_df['Underlying Substrate Type'].unique()"
   ]
  },
  {
   "cell_type": "code",
   "execution_count": null,
   "metadata": {
    "colab": {
     "base_uri": "https://localhost:8080/",
     "height": 17
    },
    "colab_type": "code",
    "executionInfo": {
     "elapsed": 125749,
     "status": "ok",
     "timestamp": 1574784237743,
     "user": {
      "displayName": "Team Mussels",
      "photoUrl": "",
      "userId": "02846834132225962569"
     },
     "user_tz": 300
    },
    "id": "W4tR2clKsq7B",
    "outputId": "e222789d-5ad1-429f-8331-e61906d756ae"
   },
   "outputs": [],
   "source": [
    "dive_df['Underlying Substrate Depth (cm)'].unique()"
   ]
  },
  {
   "cell_type": "markdown",
   "metadata": {
    "colab_type": "text",
    "id": "U13-z8G0tLu8"
   },
   "source": [
    "### Analysis Table Exploration"
   ]
  },
  {
   "cell_type": "code",
   "execution_count": null,
   "metadata": {
    "colab": {
     "base_uri": "https://localhost:8080/",
     "height": 17
    },
    "colab_type": "code",
    "executionInfo": {
     "elapsed": 125733,
     "status": "ok",
     "timestamp": 1574784237749,
     "user": {
      "displayName": "Team Mussels",
      "photoUrl": "",
      "userId": "02846834132225962569"
     },
     "user_tz": 300
    },
    "id": "6ZWBDtUbtKhd",
    "outputId": "eceb4226-0e40-48a9-eb2b-b2189b5dcd18"
   },
   "outputs": [],
   "source": [
    "analysis_df = analysis_df.set_index('Analysis Index')\n",
    "analysis_df"
   ]
  },
  {
   "cell_type": "code",
   "execution_count": null,
   "metadata": {
    "colab": {
     "base_uri": "https://localhost:8080/",
     "height": 17
    },
    "colab_type": "code",
    "executionInfo": {
     "elapsed": 125716,
     "status": "ok",
     "timestamp": 1574784237754,
     "user": {
      "displayName": "Team Mussels",
      "photoUrl": "",
      "userId": "02846834132225962569"
     },
     "user_tz": 300
    },
    "id": "fGAvFa5Itx-a",
    "outputId": "e92a8e9a-663e-451c-e483-95a59a29a173"
   },
   "outputs": [],
   "source": [
    "analysis_df[['Live Coverage', 'Empty Coverage']].hist(figsize=(12,4))"
   ]
  },
  {
   "cell_type": "code",
   "execution_count": null,
   "metadata": {
    "colab": {
     "base_uri": "https://localhost:8080/",
     "height": 17
    },
    "colab_type": "code",
    "executionInfo": {
     "elapsed": 125690,
     "status": "ok",
     "timestamp": 1574784237756,
     "user": {
      "displayName": "Team Mussels",
      "photoUrl": "",
      "userId": "02846834132225962569"
     },
     "user_tz": 300
    },
    "id": "osDRLXPJuJSC",
    "outputId": "78fc4ffd-f2b5-4bde-84b0-da2d8cbf6ea5"
   },
   "outputs": [],
   "source": [
    "# Frequency of mussels count within a quadrat\n",
    "plt.hist(analysis_df['Count'].values, bins=[0]+list(np.logspace(np.log10(1),np.log10(10000), 20)))\n",
    "plt.gca().set_xscale(\"log\")\n",
    "plt.xlabel('Count (#)')"
   ]
  },
  {
   "cell_type": "code",
   "execution_count": null,
   "metadata": {
    "colab": {
     "base_uri": "https://localhost:8080/",
     "height": 17
    },
    "colab_type": "code",
    "executionInfo": {
     "elapsed": 125647,
     "status": "ok",
     "timestamp": 1574784237760,
     "user": {
      "displayName": "Team Mussels",
      "photoUrl": "",
      "userId": "02846834132225962569"
     },
     "user_tz": 300
    },
    "id": "LUFOtY5Z2B_w",
    "outputId": "4349983f-8bcd-4989-f1ca-8ef4ef923bcd"
   },
   "outputs": [],
   "source": [
    "# Frequency of mussels biomass in grams within a quadrat\n",
    "plt.hist(analysis_df['Biomass'].values, bins=[0]+list(np.logspace(np.log10(1),np.log10(10000), 20)))\n",
    "plt.gca().set_xscale(\"log\")\n",
    "plt.xlabel('Biomass (g)')"
   ]
  },
  {
   "cell_type": "code",
   "execution_count": null,
   "metadata": {
    "colab": {
     "base_uri": "https://localhost:8080/",
     "height": 17
    },
    "colab_type": "code",
    "executionInfo": {
     "elapsed": 125629,
     "status": "ok",
     "timestamp": 1574784237764,
     "user": {
      "displayName": "Team Mussels",
      "photoUrl": "",
      "userId": "02846834132225962569"
     },
     "user_tz": 300
    },
    "id": "0mwLftDu2hKx",
    "outputId": "46d48e15-00c8-4976-f53d-7bfcc269f809"
   },
   "outputs": [],
   "source": [
    "analysis_df[['16mm', '14mm', '12.5mm', '10mm', '8mm', '6.3mm', '4mm', '2mm']].hist(figsize=(15,15))"
   ]
  },
  {
   "cell_type": "markdown",
   "metadata": {
    "colab_type": "text",
    "id": "HQjRdJVm4D1j"
   },
   "source": [
    "### Count number of rows for each analysis type"
   ]
  },
  {
   "cell_type": "code",
   "execution_count": null,
   "metadata": {
    "colab": {
     "base_uri": "https://localhost:8080/",
     "height": 17
    },
    "colab_type": "code",
    "executionInfo": {
     "elapsed": 125612,
     "status": "ok",
     "timestamp": 1574784237767,
     "user": {
      "displayName": "Team Mussels",
      "photoUrl": "",
      "userId": "02846834132225962569"
     },
     "user_tz": 300
    },
    "id": "agB3tF6I6ngi",
    "outputId": "e73678c9-8902-46c2-e604-7e8c3c1f5886"
   },
   "outputs": [],
   "source": [
    "n_alive = len(analysis_df['Live Coverage'].dropna())\n",
    "print(f\"Number of % live coverage data: {n_alive}\")\n",
    "\n",
    "n_empty = len(analysis_df['Empty Coverage'].dropna())\n",
    "print(f\"Number of % empty coverage data: {n_empty}\")\n",
    "\n",
    "n_biomass = len(analysis_df['Biomass'].dropna())\n",
    "print(f\"Number of biomass data: {n_biomass}\")\n",
    "\n",
    "n_count = len(analysis_df['Count'].dropna())\n",
    "print(f\"Number of count data: {n_count}\")\n",
    "\n",
    "n_bysize = len(analysis_df['10mm'].dropna())\n",
    "print(f\"Number of sorted mussels size data: {n_bysize}\")"
   ]
  },
  {
   "cell_type": "code",
   "execution_count": null,
   "metadata": {
    "colab": {
     "base_uri": "https://localhost:8080/",
     "height": 17
    },
    "colab_type": "code",
    "executionInfo": {
     "elapsed": 125593,
     "status": "ok",
     "timestamp": 1574784237771,
     "user": {
      "displayName": "Team Mussels",
      "photoUrl": "",
      "userId": "02846834132225962569"
     },
     "user_tz": 300
    },
    "id": "qXPpo4LT6MLt",
    "outputId": "484a9440-3288-467d-964f-0ae920245761"
   },
   "outputs": [],
   "source": [
    "merged_df.columns"
   ]
  },
  {
   "cell_type": "code",
   "execution_count": null,
   "metadata": {
    "colab": {
     "base_uri": "https://localhost:8080/",
     "height": 17
    },
    "colab_type": "code",
    "executionInfo": {
     "elapsed": 125577,
     "status": "ok",
     "timestamp": 1574784237775,
     "user": {
      "displayName": "Team Mussels",
      "photoUrl": "",
      "userId": "02846834132225962569"
     },
     "user_tz": 300
    },
    "id": "kCt9eWYU7GxC",
    "outputId": "2e9b5a63-ad90-436f-ec36-c2e65ce4bf80"
   },
   "outputs": [],
   "source": [
    "n_alive = len(merged_df['Live Coverage'].dropna())\n",
    "print(f\"Number of % live coverage data associated with image/video/still: {n_alive}\")\n",
    "\n",
    "n_empty = len(merged_df['Empty Coverage'].dropna())\n",
    "print(f\"Number of % empty coverage data associated with image/video/still: {n_empty}\")\n",
    "\n",
    "n_biomass = len(merged_df['Biomass'].dropna())\n",
    "print(f\"Number of biomass data associated with image/video/still: {n_biomass}\")\n",
    "\n",
    "n_count = len(merged_df['Count'].dropna())\n",
    "print(f\"Number of count data associated with image/video/still: {n_count}\")\n",
    "\n",
    "n_bysize = len(merged_df['10mm'].dropna())\n",
    "print(f\"Number of sorted mussels size data associated with image/video/still: {n_bysize}\")"
   ]
  },
  {
   "cell_type": "code",
   "execution_count": null,
   "metadata": {
    "colab": {
     "base_uri": "https://localhost:8080/",
     "height": 17
    },
    "colab_type": "code",
    "executionInfo": {
     "elapsed": 125560,
     "status": "ok",
     "timestamp": 1574784237779,
     "user": {
      "displayName": "Team Mussels",
      "photoUrl": "",
      "userId": "02846834132225962569"
     },
     "user_tz": 300
    },
    "id": "xDlGVNrJ4apM",
    "outputId": "398d5417-09db-4190-d402-4665849f81cb"
   },
   "outputs": [],
   "source": [
    "simplified_df.columns"
   ]
  },
  {
   "cell_type": "code",
   "execution_count": null,
   "metadata": {
    "colab": {
     "base_uri": "https://localhost:8080/",
     "height": 17
    },
    "colab_type": "code",
    "executionInfo": {
     "elapsed": 125540,
     "status": "ok",
     "timestamp": 1574784237781,
     "user": {
      "displayName": "Team Mussels",
      "photoUrl": "",
      "userId": "02846834132225962569"
     },
     "user_tz": 300
    },
    "id": "nMbNihIS4IG-",
    "outputId": "917f0ce1-ad40-4f4d-a4df-83fa444b8103"
   },
   "outputs": [],
   "source": [
    "n_alive = len(simplified_df['Live Coverage'].dropna())\n",
    "print(f\"Number of % live coverage data with at least one image: {n_alive}\")\n",
    "\n",
    "n_empty = len(simplified_df['Empty Coverage'].dropna())\n",
    "print(f\"Number of % empty coverage data with at least one image: {n_empty}\")\n",
    "\n",
    "n_biomass = len(simplified_df['Biomass'].dropna())\n",
    "print(f\"Number of biomass data with at least one image: {n_biomass}\")\n",
    "\n",
    "n_count = len(simplified_df['Count'].dropna())\n",
    "print(f\"Number of count data with at least one image: {n_count}\")\n",
    "\n",
    "n_bysize = len(simplified_df['10mm'].dropna())\n",
    "print(f\"Number of sorted mussels size data with at least one image: {n_bysize}\")"
   ]
  },
  {
   "cell_type": "code",
   "execution_count": null,
   "metadata": {
    "colab": {},
    "colab_type": "code",
    "id": "C8AqB1NoIm0c"
   },
   "outputs": [],
   "source": []
  }
 ],
 "metadata": {
  "colab": {
   "collapsed_sections": [],
   "name": "TableDataExploration",
   "provenance": []
  },
  "kernelspec": {
   "display_name": "Python 3",
   "language": "python",
   "name": "python3"
  },
  "language_info": {
   "codemirror_mode": {
    "name": "ipython",
    "version": 3
   },
   "file_extension": ".py",
   "mimetype": "text/x-python",
   "name": "python",
   "nbconvert_exporter": "python",
   "pygments_lexer": "ipython3",
   "version": "3.6.7"
  }
 },
 "nbformat": 4,
 "nbformat_minor": 1
}
