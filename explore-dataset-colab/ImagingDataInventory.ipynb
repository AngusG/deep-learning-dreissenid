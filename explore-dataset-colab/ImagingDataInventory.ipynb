{
 "cells": [
  {
   "cell_type": "code",
   "execution_count": null,
   "metadata": {
    "colab": {},
    "colab_type": "code",
    "id": "CeZFdBILVjyM"
   },
   "outputs": [],
   "source": [
    "import os\n",
    "from glob import glob\n",
    "import pandas as pd"
   ]
  },
  {
   "cell_type": "code",
   "execution_count": null,
   "metadata": {
    "colab": {
     "base_uri": "https://localhost:8080/",
     "height": 127
    },
    "colab_type": "code",
    "executionInfo": {
     "elapsed": 26750,
     "status": "ok",
     "timestamp": 1579017268779,
     "user": {
      "displayName": "Angus Galloway Galloway",
      "photoUrl": "",
      "userId": "17798411225747068091"
     },
     "user_tz": 300
    },
    "id": "KcQrCriWVqTr",
    "outputId": "90dc339e-2a25-47a9-f810-48d3adbd5fe9"
   },
   "outputs": [],
   "source": [
    "#from google.colab import drive\n",
    "#drive.mount('/content/drive')\n",
    "#DATA_PATH = r'/content/drive/My Drive/Data'"
   ]
  },
  {
   "cell_type": "code",
   "execution_count": null,
   "metadata": {
    "colab": {},
    "colab_type": "code",
    "id": "LQ1SZVU5ZIQy"
   },
   "outputs": [],
   "source": [
    "DATA_PATH = r'/scratch/gallowaa/cciw/Data'"
   ]
  },
  {
   "cell_type": "markdown",
   "metadata": {
    "colab_type": "text",
    "id": "yFxvHpLudMWr"
   },
   "source": [
    "### Videos"
   ]
  },
  {
   "cell_type": "code",
   "execution_count": null,
   "metadata": {},
   "outputs": [],
   "source": [
    "# search for a specific video\n",
    "file = 'GLNI_12-1_2016-07-11_video-1.mp4'"
   ]
  },
  {
   "cell_type": "code",
   "execution_count": null,
   "metadata": {
    "colab": {},
    "colab_type": "code",
    "id": "hXX6GWeMWcpQ"
   },
   "outputs": [],
   "source": [
    "# Search for all video files on Google Drive...\n",
    "all_videos = glob(os.path.join(DATA_PATH, 'Videos_and_stills/GLNI/*/*/*/Videos/Quad*/*.mp4'))"
   ]
  },
  {
   "cell_type": "code",
   "execution_count": null,
   "metadata": {
    "colab": {
     "base_uri": "https://localhost:8080/",
     "height": 35
    },
    "colab_type": "code",
    "executionInfo": {
     "elapsed": 716,
     "status": "ok",
     "timestamp": 1579017686982,
     "user": {
      "displayName": "Angus Galloway Galloway",
      "photoUrl": "",
      "userId": "17798411225747068091"
     },
     "user_tz": 300
    },
    "id": "2Rl-PI0qd8vU",
    "outputId": "3cd68dbf-6b9f-4332-a73d-bedb669f3e98"
   },
   "outputs": [],
   "source": [
    "len(all_videos)"
   ]
  },
  {
   "cell_type": "code",
   "execution_count": null,
   "metadata": {
    "colab": {},
    "colab_type": "code",
    "id": "I4Om2oKIeONX"
   },
   "outputs": [],
   "source": [
    "actual_video = set([os.path.basename(path) for path in all_videos])"
   ]
  },
  {
   "cell_type": "code",
   "execution_count": null,
   "metadata": {
    "colab": {},
    "colab_type": "code",
    "id": "hZZsTTDjdLN2"
   },
   "outputs": [],
   "source": [
    "videotable_path = os.path.join(DATA_PATH, 'Tables', 'QuadratVideos.csv')\n",
    "video_df = pd.read_csv(videotable_path, index_col=0)"
   ]
  },
  {
   "cell_type": "code",
   "execution_count": null,
   "metadata": {
    "colab": {
     "base_uri": "https://localhost:8080/",
     "height": 419
    },
    "colab_type": "code",
    "executionInfo": {
     "elapsed": 369,
     "status": "ok",
     "timestamp": 1579019432987,
     "user": {
      "displayName": "Angus Galloway Galloway",
      "photoUrl": "",
      "userId": "17798411225747068091"
     },
     "user_tz": 300
    },
    "id": "U8sfTyA-5GBE",
    "outputId": "c79712f0-9f79-4c41-9571-785914a6b677"
   },
   "outputs": [],
   "source": [
    "video_df[video_df['Name'] == file]['Quadrat Video Path'].values[0]"
   ]
  },
  {
   "cell_type": "code",
   "execution_count": null,
   "metadata": {},
   "outputs": [],
   "source": [
    "idx"
   ]
  },
  {
   "cell_type": "code",
   "execution_count": null,
   "metadata": {},
   "outputs": [],
   "source": [
    "#actual_video"
   ]
  },
  {
   "cell_type": "code",
   "execution_count": null,
   "metadata": {},
   "outputs": [],
   "source": [
    "#video_df.loc['Name']"
   ]
  },
  {
   "cell_type": "code",
   "execution_count": null,
   "metadata": {},
   "outputs": [],
   "source": [
    "video_df.iloc[video_df[video_df['Name'] == file].index]['Quadrat Video Path']"
   ]
  },
  {
   "cell_type": "code",
   "execution_count": null,
   "metadata": {},
   "outputs": [],
   "source": []
  },
  {
   "cell_type": "code",
   "execution_count": null,
   "metadata": {
    "colab": {
     "base_uri": "https://localhost:8080/",
     "height": 35
    },
    "colab_type": "code",
    "executionInfo": {
     "elapsed": 510,
     "status": "ok",
     "timestamp": 1579019415715,
     "user": {
      "displayName": "Angus Galloway Galloway",
      "photoUrl": "",
      "userId": "17798411225747068091"
     },
     "user_tz": 300
    },
    "id": "RC5WfWFLdpKa",
    "outputId": "eeff3b99-fa48-4aa9-ecbd-47c01450a0a7"
   },
   "outputs": [],
   "source": [
    "table_video = set(video_df['Name'].values)\n",
    "len(table_video) "
   ]
  },
  {
   "cell_type": "code",
   "execution_count": null,
   "metadata": {
    "colab": {
     "base_uri": "https://localhost:8080/",
     "height": 36
    },
    "colab_type": "code",
    "executionInfo": {
     "elapsed": 409826,
     "status": "ok",
     "timestamp": 1574784124092,
     "user": {
      "displayName": "Team Mussels",
      "photoUrl": "",
      "userId": "02846834132225962569"
     },
     "user_tz": 300
    },
    "id": "24mObReceCed",
    "outputId": "1ed4c6d8-8e20-4b6d-92f6-e31b1e9a9133"
   },
   "outputs": [],
   "source": [
    "len(actual_video.difference(table_video))"
   ]
  },
  {
   "cell_type": "code",
   "execution_count": null,
   "metadata": {
    "colab": {
     "base_uri": "https://localhost:8080/",
     "height": 36
    },
    "colab_type": "code",
    "executionInfo": {
     "elapsed": 409779,
     "status": "ok",
     "timestamp": 1574784124098,
     "user": {
      "displayName": "Team Mussels",
      "photoUrl": "",
      "userId": "02846834132225962569"
     },
     "user_tz": 300
    },
    "id": "XAnMUhYDeYwL",
    "outputId": "e51ff41b-35e7-4fe3-e204-76c7d06aa5f0"
   },
   "outputs": [],
   "source": [
    "len(table_video.difference(actual_video))"
   ]
  },
  {
   "cell_type": "code",
   "execution_count": null,
   "metadata": {
    "colab": {},
    "colab_type": "code",
    "id": "7Uh-MtHjevcM"
   },
   "outputs": [],
   "source": [
    "video_difference = table_video.difference(actual_video)"
   ]
  },
  {
   "cell_type": "code",
   "execution_count": null,
   "metadata": {
    "colab": {
     "base_uri": "https://localhost:8080/",
     "height": 36
    },
    "colab_type": "code",
    "executionInfo": {
     "elapsed": 409694,
     "status": "ok",
     "timestamp": 1574784124108,
     "user": {
      "displayName": "Team Mussels",
      "photoUrl": "",
      "userId": "02846834132225962569"
     },
     "user_tz": 300
    },
    "id": "KFQM02B3Fusy",
    "outputId": "a05621b9-06c3-4a5f-8483-e1a20c06fbea"
   },
   "outputs": [],
   "source": [
    "video_difference"
   ]
  },
  {
   "cell_type": "markdown",
   "metadata": {
    "colab_type": "text",
    "id": "Xjq83-fgdPSN"
   },
   "source": [
    "### Images"
   ]
  },
  {
   "cell_type": "code",
   "execution_count": null,
   "metadata": {
    "colab": {},
    "colab_type": "code",
    "id": "t_g1CG_9V2oO"
   },
   "outputs": [],
   "source": [
    "# Search for all video files on Google Drive...\n",
    "all_images = glob(os.path.join(DATA_PATH,'Videos_and_stills/GLNI/*/*/*/Images/Quad*/*.jpg'))"
   ]
  },
  {
   "cell_type": "code",
   "execution_count": null,
   "metadata": {
    "colab": {
     "base_uri": "https://localhost:8080/",
     "height": 35
    },
    "colab_type": "code",
    "executionInfo": {
     "elapsed": 151120,
     "status": "ok",
     "timestamp": 1576873863642,
     "user": {
      "displayName": "Angus Galloway Galloway",
      "photoUrl": "",
      "userId": "17798411225747068091"
     },
     "user_tz": 240
    },
    "id": "GF3qZWf8Wh-8",
    "outputId": "e703920d-50f4-4aaf-9072-9523b205fcc2"
   },
   "outputs": [],
   "source": [
    "len(all_images)"
   ]
  },
  {
   "cell_type": "code",
   "execution_count": null,
   "metadata": {
    "colab": {},
    "colab_type": "code",
    "id": "sWVk8V6oWmPg"
   },
   "outputs": [],
   "source": [
    "imagetable_path = os.path.join(DATA_PATH, 'Tables', 'ImageTable.csv')\n",
    "image_df = pd.read_csv(imagetable_path, index_col=0)"
   ]
  },
  {
   "cell_type": "code",
   "execution_count": null,
   "metadata": {
    "colab": {
     "base_uri": "https://localhost:8080/",
     "height": 415
    },
    "colab_type": "code",
    "executionInfo": {
     "elapsed": 1028,
     "status": "ok",
     "timestamp": 1576873994828,
     "user": {
      "displayName": "Angus Galloway Galloway",
      "photoUrl": "",
      "userId": "17798411225747068091"
     },
     "user_tz": 240
    },
    "id": "xaF3ZbfGZDOn",
    "outputId": "e8a18bc4-b51b-4bee-a16b-c68152541bf9"
   },
   "outputs": [],
   "source": [
    "image_df"
   ]
  },
  {
   "cell_type": "code",
   "execution_count": null,
   "metadata": {
    "colab": {
     "base_uri": "https://localhost:8080/",
     "height": 35
    },
    "colab_type": "code",
    "executionInfo": {
     "elapsed": 874,
     "status": "ok",
     "timestamp": 1576874215722,
     "user": {
      "displayName": "Angus Galloway Galloway",
      "photoUrl": "",
      "userId": "17798411225747068091"
     },
     "user_tz": 240
    },
    "id": "HQTewKMpZfmL",
    "outputId": "2189b108-2417-45bf-b1cf-f62dab22f13c"
   },
   "outputs": [],
   "source": [
    "image_df_table = image_df['Name'].apply(lambda x:x.replace('.nef','.jpg'))\n",
    "image_df_table.name = 'Name'\n",
    "image_df_table"
   ]
  },
  {
   "cell_type": "code",
   "execution_count": null,
   "metadata": {
    "colab": {},
    "colab_type": "code",
    "id": "dwLwaofTZkfs"
   },
   "outputs": [],
   "source": [
    "actual_names = set([os.path.basename(path) for path in all_images])\n",
    "table_names = set(image_df_table.values)"
   ]
  },
  {
   "cell_type": "code",
   "execution_count": null,
   "metadata": {
    "colab": {
     "base_uri": "https://localhost:8080/",
     "height": 35
    },
    "colab_type": "code",
    "executionInfo": {
     "elapsed": 899,
     "status": "ok",
     "timestamp": 1576874052972,
     "user": {
      "displayName": "Angus Galloway Galloway",
      "photoUrl": "",
      "userId": "17798411225747068091"
     },
     "user_tz": 240
    },
    "id": "NyO8U3jobrC3",
    "outputId": "6e3bf6a7-796a-48d4-d99b-4b28620dbc9b"
   },
   "outputs": [],
   "source": [
    "actual_names.difference(table_names) # image data not in table"
   ]
  },
  {
   "cell_type": "code",
   "execution_count": null,
   "metadata": {
    "colab": {
     "base_uri": "https://localhost:8080/",
     "height": 35
    },
    "colab_type": "code",
    "executionInfo": {
     "elapsed": 887,
     "status": "ok",
     "timestamp": 1576874058495,
     "user": {
      "displayName": "Angus Galloway Galloway",
      "photoUrl": "",
      "userId": "17798411225747068091"
     },
     "user_tz": 240
    },
    "id": "nb99PlCvcIzq",
    "outputId": "28c20eb9-9e2b-4de0-b185-be6c73eb0bb8"
   },
   "outputs": [],
   "source": [
    "image_difference = table_names.difference(actual_names) # images not copied on Google Drive\n",
    "image_difference"
   ]
  },
  {
   "cell_type": "code",
   "execution_count": null,
   "metadata": {
    "colab": {
     "base_uri": "https://localhost:8080/",
     "height": 35
    },
    "colab_type": "code",
    "executionInfo": {
     "elapsed": 879,
     "status": "ok",
     "timestamp": 1576874063363,
     "user": {
      "displayName": "Angus Galloway Galloway",
      "photoUrl": "",
      "userId": "17798411225747068091"
     },
     "user_tz": 240
    },
    "id": "y9P4JRllcSNg",
    "outputId": "227de3b5-3a95-4b8b-bf52-77b47e921e33"
   },
   "outputs": [],
   "source": [
    "len(image_difference)"
   ]
  },
  {
   "cell_type": "code",
   "execution_count": null,
   "metadata": {
    "colab": {
     "base_uri": "https://localhost:8080/",
     "height": 35
    },
    "colab_type": "code",
    "executionInfo": {
     "elapsed": 861,
     "status": "ok",
     "timestamp": 1576874225234,
     "user": {
      "displayName": "Angus Galloway Galloway",
      "photoUrl": "",
      "userId": "17798411225747068091"
     },
     "user_tz": 240
    },
    "id": "wIf0JZecBYKD",
    "outputId": "de6a84ac-b64b-4ac8-d3d9-369e92396ef9"
   },
   "outputs": [],
   "source": [
    "image_df_table[0]"
   ]
  },
  {
   "cell_type": "code",
   "execution_count": null,
   "metadata": {
    "colab": {
     "base_uri": "https://localhost:8080/",
     "height": 35
    },
    "colab_type": "code",
    "executionInfo": {
     "elapsed": 874,
     "status": "ok",
     "timestamp": 1576874660055,
     "user": {
      "displayName": "Angus Galloway Galloway",
      "photoUrl": "",
      "userId": "17798411225747068091"
     },
     "user_tz": 240
    },
    "id": "gFROlMedB2LR",
    "outputId": "042a8cec-339a-4e82-fd3f-ec207efc01f1"
   },
   "outputs": [],
   "source": [
    "i = 0\n",
    "fpath = os.path.join(DATA_PATH, image_df_table[i])\n",
    "print(fpath)"
   ]
  },
  {
   "cell_type": "code",
   "execution_count": null,
   "metadata": {
    "colab": {},
    "colab_type": "code",
    "id": "465aA80MCJNS"
   },
   "outputs": [],
   "source": [
    "import matplotlib.pyplot as plt\n",
    "import cv2 as cv"
   ]
  },
  {
   "cell_type": "code",
   "execution_count": null,
   "metadata": {
    "colab": {},
    "colab_type": "code",
    "id": "Cp6QbGmTCqWk"
   },
   "outputs": [],
   "source": [
    "im = cv.imread(fpath)"
   ]
  },
  {
   "cell_type": "code",
   "execution_count": null,
   "metadata": {
    "colab": {},
    "colab_type": "code",
    "id": "Jf2IRX_FC2Y_"
   },
   "outputs": [],
   "source": [
    "im"
   ]
  },
  {
   "cell_type": "markdown",
   "metadata": {
    "colab_type": "text",
    "id": "0bFpSGebEe1R"
   },
   "source": [
    "### Stills"
   ]
  },
  {
   "cell_type": "code",
   "execution_count": null,
   "metadata": {
    "colab": {},
    "colab_type": "code",
    "id": "nPufpe-FEgTw"
   },
   "outputs": [],
   "source": [
    "# Search for all video files on Google Drive...\n",
    "all_stills = glob(os.path.join(DATA_PATH,'Videos_and_stills/GLNI/*/*/*/Stills/Quad*/*.jpg'))"
   ]
  },
  {
   "cell_type": "code",
   "execution_count": null,
   "metadata": {
    "colab": {
     "base_uri": "https://localhost:8080/",
     "height": 36
    },
    "colab_type": "code",
    "executionInfo": {
     "elapsed": 574631,
     "status": "ok",
     "timestamp": 1574784289345,
     "user": {
      "displayName": "Team Mussels",
      "photoUrl": "",
      "userId": "02846834132225962569"
     },
     "user_tz": 300
    },
    "id": "ATnh55pMEqN0",
    "outputId": "7a64c40f-7782-44e3-a99f-10cb1d67d579"
   },
   "outputs": [],
   "source": [
    "len(all_stills)"
   ]
  },
  {
   "cell_type": "code",
   "execution_count": null,
   "metadata": {
    "colab": {},
    "colab_type": "code",
    "id": "XizFHpuDEuIj"
   },
   "outputs": [],
   "source": [
    "stilltable_path = os.path.join(DATA_PATH, 'Tables', 'QuadratStills.csv')\n",
    "still_df = pd.read_csv(stilltable_path, index_col=0)"
   ]
  },
  {
   "cell_type": "code",
   "execution_count": null,
   "metadata": {
    "colab": {
     "base_uri": "https://localhost:8080/",
     "height": 615
    },
    "colab_type": "code",
    "executionInfo": {
     "elapsed": 575339,
     "status": "ok",
     "timestamp": 1574784290107,
     "user": {
      "displayName": "Team Mussels",
      "photoUrl": "",
      "userId": "02846834132225962569"
     },
     "user_tz": 300
    },
    "id": "qwF5LZ5gE4LM",
    "outputId": "fbb7b567-047e-4675-fff2-f90fd8e3c090"
   },
   "outputs": [],
   "source": [
    "still_df"
   ]
  },
  {
   "cell_type": "code",
   "execution_count": null,
   "metadata": {
    "colab": {},
    "colab_type": "code",
    "id": "VX5WyMkqE7YC"
   },
   "outputs": [],
   "source": [
    "actual_still = set([os.path.basename(path) for path in all_stills])"
   ]
  },
  {
   "cell_type": "code",
   "execution_count": null,
   "metadata": {
    "colab": {
     "base_uri": "https://localhost:8080/",
     "height": 36
    },
    "colab_type": "code",
    "executionInfo": {
     "elapsed": 575304,
     "status": "ok",
     "timestamp": 1574784290114,
     "user": {
      "displayName": "Team Mussels",
      "photoUrl": "",
      "userId": "02846834132225962569"
     },
     "user_tz": 300
    },
    "id": "JeAsOFYVFEKq",
    "outputId": "f713aaea-40ce-4cf9-8483-ae5191082b67"
   },
   "outputs": [],
   "source": [
    "table_still = set(still_df['Name'].values)\n",
    "len(table_still) "
   ]
  },
  {
   "cell_type": "code",
   "execution_count": null,
   "metadata": {
    "colab": {
     "base_uri": "https://localhost:8080/",
     "height": 36
    },
    "colab_type": "code",
    "executionInfo": {
     "elapsed": 575284,
     "status": "ok",
     "timestamp": 1574784290116,
     "user": {
      "displayName": "Team Mussels",
      "photoUrl": "",
      "userId": "02846834132225962569"
     },
     "user_tz": 300
    },
    "id": "lMvK-TNUFRUA",
    "outputId": "d4ab3418-df25-4020-c39b-4d01e6402544"
   },
   "outputs": [],
   "source": [
    "still_difference = table_still.difference(actual_still)\n",
    "len(still_difference)"
   ]
  },
  {
   "cell_type": "code",
   "execution_count": null,
   "metadata": {
    "colab": {
     "base_uri": "https://localhost:8080/",
     "height": 36
    },
    "colab_type": "code",
    "executionInfo": {
     "elapsed": 575263,
     "status": "ok",
     "timestamp": 1574784290118,
     "user": {
      "displayName": "Team Mussels",
      "photoUrl": "",
      "userId": "02846834132225962569"
     },
     "user_tz": 300
    },
    "id": "p3cKgDtnFeZs",
    "outputId": "78012770-7c64-4d45-f62b-f2821b5ee699"
   },
   "outputs": [],
   "source": [
    "actual_still.difference(table_still)"
   ]
  },
  {
   "cell_type": "code",
   "execution_count": null,
   "metadata": {
    "colab": {
     "base_uri": "https://localhost:8080/",
     "height": 36
    },
    "colab_type": "code",
    "executionInfo": {
     "elapsed": 575246,
     "status": "ok",
     "timestamp": 1574784290121,
     "user": {
      "displayName": "Team Mussels",
      "photoUrl": "",
      "userId": "02846834132225962569"
     },
     "user_tz": 300
    },
    "id": "9E8xVJRqFkAY",
    "outputId": "b86c473f-d561-4eda-f8cd-adbcf443cbab"
   },
   "outputs": [],
   "source": [
    "still_difference"
   ]
  },
  {
   "cell_type": "code",
   "execution_count": null,
   "metadata": {
    "colab": {},
    "colab_type": "code",
    "id": "6NrnHBReCHR7"
   },
   "outputs": [],
   "source": []
  }
 ],
 "metadata": {
  "colab": {
   "collapsed_sections": [],
   "name": "ImagingDataInventory.ipynb",
   "provenance": []
  },
  "kernelspec": {
   "display_name": "Python 3",
   "language": "python",
   "name": "python3"
  },
  "language_info": {
   "codemirror_mode": {
    "name": "ipython",
    "version": 3
   },
   "file_extension": ".py",
   "mimetype": "text/x-python",
   "name": "python",
   "nbconvert_exporter": "python",
   "pygments_lexer": "ipython3",
   "version": "3.6.7"
  }
 },
 "nbformat": 4,
 "nbformat_minor": 1
}
