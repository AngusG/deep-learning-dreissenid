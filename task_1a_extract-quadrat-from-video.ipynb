{
 "cells": [
  {
   "cell_type": "markdown",
   "metadata": {},
   "source": [
    "# Task 1 a) Process Quadrat in MP4 Video\n",
    "This notebook is configured to read a video specified by `file`, then extract the lines that compose the quadrat and estimate the appropriate corner points for cropping its \n",
    "contents. The output is a lower resolution MP4 video that is annotated with the found lines \n",
    "and corner points."
   ]
  },
  {
   "cell_type": "code",
   "execution_count": null,
   "metadata": {},
   "outputs": [],
   "source": [
    "import os\n",
    "import cv2\n",
    "import numpy as np\n",
    "import pandas as pd\n",
    "import matplotlib.pyplot as plt\n",
    "%matplotlib inline\n",
    "\n",
    "from glob import glob\n",
    "from utils import draw_lines\n",
    "\n",
    "# https://ipython.org/ipython-doc/3/config/extensions/autoreload.html\n",
    "#%load_ext autoreload\n",
    "#%autoreload 2\n",
    "\n",
    "figsize = (8, 6)\n",
    "save_figures = False"
   ]
  },
  {
   "cell_type": "code",
   "execution_count": null,
   "metadata": {},
   "outputs": [],
   "source": [
    "file = 'GLNI_12-1_2016-07-11_video-1.mp4'\n",
    "#file = 'GLNI_456-3_2015-07-17_video-1.mp4'"
   ]
  },
  {
   "cell_type": "code",
   "execution_count": null,
   "metadata": {},
   "outputs": [],
   "source": [
    "DATA_PATH = r'/scratch/gallowaa/cciw/Data'\n",
    "\n",
    "# Search for all video files on Google Drive...\n",
    "all_videos = glob(os.path.join(DATA_PATH, 'Videos_and_stills/GLNI/*/*/*/Videos/Quad*/*.mp4'))\n",
    "videotable_path = os.path.join(DATA_PATH, 'Tables', 'QuadratVideos.csv')\n",
    "video_df = pd.read_csv(videotable_path, index_col=0)\n",
    "\n",
    "vpath = video_df.iloc[video_df[video_df['Name'] == file].index]['Quadrat Video Path']\n",
    "tokens = video_df[video_df['Name'] == file]['Quadrat Video Path'].values[0].split('\\\\')\n",
    "\n",
    "video_path = DATA_PATH + '/Videos_and_stills/GLNI'\n",
    "for tok in tokens[4:-1]:\n",
    "    video_path += '/' + tok\n",
    "video_path = os.path.join(video_path, file)\n",
    "print('Loading video: ', video_path)"
   ]
  },
  {
   "cell_type": "code",
   "execution_count": null,
   "metadata": {},
   "outputs": [],
   "source": [
    "\"\"\"These are meta-parameters of the Probabilistic Hough Line Transform, \n",
    "note there are additional params in cell 6 which we set according to \n",
    "the input resolution.\n",
    "\n",
    "@param rho Distance resolution of the accumulator (pixels)\"\"\"\n",
    "rho = 1  \n",
    "\n",
    "\"\"\"\n",
    "@param theta Angle resolution of the accumulator (radians)\n",
    "\n",
    "Suggest to use a value no less than np.pi/90 else too many \n",
    "spurious lines will be found. theta=np.pi/45 means lines \n",
    "must differ by 4 degrees to be considered distinct.\"\"\"\n",
    "theta = np.pi / 45"
   ]
  },
  {
   "cell_type": "code",
   "execution_count": null,
   "metadata": {},
   "outputs": [],
   "source": [
    "cap = cv2.VideoCapture(video_path)\n",
    "sz = (int(cap.get(cv2.CAP_PROP_FRAME_WIDTH)),\n",
    "      int(cap.get(cv2.CAP_PROP_FRAME_HEIGHT)))\n",
    "print('Raw input resolution', sz)"
   ]
  },
  {
   "cell_type": "code",
   "execution_count": null,
   "metadata": {},
   "outputs": [],
   "source": [
    "# read first frame to adjust resolution of output stream\n",
    "ret, im = cap.read() \n",
    "\n",
    "# set additional meta-parameters according to input res\n",
    "if sz[0] == 1440:\n",
    "    \"\"\"x_trim and y_trim are used to remove black padding \n",
    "    which triggers spurious edges\"\"\"\n",
    "    x_trim, y_trim = 1, 145\n",
    "    im = im[y_trim:-y_trim, x_trim:-x_trim, :]\n",
    "    crop_frame_border = True\n",
    "    \n",
    "    \"\"\"@param canny_thresh# hysteresis values for Canny edge \n",
    "    detector, input to HoughLines\"\"\"\n",
    "    canny_thresh1, canny_thresh2 = 60, 300\n",
    "    \n",
    "    \"\"\"@param threshold Accumulator threshold, return \n",
    "    lines with more than threshold of votes. (intersection points)\"\"\"\n",
    "    threshold = 125\n",
    "    \n",
    "    \"\"\"@param minLineLength Minimum line length. \n",
    "    Line segments shorter than that are rejected. (pixels)\"\"\"\n",
    "    mLL = 400\n",
    "    \n",
    "    \"\"\"@param maxLineGap Maximum allowed gap between points \n",
    "    on the same line to link them. (pixels)\"\"\"\n",
    "    mLG = 150\n",
    "else:\n",
    "    # params as described above\n",
    "    canny_thresh1, canny_thresh2 = 30, 300\n",
    "    threshold = 125\n",
    "    mLG, mLL = 250, 600\n",
    "    crop_frame_border = False\n",
    "\n",
    "\"\"\"this method may downsample, so set the video writer \n",
    "resolution to the processed image resolution\"\"\"\n",
    "img, edges = draw_lines(im, rho=rho, theta=theta, mll=mLL, \n",
    "                        mlg=mLG, threshold=threshold, ds=1)    \n",
    "sz = (img.shape[1], img.shape[0])\n",
    "print(sz)"
   ]
  },
  {
   "cell_type": "code",
   "execution_count": null,
   "metadata": {},
   "outputs": [],
   "source": [
    "if cap.isOpened():\n",
    "    fps = 20\n",
    "    vout = cv2.VideoWriter()\n",
    "    fourcc = cv2.VideoWriter_fourcc(*'mp4v')\n",
    "    vout.open(file.split('.')[0] + '-quadrat-demo.mp4', fourcc, fps, sz, True)\n",
    "    print('Opened stream for writing, output resolution is', sz)\n",
    "else:\n",
    "    print('cap is not open')"
   ]
  },
  {
   "cell_type": "code",
   "execution_count": null,
   "metadata": {},
   "outputs": [],
   "source": [
    "currentFrame = 0\n",
    "\n",
    "\"\"\"it can take 30s-1min to process entire video, \n",
    "can optionally process a small number of frames\"\"\"\n",
    "#for i in range(200):\n",
    "\n",
    "# to process whole video    \n",
    "while(True):\n",
    "    \n",
    "    # Capture frame-by-frame\n",
    "    ret, im = cap.read()\n",
    "    if not ret: break\n",
    "\n",
    "    '''\n",
    "    # For saving still images\n",
    "    name = 'pframe_pi45_' + str(currentFrame) + '.jpg'\n",
    "    save_path = os.path.join(out_path, name)\n",
    "    print ('Creating...' + name)\n",
    "    '''\n",
    "    \n",
    "    if crop_frame_border:\n",
    "        im = im[y_trim:-y_trim, x_trim:-x_trim, :]\n",
    "    \n",
    "    # Do processing\n",
    "    img, _ = draw_lines(im, rho=rho, theta=theta, mll=mLL, \n",
    "                        mlg=mLG, threshold=threshold, ds=1, \n",
    "                        canny_1=canny_thresh1, canny_2=canny_thresh2)\n",
    "    \n",
    "    \"\"\"Save still image in jpeg format\n",
    "    cv2.imwrite(save_path, img)\"\"\"\n",
    "    \n",
    "    \"\"\"For annotating video\n",
    "    @param org Bottom-left corner of the text string (default=50).\n",
    "    @param org Bottom-left corner of the text string in the image (default=50).\n",
    "    @param fontFace Font type, see #HersheyFonts (default=cv2.FONT_HERSHEY_PLAIN).\n",
    "    @param fontScale Font scale factor that is multiplied \n",
    "                     by the font-specific base size (default=2).\n",
    "    @param color Text color (default=(R=0, G=255, B=0)).\n",
    "    @param thickness Thickness of the lines used to draw a text (default=1).\n",
    "    @param lineType Line type. See #LineTypes (default=cv2.LINE_AA).\"\"\"\n",
    "    cv2.putText(                 # x, y\n",
    "        img, str(currentFrame), (50, 50), cv2.FONT_HERSHEY_PLAIN, 2, (0,255,0), 1, cv2.LINE_AA)\n",
    "    vout.write(img)    \n",
    "\n",
    "    # increment frame counter\n",
    "    currentFrame += 1\n",
    "\n",
    "\"\"\"When everything done, release the \n",
    "capture to flush the video stream. \n",
    "\n",
    "Before re-running this cell, first do \n",
    "cells 5, 6, and 7 to re-open cap and \n",
    "vout, otherwise ret=False and this \n",
    "cell does nothing.\"\"\"\n",
    "cap.release()\n",
    "vout.release()"
   ]
  },
  {
   "cell_type": "markdown",
   "metadata": {},
   "source": [
    "# End Demo\n",
    "\n",
    "What follows is additional code for debugging"
   ]
  },
  {
   "cell_type": "code",
   "execution_count": null,
   "metadata": {},
   "outputs": [],
   "source": [
    "\"\"\"\n",
    "# to seek into a specific frame\n",
    "for _ in range(28):\n",
    "    ret, im = cap.read()\n",
    "\"\"\"    \n",
    "\"\"\"\n",
    "ret, im = cap.read()\n",
    "if ret is not None:\n",
    "    plt.imshow(im)\n",
    "\"\"\""
   ]
  },
  {
   "cell_type": "code",
   "execution_count": null,
   "metadata": {},
   "outputs": [],
   "source": [
    "'''\n",
    "if crop_frame_border:\n",
    "    im = im[y_trim:-y_trim, x_trim:-x_trim, :]\n",
    "\n",
    "img, edges = draw_lines(im, rho=1, theta=np.pi/45, mll=mLL,\n",
    "                        mlg=mLG, threshold=125, ds=1, \n",
    "                        canny_1=canny_thresh1, canny_2=canny_thresh2)\n",
    "'''                        "
   ]
  },
  {
   "cell_type": "code",
   "execution_count": null,
   "metadata": {},
   "outputs": [],
   "source": [
    "#plt.figure(figsize=(14, 12))\n",
    "#plt.imshow(img)\n",
    "#plt.imshow(im[y_trim:-y_trim, x_trim:-x_trim, :])"
   ]
  },
  {
   "cell_type": "code",
   "execution_count": null,
   "metadata": {},
   "outputs": [],
   "source": [
    "#plt.imshow(edges)"
   ]
  },
  {
   "cell_type": "code",
   "execution_count": null,
   "metadata": {},
   "outputs": [],
   "source": [
    "\"\"\"it can be helpful to save particularly difficult\n",
    "frames for processing in a different notebook\"\"\"\n",
    "#cv2.imwrite('test.jpg', im)"
   ]
  },
  {
   "cell_type": "code",
   "execution_count": null,
   "metadata": {},
   "outputs": [],
   "source": [
    "\"\"\"\n",
    "#cv2.circle(img, (800, 400), 10, (255, 0, 0), thickness=2, lineType=8, shift=0)\n",
    "plt.figure(figsize=figsize)\n",
    "plt.imshow(img)\n",
    "plt.tight_layout()\n",
    "if save_figures:\n",
    "    plt.savefig('img/' + outpath + '-Step-2.png')\n",
    "plt.show()\n",
    "\"\"\""
   ]
  }
 ],
 "metadata": {
  "kernelspec": {
   "display_name": "Python 3",
   "language": "python",
   "name": "python3"
  },
  "language_info": {
   "codemirror_mode": {
    "name": "ipython",
    "version": 3
   },
   "file_extension": ".py",
   "mimetype": "text/x-python",
   "name": "python",
   "nbconvert_exporter": "python",
   "pygments_lexer": "ipython3",
   "version": "3.6.7"
  }
 },
 "nbformat": 4,
 "nbformat_minor": 2
}
