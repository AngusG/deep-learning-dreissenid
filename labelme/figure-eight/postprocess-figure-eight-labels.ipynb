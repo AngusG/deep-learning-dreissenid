{
 "cells": [
  {
   "cell_type": "markdown",
   "metadata": {},
   "source": [
    "## Convert Fig8 Annotations to LabelMe Format\n",
    "This notebook allows one to import and edit if necessary the crowdsourced labels from `figure-eight.com` locally in the PyQt-based [LabelMe](https://github.com/wkentaro/labelme) tool."
   ]
  },
  {
   "cell_type": "code",
   "execution_count": null,
   "metadata": {},
   "outputs": [],
   "source": [
    "import os\n",
    "import json"
   ]
  },
  {
   "cell_type": "code",
   "execution_count": null,
   "metadata": {},
   "outputs": [],
   "source": [
    "# note, first have to wrap the json annotations in '{}' and \n",
    "# comma-separate entries\n",
    "\n",
    "job_path = '/scratch/ssd/gallowaa/cciw/dataset_raw_v0-2-x/Train/2017-08/'\n",
    "job_file = 'job_1538711.json'\n",
    "filename = os.path.join(job_path, job_file)\n",
    "\n",
    "with open(filename, 'r') as f:\n",
    "    att = json.load(f)\n",
    "print('Found labels for %d images' % len(att['foo']))"
   ]
  },
  {
   "cell_type": "code",
   "execution_count": null,
   "metadata": {},
   "outputs": [],
   "source": [
    "def create_labelme_annotation_dict(jpeg_filename, points_list):\n",
    "    \"\"\"create a new python dict in LabelMe format for\n",
    "    conversion to json object\n",
    "    @param points_list list of vertices\n",
    "    \"\"\"\n",
    "    data = {}\n",
    "    data['version'] = '3.21.1'\n",
    "    data['flags'] = {}\n",
    "    data['shapes'] = []\n",
    "    for l in range(len(points_list)):\n",
    "        data['shapes'].append({\n",
    "            'label': \"zebra\",\n",
    "            'line_color': None,\n",
    "            'fill_color': None,\n",
    "            'points': points_list[l],\n",
    "            'shape_type': \"polygon\",\n",
    "            'flags' : {}\n",
    "        })\n",
    "    data['lineColor'] = (0, 255, 0, 128)\n",
    "    data['fillColor'] = (255, 0, 0, 128)\n",
    "    data['imagePath'] = jpeg_filename\n",
    "    data['imageData'] = None\n",
    "    data['imageHeight'] = 2250\n",
    "    data['imageWidth'] = 2250\n",
    "    \n",
    "    return data"
   ]
  },
  {
   "cell_type": "code",
   "execution_count": null,
   "metadata": {},
   "outputs": [],
   "source": [
    "#img_idx = 19\n",
    "#att['foo'][img_idx]['results']['judgments'][2]['data']['annotation']"
   ]
  },
  {
   "cell_type": "code",
   "execution_count": null,
   "metadata": {},
   "outputs": [],
   "source": [
    "#att['foo'][0]['data']['image_url'].split('/')[-1]"
   ]
  },
  {
   "cell_type": "code",
   "execution_count": null,
   "metadata": {},
   "outputs": [],
   "source": [
    "# loop over all images that have at least one judgment\n",
    "for img_idx in range(len(att['foo'])):\n",
    "    jpeg_filename = att['foo'][img_idx]['data']['image_url'].split('/')[-1]\n",
    "\n",
    "    # loop over all worker judgments\n",
    "    points_list = [] # initialize list that will contain all vertices for a given image\n",
    "    for worker in range(len(att['foo'][img_idx]['results']['judgments'])):\n",
    "        #print('worker ', worker)\n",
    "        att_json = json.loads(att['foo'][img_idx]['results']['judgments'][worker]['data']['annotation'])\n",
    "\n",
    "        # for number of distinct polygons in annotation\n",
    "        for j in range(len(att_json)):\n",
    "            vertices_list = []\n",
    "            # for number of vertices in each polygon\n",
    "            for k in range(len(att_json[j]['coordinates'])):\n",
    "                #print(att_json[i]['coordinates'][j])\n",
    "                vertices_list.append(\n",
    "                    [att_json[j]['coordinates'][k]['x'],\n",
    "                     att_json[j]['coordinates'][k]['y']])\n",
    "            points_list.append(vertices_list)\n",
    "\n",
    "# get a dictionary containing polygon vertices in labelme format\n",
    "data = create_labelme_annotation_dict(jpeg_filename, points_list)\n",
    "\n",
    "# save the json file with the same root as the associated image\n",
    "with open(os.path.join(job_path, jpeg_filename.split('.')[0] + '.json'), 'w') as outfile:\n",
    "    json.dump(data, outfile, indent=2)"
   ]
  }
 ],
 "metadata": {
  "kernelspec": {
   "display_name": "Python 3",
   "language": "python",
   "name": "python3"
  },
  "language_info": {
   "codemirror_mode": {
    "name": "ipython",
    "version": 3
   },
   "file_extension": ".py",
   "mimetype": "text/x-python",
   "name": "python",
   "nbconvert_exporter": "python",
   "pygments_lexer": "ipython3",
   "version": "3.6.7"
  }
 },
 "nbformat": 4,
 "nbformat_minor": 4
}
