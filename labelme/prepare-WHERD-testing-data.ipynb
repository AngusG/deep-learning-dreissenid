{
 "cells": [
  {
   "cell_type": "markdown",
   "metadata": {},
   "source": [
    "# Helpful links\n",
    "- https://stackoverflow.com/questions/15007304/histogram-equalization-not-working-on-color-image-opencv\n",
    "- https://docs.opencv.org/master/d7/d1b/group__imgproc__misc.html#ga72b913f352e4a1b1b397736707afcde3"
   ]
  },
  {
   "cell_type": "code",
   "execution_count": null,
   "metadata": {},
   "outputs": [],
   "source": [
    "import os\n",
    "import os.path as osp\n",
    "import cv2 as cv\n",
    "import numpy as np\n",
    "import pandas as pd\n",
    "import matplotlib.pyplot as plt\n",
    "\n",
    "from glob import glob\n",
    "from datetime import datetime\n",
    "\n",
    "from sklearn.cluster import KMeans\n",
    "\n",
    "scale_percent = 75  # percent of original size"
   ]
  },
  {
   "cell_type": "code",
   "execution_count": null,
   "metadata": {},
   "outputs": [],
   "source": [
    "# DATA_PATH = r'/scratch/gallowaa/cciw/Data'  # MLRG\n",
    "DATA_PATH = r'/media/angus/cciw/'  # Laptop"
   ]
  },
  {
   "cell_type": "code",
   "execution_count": null,
   "metadata": {},
   "outputs": [],
   "source": [
    "# Search for all image files in testing set...\n",
    "all_images = glob(\n",
    "    osp.join(DATA_PATH, 'Data/Videos_and_stills/TestingSet/WHERD/*/*/*/*/*.jpg'))\n",
    "print(len(all_images))"
   ]
  },
  {
   "cell_type": "code",
   "execution_count": null,
   "metadata": {},
   "outputs": [],
   "source": [
    "#save_path = osp.join('/scratch/ssd/gallowaa/cciw/dataset_raw_v0-2-x/Test/WHERD')\n",
    "save_path = osp.join(DATA_PATH, 'dataset_raw/Test/WHERD-unlabeled')\n",
    "print(save_path)"
   ]
  },
  {
   "cell_type": "code",
   "execution_count": null,
   "metadata": {},
   "outputs": [],
   "source": [
    "template = np.zeros([51, 51, 3]).astype('uint8')\n",
    "#template = cv.circle(template, (25, 25), 25, (0, 0, 255), -1)\n",
    "template = cv.ellipse(template, (25, 25), (10, 25), 0, 0, 360, (0, 0, 255), -1)\n",
    "# plt.imshow(template)\n",
    "w, h = template.shape[:2]"
   ]
  },
  {
   "cell_type": "code",
   "execution_count": null,
   "metadata": {},
   "outputs": [],
   "source": [
    "\"\"\"Note: Names differ slightly from email with subject line \n",
    "'Selection of images to label for testing set' sent by \n",
    "dominique.brunet@canada.ca Wed 2/12/2020 4:04 PM, \n",
    "add 'FS' prefix to images taken with FishSense camera.\n",
    "\"\"\"\n",
    "\n",
    "# files to include\n",
    "include_list = [\n",
    "    'WHERD_1353_2019-10-30_GoPro-8.jpg',\n",
    "    'WHERD_1355_2019-10-30_GoPro-5.jpg',\n",
    "    'WHERD_FS1355_2019-11-03_FishSens-1.jpg',  # (100% mussel coverage)\n",
    "    'WHERD_HP115410_2019-10-30_GoPro-3.jpg',\n",
    "    'WHERD_HP131641_2019-11-03_GoPro-13.jpg',\n",
    "    'WHERD_FSHP131642_2019-11-03_FishSens-4.jpg',\n",
    "    'WHERD_FSHP131645_2019-11-03_FishSens-6.jpg',\n",
    "    'WHERD_FSHP131649_2019-11-03_FishSens-2.jpg',\n",
    "    'WHERD_LEE06021_2019-10-30_GoPro-3.jpg',\n",
    "    'WHERD_FSLEE06022_2019-11-03_FishSens-1.jpg',\n",
    "    'WHERD_LEE06031_2019-10-30_GoPro-2.jpg',\n",
    "    'WHERD_LEE06032_2019-11-03_GoPro-3.jpg',\n",
    "    'WHERD_LEE06033_2019-10-30_GoPro-8.jpg',\n",
    "    'WHERD_FSLEE06037_2019-11-03_FishSens-1.jpg',\n",
    "    'WHERD_LEE06070_2019-10-30_GoPro-1.jpg',  # (no mussels)\n",
    "    'WHERD_LEE06075_2019-10-30_GoPro-11.jpg'\n",
    "]\n",
    "print(len(include_list))"
   ]
  },
  {
   "cell_type": "code",
   "execution_count": null,
   "metadata": {},
   "outputs": [],
   "source": [
    "# meta-parameters for algorithm to find two red laser dots\n",
    "# red_threshold is out of 255, match_threshold out of 1.0 for template matching\n",
    "# red_threshold, match_threshold = 200, 0.2 # 10 correct\n",
    "intensity_threshold, match_threshold = 150, 0.3  # 10\n",
    "\n",
    "\"\"\"C - Constant subtracted from the mean or weighted mean (see the details below). \n",
    "Normally, it is positive but may be zero or negative as well.\"\"\"\n",
    "C = -15\n",
    "\n",
    "\"\"\"Block size - Size of a pixel neighborhood that is used to calculate a threshold \n",
    "value for the pixel: 3, 5, 7, and so on.\"\"\"\n",
    "block_size = 201\n",
    "\n",
    "# noise removing kernel\n",
    "kernel = np.ones((5, 5), np.uint8)\n",
    "dilate_kernel = np.ones((6, 6), np.uint8)"
   ]
  },
  {
   "cell_type": "code",
   "execution_count": null,
   "metadata": {
    "scrolled": false
   },
   "outputs": [],
   "source": [
    "j = 0\n",
    "for i in range(len(all_images)):\n",
    "    f = all_images[i]\n",
    "    if f.split('/')[-1] in include_list:\n",
    "        im = cv.imread(f)\n",
    "        outfile = os.path.join(save_path, f.split('/')[-1])\n",
    "\n",
    "        im = cv.imread(f)  # im will be in BGR format\n",
    "        im_thresh = im.copy()\n",
    "        \n",
    "        im_ycrbc = cv.cvtColor(im, cv.COLOR_BGR2YCrCb)\n",
    "        \n",
    "        Y  = im_ycrbc[:, :, 0] # Separate pixel intensity Y from \n",
    "        Cr = im_ycrbc[:, :, 1] # red-difference chroma \n",
    "        Cb = im_ycrbc[:, :, 2] # blue-difference components\n",
    "        \n",
    "        im_thresh[Cr < intensity_threshold] = 0\n",
    "        \n",
    "        cts, bin_edges = np.histogram(im_ycrbc[:, :, 2])\n",
    "        red_range = bin_edges.max() - bin_edges.min()\n",
    "        \n",
    "        Cr_th = cv.adaptiveThreshold(\n",
    "            Cr, 255, cv.ADAPTIVE_THRESH_GAUSSIAN_C, cv.THRESH_BINARY, 201, C)\n",
    "        \n",
    "        # morphology and connected components\n",
    "        opening = cv.morphologyEx(Cr_th, cv.MORPH_OPEN, kernel, iterations=2)\n",
    "        sure_bg = cv.dilate(opening, dilate_kernel, iterations=3)\n",
    "        \n",
    "        # Marker labelling\n",
    "        ret, markers = cv.connectedComponents(sure_bg)\n",
    "        \n",
    "        # get the cluster IDs and number of pixels in each\n",
    "        ids, cts = np.unique(markers, return_counts=True)\n",
    "        \n",
    "        # only keep the largest two clusters by pixel count\n",
    "        largest_blobs = ids[1:][np.argsort(cts[1:])][-2:]\n",
    "        \n",
    "        if len(largest_blobs) == 2:\n",
    "            mask = markers == largest_blobs[0]\n",
    "            mask |= markers == largest_blobs[1]\n",
    "            markers[np.invert(mask)] = 0\n",
    "        \n",
    "        # we can now encode clusters with the same value as\n",
    "        # they should be physically separated\n",
    "        markers[markers > 0] = 1\n",
    "\n",
    "        # get numpy array of coordinates of non-zero elements\n",
    "        coords = cv.findNonZero(markers)\n",
    "        \n",
    "        if coords is not None:\n",
    "            kmeans = KMeans(n_clusters=2, random_state=0).fit(coords.squeeze())\n",
    "            # draw the two clusters\n",
    "            for pt in kmeans.cluster_centers_:\n",
    "                _ = cv.circle(im, (int(pt[0]), int(pt[1])), 50, (0, 255, 0), 2)\n",
    "            \n",
    "            # compute the distance in pixels between the two laser beams\n",
    "            d = np.linalg.norm(\n",
    "                kmeans.cluster_centers_[0] - kmeans.cluster_centers_[1])\n",
    "        else:\n",
    "            d = 0\n",
    "\n",
    "        fig, ax = plt.subplots(1, 1, figsize=(14, 6))\n",
    "        title_str = '%d Ratio %.3f - dots are dist %d of %d px' % (j, d/im.shape[1], d, im.shape[1])\n",
    "        ax.imshow(im)\n",
    "        ax.set_title(title_str)\n",
    "        plt.show()\n",
    "        j += 1"
   ]
  }
 ],
 "metadata": {
  "kernelspec": {
   "display_name": "Python 3",
   "language": "python",
   "name": "python3"
  },
  "language_info": {
   "codemirror_mode": {
    "name": "ipython",
    "version": 3
   },
   "file_extension": ".py",
   "mimetype": "text/x-python",
   "name": "python",
   "nbconvert_exporter": "python",
   "pygments_lexer": "ipython3",
   "version": "3.6.7"
  }
 },
 "nbformat": 4,
 "nbformat_minor": 4
}
