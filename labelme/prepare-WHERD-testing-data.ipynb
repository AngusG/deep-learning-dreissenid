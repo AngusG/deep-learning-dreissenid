{
 "cells": [
  {
   "cell_type": "markdown",
   "metadata": {},
   "source": [
    "# Helpful links\n",
    "- https://stackoverflow.com/questions/15007304/histogram-equalization-not-working-on-color-image-opencv\n",
    "- https://docs.opencv.org/master/d7/d1b/group__imgproc__misc.html#ga72b913f352e4a1b1b397736707afcde3"
   ]
  },
  {
   "cell_type": "code",
   "execution_count": null,
   "metadata": {},
   "outputs": [],
   "source": [
    "# mandatory imports\n",
    "import cv2 as cv\n",
    "import numpy as np\n",
    "import os.path as osp\n",
    "import matplotlib.pyplot as plt\n",
    "\n",
    "from glob import glob\n",
    "\n",
    "import sys\n",
    "sys.path.append(\"..\") # Adds higher directory to python modules path.\n",
    "\n",
    "from utils.dataset_2_utils import find_laser_beams"
   ]
  },
  {
   "cell_type": "code",
   "execution_count": null,
   "metadata": {},
   "outputs": [],
   "source": [
    "DATA_PATH = r'/scratch/gallowaa/cciw/'  # MLRG workstation\n",
    "#DATA_PATH = r'/media/angus/cciw/'  # Laptop"
   ]
  },
  {
   "cell_type": "code",
   "execution_count": null,
   "metadata": {},
   "outputs": [],
   "source": [
    "# Search for all image files in testing set...\n",
    "all_images = glob(\n",
    "    osp.join(DATA_PATH, 'Data/Videos_and_stills/TestingSet/WHERD/*/*/*/*/*.jpg'))\n",
    "print(len(all_images))"
   ]
  },
  {
   "cell_type": "code",
   "execution_count": null,
   "metadata": {},
   "outputs": [],
   "source": [
    "#save_path = osp.join('/scratch/ssd/gallowaa/cciw/dataset_raw_v0-2-x/Test/WHERD')\n",
    "save_path = osp.join(DATA_PATH, 'dataset_raw/Test/WHERD-unlabeled')\n",
    "print(save_path)"
   ]
  },
  {
   "cell_type": "code",
   "execution_count": null,
   "metadata": {},
   "outputs": [],
   "source": [
    "\"\"\"Note: Names differ slightly from email with subject line \n",
    "'Selection of images to label for testing set' sent by \n",
    "dominique.brunet@canada.ca Wed 2/12/2020 4:04 PM, \n",
    "add 'FS' prefix to images taken with FishSense camera.\n",
    "\"\"\"\n",
    "\n",
    "# files to include\n",
    "include_list = [\n",
    "    'WHERD_1353_2019-10-30_GoPro-8.jpg',\n",
    "    'WHERD_1355_2019-10-30_GoPro-5.jpg',\n",
    "    'WHERD_FS1355_2019-11-03_FishSens-1.jpg',  # (100% mussel coverage)\n",
    "    'WHERD_HP115410_2019-10-30_GoPro-3.jpg',\n",
    "    'WHERD_HP131641_2019-11-03_GoPro-13.jpg',\n",
    "    'WHERD_FSHP131642_2019-11-03_FishSens-4.jpg',\n",
    "    'WHERD_FSHP131645_2019-11-03_FishSens-6.jpg',\n",
    "    'WHERD_FSHP131649_2019-11-03_FishSens-2.jpg',\n",
    "    'WHERD_LEE06021_2019-10-30_GoPro-3.jpg',\n",
    "    'WHERD_FSLEE06022_2019-11-03_FishSens-1.jpg',\n",
    "    'WHERD_LEE06031_2019-10-30_GoPro-2.jpg',\n",
    "    'WHERD_LEE06032_2019-11-03_GoPro-3.jpg',\n",
    "    'WHERD_LEE06033_2019-10-30_GoPro-8.jpg',\n",
    "    'WHERD_FSLEE06037_2019-11-03_FishSens-1.jpg',\n",
    "    'WHERD_LEE06070_2019-10-30_GoPro-1.jpg',  # (no mussels)\n",
    "    'WHERD_LEE06075_2019-10-30_GoPro-11.jpg'\n",
    "]\n",
    "print(len(include_list))"
   ]
  },
  {
   "cell_type": "code",
   "execution_count": null,
   "metadata": {
    "scrolled": false
   },
   "outputs": [],
   "source": [
    "j = 0\n",
    "for i in range(len(all_images)):\n",
    "    f = all_images[i]\n",
    "    if f.split('/')[-1] in include_list:\n",
    "        #outfile = os.path.join(save_path, f.split('/')[-1])\n",
    "        \n",
    "        im = cv.imread(f)  # im will be in BGR format\n",
    "        coords = find_laser_beams(im)\n",
    "        d = np.linalg.norm(coords[0] - coords[1])\n",
    "        \n",
    "        # draw the two clusters\n",
    "        if (coords != -1).any():\n",
    "            for pt in coords:\n",
    "                _ = cv.circle(im, (int(pt[0]), int(pt[1])), 50, (0, 255, 0), 2) \n",
    "\n",
    "        fig, ax = plt.subplots(1, 1, figsize=(14, 6))\n",
    "        title_str = '%d Ratio %.3f - dots are dist %d of %d px' % (\n",
    "            j, d/im.shape[1], d, im.shape[1])\n",
    "        ax.imshow(im)\n",
    "        ax.set_title(title_str)\n",
    "        plt.show()\n",
    "        j += 1"
   ]
  },
  {
   "cell_type": "code",
   "execution_count": null,
   "metadata": {},
   "outputs": [],
   "source": []
  }
 ],
 "metadata": {
  "kernelspec": {
   "display_name": "Python 3",
   "language": "python",
   "name": "python3"
  },
  "language_info": {
   "codemirror_mode": {
    "name": "ipython",
    "version": 3
   },
   "file_extension": ".py",
   "mimetype": "text/x-python",
   "name": "python",
   "nbconvert_exporter": "python",
   "pygments_lexer": "ipython3",
   "version": "3.6.6"
  }
 },
 "nbformat": 4,
 "nbformat_minor": 4
}
