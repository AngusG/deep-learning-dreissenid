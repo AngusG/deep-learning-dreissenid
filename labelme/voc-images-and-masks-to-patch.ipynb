{
 "cells": [
  {
   "cell_type": "code",
   "execution_count": null,
   "metadata": {},
   "outputs": [],
   "source": [
    "#see load_label_png.py also.\n",
    "import os\n",
    "import numpy as np\n",
    "import PIL.Image\n",
    "\n",
    "import matplotlib.pyplot as plt\n",
    "%matplotlib inline"
   ]
  },
  {
   "cell_type": "code",
   "execution_count": null,
   "metadata": {},
   "outputs": [],
   "source": [
    "path = '/scratch/ssd/gallowaa/cciw/VOCdevkit/VOC2012_v024/'\n",
    "\n",
    "label_path = os.path.join(path, 'SegmentationClass')\n",
    "image_path = os.path.join(path, 'JPEGImages')"
   ]
  },
  {
   "cell_type": "code",
   "execution_count": null,
   "metadata": {},
   "outputs": [],
   "source": [
    "w = 242 # pixels "
   ]
  },
  {
   "cell_type": "markdown",
   "metadata": {},
   "source": [
    "# Save cropped masks"
   ]
  },
  {
   "cell_type": "code",
   "execution_count": null,
   "metadata": {},
   "outputs": [],
   "source": [
    "list_of_labels = os.listdir(label_path)\n",
    "for i in range(len(list_of_labels)):\n",
    "    lab_file = os.path.join(\n",
    "        label_path, list_of_labels[i].split('.')[0])\n",
    "    lab = PIL.Image.open(lab_file + '.png')\n",
    "\n",
    "    cnt = 0\n",
    "    for row in range(lab.size[0] // w):\n",
    "        for col in range(lab.size[0] // w):\n",
    "            top = w * row\n",
    "            bot = w * (row + 1)\n",
    "            left  = w * col\n",
    "            right = w * (col + 1)\n",
    "            lab.crop(\n",
    "                (left, top, right, bot)\n",
    "            ).save(lab_file + '-' + str(cnt) + '.png')\n",
    "            cnt += 1\n",
    "    print(i, 'finished saving %d images' % cnt)"
   ]
  },
  {
   "cell_type": "markdown",
   "metadata": {},
   "source": [
    "# Save cropped images"
   ]
  },
  {
   "cell_type": "code",
   "execution_count": null,
   "metadata": {},
   "outputs": [],
   "source": [
    "#img = PIL.Image.open(img_file)\n",
    "#print(img.size)"
   ]
  },
  {
   "cell_type": "code",
   "execution_count": null,
   "metadata": {},
   "outputs": [],
   "source": [
    "list_of_images = os.listdir(image_path)\n",
    "for i in range(len(list_of_images)):\n",
    "    img_file = os.path.join(\n",
    "        image_path, list_of_images[i].split('.')[0])\n",
    "    img = PIL.Image.open(img_file + '.jpg')\n",
    "\n",
    "    cnt = 0\n",
    "    for row in range(img.size[0] // w):\n",
    "        for col in range(img.size[0] // w):\n",
    "            top = w * row\n",
    "            bot = w * (row + 1)\n",
    "            left  = w * col\n",
    "            right = w * (col + 1)\n",
    "            img.crop(\n",
    "                (left, top, right, bot)\n",
    "            ).save(img_file + '-' + str(cnt) + '.jpg')\n",
    "            cnt += 1\n",
    "    print(i, 'finished saving %d images' % cnt)"
   ]
  },
  {
   "cell_type": "markdown",
   "metadata": {},
   "source": [
    "# Visualization"
   ]
  },
  {
   "cell_type": "code",
   "execution_count": null,
   "metadata": {},
   "outputs": [],
   "source": [
    "wvz = 242 # 340, 283, 242, 212\n",
    "lbl = np.asarray(img)\n",
    "n_plot = lbl.shape[0] // wvz\n",
    "fig, axes = plt.subplots(n_plot, n_plot, figsize=(12, 12))\n",
    "\n",
    "for row in range(lbl.shape[0] // wvz):\n",
    "    for col in range(lbl.shape[0] // wvz):\n",
    "        axes[row, col].imshow(lbl[row*wvz:(1+row)*wvz, col*wvz:(col+1)*wvz])\n",
    "        axes[row, col].axis('off')\n",
    "#plt.tight_layout()        \n",
    "#plt.savefig(file + '_viz.png')"
   ]
  },
  {
   "cell_type": "code",
   "execution_count": null,
   "metadata": {},
   "outputs": [],
   "source": [
    "'''\n",
    "PIL.Image.fromarray(\n",
    "    np.uint8(\n",
    "        lbl[row*w:(1+row)*w, col*w:(col+1)*w] * 255\n",
    "    )\n",
    ").save(label_path + '-' + str(cnt) + '.png')\n",
    "'''"
   ]
  }
 ],
 "metadata": {
  "kernelspec": {
   "display_name": "Python 3",
   "language": "python",
   "name": "python3"
  },
  "language_info": {
   "codemirror_mode": {
    "name": "ipython",
    "version": 3
   },
   "file_extension": ".py",
   "mimetype": "text/x-python",
   "name": "python",
   "nbconvert_exporter": "python",
   "pygments_lexer": "ipython3",
   "version": "3.6.7"
  }
 },
 "nbformat": 4,
 "nbformat_minor": 2
}
