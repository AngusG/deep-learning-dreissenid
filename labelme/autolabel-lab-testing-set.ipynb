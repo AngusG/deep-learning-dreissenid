{
 "cells": [
  {
   "cell_type": "code",
   "execution_count": null,
   "metadata": {},
   "outputs": [],
   "source": [
    "import os\n",
    "import cv2\n",
    "import numpy as np\n",
    "import matplotlib.pyplot as plt\n",
    "\n",
    "from glob import glob"
   ]
  },
  {
   "cell_type": "code",
   "execution_count": null,
   "metadata": {},
   "outputs": [],
   "source": [
    "!pip install pystruct"
   ]
  },
  {
   "cell_type": "code",
   "execution_count": null,
   "metadata": {},
   "outputs": [],
   "source": [
    "DATA_PATH = r'/scratch/gallowaa/cciw/Data'\n",
    "SAVE_PATH = '/scratch/ssd/gallowaa/cciw/dataset_raw_v0-2-x/Test/Lab'"
   ]
  },
  {
   "cell_type": "code",
   "execution_count": null,
   "metadata": {},
   "outputs": [],
   "source": [
    "# Search for all image files in testing set...\n",
    "all_images = glob(os.path.join(DATA_PATH,'Videos_and_stills/TestingSet/Lab/*/*/*/Images/Quad*/*.jpg'))\n",
    "len(all_images)"
   ]
  },
  {
   "cell_type": "code",
   "execution_count": null,
   "metadata": {},
   "outputs": [],
   "source": [
    "# meta-parameters\n",
    "'''\n",
    "@param blockSize Size of a pixel neighborhood \n",
    "       that is used to calculate a threshold value for the pixel.\n",
    "@param C Constant subtracted from the mean or weighted mean \n",
    "       (see the details below). Normally, it is positive but may be zero \n",
    "       or negative as well.\n",
    "@param k_size morphology structuring element size\n",
    "'''\n",
    "blockSize  = 301#1\n",
    "C_constant = 2\n",
    "k_size     = 11\n",
    "\n",
    "min_area = 40000\n",
    "max_area = 300000\n",
    "\n",
    "bottom_cut = 150\n",
    "horiz_cut = 200"
   ]
  },
  {
   "cell_type": "code",
   "execution_count": null,
   "metadata": {
    "scrolled": false
   },
   "outputs": [],
   "source": [
    "k_25 = np.ones((25, 25), np.uint8)\n",
    "k_120 = np.ones((120, 120), np.uint8)\n",
    "kernel = cv2.getStructuringElement(cv2.MORPH_ELLIPSE, (k_size, k_size))\n",
    "\n",
    "for i in range(len(all_images)):\n",
    "#i = 0\n",
    "    im   = cv2.imread(all_images[i])\n",
    "    rgb  = cv2.cvtColor(im, cv2.COLOR_BGR2RGB)\n",
    "    gray = cv2.cvtColor(im, cv2.COLOR_BGR2GRAY)\n",
    "    th1  = cv2.adaptiveThreshold(gray, 255, cv2.ADAPTIVE_THRESH_MEAN_C, cv2.THRESH_BINARY, blockSize, C_constant)\n",
    "\n",
    "    #kernel = np.ones((k_size, k_size), np.uint8)\n",
    "    erosion = cv2.erode(th1, kernel, iterations=2)\n",
    "    close = cv2.dilate(erosion, kernel, iterations=1)\n",
    "\n",
    "    '''\n",
    "    @param mode cv2.RETR_EXTERNAL retrieves only the extreme outer contours.\n",
    "    @param method cv2.CHAIN_APPROX_SIMPLE compresses horizontal, vertical, \n",
    "           and diagonal segments and leaves only their end points. For example, \n",
    "           an up-right rectangular contour is encoded with 4 points.\n",
    "    '''\n",
    "    cnts = cv2.findContours(close, cv2.RETR_EXTERNAL, cv2.CHAIN_APPROX_SIMPLE)\n",
    "    cnts = cnts[0] if len(cnts) == 2 else cnts[1]\n",
    "\n",
    "    for c in cnts:\n",
    "        area = cv2.contourArea(c)\n",
    "        if area > min_area: #and area < max_area:\n",
    "            x, y, w, h = cv2.boundingRect(c)\n",
    "            cv2.rectangle(rgb, (x, y), (x + w, y + h), (36, 255, 12), 5)\n",
    "            close[y:y+h, x:x+w] = 0\n",
    "\n",
    "    fig, axes = plt.subplots(1, 2, figsize=(16, 12))\n",
    "    #axes[0].imshow(rgb)\n",
    "\n",
    "    close[:, :horiz_cut] = 0\n",
    "    close[:, close.shape[1] - horiz_cut:] = 0\n",
    "    close[close.shape[0] - bottom_cut:, :] = 0\n",
    "    close = cv2.dilate(close, kernel, iterations=1)\n",
    "    \n",
    "    # to remove leftover dots\n",
    "    t = cv2.erode(close, k_25, iterations=1)\n",
    "    mask = cv2.dilate(t, k_120, iterations=1)\n",
    "\n",
    "    axes[0].imshow(close)\n",
    "    axes[1].imshow(close & mask)\n",
    "    for i in range(len(axes.flat)):\n",
    "        axes.flat[i].axis('off')\n",
    "    plt.show() #pause(0.1)"
   ]
  },
  {
   "cell_type": "code",
   "execution_count": null,
   "metadata": {},
   "outputs": [],
   "source": [
    "mask_file = os.path.join(SAVE_PATH, all_images[i].split('/')[-1].split('.')[0] + '_mask.png')\n",
    "jpeg_file = os.path.join(SAVE_PATH, all_images[i].split('/')[-1])"
   ]
  },
  {
   "cell_type": "code",
   "execution_count": null,
   "metadata": {},
   "outputs": [],
   "source": [
    "cv2.imwrite(mask_file, close & mask)"
   ]
  },
  {
   "cell_type": "code",
   "execution_count": null,
   "metadata": {},
   "outputs": [],
   "source": [
    "cv2.imwrite(jpeg_file, im)"
   ]
  },
  {
   "cell_type": "code",
   "execution_count": null,
   "metadata": {},
   "outputs": [],
   "source": [
    "good = close.copy()"
   ]
  },
  {
   "cell_type": "code",
   "execution_count": null,
   "metadata": {},
   "outputs": [],
   "source": [
    "k_size = 25\n",
    "kernel = np.ones((k_size, k_size), np.uint8)\n",
    "t = cv2.erode(close, kernel, iterations=1)\n",
    "\n",
    "k_size = 120\n",
    "kernel = np.ones((k_size, k_size), np.uint8)\n",
    "mask = cv2.dilate(t, kernel, iterations=1)"
   ]
  },
  {
   "cell_type": "code",
   "execution_count": null,
   "metadata": {},
   "outputs": [],
   "source": [
    "plt.imshow()"
   ]
  },
  {
   "cell_type": "code",
   "execution_count": null,
   "metadata": {},
   "outputs": [],
   "source": [
    "#plt.imshow(erosion)"
   ]
  },
  {
   "cell_type": "code",
   "execution_count": null,
   "metadata": {},
   "outputs": [],
   "source": [
    "close.shape"
   ]
  },
  {
   "cell_type": "code",
   "execution_count": null,
   "metadata": {},
   "outputs": [],
   "source": [
    "mask"
   ]
  },
  {
   "cell_type": "code",
   "execution_count": null,
   "metadata": {},
   "outputs": [],
   "source": [
    "fig, axes = plt.subplots(1, 2, figsize=(16, 12))\n",
    "axes[0].imshow(close)\n",
    "#clean_mask = close[mask == 1] = 1\n",
    "axes[1].imshow(mask)\n",
    "for i in range(len(axes.flat)):\n",
    "    axes.flat[i].axis('off')\n",
    "plt.show() #pause(0.1)"
   ]
  },
  {
   "cell_type": "code",
   "execution_count": null,
   "metadata": {},
   "outputs": [],
   "source": [
    "import numpy as np\n",
    "try:\n",
    "    import cPickle as pickle\n",
    "except ImportError:\n",
    "    import pickle\n",
    "\n",
    "from pystruct import learners\n",
    "import pystruct.models as crfs\n",
    "from pystruct.utils import SaveLogger"
   ]
  },
  {
   "cell_type": "code",
   "execution_count": null,
   "metadata": {},
   "outputs": [],
   "source": [
    "!pip install cvxopt"
   ]
  },
  {
   "cell_type": "code",
   "execution_count": null,
   "metadata": {},
   "outputs": [],
   "source": [
    "#data_train = pickle.load()\n",
    "# https://rebeccabilbro.github.io/convert-py2-pickles-to-py3/\n",
    "with open('/scratch/ssd/data/CRF_Tut/data_train.pickle', 'rb') as f:\n",
    "    data_train = pickle.load(f, encoding='latin1')"
   ]
  },
  {
   "cell_type": "code",
   "execution_count": null,
   "metadata": {},
   "outputs": [],
   "source": [
    "#data_train = pickle.load(open(\"/scratch/ssd/data/CRF_Tut/data_train.pickle\"))\n",
    "C = 0.01\n",
    "\n",
    "n_states = 21\n",
    "print(\"number of samples: %s\" % len(data_train['X']))\n",
    "class_weights = 1. / np.bincount(np.hstack(data_train['Y']))\n",
    "class_weights *= 21. / np.sum(class_weights)\n",
    "print(class_weights)\n",
    "\n",
    "model = crfs.EdgeFeatureGraphCRF(inference_method='qpbo',\n",
    "                                 class_weight=class_weights,\n",
    "                                 symmetric_edge_features=[0, 1],\n",
    "                                 antisymmetric_edge_features=[2])\n",
    "\n",
    "experiment_name = \"edge_features_one_slack_trainval_%f\" % C\n",
    "\n",
    "ssvm = learners.NSlackSSVM(\n",
    "    model, verbose=2, C=C, max_iter=100000, n_jobs=-1,\n",
    "    tol=0.0001, show_loss_every=5,\n",
    "    logger=SaveLogger(experiment_name + \".pickle\", save_every=100),\n",
    "    inactive_threshold=1e-3, inactive_window=10, batch_size=100)\n",
    "ssvm.fit(data_train['X'], data_train['Y'])\n",
    "\n",
    "data_val = pickle.load(open(\"data_val_dict.pickle\"))\n",
    "y_pred = ssvm.predict(data_val['X'])\n",
    "\n",
    "# we throw away void superpixels and flatten everything\n",
    "y_pred, y_true = np.hstack(y_pred), np.hstack(data_val['Y'])\n",
    "y_pred = y_pred[y_true != 255]\n",
    "y_true = y_true[y_true != 255]\n",
    "\n",
    "print(\"Score on validation set: %f\" % np.mean(y_true == y_pred))"
   ]
  },
  {
   "cell_type": "code",
   "execution_count": null,
   "metadata": {},
   "outputs": [],
   "source": [
    "!pip install pyqpbo"
   ]
  },
  {
   "cell_type": "code",
   "execution_count": null,
   "metadata": {},
   "outputs": [],
   "source": []
  }
 ],
 "metadata": {
  "kernelspec": {
   "display_name": "Python 3",
   "language": "python",
   "name": "python3"
  },
  "language_info": {
   "codemirror_mode": {
    "name": "ipython",
    "version": 3
   },
   "file_extension": ".py",
   "mimetype": "text/x-python",
   "name": "python",
   "nbconvert_exporter": "python",
   "pygments_lexer": "ipython3",
   "version": "3.6.6"
  }
 },
 "nbformat": 4,
 "nbformat_minor": 4
}
