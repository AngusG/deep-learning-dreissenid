{
 "cells": [
  {
   "cell_type": "code",
   "execution_count": null,
   "metadata": {},
   "outputs": [],
   "source": [
    "import os\n",
    "import cv2\n",
    "import numpy as np\n",
    "import pandas as pd\n",
    "import matplotlib.pyplot as plt\n",
    "\n",
    "from glob import glob"
   ]
  },
  {
   "cell_type": "code",
   "execution_count": null,
   "metadata": {},
   "outputs": [],
   "source": [
    "DATA_PATH = r'/scratch/gallowaa/cciw/Data'"
   ]
  },
  {
   "cell_type": "code",
   "execution_count": null,
   "metadata": {},
   "outputs": [],
   "source": [
    "# Search for all image files in testing set...\n",
    "all_images = glob(os.path.join(DATA_PATH,'Videos_and_stills/TestingSet/Lab/*/*/*/Images/Quad*/*.jpg'))\n",
    "len(all_images)"
   ]
  },
  {
   "cell_type": "code",
   "execution_count": null,
   "metadata": {},
   "outputs": [],
   "source": [
    "# meta-parameters\n",
    "'''\n",
    "@param blockSize Size of a pixel neighborhood \n",
    "       that is used to calculate a threshold value for the pixel.\n",
    "@param C Constant subtracted from the mean or weighted mean \n",
    "       (see the details below). Normally, it is positive but may be zero \n",
    "       or negative as well.\n",
    "@param k_size morphology structuring element size\n",
    "'''\n",
    "blockSize  = 301\n",
    "C_constant = 2\n",
    "k_size     = 11\n",
    "\n",
    "min_area = 40000\n",
    "max_area = 300000\n",
    "\n",
    "bottom_cut = 150\n",
    "horiz_cut = 200"
   ]
  },
  {
   "cell_type": "code",
   "execution_count": null,
   "metadata": {
    "scrolled": false
   },
   "outputs": [],
   "source": [
    "for i in range(len(all_images)):\n",
    "    im   = cv2.imread(all_images[i])\n",
    "    rgb  = cv2.cvtColor(im, cv2.COLOR_BGR2RGB)\n",
    "    gray = cv2.cvtColor(im, cv2.COLOR_BGR2GRAY)\n",
    "    th1  = cv2.adaptiveThreshold(gray, 255, cv2.ADAPTIVE_THRESH_MEAN_C, cv2.THRESH_BINARY, blockSize, C_constant)\n",
    "\n",
    "    #kernel = np.ones((k_size, k_size), np.uint8)\n",
    "    kernel = cv2.getStructuringElement(cv2.MORPH_ELLIPSE, (k_size, k_size))\n",
    "    erosion = cv2.erode(th1, kernel, iterations=2)\n",
    "    close = cv2.dilate(erosion, kernel, iterations=1)\n",
    "\n",
    "    '''\n",
    "    @param mode cv2.RETR_EXTERNAL retrieves only the extreme outer contours.\n",
    "    @param method cv2.CHAIN_APPROX_SIMPLE compresses horizontal, vertical, \n",
    "           and diagonal segments and leaves only their end points. For example, \n",
    "           an up-right rectangular contour is encoded with 4 points.\n",
    "    '''\n",
    "    cnts = cv2.findContours(close, cv2.RETR_EXTERNAL, cv2.CHAIN_APPROX_SIMPLE)\n",
    "    cnts = cnts[0] if len(cnts) == 2 else cnts[1]\n",
    "\n",
    "    for c in cnts:\n",
    "        area = cv2.contourArea(c)\n",
    "        if area > min_area: #and area < max_area:\n",
    "            x, y, w, h = cv2.boundingRect(c)\n",
    "            cv2.rectangle(rgb, (x, y), (x + w, y + h), (36, 255, 12), 5)\n",
    "            close[y:y+h, x:x+w] = 0\n",
    "\n",
    "    fig, axes = plt.subplots(1, 2, figsize=(16, 12))\n",
    "    axes[0].imshow(rgb)\n",
    "    \n",
    "    close[:, :horiz_cut] = 0\n",
    "    close[:, close.shape[1] - horiz_cut:] = 0\n",
    "    close[close.shape[0] - bottom_cut:, :] = 0\n",
    "    \n",
    "    axes[1].imshow(close)\n",
    "    for i in range(len(axes.flat)):\n",
    "        axes.flat[i].axis('off')\n",
    "    plt.show() #pause(0.1)"
   ]
  },
  {
   "cell_type": "code",
   "execution_count": null,
   "metadata": {},
   "outputs": [],
   "source": [
    "#horiz_cut = 200\n",
    "close[:, :horiz_cut] = 0\n",
    "close[:, close.shape[1] - horiz_cut:] = 0\n",
    "close[close.shape[0] - bottom_cut:, :] = 0\n",
    "plt.imshow(close)"
   ]
  },
  {
   "cell_type": "code",
   "execution_count": null,
   "metadata": {},
   "outputs": [],
   "source": [
    "close.shape"
   ]
  },
  {
   "cell_type": "code",
   "execution_count": null,
   "metadata": {},
   "outputs": [],
   "source": []
  },
  {
   "cell_type": "code",
   "execution_count": null,
   "metadata": {},
   "outputs": [],
   "source": [
    "rgb.shape"
   ]
  },
  {
   "cell_type": "code",
   "execution_count": null,
   "metadata": {},
   "outputs": [],
   "source": []
  }
 ],
 "metadata": {
  "kernelspec": {
   "display_name": "Python 3",
   "language": "python",
   "name": "python3"
  },
  "language_info": {
   "codemirror_mode": {
    "name": "ipython",
    "version": 3
   },
   "file_extension": ".py",
   "mimetype": "text/x-python",
   "name": "python",
   "nbconvert_exporter": "python",
   "pygments_lexer": "ipython3",
   "version": "3.6.6"
  }
 },
 "nbformat": 4,
 "nbformat_minor": 4
}
