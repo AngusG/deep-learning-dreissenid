{
 "cells": [
  {
   "cell_type": "code",
   "execution_count": 1,
   "metadata": {},
   "outputs": [],
   "source": [
    "import os\n",
    "import cv2 as cv\n",
    "import numpy as np\n",
    "import pandas as pd\n",
    "import matplotlib.pyplot as plt\n",
    "\n",
    "from glob import glob\n",
    "from datetime import datetime\n",
    "\n",
    "scale_percent = 75 # percent of original size"
   ]
  },
  {
   "cell_type": "code",
   "execution_count": 2,
   "metadata": {},
   "outputs": [],
   "source": [
    "DATA_PATH = r'/scratch/gallowaa/cciw/Data'"
   ]
  },
  {
   "cell_type": "code",
   "execution_count": 3,
   "metadata": {},
   "outputs": [],
   "source": [
    "# Search for all image files in testing set...\n",
    "all_images = glob(os.path.join(DATA_PATH,'Videos_and_stills/TestingSet/GLNI/*/*/*/Images/Quad*/*.jpg'))"
   ]
  },
  {
   "cell_type": "code",
   "execution_count": null,
   "metadata": {},
   "outputs": [],
   "source": [
    "#len(all_images)"
   ]
  },
  {
   "cell_type": "code",
   "execution_count": null,
   "metadata": {},
   "outputs": [],
   "source": [
    "#all_images"
   ]
  },
  {
   "cell_type": "code",
   "execution_count": 4,
   "metadata": {},
   "outputs": [],
   "source": [
    "imagetable_path = os.path.join(DATA_PATH, 'Tables', 'ImageTable.csv')\n",
    "image_df = pd.read_csv(imagetable_path, index_col=0)"
   ]
  },
  {
   "cell_type": "code",
   "execution_count": 5,
   "metadata": {},
   "outputs": [
    {
     "data": {
      "text/plain": [
       "Index(['Dive Index', 'Quadrat', 'Live Coverage', 'Empty Coverage', 'Biomass',\n",
       "       'Count', '16mm', '14mm', '12.5mm', '10mm', '8mm', '6.3mm', '4mm', '2mm',\n",
       "       'Analysis Index', 'Cruise #', 'CSN', 'PSN', 'Date', 'Depth (m)',\n",
       "       'Overall Coverage', 'Silt (%)', 'Clay (%)', 'Sand (%)', 'Gravel (%)',\n",
       "       'Cobble (%)', 'Rock (%)', 'Bedrock (%)', 'Boulders (%)', 'Shale (%)',\n",
       "       'Underlying Substrate Type', 'Underlying Substrate Depth (cm)'],\n",
       "      dtype='object')"
      ]
     },
     "execution_count": 5,
     "metadata": {},
     "output_type": "execute_result"
    }
   ],
   "source": [
    "analysis_path = os.path.join(DATA_PATH, 'Tables', 'Analysis.csv')\n",
    "dive_path = os.path.join(DATA_PATH, 'Tables', 'Dives.csv')\n",
    "\n",
    "analysis_df = pd.read_csv(analysis_path, index_col=0, dtype={'Count':float})\n",
    "dive_df = pd.read_csv(dive_path, index_col=0, parse_dates=['Date'])\n",
    "data_df = pd.merge(analysis_df, dive_df, on='Dive Index', how='outer')\n",
    "data_df.columns"
   ]
  },
  {
   "cell_type": "code",
   "execution_count": 6,
   "metadata": {},
   "outputs": [],
   "source": [
    "# Number of dives for each year-month\n",
    "dive_df['Year-Month'] = dive_df['Date'].dt.strftime('%Y-%m')\n",
    "dive_df_by_year_month = dive_df.groupby(by='Year-Month').count()['PSN']\n",
    "dive_df_by_year_month.index = [datetime.strptime(year_month, '%Y-%m') for year_month in dive_df_by_year_month.index]\n",
    "#dive_df_by_year_month"
   ]
  },
  {
   "cell_type": "code",
   "execution_count": 7,
   "metadata": {},
   "outputs": [
    {
     "name": "stdout",
     "output_type": "stream",
     "text": [
      "/scratch/ssd/gallowaa/cciw/dataset_raw_v0-2-x/Test\n",
      "Int64Index([], dtype='int64', name='Dive Index')\n"
     ]
    }
   ],
   "source": [
    "YM = 'Test'\n",
    "\n",
    "save_path = os.path.join('/scratch/ssd/gallowaa/cciw/dataset_raw_v0-2-x', YM)\n",
    "print(save_path)\n",
    "\n",
    "dive_idx = dive_df[dive_df['Year-Month'].values == YM].index #['Dive Index']\n",
    "print(dive_idx)"
   ]
  },
  {
   "cell_type": "code",
   "execution_count": 8,
   "metadata": {},
   "outputs": [],
   "source": [
    "# analysis indices for data collected in 2018-07\n",
    "indices = data_df.loc[data_df['Dive Index'].isin(dive_idx)]['Analysis Index'].values"
   ]
  },
  {
   "cell_type": "code",
   "execution_count": 9,
   "metadata": {},
   "outputs": [],
   "source": [
    "#image_df[image_df['Analysis Index'].isin(indices)]\n",
    "fnames = image_df[image_df['Analysis Index'].isin(indices)]['Name']"
   ]
  },
  {
   "cell_type": "code",
   "execution_count": 10,
   "metadata": {},
   "outputs": [],
   "source": [
    "root = os.path.join(DATA_PATH,'Videos_and_stills/TestingSet/GLNI/')"
   ]
  },
  {
   "cell_type": "code",
   "execution_count": 11,
   "metadata": {},
   "outputs": [],
   "source": [
    "# only load the highest number\n",
    "#fnames = fnames.to_list()\n",
    "#print(len(fnames))"
   ]
  },
  {
   "cell_type": "code",
   "execution_count": 12,
   "metadata": {},
   "outputs": [],
   "source": [
    "#all_images[0].split('/')[-1].split('_')[3].split('-')[1]"
   ]
  },
  {
   "cell_type": "code",
   "execution_count": 13,
   "metadata": {},
   "outputs": [],
   "source": [
    "#int(t[-1].split('-')[1])"
   ]
  },
  {
   "cell_type": "code",
   "execution_count": 14,
   "metadata": {},
   "outputs": [],
   "source": [
    "#int('19')"
   ]
  },
  {
   "cell_type": "code",
   "execution_count": 16,
   "metadata": {},
   "outputs": [
    {
     "data": {
      "text/plain": [
       "403"
      ]
     },
     "execution_count": 16,
     "metadata": {},
     "output_type": "execute_result"
    }
   ],
   "source": [
    "len(all_images)"
   ]
  },
  {
   "cell_type": "code",
   "execution_count": 15,
   "metadata": {},
   "outputs": [],
   "source": [
    "dirs = all_images[0].split('/')[0:-1]"
   ]
  },
  {
   "cell_type": "markdown",
   "metadata": {},
   "source": [
    "Run this cell twice"
   ]
  },
  {
   "cell_type": "code",
   "execution_count": 19,
   "metadata": {},
   "outputs": [
    {
     "name": "stdout",
     "output_type": "stream",
     "text": [
      "174\n"
     ]
    }
   ],
   "source": [
    "# only keep the images with highest suffix number (highest quality)\n",
    "# run twice\n",
    "for i, f in enumerate(all_images):\n",
    "    dirs = f.split('/')\n",
    "    t = dirs[-1].split('.')[0].split('_')\n",
    "    img_nb = int(t[-1].split('-')[1])\n",
    "    \n",
    "    # check the image number\n",
    "    if img_nb > 1:\n",
    "        dirpath = ''\n",
    "        for d in dirs[0:-1]:\n",
    "            dirpath += d + '/'\n",
    "        \n",
    "        # sometimes numbers are non-contiguous\n",
    "        while (img_nb - 1) > 0:\n",
    "            try:\n",
    "                to_rm = t[0] + '_' + t[1] + '_' + t[2] + '_' + t[3].split('-')[0] + '-' + str(img_nb - 1) + '.jpg'\n",
    "                all_images.remove(os.path.join(dirpath, to_rm))\n",
    "            except:\n",
    "                pass\n",
    "            img_nb -= 1\n",
    "print(len(all_images))"
   ]
  },
  {
   "cell_type": "code",
   "execution_count": 20,
   "metadata": {},
   "outputs": [
    {
     "data": {
      "text/plain": [
       "['/scratch/gallowaa/cciw/Data/Videos_and_stills/TestingSet/GLNI/3784/2019/Jul.17/Images/Quad2/GLNI_3784-2_2019-07-17_image-3.jpg',\n",
       " '/scratch/gallowaa/cciw/Data/Videos_and_stills/TestingSet/GLNI/3784/2019/Jul.17/Images/Quad3/GLNI_3784-3_2019-07-17_image-3.jpg',\n",
       " '/scratch/gallowaa/cciw/Data/Videos_and_stills/TestingSet/GLNI/3784/2019/Jul.17/Images/Quad1/GLNI_3784-1_2019-07-17_image-2.jpg',\n",
       " '/scratch/gallowaa/cciw/Data/Videos_and_stills/TestingSet/GLNI/3784/2019/Jun.13/Images/Quad2/GLNI_3784-2_2019-06-13_image-3.jpg',\n",
       " '/scratch/gallowaa/cciw/Data/Videos_and_stills/TestingSet/GLNI/3784/2019/Jun.13/Images/Quad3/GLNI_3784-3_2019-06-13_image-5.jpg',\n",
       " '/scratch/gallowaa/cciw/Data/Videos_and_stills/TestingSet/GLNI/3784/2019/Jun.13/Images/Quad1/GLNI_3784-1_2019-06-13_image-2.jpg',\n",
       " '/scratch/gallowaa/cciw/Data/Videos_and_stills/TestingSet/GLNI/503/2019/Jun.19/Images/Quad2/GLNI_503-2_2019-06-19_image-2.jpg',\n",
       " '/scratch/gallowaa/cciw/Data/Videos_and_stills/TestingSet/GLNI/503/2019/Jun.19/Images/Quad3/GLNI_503-3_2019-06-19_image-4.jpg',\n",
       " '/scratch/gallowaa/cciw/Data/Videos_and_stills/TestingSet/GLNI/503/2019/Jun.19/Images/Quad1/GLNI_503-1_2019-06-19_image-2.jpg',\n",
       " '/scratch/gallowaa/cciw/Data/Videos_and_stills/TestingSet/GLNI/503/2019/Jun.05/Images/Quad2/GLNI_503-2_2019-06-05_image-2.jpg',\n",
       " '/scratch/gallowaa/cciw/Data/Videos_and_stills/TestingSet/GLNI/503/2019/Jun.05/Images/Quad3/GLNI_503-3_2019-06-05_image-2.jpg',\n",
       " '/scratch/gallowaa/cciw/Data/Videos_and_stills/TestingSet/GLNI/503/2019/Jun.05/Images/Quad1/GLNI_503-1_2019-06-05_image-1.jpg',\n",
       " '/scratch/gallowaa/cciw/Data/Videos_and_stills/TestingSet/GLNI/503/2019/Jul.10/Images/Quad2/GLNI_503-2_2019-07-10_image-2.jpg',\n",
       " '/scratch/gallowaa/cciw/Data/Videos_and_stills/TestingSet/GLNI/503/2019/Jul.10/Images/Quad3/GLNI_503-3_2019-07-10_image-1.jpg',\n",
       " '/scratch/gallowaa/cciw/Data/Videos_and_stills/TestingSet/GLNI/503/2019/Jul.10/Images/Quad1/GLNI_503-1_2019-07-10_image-1.jpg',\n",
       " '/scratch/gallowaa/cciw/Data/Videos_and_stills/TestingSet/GLNI/503/2019/Jul.23/Images/Quad2/GLNI_503-2_2019-07-23_image-2.jpg',\n",
       " '/scratch/gallowaa/cciw/Data/Videos_and_stills/TestingSet/GLNI/503/2019/Jul.23/Images/Quad3/GLNI_503-3_2019-07-23_image-2.jpg',\n",
       " '/scratch/gallowaa/cciw/Data/Videos_and_stills/TestingSet/GLNI/503/2019/Jul.23/Images/Quad1/GLNI_503-1_2019-07-23_image-2.jpg',\n",
       " '/scratch/gallowaa/cciw/Data/Videos_and_stills/TestingSet/GLNI/501/2019/Jun.19/Images/Quad2/GLNI_501-2_2019-06-19_image-2.jpg',\n",
       " '/scratch/gallowaa/cciw/Data/Videos_and_stills/TestingSet/GLNI/501/2019/Jun.19/Images/Quad3/GLNI_501-3_2019-06-19_image-2.jpg',\n",
       " '/scratch/gallowaa/cciw/Data/Videos_and_stills/TestingSet/GLNI/501/2019/Jun.19/Images/Quad1/GLNI_501-1_2019-06-19_image-11.jpg',\n",
       " '/scratch/gallowaa/cciw/Data/Videos_and_stills/TestingSet/GLNI/501/2019/Jun.05/Images/Quad2/GLNI_501-2_2019-06-05_image-1.jpg',\n",
       " '/scratch/gallowaa/cciw/Data/Videos_and_stills/TestingSet/GLNI/501/2019/Jun.05/Images/Quad3/GLNI_501-3_2019-06-05_image-1.jpg',\n",
       " '/scratch/gallowaa/cciw/Data/Videos_and_stills/TestingSet/GLNI/501/2019/Jun.05/Images/Quad1/GLNI_501-1_2019-06-05_image-1.jpg',\n",
       " '/scratch/gallowaa/cciw/Data/Videos_and_stills/TestingSet/GLNI/501/2019/Jul.10/Images/Quad2/GLNI_501-2_2019-07-10_image-1.jpg',\n",
       " '/scratch/gallowaa/cciw/Data/Videos_and_stills/TestingSet/GLNI/501/2019/Jul.10/Images/Quad3/GLNI_501-3_2019-07-10_image-1.jpg',\n",
       " '/scratch/gallowaa/cciw/Data/Videos_and_stills/TestingSet/GLNI/501/2019/Jul.10/Images/Quad1/GLNI_501-1_2019-07-10_image-1.jpg',\n",
       " '/scratch/gallowaa/cciw/Data/Videos_and_stills/TestingSet/GLNI/501/2019/Jul.23/Images/Quad2/GLNI_501-2_2019-07-23_image-1.jpg',\n",
       " '/scratch/gallowaa/cciw/Data/Videos_and_stills/TestingSet/GLNI/501/2019/Jul.23/Images/Quad3/GLNI_501-3_2019-07-23_image-1.jpg',\n",
       " '/scratch/gallowaa/cciw/Data/Videos_and_stills/TestingSet/GLNI/501/2019/Jul.23/Images/Quad1/GLNI_501-1_2019-07-23_image-1.jpg',\n",
       " '/scratch/gallowaa/cciw/Data/Videos_and_stills/TestingSet/GLNI/504/2019/Jul.25/Images/Quad2/GLNI_504-2_2019-07-25_image-20.jpg',\n",
       " '/scratch/gallowaa/cciw/Data/Videos_and_stills/TestingSet/GLNI/504/2019/Jul.25/Images/Quad3/GLNI_504-3_2019-07-25_image-18.jpg',\n",
       " '/scratch/gallowaa/cciw/Data/Videos_and_stills/TestingSet/GLNI/504/2019/Jul.25/Images/Quad1/GLNI_504-1_2019-07-25_image-22.jpg',\n",
       " '/scratch/gallowaa/cciw/Data/Videos_and_stills/TestingSet/GLNI/504/2019/Jun.05/Images/Quad1/GLNI_504-1_2019-06-05_image-1.jpg',\n",
       " '/scratch/gallowaa/cciw/Data/Videos_and_stills/TestingSet/GLNI/504/2019/Jul.10/Images/Quad2/GLNI_504-2_2019-07-10_image-1.jpg',\n",
       " '/scratch/gallowaa/cciw/Data/Videos_and_stills/TestingSet/GLNI/504/2019/Jul.10/Images/Quad3/GLNI_504-3_2019-07-10_image-1.jpg',\n",
       " '/scratch/gallowaa/cciw/Data/Videos_and_stills/TestingSet/GLNI/504/2019/Jul.10/Images/Quad1/GLNI_504-1_2019-07-10_image-1.jpg',\n",
       " '/scratch/gallowaa/cciw/Data/Videos_and_stills/TestingSet/GLNI/504/2019/Jul.23/Images/Quad2/GLNI_504-2_2019-07-23_image-3.jpg',\n",
       " '/scratch/gallowaa/cciw/Data/Videos_and_stills/TestingSet/GLNI/504/2019/Jul.23/Images/Quad3/GLNI_504-3_2019-07-23_image-3.jpg',\n",
       " '/scratch/gallowaa/cciw/Data/Videos_and_stills/TestingSet/GLNI/504/2019/Jul.23/Images/Quad1/GLNI_504-1_2019-07-23_image-1.jpg',\n",
       " '/scratch/gallowaa/cciw/Data/Videos_and_stills/TestingSet/GLNI/504/2019/Aug.16/Images/Quad2/GLNI_504-2_2019-08-16_image-2.jpg',\n",
       " '/scratch/gallowaa/cciw/Data/Videos_and_stills/TestingSet/GLNI/504/2019/Aug.16/Images/Quad3/GLNI_504-3_2019-08-16_image-2.jpg',\n",
       " '/scratch/gallowaa/cciw/Data/Videos_and_stills/TestingSet/GLNI/504/2019/Aug.16/Images/Quad1/GLNI_504-1_2019-08-16_image-2.jpg',\n",
       " '/scratch/gallowaa/cciw/Data/Videos_and_stills/TestingSet/GLNI/3783/2019/Jul.17/Images/Quad2/GLNI_3783-2_2019-07-17_image-3.jpg',\n",
       " '/scratch/gallowaa/cciw/Data/Videos_and_stills/TestingSet/GLNI/3783/2019/Jul.17/Images/Quad3/GLNI_3783-3_2019-07-17_image-3.jpg',\n",
       " '/scratch/gallowaa/cciw/Data/Videos_and_stills/TestingSet/GLNI/3783/2019/Jul.17/Images/Quad1/GLNI_3783-1_2019-07-17_image-2.jpg',\n",
       " '/scratch/gallowaa/cciw/Data/Videos_and_stills/TestingSet/GLNI/3783/2019/Jun.13/Images/Quad2/GLNI_3783-2_2019-06-13_image-3.jpg',\n",
       " '/scratch/gallowaa/cciw/Data/Videos_and_stills/TestingSet/GLNI/3783/2019/Jun.13/Images/Quad3/GLNI_3783-3_2019-06-13_image-2.jpg',\n",
       " '/scratch/gallowaa/cciw/Data/Videos_and_stills/TestingSet/GLNI/3783/2019/Jun.13/Images/Quad1/GLNI_3783-1_2019-06-13_image-2.jpg',\n",
       " '/scratch/gallowaa/cciw/Data/Videos_and_stills/TestingSet/GLNI/2908/2019/Jun.11/Images/Quad2/GLNI_2908-2_2019-06-11_image-4.jpg',\n",
       " '/scratch/gallowaa/cciw/Data/Videos_and_stills/TestingSet/GLNI/2908/2019/Jun.11/Images/Quad3/GLNI_2908-3_2019-06-11_image-4.jpg',\n",
       " '/scratch/gallowaa/cciw/Data/Videos_and_stills/TestingSet/GLNI/2908/2019/Jun.11/Images/Quad1/GLNI_2908-1_2019-06-11_image-4.jpg',\n",
       " '/scratch/gallowaa/cciw/Data/Videos_and_stills/TestingSet/GLNI/2908/2019/Aug.21/Images/Quad2/GLNI_2908-2_2019-08-21_image-2.jpg',\n",
       " '/scratch/gallowaa/cciw/Data/Videos_and_stills/TestingSet/GLNI/2908/2019/Aug.21/Images/Quad3/GLNI_2908-3_2019-08-21_image-3.jpg',\n",
       " '/scratch/gallowaa/cciw/Data/Videos_and_stills/TestingSet/GLNI/2908/2019/Aug.21/Images/Quad1/GLNI_2908-1_2019-08-21_image-3.jpg',\n",
       " '/scratch/gallowaa/cciw/Data/Videos_and_stills/TestingSet/GLNI/2908/2019/Jul.18/Images/Quad2/GLNI_2908-2_2019-07-18_image-2.jpg',\n",
       " '/scratch/gallowaa/cciw/Data/Videos_and_stills/TestingSet/GLNI/2908/2019/Jul.18/Images/Quad3/GLNI_2908-3_2019-07-18_image-2.jpg',\n",
       " '/scratch/gallowaa/cciw/Data/Videos_and_stills/TestingSet/GLNI/2908/2019/Jul.18/Images/Quad1/GLNI_2908-1_2019-07-18_image-2.jpg',\n",
       " '/scratch/gallowaa/cciw/Data/Videos_and_stills/TestingSet/GLNI/3787/2019/Jul.17/Images/Quad2/GLNI_3787-2_2019-07-17_image-2.jpg',\n",
       " '/scratch/gallowaa/cciw/Data/Videos_and_stills/TestingSet/GLNI/3787/2019/Jul.17/Images/Quad3/GLNI_3787-3_2019-07-17_image-2.jpg',\n",
       " '/scratch/gallowaa/cciw/Data/Videos_and_stills/TestingSet/GLNI/3787/2019/Jul.17/Images/Quad1/GLNI_3787-1_2019-07-17_image-2.jpg',\n",
       " '/scratch/gallowaa/cciw/Data/Videos_and_stills/TestingSet/GLNI/3787/2019/Jun.17/Images/Quad2/GLNI_3787-2_2019-06-17_image-1.jpg',\n",
       " '/scratch/gallowaa/cciw/Data/Videos_and_stills/TestingSet/GLNI/3787/2019/Jun.17/Images/Quad3/GLNI_3787-3_2019-06-17_image-1.jpg',\n",
       " '/scratch/gallowaa/cciw/Data/Videos_and_stills/TestingSet/GLNI/3787/2019/Jun.17/Images/Quad1/GLNI_3787-1_2019-06-17_image-1.jpg',\n",
       " '/scratch/gallowaa/cciw/Data/Videos_and_stills/TestingSet/GLNI/12/2019/Jul.25/Images/Quad2/GLNI_12-2_2019-07-25_image-1.jpg',\n",
       " '/scratch/gallowaa/cciw/Data/Videos_and_stills/TestingSet/GLNI/12/2019/Jul.25/Images/Quad3/GLNI_12-3_2019-07-25_image-3.jpg',\n",
       " '/scratch/gallowaa/cciw/Data/Videos_and_stills/TestingSet/GLNI/12/2019/Jul.25/Images/Quad1/GLNI_12-1_2019-07-25_image-2.jpg',\n",
       " '/scratch/gallowaa/cciw/Data/Videos_and_stills/TestingSet/GLNI/12/2019/Aug.14/Images/Quad2/GLNI_12-2_2019-08-14_image-2.jpg',\n",
       " '/scratch/gallowaa/cciw/Data/Videos_and_stills/TestingSet/GLNI/12/2019/Aug.14/Images/Quad3/GLNI_12-3_2019-08-14_image-2.jpg',\n",
       " '/scratch/gallowaa/cciw/Data/Videos_and_stills/TestingSet/GLNI/12/2019/Aug.14/Images/Quad1/GLNI_12-1_2019-08-14_image-2.jpg',\n",
       " '/scratch/gallowaa/cciw/Data/Videos_and_stills/TestingSet/GLNI/12/2019/Jun.04/Images/Quad2/GLNI_12-2_2019-06-04_image-1.jpg',\n",
       " '/scratch/gallowaa/cciw/Data/Videos_and_stills/TestingSet/GLNI/12/2019/Jun.04/Images/Quad3/GLNI_12-3_2019-06-04_image-2.jpg',\n",
       " '/scratch/gallowaa/cciw/Data/Videos_and_stills/TestingSet/GLNI/12/2019/Jun.04/Images/Quad1/GLNI_12-1_2019-06-04_image-1.jpg',\n",
       " '/scratch/gallowaa/cciw/Data/Videos_and_stills/TestingSet/GLNI/12/2019/Jul.09/Images/Quad2/GLNI_12-2_2019-07-09_image-1.jpg',\n",
       " '/scratch/gallowaa/cciw/Data/Videos_and_stills/TestingSet/GLNI/12/2019/Jul.09/Images/Quad3/GLNI_12-3_2019-07-09_image-1.jpg',\n",
       " '/scratch/gallowaa/cciw/Data/Videos_and_stills/TestingSet/GLNI/12/2019/Jul.09/Images/Quad1/GLNI_12-1_2019-07-09_image-1.jpg',\n",
       " '/scratch/gallowaa/cciw/Data/Videos_and_stills/TestingSet/GLNI/12/2019/Jun.18/Images/Quad2/GLNI_12-2_2019-06-18_image-2.jpg',\n",
       " '/scratch/gallowaa/cciw/Data/Videos_and_stills/TestingSet/GLNI/12/2019/Jun.18/Images/Quad3/GLNI_12-3_2019-06-18_image-2.jpg',\n",
       " '/scratch/gallowaa/cciw/Data/Videos_and_stills/TestingSet/GLNI/12/2019/Jun.18/Images/Quad1/GLNI_12-1_2019-06-18_image-2.jpg',\n",
       " '/scratch/gallowaa/cciw/Data/Videos_and_stills/TestingSet/GLNI/502/2019/Jun.19/Images/Quad2/GLNI_502-2_2019-06-19_image-2.jpg',\n",
       " '/scratch/gallowaa/cciw/Data/Videos_and_stills/TestingSet/GLNI/502/2019/Jun.19/Images/Quad3/GLNI_502-3_2019-06-19_image-2.jpg',\n",
       " '/scratch/gallowaa/cciw/Data/Videos_and_stills/TestingSet/GLNI/502/2019/Jun.19/Images/Quad1/GLNI_502-1_2019-06-19_image-2.jpg',\n",
       " '/scratch/gallowaa/cciw/Data/Videos_and_stills/TestingSet/GLNI/502/2019/Jun.05/Images/Quad2/GLNI_502-2_2019-06-05_image-1.jpg',\n",
       " '/scratch/gallowaa/cciw/Data/Videos_and_stills/TestingSet/GLNI/502/2019/Jun.05/Images/Quad3/GLNI_502-3_2019-06-05_image-1.jpg',\n",
       " '/scratch/gallowaa/cciw/Data/Videos_and_stills/TestingSet/GLNI/502/2019/Jun.05/Images/Quad1/GLNI_502-1_2019-06-05_image-1.jpg',\n",
       " '/scratch/gallowaa/cciw/Data/Videos_and_stills/TestingSet/GLNI/502/2019/Jul.10/Images/Quad2/GLNI_502-2_2019-07-10_image-1.jpg',\n",
       " '/scratch/gallowaa/cciw/Data/Videos_and_stills/TestingSet/GLNI/502/2019/Jul.10/Images/Quad3/GLNI_502-3_2019-07-10_image-2.jpg',\n",
       " '/scratch/gallowaa/cciw/Data/Videos_and_stills/TestingSet/GLNI/502/2019/Jul.10/Images/Quad1/GLNI_502-1_2019-07-10_image-1.jpg',\n",
       " '/scratch/gallowaa/cciw/Data/Videos_and_stills/TestingSet/GLNI/502/2019/Jul.23/Images/Quad2/GLNI_502-2_2019-07-23_image-2.jpg',\n",
       " '/scratch/gallowaa/cciw/Data/Videos_and_stills/TestingSet/GLNI/502/2019/Jul.23/Images/Quad3/GLNI_502-3_2019-07-23_image-2.jpg',\n",
       " '/scratch/gallowaa/cciw/Data/Videos_and_stills/TestingSet/GLNI/502/2019/Jul.23/Images/Quad1/GLNI_502-1_2019-07-23_image-3.jpg',\n",
       " '/scratch/gallowaa/cciw/Data/Videos_and_stills/TestingSet/GLNI/2909/2019/Jun.11/Images/Quad2/GLNI_2909-2_2019-06-11_image-2.jpg',\n",
       " '/scratch/gallowaa/cciw/Data/Videos_and_stills/TestingSet/GLNI/2909/2019/Jun.11/Images/Quad3/GLNI_2909-3_2019-06-11_image-4.jpg',\n",
       " '/scratch/gallowaa/cciw/Data/Videos_and_stills/TestingSet/GLNI/2909/2019/Jun.11/Images/Quad1/GLNI_2909-1_2019-06-11_image-2.jpg',\n",
       " '/scratch/gallowaa/cciw/Data/Videos_and_stills/TestingSet/GLNI/2909/2019/Aug.21/Images/Quad2/GLNI_2909-2_2019-08-21_image-2.jpg',\n",
       " '/scratch/gallowaa/cciw/Data/Videos_and_stills/TestingSet/GLNI/2909/2019/Aug.21/Images/Quad3/GLNI_2909-3_2019-08-21_image-2.jpg',\n",
       " '/scratch/gallowaa/cciw/Data/Videos_and_stills/TestingSet/GLNI/2909/2019/Aug.21/Images/Quad1/GLNI_2909-1_2019-08-21_image-2.jpg',\n",
       " '/scratch/gallowaa/cciw/Data/Videos_and_stills/TestingSet/GLNI/2909/2019/Jul.18/Images/Quad2/GLNI_2909-2_2019-07-18_image-6.jpg',\n",
       " '/scratch/gallowaa/cciw/Data/Videos_and_stills/TestingSet/GLNI/2909/2019/Jul.18/Images/Quad3/GLNI_2909-3_2019-07-18_image-5.jpg',\n",
       " '/scratch/gallowaa/cciw/Data/Videos_and_stills/TestingSet/GLNI/2909/2019/Jul.18/Images/Quad1/GLNI_2909-1_2019-07-18_image-4.jpg',\n",
       " '/scratch/gallowaa/cciw/Data/Videos_and_stills/TestingSet/GLNI/456/2019/Jul.25/Images/Quad2/GLNI_456-2_2019-07-25_image-1.jpg',\n",
       " '/scratch/gallowaa/cciw/Data/Videos_and_stills/TestingSet/GLNI/456/2019/Jul.25/Images/Quad3/GLNI_456-3_2019-07-25_image-3.jpg',\n",
       " '/scratch/gallowaa/cciw/Data/Videos_and_stills/TestingSet/GLNI/456/2019/Aug.14/Images/Quad2/GLNI_456-2_2019-08-14_image-2.jpg',\n",
       " '/scratch/gallowaa/cciw/Data/Videos_and_stills/TestingSet/GLNI/456/2019/Aug.14/Images/Quad3/GLNI_456-3_2019-08-14_image-2.jpg',\n",
       " '/scratch/gallowaa/cciw/Data/Videos_and_stills/TestingSet/GLNI/456/2019/Aug.14/Images/Quad1/GLNI_456-1_2019-08-14_image-2.jpg',\n",
       " '/scratch/gallowaa/cciw/Data/Videos_and_stills/TestingSet/GLNI/456/2019/Jun.04/Images/Quad2/GLNI_456-2_2019-06-04_image-2.jpg',\n",
       " '/scratch/gallowaa/cciw/Data/Videos_and_stills/TestingSet/GLNI/456/2019/Jun.04/Images/Quad3/GLNI_456-3_2019-06-04_image-2.jpg',\n",
       " '/scratch/gallowaa/cciw/Data/Videos_and_stills/TestingSet/GLNI/456/2019/Jun.04/Images/Quad1/GLNI_456-1_2019-06-04_image-2.jpg',\n",
       " '/scratch/gallowaa/cciw/Data/Videos_and_stills/TestingSet/GLNI/456/2019/Jul.09/Images/Quad2/GLNI_456-2_2019-07-09_image-2.jpg',\n",
       " '/scratch/gallowaa/cciw/Data/Videos_and_stills/TestingSet/GLNI/456/2019/Jul.09/Images/Quad3/GLNI_456-3_2019-07-09_image-1.jpg',\n",
       " '/scratch/gallowaa/cciw/Data/Videos_and_stills/TestingSet/GLNI/456/2019/Jul.09/Images/Quad1/GLNI_456-1_2019-07-09_image-2.jpg',\n",
       " '/scratch/gallowaa/cciw/Data/Videos_and_stills/TestingSet/GLNI/2910/2019/Jun.11/Images/Quad2/GLNI_2910-2_2019-06-11_image-2.jpg',\n",
       " '/scratch/gallowaa/cciw/Data/Videos_and_stills/TestingSet/GLNI/2910/2019/Jun.11/Images/Quad3/GLNI_2910-3_2019-06-11_image-2.jpg',\n",
       " '/scratch/gallowaa/cciw/Data/Videos_and_stills/TestingSet/GLNI/2910/2019/Jun.11/Images/Quad1/GLNI_2910-1_2019-06-11_image-2.jpg',\n",
       " '/scratch/gallowaa/cciw/Data/Videos_and_stills/TestingSet/GLNI/2910/2019/Aug.21/Images/Quad2/GLNI_2910-2_2019-08-21_image-2.jpg',\n",
       " '/scratch/gallowaa/cciw/Data/Videos_and_stills/TestingSet/GLNI/2910/2019/Aug.21/Images/Quad3/GLNI_2910-3_2019-08-21_image-2.jpg',\n",
       " '/scratch/gallowaa/cciw/Data/Videos_and_stills/TestingSet/GLNI/2910/2019/Aug.21/Images/Quad1/GLNI_2910-1_2019-08-21_image-2.jpg',\n",
       " '/scratch/gallowaa/cciw/Data/Videos_and_stills/TestingSet/GLNI/2910/2019/Jul.18/Images/Quad2/GLNI_2910-2_2019-07-18_image-4.jpg',\n",
       " '/scratch/gallowaa/cciw/Data/Videos_and_stills/TestingSet/GLNI/2910/2019/Jul.18/Images/Quad3/GLNI_2910-3_2019-07-18_image-5.jpg',\n",
       " '/scratch/gallowaa/cciw/Data/Videos_and_stills/TestingSet/GLNI/2910/2019/Jul.18/Images/Quad1/GLNI_2910-1_2019-07-18_image-5.jpg',\n",
       " '/scratch/gallowaa/cciw/Data/Videos_and_stills/TestingSet/GLNI/2907/2019/Jun.11/Images/Quad2/GLNI_2907-2_2019-06-11_image-2.jpg',\n",
       " '/scratch/gallowaa/cciw/Data/Videos_and_stills/TestingSet/GLNI/2907/2019/Jun.11/Images/Quad3/GLNI_2907-3_2019-06-11_image-3.jpg',\n",
       " '/scratch/gallowaa/cciw/Data/Videos_and_stills/TestingSet/GLNI/2907/2019/Jun.11/Images/Quad1/GLNI_2907-1_2019-06-11_image-2.jpg',\n",
       " '/scratch/gallowaa/cciw/Data/Videos_and_stills/TestingSet/GLNI/2907/2019/Aug.21/Images/Quad2/GLNI_2907-2_2019-08-21_image-2.jpg',\n",
       " '/scratch/gallowaa/cciw/Data/Videos_and_stills/TestingSet/GLNI/2907/2019/Aug.21/Images/Quad3/GLNI_2907-3_2019-08-21_image-2.jpg',\n",
       " '/scratch/gallowaa/cciw/Data/Videos_and_stills/TestingSet/GLNI/2907/2019/Aug.21/Images/Quad1/GLNI_2907-1_2019-08-21_image-2.jpg',\n",
       " '/scratch/gallowaa/cciw/Data/Videos_and_stills/TestingSet/GLNI/2907/2019/Jul.18/Images/Quad2/GLNI_2907-2_2019-07-18_image-1.jpg',\n",
       " '/scratch/gallowaa/cciw/Data/Videos_and_stills/TestingSet/GLNI/2907/2019/Jul.18/Images/Quad3/GLNI_2907-3_2019-07-18_image-1.jpg',\n",
       " '/scratch/gallowaa/cciw/Data/Videos_and_stills/TestingSet/GLNI/2907/2019/Jul.18/Images/Quad1/GLNI_2907-1_2019-07-18_image-1.jpg',\n",
       " '/scratch/gallowaa/cciw/Data/Videos_and_stills/TestingSet/GLNI/3553/2019/Aug.20/Images/Quad2/GLNI_3553-2_2019-08-20_image-2.jpg',\n",
       " '/scratch/gallowaa/cciw/Data/Videos_and_stills/TestingSet/GLNI/3553/2019/Aug.20/Images/Quad3/GLNI_3553-3_2019-08-20_image-2.jpg',\n",
       " '/scratch/gallowaa/cciw/Data/Videos_and_stills/TestingSet/GLNI/3553/2019/Aug.20/Images/Quad1/GLNI_3553-1_2019-08-20_image-2.jpg',\n",
       " '/scratch/gallowaa/cciw/Data/Videos_and_stills/TestingSet/GLNI/3553/2019/Jun.12/Images/Quad2/GLNI_3553-2_2019-06-12_image-3.jpg',\n",
       " '/scratch/gallowaa/cciw/Data/Videos_and_stills/TestingSet/GLNI/3553/2019/Jun.12/Images/Quad3/GLNI_3553-3_2019-06-12_image-3.jpg',\n",
       " '/scratch/gallowaa/cciw/Data/Videos_and_stills/TestingSet/GLNI/3553/2019/Jun.12/Images/Quad1/GLNI_3553-1_2019-06-12_image-4.jpg',\n",
       " '/scratch/gallowaa/cciw/Data/Videos_and_stills/TestingSet/GLNI/3553/2019/Jul.16/Images/Quad2/GLNI_3553-2_2019-07-16_image-1.jpg',\n",
       " '/scratch/gallowaa/cciw/Data/Videos_and_stills/TestingSet/GLNI/3553/2019/Jul.16/Images/Quad3/GLNI_3553-3_2019-07-16_image-2.jpg',\n",
       " '/scratch/gallowaa/cciw/Data/Videos_and_stills/TestingSet/GLNI/3553/2019/Jul.16/Images/Quad1/GLNI_3553-1_2019-07-16_image-5.jpg',\n",
       " '/scratch/gallowaa/cciw/Data/Videos_and_stills/TestingSet/GLNI/3788/2019/Jul.17/Images/Quad2/GLNI_3788-2_2019-07-17_image-3.jpg',\n",
       " '/scratch/gallowaa/cciw/Data/Videos_and_stills/TestingSet/GLNI/3788/2019/Jul.17/Images/Quad3/GLNI_3788-3_2019-07-17_image-4.jpg',\n",
       " '/scratch/gallowaa/cciw/Data/Videos_and_stills/TestingSet/GLNI/3788/2019/Jul.17/Images/Quad1/GLNI_3788-1_2019-07-17_image-4.jpg',\n",
       " '/scratch/gallowaa/cciw/Data/Videos_and_stills/TestingSet/GLNI/3788/2019/Jun.17/Images/Quad2/GLNI_3788-2_2019-06-17_image-3.jpg',\n",
       " '/scratch/gallowaa/cciw/Data/Videos_and_stills/TestingSet/GLNI/3788/2019/Jun.17/Images/Quad3/GLNI_3788-3_2019-06-17_image-2.jpg',\n",
       " '/scratch/gallowaa/cciw/Data/Videos_and_stills/TestingSet/GLNI/3788/2019/Jun.17/Images/Quad1/GLNI_3788-1_2019-06-17_image-2.jpg',\n",
       " '/scratch/gallowaa/cciw/Data/Videos_and_stills/TestingSet/GLNI/3554/2019/Aug.20/Images/Quad2/GLNI_3554-2_2019-08-20_image-2.jpg',\n",
       " '/scratch/gallowaa/cciw/Data/Videos_and_stills/TestingSet/GLNI/3554/2019/Aug.20/Images/Quad3/GLNI_3554-3_2019-08-20_image-2.jpg',\n",
       " '/scratch/gallowaa/cciw/Data/Videos_and_stills/TestingSet/GLNI/3554/2019/Aug.20/Images/Quad1/GLNI_3554-1_2019-08-20_image-2.jpg',\n",
       " '/scratch/gallowaa/cciw/Data/Videos_and_stills/TestingSet/GLNI/3554/2019/Jun.12/Images/Quad2/GLNI_3554-2_2019-06-12_image-2.jpg',\n",
       " '/scratch/gallowaa/cciw/Data/Videos_and_stills/TestingSet/GLNI/3554/2019/Jun.12/Images/Quad3/GLNI_3554-3_2019-06-12_image-4.jpg',\n",
       " '/scratch/gallowaa/cciw/Data/Videos_and_stills/TestingSet/GLNI/3554/2019/Jun.12/Images/Quad1/GLNI_3554-1_2019-06-12_image-2.jpg',\n",
       " '/scratch/gallowaa/cciw/Data/Videos_and_stills/TestingSet/GLNI/3554/2019/Jul.16/Images/Quad2/GLNI_3554-2_2019-07-16_image-5.jpg',\n",
       " '/scratch/gallowaa/cciw/Data/Videos_and_stills/TestingSet/GLNI/3554/2019/Jul.16/Images/Quad3/GLNI_3554-3_2019-07-16_image-5.jpg',\n",
       " '/scratch/gallowaa/cciw/Data/Videos_and_stills/TestingSet/GLNI/3554/2019/Jul.16/Images/Quad1/GLNI_3554-1_2019-07-16_image-6.jpg',\n",
       " '/scratch/gallowaa/cciw/Data/Videos_and_stills/TestingSet/GLNI/3552/2019/Aug.20/Images/Quad2/GLNI_3552-2_2019-08-20_image-2.jpg',\n",
       " '/scratch/gallowaa/cciw/Data/Videos_and_stills/TestingSet/GLNI/3552/2019/Aug.20/Images/Quad3/GLNI_3552-3_2019-08-20_image-2.jpg',\n",
       " '/scratch/gallowaa/cciw/Data/Videos_and_stills/TestingSet/GLNI/3552/2019/Aug.20/Images/Quad1/GLNI_3552-1_2019-08-20_image-2.jpg',\n",
       " '/scratch/gallowaa/cciw/Data/Videos_and_stills/TestingSet/GLNI/3552/2019/Jun.12/Images/Quad2/GLNI_3552-2_2019-06-12_image-6.jpg',\n",
       " '/scratch/gallowaa/cciw/Data/Videos_and_stills/TestingSet/GLNI/3552/2019/Jun.12/Images/Quad3/GLNI_3552-3_2019-06-12_image-5.jpg',\n",
       " '/scratch/gallowaa/cciw/Data/Videos_and_stills/TestingSet/GLNI/3552/2019/Jun.12/Images/Quad1/GLNI_3552-1_2019-06-12_image-2.jpg',\n",
       " '/scratch/gallowaa/cciw/Data/Videos_and_stills/TestingSet/GLNI/3552/2019/Jul.16/Images/Quad2/GLNI_3552-2_2019-07-16_image-1.jpg',\n",
       " '/scratch/gallowaa/cciw/Data/Videos_and_stills/TestingSet/GLNI/3552/2019/Jul.16/Images/Quad3/GLNI_3552-3_2019-07-16_image-2.jpg',\n",
       " '/scratch/gallowaa/cciw/Data/Videos_and_stills/TestingSet/GLNI/3552/2019/Jul.16/Images/Quad1/GLNI_3552-1_2019-07-16_image-5.jpg',\n",
       " '/scratch/gallowaa/cciw/Data/Videos_and_stills/TestingSet/GLNI/3555/2019/Aug.20/Images/Quad2/GLNI_3555-2_2019-08-20_image-2.jpg',\n",
       " '/scratch/gallowaa/cciw/Data/Videos_and_stills/TestingSet/GLNI/3555/2019/Aug.20/Images/Quad3/GLNI_3555-3_2019-08-20_image-2.jpg',\n",
       " '/scratch/gallowaa/cciw/Data/Videos_and_stills/TestingSet/GLNI/3555/2019/Aug.20/Images/Quad1/GLNI_3555-1_2019-08-20_image-2.jpg',\n",
       " '/scratch/gallowaa/cciw/Data/Videos_and_stills/TestingSet/GLNI/3555/2019/Jun.12/Images/Quad2/GLNI_3555-2_2019-06-12_image-2.jpg',\n",
       " '/scratch/gallowaa/cciw/Data/Videos_and_stills/TestingSet/GLNI/3555/2019/Jun.12/Images/Quad3/GLNI_3555-3_2019-06-12_image-2.jpg',\n",
       " '/scratch/gallowaa/cciw/Data/Videos_and_stills/TestingSet/GLNI/3555/2019/Jun.12/Images/Quad1/GLNI_3555-1_2019-06-12_image-3.jpg',\n",
       " '/scratch/gallowaa/cciw/Data/Videos_and_stills/TestingSet/GLNI/3555/2019/Jul.16/Images/Quad2/GLNI_3555-2_2019-07-16_image-3.jpg',\n",
       " '/scratch/gallowaa/cciw/Data/Videos_and_stills/TestingSet/GLNI/3555/2019/Jul.16/Images/Quad3/GLNI_3555-3_2019-07-16_image-2.jpg',\n",
       " '/scratch/gallowaa/cciw/Data/Videos_and_stills/TestingSet/GLNI/3555/2019/Jul.16/Images/Quad1/GLNI_3555-1_2019-07-16_image-2.jpg',\n",
       " '/scratch/gallowaa/cciw/Data/Videos_and_stills/TestingSet/GLNI/2940/2019/Jul.15/Images/Quad2/GLNI_2940-2_2019-07-15_image-10.jpg',\n",
       " '/scratch/gallowaa/cciw/Data/Videos_and_stills/TestingSet/GLNI/2940/2019/Jul.15/Images/Quad3/GLNI_2940-3_2019-07-15_image-4.jpg',\n",
       " '/scratch/gallowaa/cciw/Data/Videos_and_stills/TestingSet/GLNI/2940/2019/Jul.15/Images/Quad1/GLNI_2940-1_2019-07-15_image-6.jpg']"
      ]
     },
     "execution_count": 20,
     "metadata": {},
     "output_type": "execute_result"
    }
   ],
   "source": [
    "#os.path.join(dirpath, to_rm)\n",
    "all_images"
   ]
  },
  {
   "cell_type": "code",
   "execution_count": null,
   "metadata": {},
   "outputs": [],
   "source": [
    "month = 'Aug.'\n",
    "'''\n",
    "if YM.split('-')[1] == '08':\n",
    "    month = 'Aug.'\n",
    "elif YM.split('-')[1] == '07':\n",
    "    month = 'Jul.'\n",
    "elif YM.split('-')[1] == '06':\n",
    "    month = 'Jun.'\n",
    "else:\n",
    "    print('invalid')\n",
    "'''    \n",
    "print('got month ', month)"
   ]
  },
  {
   "cell_type": "code",
   "execution_count": null,
   "metadata": {},
   "outputs": [],
   "source": [
    "#fnames = ['GLNI_3555-1_2019-08-20_image-1.jpg']"
   ]
  },
  {
   "cell_type": "code",
   "execution_count": 21,
   "metadata": {},
   "outputs": [],
   "source": [
    "dim = []\n",
    "for i, f in enumerate(all_images):\n",
    "    #t = f.split('.')[0].split('_')\n",
    "    #print(tokens)\n",
    "    #PSN = t[1].split('-')[0]\n",
    "    #QUAD = t[1].split('-')[1]\n",
    "    #file = root + PSN + '/2019/' + month + t[2].split('-')[-1] + '/Images/Quad' + QUAD + '/' + f.split('.')[0] + '.jpg'\n",
    "    im = cv.imread(f)\n",
    "    #rgb = cv.cvtColor(im, cv.COLOR_BGR2RGB)\n",
    "    #plt.imshow(im[::4, ::4, :])\n",
    "    #plt.title('frame ' + str(i))\n",
    "    #plt.pause(0.1)\n",
    "    dim.append((i, im.shape[0]))\n",
    "dim = np.asarray(dim)"
   ]
  },
  {
   "cell_type": "code",
   "execution_count": 22,
   "metadata": {},
   "outputs": [
    {
     "name": "stdout",
     "output_type": "stream",
     "text": [
      "[3788 4924 6738 7378]\n",
      "[28 62 26 58]\n",
      "174\n"
     ]
    }
   ],
   "source": [
    "vals, cts = np.unique(dim[:, 1], return_counts=True)\n",
    "print(vals)\n",
    "print(cts)\n",
    "print(cts.sum())\n",
    "\n",
    "port_mode = dim[:, 0][dim[:, 1] == 7378]\n",
    "land_mode = dim[:, 0][dim[:, 1] == 4924]"
   ]
  },
  {
   "cell_type": "code",
   "execution_count": 23,
   "metadata": {},
   "outputs": [
    {
     "data": {
      "text/plain": [
       "54"
      ]
     },
     "execution_count": 23,
     "metadata": {},
     "output_type": "execute_result"
    }
   ],
   "source": [
    "28 + 26"
   ]
  },
  {
   "cell_type": "code",
   "execution_count": null,
   "metadata": {},
   "outputs": [],
   "source": [
    "len(land_mode)"
   ]
  },
  {
   "cell_type": "code",
   "execution_count": null,
   "metadata": {},
   "outputs": [],
   "source": [
    "100 / (len(port_mode) + len(land_mode))"
   ]
  },
  {
   "cell_type": "code",
   "execution_count": null,
   "metadata": {},
   "outputs": [],
   "source": [
    "portrait = np.asarray(all_images)[port_mode].tolist()\n",
    "len(portrait)"
   ]
  },
  {
   "cell_type": "code",
   "execution_count": null,
   "metadata": {},
   "outputs": [],
   "source": [
    "land = np.asarray(all_images)[land_mode].tolist()\n",
    "len(land)"
   ]
  },
  {
   "cell_type": "code",
   "execution_count": null,
   "metadata": {},
   "outputs": [],
   "source": [
    "# files to exclude\n",
    "exclude_list = ['GLNI_504-3_2019-08-16_image-2.jpg',\n",
    "                'GLNI_504-1_2019-08-16_image-2.jpg', \n",
    "                'GLNI_2908-1_2019-06-11_image-4.jpg',\n",
    "                'GLNI_12-2_2019-08-14_image-2.jpg',\n",
    "                'GLNI_12-3_2019-06-04_image-2.jpg',\n",
    "                'GLNI_2909-3_2019-06-11_image-2.jpg',\n",
    "                'GLNI_456-3_2019-08-14_image-2.jpg',\n",
    "                'GLNI_456-1_2019-08-14_image-2.jpg',\n",
    "                'GLNI_2907-2_2019-06-11_image-2.jpg',\n",
    "                'GLNI_2907-2_2019-08-21_image-2.jpg', # files already labelled\n",
    "                'GLNI_12-3_2019-06-18_image-2.jpg',    \n",
    "                'GLNI_3554-1_2019-08-20_image-2.jpg',\n",
    "                'GLNI_2907-1_2019-06-11_image-2.jpg',  \n",
    "                'GLNI_3554-2_2019-06-12_image-2.jpg',\n",
    "                'GLNI_2907-1_2019-08-21_image-2.jpg',  \n",
    "                'GLNI_3554-2_2019-08-20_image-2.jpg',\n",
    "                'GLNI_2907-3_2019-06-11_image-3.jpg',  \n",
    "                'GLNI_3787-2_2019-06-17_image-1.jpg',\n",
    "                'GLNI_2908-3_2019-08-21_image-3.jpg',  \n",
    "                'GLNI_456-2_2019-06-04_image-2.jpg',\n",
    "                'GLNI_2909-3_2019-06-11_image-4.jpg',  \n",
    "                'GLNI_501-3_2019-06-05_image-1.jpg',\n",
    "                'GLNI_2910-1_2019-06-11_image-2.jpg',  \n",
    "                'GLNI_501-3_2019-07-10_image-1.jpg',\n",
    "                'GLNI_2910-1_2019-08-21_image-2.jpg',  \n",
    "                'GLNI_503-2_2019-06-19_image-2.jpg',\n",
    "                'GLNI_3553-1_2019-07-16_image-5.jpg',  \n",
    "                'GLNI_503-3_2019-06-05_image-2.jpg',\n",
    "                'GLNI_3554-1_2019-06-12_image-2.jpg']\n",
    "print(len(portrait) - len(exclude_list))"
   ]
  },
  {
   "cell_type": "code",
   "execution_count": null,
   "metadata": {},
   "outputs": [],
   "source": [
    "# files already labelled"
   ]
  },
  {
   "cell_type": "code",
   "execution_count": null,
   "metadata": {},
   "outputs": [],
   "source": []
  },
  {
   "cell_type": "code",
   "execution_count": null,
   "metadata": {},
   "outputs": [],
   "source": [
    "#im = cv.imread(portrait[0])\n",
    "#imc = im[y_start:y_end, x_start:x_end, :]\n",
    "#plt.imshow(imc)"
   ]
  },
  {
   "cell_type": "code",
   "execution_count": null,
   "metadata": {},
   "outputs": [],
   "source": [
    "len(portrait)"
   ]
  },
  {
   "cell_type": "code",
   "execution_count": null,
   "metadata": {},
   "outputs": [],
   "source": [
    "outfile"
   ]
  },
  {
   "cell_type": "code",
   "execution_count": null,
   "metadata": {},
   "outputs": [],
   "source": [
    "f = portrait[56]\n",
    "# for portrait mode (7378, 4924)\n",
    "x_start = 1050 #1250 #775 #450 #1200\n",
    "y_start = 2150 #2050 #2100\n",
    "x_end = x_start + 3000\n",
    "y_end = y_start + 3000\n",
    "im = cv.imread(f)\n",
    "imc = im[y_start:y_end, x_start:x_end, :]\n",
    "width = int(imc.shape[0] * scale_percent / 100)\n",
    "height = int(imc.shape[1] * scale_percent / 100)\n",
    "imcr = cv.resize(imc, (width, height)) # resize image\n",
    "outfile = os.path.join(save_path, f.split('/')[-1].split('.')[0] + '_crop.jpg')\n",
    "#cv.imwrite(outfile, imcr)\n",
    "plt.imshow(imcr)"
   ]
  },
  {
   "cell_type": "code",
   "execution_count": null,
   "metadata": {},
   "outputs": [],
   "source": [
    "for i in range(len(portrait)):\n",
    "    f = portrait[i]\n",
    "    if f.split('/')[-1] not in exclude_list:\n",
    "        im = cv.imread(f)\n",
    "        imc = im[y_start:y_end, x_start:x_end, :]\n",
    "        width = int(imc.shape[0] * scale_percent / 100)\n",
    "        height = int(imc.shape[1] * scale_percent / 100)\n",
    "        imcr = cv.resize(imc, (width, height)) # resize image\n",
    "        outfile = os.path.join(save_path, f.split('/')[-1].split('.')[0] + '_crop.jpg')\n",
    "        #cv.imwrite(outfile, imcr)\n",
    "        plt.imshow(imcr)\n",
    "        plt.show()\n",
    "        print(i, \"saved \", outfile)"
   ]
  },
  {
   "cell_type": "markdown",
   "metadata": {},
   "source": [
    "# Landscape mode images"
   ]
  },
  {
   "cell_type": "code",
   "execution_count": null,
   "metadata": {},
   "outputs": [],
   "source": [
    "land_exclude_list = ['GLNI_12-1_2019-08-14_image-2.jpg',\n",
    "                     'GLNI_12-3_2019-08-14_image-2.jpg',\n",
    "                     'GLNI_456-1_2019-07-09_image-2.jpg',\n",
    "                     'GLNI_456-2_2019-07-25_image-1.jpg', \n",
    "                     'GLNI_456-2_2019-08-14_image-2.jpg',\n",
    "                     'GLNI_504-2_2019-08-16_image-2.jpg',\n",
    "                     'GLNI_2908-2_2019-06-11_image-4.jpg',\n",
    "                     'GLNI_2910-2_2019-06-11_image-2.jpg', \n",
    "                     'GLNI_3783-2_2019-06-13_image-3.jpg',\n",
    "                     'GLNI_3784-1_2019-06-13_image-2.jpg', \n",
    "                     'GLNI_501-2_2019-06-05_image-1.jpg',\n",
    "                     'GLNI_501-2_2019-06-19_image-2.jpg',\n",
    "                     'GLNI_12-2_2019-07-09_image-1.jpg', # already labelled by scale  \n",
    "                     'GLNI_3788-2_2019-06-17_image-3.jpg',\n",
    "                     'GLNI_456-1_2019-06-04_image-2.jpg']\n",
    "print(len(land) - len(land_exclude_list))"
   ]
  },
  {
   "cell_type": "code",
   "execution_count": null,
   "metadata": {},
   "outputs": [],
   "source": [
    "#land[i]"
   ]
  },
  {
   "cell_type": "code",
   "execution_count": null,
   "metadata": {},
   "outputs": [],
   "source": [
    "# for land mode (7378, 4924)\n",
    "x_start = 2150 \n",
    "y_start = 1050\n",
    "x_end = x_start + 3000\n",
    "y_end = y_start + 3000\n",
    "\n",
    "f = land[24]\n",
    "im = cv.imread(f)\n",
    "imc = im[y_start:y_end, x_start:x_end, :]\n",
    "width = int(imc.shape[0] * scale_percent / 100)\n",
    "height = int(imc.shape[1] * scale_percent / 100)\n",
    "imcr = cv.resize(imc, (width, height)) # resize image\n",
    "outfile = os.path.join(save_path, f.split('/')[-1].split('.')[0] + '_crop.jpg')\n",
    "cv.imwrite(outfile, imcr)\n",
    "plt.imshow(imcr)"
   ]
  },
  {
   "cell_type": "code",
   "execution_count": null,
   "metadata": {
    "scrolled": true
   },
   "outputs": [],
   "source": [
    "for i in range(len(land)):\n",
    "    f = land[i]\n",
    "    if f.split('/')[-1] not in land_exclude_list:\n",
    "        im = cv.imread(f)\n",
    "        imc = im[y_start:y_end, x_start:x_end, :]\n",
    "        width = int(imc.shape[0] * scale_percent / 100)\n",
    "        height = int(imc.shape[1] * scale_percent / 100)\n",
    "        imcr = cv.resize(imc, (width, height)) # resize image\n",
    "        outfile = os.path.join(save_path, f.split('/')[-1].split('.')[0] + '_crop.jpg')\n",
    "        #cv.imwrite(outfile, imcr)\n",
    "        plt.imshow(imcr)\n",
    "        plt.show()\n",
    "        print(i, \"saved \", outfile)"
   ]
  },
  {
   "cell_type": "code",
   "execution_count": null,
   "metadata": {},
   "outputs": [],
   "source": [
    "ct = 0\n",
    "\n",
    "for i in range(len(land)):\n",
    "    f = land[i]\n",
    "    if f.split('/')[-1] not in land_exclude_list:\n",
    "        im = cv.imread(f)\n",
    "        imc = im[y_start:y_end, x_start:x_end, :]\n",
    "        width = int(imc.shape[0] * scale_percent / 100)\n",
    "        height = int(imc.shape[1] * scale_percent / 100)\n",
    "        imcr = cv.resize(imc, (width, height)) # resize image\n",
    "        outfile = os.path.join(\n",
    "            save_path, 'land/' + f.split('/')[-1].split('.')[0] + '_crop.jpg')\n",
    "        cv.imwrite(outfile, imcr)\n",
    "        print(ct, \"saved \", outfile)\n",
    "        ct += 1"
   ]
  },
  {
   "cell_type": "code",
   "execution_count": null,
   "metadata": {},
   "outputs": [],
   "source": [
    "#land[29:]"
   ]
  },
  {
   "cell_type": "code",
   "execution_count": null,
   "metadata": {},
   "outputs": [],
   "source": [
    "#land[43]\n",
    "ct=0\n",
    "f = land[29]\n",
    "if f.split('/')[-1] not in land_exclude_list:\n",
    "    im = cv.imread(f)\n",
    "    imc = im[y_start:y_end, x_start:x_end, :]\n",
    "    width = int(imc.shape[0] * scale_percent / 100)\n",
    "    height = int(imc.shape[1] * scale_percent / 100)\n",
    "    imcr = cv.resize(imc, (width, height)) # resize image\n",
    "    outfile = os.path.join(\n",
    "        save_path, 'land/good/' + f.split('/')[-1].split('.')[0] + '_crop.jpg')\n",
    "    cv.imwrite(outfile, imcr)\n",
    "    print(ct, \"saved \", outfile)\n",
    "    ct += 1"
   ]
  },
  {
   "cell_type": "code",
   "execution_count": null,
   "metadata": {},
   "outputs": [],
   "source": [
    "outfile = os.path.join(\n",
    "        save_path, 'land/' + f.split('/')[-1].split('.')[0] + '_crop.jpg')\n",
    "#cv.imwrite(outfile, imcr)"
   ]
  },
  {
   "cell_type": "code",
   "execution_count": null,
   "metadata": {},
   "outputs": [],
   "source": [
    "x_start = 2150 \n",
    "y_start = 800\n",
    "x_end = x_start + 3000\n",
    "y_end = y_start + 3000\n",
    "print(x_end - x_start)\n",
    "print(y_end - y_start)\n",
    "imc = im[y_start:y_end, x_start:x_end, :]\n",
    "plt.figure(figsize=(6, 12))\n",
    "plt.imshow(imc)"
   ]
  },
  {
   "cell_type": "code",
   "execution_count": null,
   "metadata": {},
   "outputs": [],
   "source": [
    "width = int(imc.shape[0] * scale_percent / 100)\n",
    "height = int(imc.shape[1] * scale_percent / 100)\n",
    "imcr = cv.resize(imc, (width, height)) # resize image\n",
    "cv.imwrite(os.path.join(save_path, f.split('/')[-1].split('.')[0] + '_crop.jpg'), imcr)"
   ]
  },
  {
   "cell_type": "code",
   "execution_count": null,
   "metadata": {},
   "outputs": [],
   "source": [
    "\"\"\"\n",
    "# for landscape mode (4924, 7378)\n",
    "x_start, x_end = 2100, 5100\n",
    "#x_start, x_end = 2200, 5200\n",
    "#y_start, y_end = 800, 3800\n",
    "y_start, y_end = 1000, 4000\n",
    "\"\"\""
   ]
  },
  {
   "cell_type": "code",
   "execution_count": null,
   "metadata": {},
   "outputs": [],
   "source": [
    "#%matplotlib inline\n",
    "#i = 2\n",
    "#root_fname = fnames.values[portrait_mode][i].split('/')[-1].split('.')[0]\n",
    "#guid = image_df[image_df['Name'].str.contains(root_fname)]['Analysis Index'].astype('int64')\n",
    "#data_df[data_df['Analysis Index'].values == guid.values]\n",
    "\n",
    "guid = image_df[image_df['Name'].str.contains('3801-1_2018-08')]['Analysis Index'].astype('int64')\n",
    "data_df[data_df['Analysis Index'].values == np.unique(guid.values)]"
   ]
  }
 ],
 "metadata": {
  "kernelspec": {
   "display_name": "Python 3",
   "language": "python",
   "name": "python3"
  },
  "language_info": {
   "codemirror_mode": {
    "name": "ipython",
    "version": 3
   },
   "file_extension": ".py",
   "mimetype": "text/x-python",
   "name": "python",
   "nbconvert_exporter": "python",
   "pygments_lexer": "ipython3",
   "version": "3.6.6"
  }
 },
 "nbformat": 4,
 "nbformat_minor": 4
}
