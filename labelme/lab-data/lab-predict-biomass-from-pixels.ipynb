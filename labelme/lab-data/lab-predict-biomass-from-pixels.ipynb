{
 "cells": [
  {
   "cell_type": "markdown",
   "metadata": {},
   "source": [
    "# Predict mussel biomass (grams) from mussel pixels"
   ]
  },
  {
   "cell_type": "code",
   "execution_count": 1,
   "metadata": {},
   "outputs": [],
   "source": [
    "import os\n",
    "import cv2\n",
    "import numpy as np\n",
    "import pandas as pd\n",
    "import matplotlib.pyplot as plt\n",
    "\n",
    "from glob import glob\n",
    "from tqdm import tqdm\n",
    "\n",
    "import pydensecrf.densecrf as dcrf\n",
    "import pydensecrf.utils as utils\n",
    "\n",
    "%matplotlib inline"
   ]
  },
  {
   "cell_type": "code",
   "execution_count": 8,
   "metadata": {},
   "outputs": [],
   "source": [
    "DATA_PATH = r'/scratch/gallowaa/cciw/Data'\n",
    "MASK_PATH = '/scratch/ssd/gallowaa/cciw/dataset_raw/Test/Lab/done'"
   ]
  },
  {
   "cell_type": "code",
   "execution_count": 3,
   "metadata": {},
   "outputs": [],
   "source": [
    "imagetable_path = os.path.join(DATA_PATH, 'Tables', 'ImageTable.csv')\n",
    "image_df = pd.read_csv(imagetable_path, index_col=0)\n",
    "analysis_path = os.path.join(DATA_PATH, 'Tables', 'Analysis.csv')\n",
    "dive_path = os.path.join(DATA_PATH, 'Tables', 'Dives.csv')\n",
    "analysis_df = pd.read_csv(analysis_path, index_col=0, dtype={'Count':float})\n",
    "dive_df = pd.read_csv(dive_path, index_col=0, parse_dates=['Date'])\n",
    "data_df = pd.merge(analysis_df, dive_df, on='Dive Index', how='outer')"
   ]
  },
  {
   "cell_type": "code",
   "execution_count": 21,
   "metadata": {},
   "outputs": [
    {
     "name": "stdout",
     "output_type": "stream",
     "text": [
      "21\n"
     ]
    },
    {
     "data": {
      "text/plain": [
       "['/scratch/ssd/gallowaa/cciw/dataset_raw/Test/Lab/done/Lab_3539-2_2018-08-07_image-1_mask_crf_gimp_final.png',\n",
       " '/scratch/ssd/gallowaa/cciw/dataset_raw/Test/Lab/done/Lab_2909-1_2018-08-16_image-1_mask_crf_gimp_final.png',\n",
       " '/scratch/ssd/gallowaa/cciw/dataset_raw/Test/Lab/done/Lab_2910-1_2018-08-16_image-1_mask_crf_gimp_final.png',\n",
       " '/scratch/ssd/gallowaa/cciw/dataset_raw/Test/Lab/done/Lab_3788-2_2018-08-14_image-1_mask_crf_gimp_final.png',\n",
       " '/scratch/ssd/gallowaa/cciw/dataset_raw/Test/Lab/done/Lab_3538-2_2018-07-03_image-1_mask_crf_gimp_final.png',\n",
       " '/scratch/ssd/gallowaa/cciw/dataset_raw/Test/Lab/done/Lab_3553-3_2018-08-08_image-1_mask_crf_gimp_final.png',\n",
       " '/scratch/ssd/gallowaa/cciw/dataset_raw/Test/Lab/done/Lab_3552-2_2018-07-04_image-1_mask_crf_gimp_final.png',\n",
       " '/scratch/ssd/gallowaa/cciw/dataset_raw/Test/Lab/done/Lab_3538-2_2018-08-08_image-1_mask_crf_gimp_final.png',\n",
       " '/scratch/ssd/gallowaa/cciw/dataset_raw/Test/Lab/done/Lab_3552-1_2018-08-09_image-1_mask_crf_gimp_final.png',\n",
       " '/scratch/ssd/gallowaa/cciw/dataset_raw/Test/Lab/done/Lab_3784-2_2018-07-05_image-1_mask_crf_gimp_final.png',\n",
       " '/scratch/ssd/gallowaa/cciw/dataset_raw/Test/Lab/done/Lab_3537-3_2018-07-02_image-1_mask_crf_gimp_final.png',\n",
       " '/scratch/ssd/gallowaa/cciw/dataset_raw/Test/Lab/done/Lab_2910-1_2018-07-09_image-1_mask_crf_gimp_final.png',\n",
       " '/scratch/ssd/gallowaa/cciw/dataset_raw/Test/Lab/done/Lab_3538-1_2018-08-08_image-1_mask_crf_gimp_final.png',\n",
       " '/scratch/ssd/gallowaa/cciw/dataset_raw/Test/Lab/done/Lab_2908-1_2018-07-10_image-1_mask_crf_gimp_final.png',\n",
       " '/scratch/ssd/gallowaa/cciw/dataset_raw/Test/Lab/done/Lab_3537-1_2018-08-07_image-1_mask_crf_gimp_final.png',\n",
       " '/scratch/ssd/gallowaa/cciw/dataset_raw/Test/Lab/done/Lab_3554-1_2018-07-04_image-1_mask_crf_gimp_final.png',\n",
       " '/scratch/ssd/gallowaa/cciw/dataset_raw/Test/Lab/done/Lab_3796-1_2018-08-13_image-1_mask_crf_gimp_final.png',\n",
       " '/scratch/ssd/gallowaa/cciw/dataset_raw/Test/Lab/done/Lab_3784-1_2018-08-14_image-1_mask_crf_gimp_final.png',\n",
       " '/scratch/ssd/gallowaa/cciw/dataset_raw/Test/Lab/done/Lab_3538-3_2018-08-08_image-1_mask_crf_gimp_final.png',\n",
       " '/scratch/ssd/gallowaa/cciw/dataset_raw/Test/Lab/done/Lab_3552-1_2018-07-04_image-1_mask_crf_gimp_final.png',\n",
       " '/scratch/ssd/gallowaa/cciw/dataset_raw/Test/Lab/done/Lab_2907-3_2018-07-09_image-1_mask_crf_gimp_final.png']"
      ]
     },
     "execution_count": 21,
     "metadata": {},
     "output_type": "execute_result"
    }
   ],
   "source": [
    "# Search for all image files in testing set...\n",
    "#all_images = glob(os.path.join(DATA_PATH,'Videos_and_stills/TestingSet/Lab/*/*/*/Images/Quad*/*.jpg'))\n",
    "all_images = glob(os.path.join(MASK_PATH, '*_final.png'))\n",
    "print(len(all_images))\n",
    "all_images"
   ]
  },
  {
   "cell_type": "code",
   "execution_count": 7,
   "metadata": {},
   "outputs": [],
   "source": [
    "#all_images"
   ]
  },
  {
   "cell_type": "code",
   "execution_count": 13,
   "metadata": {
    "scrolled": false
   },
   "outputs": [
    {
     "name": "stderr",
     "output_type": "stream",
     "text": [
      "100%|██████████| 21/21 [00:11<00:00,  1.79it/s]\n"
     ]
    }
   ],
   "source": [
    "pix_ct = []\n",
    "for i in tqdm(range(len(all_images))):\n",
    "    im   = cv2.imread(all_images[i])\n",
    "    _, cts = np.unique(im, return_counts=True) \n",
    "    pix_ct.append(cts[1] / cts.sum())"
   ]
  },
  {
   "cell_type": "code",
   "execution_count": null,
   "metadata": {},
   "outputs": [],
   "source": [
    "#np.unique(seg_mask)"
   ]
  },
  {
   "cell_type": "markdown",
   "metadata": {},
   "source": [
    "# Compare biomass and fraction of mussel pixels"
   ]
  },
  {
   "cell_type": "code",
   "execution_count": 23,
   "metadata": {},
   "outputs": [
    {
     "data": {
      "text/plain": [
       "'3539-2_2018-08-07'"
      ]
     },
     "execution_count": 23,
     "metadata": {},
     "output_type": "execute_result"
    }
   ],
   "source": [
    " "
   ]
  },
  {
   "cell_type": "code",
   "execution_count": 18,
   "metadata": {},
   "outputs": [
    {
     "data": {
      "text/plain": [
       "Series([], Name: Analysis Index, dtype: int64)"
      ]
     },
     "execution_count": 18,
     "metadata": {},
     "output_type": "execute_result"
    }
   ],
   "source": [
    "guid"
   ]
  },
  {
   "cell_type": "code",
   "execution_count": 24,
   "metadata": {},
   "outputs": [],
   "source": [
    "pix_ct = np.asarray(pix_ct)\n",
    "lab_targets = np.zeros((len(all_images), 2)) # 0 = biomass, 1 = count\n",
    "\n",
    "for i in range(len(all_images)):\n",
    "    root_fname = all_images[i].split('/')[-1].split('.')[0].split('_mask')[0][4:-8]\n",
    "    guid = image_df[image_df['Name'].str.contains(root_fname)]['Analysis Index'].astype('int64')\n",
    "    row = data_df[data_df['Analysis Index'].values == np.unique(guid.values)]\n",
    "    lab_targets[i, 0] = row['Biomass'].values\n",
    "    lab_targets[i, 1] = row['Count'].values\n",
    "\n",
    "lab_targets[np.isnan(lab_targets)] = 0\n",
    "y = lab_targets[:, 0] / lab_targets[:, 0].max()\n",
    "r_val = np.corrcoef(pix_ct, y)[1, 0]\n",
    "\n",
    "A = np.vstack([pix_ct, np.ones(len(pix_ct))]).T\n",
    "m, c = np.linalg.lstsq(A, y, rcond=None)[0]"
   ]
  },
  {
   "cell_type": "code",
   "execution_count": 26,
   "metadata": {},
   "outputs": [
    {
     "data": {
      "image/png": "[encoded data removed]",
      "text/plain": [
       "<Figure size 288x288 with 1 Axes>"
      ]
     },
     "metadata": {
      "needs_background": "light"
     },
     "output_type": "display_data"
    }
   ],
   "source": [
    "fig, ax = plt.subplots(1, 1, figsize=(4, 4))\n",
    "ax.scatter(pix_ct, y, marker='o', s=40, facecolors='none', edgecolors='b')\n",
    "ax.set_ylabel('Mussel Biomass (g)')\n",
    "#ax.set_xlim(0, 1.05)\n",
    "ax.set_xlabel('Fraction of Pixels Labelled Mussel')\n",
    "\n",
    "x = np.linspace(0, 0.15)\n",
    "ax.plot(x, m*x + c, 'b', linestyle='-')\n",
    "ax.annotate(r'r = %.4f' % r_val, xy=(.06, .805), fontsize=16, xycoords='axes fraction')\n",
    "\n",
    "ax.grid()\n",
    "fname = 'TestingSet_Lab_biomass_v_fract_mussel_pixels_v2'\n",
    "\n",
    "plt.tight_layout()\n",
    "#fig.savefig(fname + '.png')\n",
    "#fig.savefig(fname + '.eps', format='eps')"
   ]
  },
  {
   "cell_type": "code",
   "execution_count": null,
   "metadata": {},
   "outputs": [],
   "source": []
  }
 ],
 "metadata": {
  "kernelspec": {
   "display_name": "Python 3",
   "language": "python",
   "name": "python3"
  },
  "language_info": {
   "codemirror_mode": {
    "name": "ipython",
    "version": 3
   },
   "file_extension": ".py",
   "mimetype": "text/x-python",
   "name": "python",
   "nbconvert_exporter": "python",
   "pygments_lexer": "ipython3",
   "version": "3.6.6"
  }
 },
 "nbformat": 4,
 "nbformat_minor": 4
}
