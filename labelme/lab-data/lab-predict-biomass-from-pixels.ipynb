{
 "cells": [
  {
   "cell_type": "markdown",
   "metadata": {},
   "source": [
    "# Predict mussel biomass (grams) from mussel pixels\n",
    "\n",
    "Use environment `torch-py36` for `pydensecrf` module"
   ]
  },
  {
   "cell_type": "code",
   "execution_count": null,
   "metadata": {},
   "outputs": [],
   "source": [
    "import os\n",
    "import cv2\n",
    "import numpy as np\n",
    "import pandas as pd\n",
    "import matplotlib.pyplot as plt\n",
    "\n",
    "from glob import glob\n",
    "from tqdm import tqdm\n",
    "\n",
    "import pydensecrf.densecrf as dcrf\n",
    "import pydensecrf.utils as utils\n",
    "\n",
    "%matplotlib inline"
   ]
  },
  {
   "cell_type": "code",
   "execution_count": null,
   "metadata": {},
   "outputs": [],
   "source": [
    "DATA_PATH = r'/scratch/gallowaa/cciw/Data'\n",
    "MASK_PATH = '/scratch/ssd/gallowaa/cciw/dataset_raw/Test/Lab/done'"
   ]
  },
  {
   "cell_type": "code",
   "execution_count": null,
   "metadata": {},
   "outputs": [],
   "source": [
    "imagetable_path = os.path.join(DATA_PATH, 'Tables', 'ImageTable.csv')\n",
    "image_df = pd.read_csv(imagetable_path, index_col=0)\n",
    "analysis_path = os.path.join(DATA_PATH, 'Tables', 'Analysis.csv')\n",
    "dive_path = os.path.join(DATA_PATH, 'Tables', 'Dives.csv')\n",
    "analysis_df = pd.read_csv(analysis_path, index_col=0, dtype={'Count':float})\n",
    "dive_df = pd.read_csv(dive_path, index_col=0, parse_dates=['Date'])\n",
    "data_df = pd.merge(analysis_df, dive_df, on='Dive Index', how='outer')"
   ]
  },
  {
   "cell_type": "code",
   "execution_count": null,
   "metadata": {},
   "outputs": [],
   "source": [
    "# Search for all image files in testing set...\n",
    "#all_images = glob(os.path.join(DATA_PATH,'Videos_and_stills/TestingSet/Lab/*/*/*/Images/Quad*/*.jpg'))\n",
    "all_images = glob(os.path.join(MASK_PATH, '*_final.png'))\n",
    "print(len(all_images))\n",
    "all_images.sort()\n",
    "#all_images"
   ]
  },
  {
   "cell_type": "code",
   "execution_count": null,
   "metadata": {},
   "outputs": [],
   "source": [
    "#29, 29, 23, 29, 23, 29, 27, 29, 27, 29, 29, 29, 29, 29, 29, 25, 27, 29, 27, 29, 29, 29, 26, 29, Nan, 29, 29\n",
    "all_images"
   ]
  },
  {
   "cell_type": "code",
   "execution_count": null,
   "metadata": {},
   "outputs": [],
   "source": [
    "\"\"\"\n",
    "Just for fun, this is an array for correcting the camera distance, \n",
    "using the number of vertical and horizontal squares found in image. \n",
    "Can write code to automatically determine these settings from image\n",
    "if desired.\"\"\"\n",
    "scale = np.array([[16, 25], # 2907-3\n",
    "                  [15, 25], # 2908-1_7-10\n",
    "                  [16, 22], # 2908-1_8-16\n",
    "                  [16, 20], # 2908-3\n",
    "                  [13, 25], # 2909-1\n",
    "                  [15, 20], # 2910-1_7-09\n",
    "                  [13, 25], # 2910-1_8-16\n",
    "                  [16, 23], # 3537-1_7-02\n",
    "                  [14, 25], # 3537-1_8-07\n",
    "                  [13, 24], # 3537-3\n",
    "                  [15, 25], # 3538-1_7-03\n",
    "                  [15, 25], # 3538-1_8-08\n",
    "                  [16, 25], # 3538-2_7-03\n",
    "                  [14, 25], # 3538-2_8-08\n",
    "                  [14, 25], # 3538-3_8-08\n",
    "                  [16, 25], # 3539-1_2018-07-03\n",
    "                  [14.5, 19], # 3539-1_2018-08-07\n",
    "                  [16, 25], # 3539-2\n",
    "                  [11, 21], # 3539-2_8-07\n",
    "                  [15, 22], # 3539-3_8-07\n",
    "                  [16, 23], # 3552-1_7-05\n",
    "                  [14, 25], # 3552-1_8-09\n",
    "                  [15, 23], # 3552-2_7-04\n",
    "                  [14, 25], # 3553-3\n",
    "                  [14, 25], # 3554-1\n",
    "                  [14, 25], # 3783-2\n",
    "                  [15, 23], # 3784-1_7-05\n",
    "                  [13, 25], # 3784-1_8-14\n",
    "                  [13, 20], # 3784-2\n",
    "                  [15.5, 24.25], # 3788-1\n",
    "                  [16, 25], # 3788-2\n",
    "                  [13, 25], # 3796-1\n",
    "                  [16, 25], # 3798-2\n",
    "                  [15.5, 25], # 3800-3\n",
    "                  [15, 23],   # 3801-1\n",
    "                  [15.5, 25]])# 3801-3"
   ]
  },
  {
   "cell_type": "code",
   "execution_count": null,
   "metadata": {
    "scrolled": false
   },
   "outputs": [],
   "source": [
    "pix_ct = []\n",
    "for i in tqdm(range(len(all_images))):\n",
    "    im   = cv2.imread(all_images[i])\n",
    "    _, cts = np.unique(im, return_counts=True) \n",
    "    pix_ct.append(cts[1] / cts.sum())"
   ]
  },
  {
   "cell_type": "markdown",
   "metadata": {},
   "source": [
    "# Compare biomass and fraction of mussel pixels"
   ]
  },
  {
   "cell_type": "code",
   "execution_count": null,
   "metadata": {},
   "outputs": [],
   "source": [
    "pix_ct_np = np.asarray(pix_ct)\n",
    "\n",
    "lab_targets = np.zeros((len(all_images), 2)) # 0 = biomass, 1 = count\n",
    "#lab_targets = np.zeros((len(scale[0]), 2)) # 0 = biomass, 1 = count\n",
    "\n",
    "for i in range(len(all_images)):\n",
    "    \n",
    "    # adjust the pixel_ct by size of grid\n",
    "    pix_ct_np[i] = pix_ct_np[i] * (np.prod(scale[i]) / (16 * 25))\n",
    "    \n",
    "    if 'scale' in all_images[i]:\n",
    "        root_fname = all_images[i].split('/')[-1].split('.')[0].split('_scale')[0][4:-8]\n",
    "    else:\n",
    "        root_fname = all_images[i].split('/')[-1].split('.')[0].split('_mask')[0][4:-8]\n",
    "        \n",
    "    guid = image_df[image_df['Name'].str.contains(root_fname)]['Analysis Index'].astype('int64')\n",
    "    row = data_df[data_df['Analysis Index'].values == np.unique(guid.values)]\n",
    "    lab_targets[i, 0] = row['Biomass'].values\n",
    "    lab_targets[i, 1] = row['Count'].values\n",
    "\n",
    "lab_targets[np.isnan(lab_targets)] = 0\n",
    "y = lab_targets[:, 0] / lab_targets[:, 0].max()\n",
    "r_val = np.corrcoef(pix_ct_np, y)[1, 0]\n",
    "\n",
    "A = np.vstack([pix_ct_np, np.ones(len(pix_ct_np))]).T\n",
    "m, c = np.linalg.lstsq(A, y, rcond=None)[0]"
   ]
  },
  {
   "cell_type": "code",
   "execution_count": null,
   "metadata": {},
   "outputs": [],
   "source": [
    "fig, ax = plt.subplots(1, 1, figsize=(4, 4))\n",
    "ax.scatter(pix_ct_np, y, marker='o', s=40, facecolors='none', edgecolors='b')\n",
    "ax.set_ylabel('Mussel Biomass (g)')\n",
    "ax.set_ylim(0, 1.05)\n",
    "ax.set_xlim(0, 0.15)\n",
    "ax.set_xlabel('Fraction of Pixels Labelled Mussel')\n",
    "\n",
    "x = np.linspace(0, 0.15)\n",
    "ax.plot(x, m*x + c, 'b', linestyle='-')\n",
    "ax.annotate(r'r = %.4f' % r_val, xy=(.06, .805), fontsize=16, xycoords='axes fraction')\n",
    "\n",
    "ax.grid()\n",
    "fname = 'TestingSet_Lab_biomass_v_fract_mussel_pixels_v3'\n",
    "\n",
    "plt.tight_layout()\n",
    "#fig.savefig(fname + '.png')\n",
    "#fig.savefig(fname + '.eps', format='eps')"
   ]
  },
  {
   "cell_type": "code",
   "execution_count": null,
   "metadata": {},
   "outputs": [],
   "source": []
  }
 ],
 "metadata": {
  "kernelspec": {
   "display_name": "Python 3",
   "language": "python",
   "name": "python3"
  },
  "language_info": {
   "codemirror_mode": {
    "name": "ipython",
    "version": 3
   },
   "file_extension": ".py",
   "mimetype": "text/x-python",
   "name": "python",
   "nbconvert_exporter": "python",
   "pygments_lexer": "ipython3",
   "version": "3.6.6"
  }
 },
 "nbformat": 4,
 "nbformat_minor": 4
}
