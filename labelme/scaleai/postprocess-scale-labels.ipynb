{
 "cells": [
  {
   "cell_type": "code",
   "execution_count": null,
   "metadata": {},
   "outputs": [],
   "source": [
    "import os\n",
    "import cv2\n",
    "import json\n",
    "import glob\n",
    "import urllib.request"
   ]
  },
  {
   "cell_type": "code",
   "execution_count": null,
   "metadata": {},
   "outputs": [],
   "source": [
    "#scale_tasks_path = '/scratch/ssd/gallowaa/cciw/dataset_raw_v0-2-x/Test/GLNI/port/scale/' # 4\n",
    "#scale_tasks_path = '/scratch/ssd/gallowaa/cciw/dataset_raw_v0-2-x/Test/GLNI/land/scale/' # 18\n",
    "#scale_tasks_path = '/scratch/ssd/gallowaa/cciw/dataset_raw_v0-2-x/Test/WHERD/scale/' # 6\n",
    "scale_tasks_path = '/scratch/ssd/gallowaa/cciw/dataset_raw_v0-2-x/Test/Tripod/1354/' # 1\n",
    "task_list = glob.glob(scale_tasks_path + 'task-*.json')\n",
    "print(len(task_list))\n",
    "task_list"
   ]
  },
  {
   "cell_type": "code",
   "execution_count": null,
   "metadata": {},
   "outputs": [],
   "source": [
    "for i in range(len(task_list)):\n",
    "    \n",
    "    with open(task_list[i], 'r') as f:\n",
    "        att = json.load(f)\n",
    "    \n",
    "    source_image_name = att['params']['attachment']\n",
    "    source_image_root = source_image_name.split('/')[-1].split('.')[0]\n",
    "    \n",
    "    outfile = os.path.join(scale_tasks_path, source_image_root)\n",
    "\n",
    "    \"\"\"This will download the pink and green mask from scale, \n",
    "    but this is overwritten by the VOC format mask.\"\"\"\n",
    "    file, http_msg = urllib.request.urlretrieve(\n",
    "        att['response']['annotations']['combined']['image'], filename=outfile + '_scale.png')\n",
    "    \n",
    "    np_img = cv2.imread(outfile + '_scale.png') # in BlueGreenRed (BGR) format\n",
    "    \n",
    "    np_img[(np_img[:, :, 2] ==  60)] = (0, 0, 128)\n",
    "    np_img[(np_img[:, :, 2] == 230)] = (0, 0, 0)\n",
    "    \n",
    "    cv2.imwrite(outfile + '.png', np_img)\n",
    "    print('Saved item %d' % i, outfile)"
   ]
  },
  {
   "cell_type": "markdown",
   "metadata": {},
   "source": [
    "# Scratchspace"
   ]
  },
  {
   "cell_type": "code",
   "execution_count": null,
   "metadata": {},
   "outputs": [],
   "source": [
    "#att['response']['annotations']['combined']['image']"
   ]
  },
  {
   "cell_type": "code",
   "execution_count": null,
   "metadata": {},
   "outputs": [],
   "source": [
    "source_image_name = att['params']['attachment']\n",
    "source_image_root = source_image_name.split('/')[-1].split('.')[0]\n",
    "print(source_image_root)"
   ]
  },
  {
   "cell_type": "code",
   "execution_count": null,
   "metadata": {},
   "outputs": [],
   "source": [
    "outfile = os.path.join(scale_tasks_path, source_image_root + '.png')\n",
    "\n",
    "file, http_msg = urllib.request.urlretrieve(\n",
    "    att['response']['annotations']['combined']['image'], filename=outfile)\n",
    "print(file)\n",
    "print(http_msg)"
   ]
  },
  {
   "cell_type": "code",
   "execution_count": null,
   "metadata": {},
   "outputs": [],
   "source": [
    "#import PIL.Image\n",
    "#import numpy as np"
   ]
  },
  {
   "cell_type": "code",
   "execution_count": null,
   "metadata": {},
   "outputs": [],
   "source": [
    "#lab = PIL.Image.open(outfile)"
   ]
  },
  {
   "cell_type": "code",
   "execution_count": null,
   "metadata": {},
   "outputs": [],
   "source": [
    "path = '/scratch/ssd/gallowaa/cciw/VOCdevkit/VOC2012_v023/'\n",
    "label_path = os.path.join(path, 'SegmentationClassPNG')\n",
    "list_of_labels = os.listdir(label_path)\n",
    "list_of_labels[0]\n",
    "voc_mask = os.path.join(label_path, list_of_labels[0])"
   ]
  },
  {
   "cell_type": "code",
   "execution_count": null,
   "metadata": {},
   "outputs": [],
   "source": [
    "#PIL.Image.open(voc_mask)"
   ]
  },
  {
   "cell_type": "code",
   "execution_count": null,
   "metadata": {},
   "outputs": [],
   "source": [
    "voc_img = cv2.imread(voc_mask)"
   ]
  },
  {
   "cell_type": "code",
   "execution_count": null,
   "metadata": {},
   "outputs": [],
   "source": [
    "np.unique(np_img) # (75, 25, 230) - bkg\n",
    "                  # (75, 180, 60) - mussel"
   ]
  },
  {
   "cell_type": "code",
   "execution_count": null,
   "metadata": {},
   "outputs": [],
   "source": [
    "np_img = cv2.imread(outfile)"
   ]
  },
  {
   "cell_type": "code",
   "execution_count": null,
   "metadata": {},
   "outputs": [],
   "source": [
    "out_img = np_img.copy()"
   ]
  },
  {
   "cell_type": "code",
   "execution_count": null,
   "metadata": {},
   "outputs": [],
   "source": [
    "out_img[(np_img[:, :, 2] == 60)] = (0, 0, 128)"
   ]
  },
  {
   "cell_type": "code",
   "execution_count": null,
   "metadata": {},
   "outputs": [],
   "source": [
    "out_img[(np_img[:, :, 2] == 230)] = (0, 0, 0)"
   ]
  },
  {
   "cell_type": "code",
   "execution_count": null,
   "metadata": {},
   "outputs": [],
   "source": [
    "plt.imshow(out_img)"
   ]
  },
  {
   "cell_type": "code",
   "execution_count": null,
   "metadata": {},
   "outputs": [],
   "source": [
    "import matplotlib.pyplot as plt"
   ]
  },
  {
   "cell_type": "code",
   "execution_count": null,
   "metadata": {},
   "outputs": [],
   "source": [
    "cv2.imwrite(outfile, out_img)"
   ]
  },
  {
   "cell_type": "code",
   "execution_count": null,
   "metadata": {},
   "outputs": [],
   "source": [
    "outfile"
   ]
  },
  {
   "cell_type": "code",
   "execution_count": null,
   "metadata": {},
   "outputs": [],
   "source": []
  }
 ],
 "metadata": {
  "kernelspec": {
   "display_name": "Python 3",
   "language": "python",
   "name": "python3"
  },
  "language_info": {
   "codemirror_mode": {
    "name": "ipython",
    "version": 3
   },
   "file_extension": ".py",
   "mimetype": "text/x-python",
   "name": "python",
   "nbconvert_exporter": "python",
   "pygments_lexer": "ipython3",
   "version": "3.6.7"
  }
 },
 "nbformat": 4,
 "nbformat_minor": 4
}
