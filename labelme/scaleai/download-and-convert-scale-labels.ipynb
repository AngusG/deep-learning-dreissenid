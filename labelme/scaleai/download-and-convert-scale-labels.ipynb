{
 "cells": [
  {
   "cell_type": "markdown",
   "metadata": {},
   "source": [
    "This notebook looks for files like `task-5e53f31f4e39270010025f6f.json` from Scale, then downloads, renames, and formats the labels consistent with the existing dataset in Pascal VOC format."
   ]
  },
  {
   "cell_type": "code",
   "execution_count": 1,
   "metadata": {},
   "outputs": [],
   "source": [
    "import os\n",
    "import cv2\n",
    "import json\n",
    "import glob\n",
    "import urllib.request"
   ]
  },
  {
   "cell_type": "code",
   "execution_count": 2,
   "metadata": {},
   "outputs": [],
   "source": [
    "import os.path as osp\n",
    "\n",
    "import numpy as np\n",
    "import PIL.Image\n",
    "\n",
    "\n",
    "def lblsave(filename, lbl):\n",
    "    import imgviz\n",
    "\n",
    "    if osp.splitext(filename)[1] != '.png':\n",
    "        filename += '.png'\n",
    "    # Assume label ranges [-1, 254] for int32,\n",
    "    # and [0, 255] for uint8 as VOC.\n",
    "    if lbl.min() >= -1 and lbl.max() < 255:\n",
    "        lbl_pil = PIL.Image.fromarray(lbl.astype(np.uint8), mode='P')\n",
    "        colormap = imgviz.label_colormap()\n",
    "        lbl_pil.putpalette(colormap.flatten())\n",
    "        lbl_pil.save(filename)\n",
    "    else:\n",
    "        raise ValueError(\n",
    "            '[%s] Cannot save the pixel-wise class label as PNG. '\n",
    "            'Please consider using the .npy format.' % filename\n",
    "        )"
   ]
  },
  {
   "cell_type": "code",
   "execution_count": 3,
   "metadata": {},
   "outputs": [
    {
     "name": "stdout",
     "output_type": "stream",
     "text": [
      "1\n"
     ]
    },
    {
     "data": {
      "text/plain": [
       "['/scratch/ssd/gallowaa/cciw/dataset_raw/Test/Lab/task-5e53f31d599b6700162ce302.json']"
      ]
     },
     "execution_count": 3,
     "metadata": {},
     "output_type": "execute_result"
    }
   ],
   "source": [
    "#scale_tasks_path = '/scratch/ssd/gallowaa/cciw/dataset_raw_v0-2-x/Test/GLNI/land/scale/' # 18\n",
    "#scale_tasks_path = '/scratch/ssd/gallowaa/cciw/dataset_raw_v0-2-x/Test/GLNI/port/scale/' # 4\n",
    "#scale_tasks_path = '/scratch/ssd/gallowaa/cciw/dataset_raw_v0-2-x/Test/WHERD/scale/' # 6\n",
    "#scale_tasks_path = '/scratch/ssd/gallowaa/cciw/dataset_raw_v0-2-x/Test/Tripod/503/' # 1\n",
    "#scale_tasks_path = '/scratch/ssd/gallowaa/cciw/dataset_raw/Train/2017-08-bak-16-good-labels/' # 3\n",
    "scale_tasks_path = '/scratch/ssd/gallowaa/cciw/dataset_raw/Test/Lab' # 3\n",
    "task_list = glob.glob(osp.join(scale_tasks_path, 'task-*.json'))\n",
    "print(len(task_list))\n",
    "task_list"
   ]
  },
  {
   "cell_type": "code",
   "execution_count": 4,
   "metadata": {},
   "outputs": [
    {
     "name": "stdout",
     "output_type": "stream",
     "text": [
      "Saved item 0 /scratch/ssd/gallowaa/cciw/dataset_raw/Test/Lab/Lab_3539-1_2018-08-07_image-1\n"
     ]
    }
   ],
   "source": [
    "for i in range(len(task_list)):\n",
    "\n",
    "    with open(task_list[i], 'r') as f:\n",
    "        att = json.load(f)\n",
    "\n",
    "    source_image_name = att['params']['attachment']\n",
    "    source_image_root = source_image_name.split('/')[-1].split('.')[0]\n",
    "\n",
    "    outfile = os.path.join(scale_tasks_path, source_image_root)\n",
    "\n",
    "    \"\"\"This will download the pink and green mask from scale, \n",
    "    but this is overwritten by the VOC format mask.\"\"\"\n",
    "    file, http_msg = urllib.request.urlretrieve(\n",
    "        att['response']['annotations']['combined']['image'], filename=outfile + '_scale.png')\n",
    "\n",
    "    np_img = cv2.imread(outfile + '_scale.png') # in BlueGreenRed (BGR) format\n",
    "\n",
    "    lbl = np.zeros((np_img.shape[0], np_img.shape[1]))\n",
    "    lbl[(np_img[:, :, 2] ==  60)] = 1\n",
    "\n",
    "    lblsave(outfile + '.png', lbl) # save as indexed color RGB image\n",
    "    #cv2.imwrite(outfile + '.png', np_img) # this is incorrect and saves as a normal RGB image\n",
    "    print('Saved item %d' % i, outfile)"
   ]
  },
  {
   "cell_type": "markdown",
   "metadata": {},
   "source": [
    "# End notebook - begin scratchspace"
   ]
  },
  {
   "cell_type": "code",
   "execution_count": null,
   "metadata": {},
   "outputs": [],
   "source": [
    "#att['response']['annotations']['combined']['image']"
   ]
  },
  {
   "cell_type": "code",
   "execution_count": null,
   "metadata": {},
   "outputs": [],
   "source": [
    "source_image_name = att['params']['attachment']\n",
    "source_image_root = source_image_name.split('/')[-1].split('.')[0]\n",
    "print(source_image_root)"
   ]
  },
  {
   "cell_type": "code",
   "execution_count": null,
   "metadata": {},
   "outputs": [],
   "source": [
    "outfile = os.path.join(scale_tasks_path, source_image_root + '.png')\n",
    "\n",
    "file, http_msg = urllib.request.urlretrieve(\n",
    "    att['response']['annotations']['combined']['image'], filename=outfile)\n",
    "print(file)\n",
    "print(http_msg)"
   ]
  },
  {
   "cell_type": "code",
   "execution_count": null,
   "metadata": {},
   "outputs": [],
   "source": [
    "import PIL.Image\n",
    "#import numpy as np"
   ]
  },
  {
   "cell_type": "code",
   "execution_count": null,
   "metadata": {},
   "outputs": [],
   "source": [
    "#lab = PIL.Image.open(outfile)"
   ]
  },
  {
   "cell_type": "code",
   "execution_count": null,
   "metadata": {},
   "outputs": [],
   "source": [
    "path = '/scratch/ssd/gallowaa/cciw/VOCdevkit/VOC2012_v023/'\n",
    "label_path = os.path.join(path, 'SegmentationClassPNG')\n",
    "list_of_labels = os.listdir(label_path)\n",
    "list_of_labels[0]\n",
    "voc_mask = os.path.join(label_path, list_of_labels[0])"
   ]
  },
  {
   "cell_type": "code",
   "execution_count": null,
   "metadata": {},
   "outputs": [],
   "source": [
    "scale_img = cv2.imread('/scratch/ssd/gallowaa/cciw/dataset_raw_v0-2-x/Test/Tripod/1354/Lab_1354_2019-05-24_GoPro-1.png')"
   ]
  },
  {
   "cell_type": "code",
   "execution_count": null,
   "metadata": {},
   "outputs": [],
   "source": [
    "plt.imshow(scale_img)"
   ]
  },
  {
   "cell_type": "code",
   "execution_count": null,
   "metadata": {},
   "outputs": [],
   "source": [
    "plt.imshow(voc_img)"
   ]
  },
  {
   "cell_type": "code",
   "execution_count": null,
   "metadata": {},
   "outputs": [],
   "source": [
    "voc_img = cv2.imread(voc_mask)"
   ]
  },
  {
   "cell_type": "code",
   "execution_count": null,
   "metadata": {},
   "outputs": [],
   "source": [
    "voc_img.shape"
   ]
  },
  {
   "cell_type": "code",
   "execution_count": null,
   "metadata": {},
   "outputs": [],
   "source": [
    "np.unique(scale_img) # (75, 25, 230) - bkg\n",
    "                  # (75, 180, 60) - mussel"
   ]
  },
  {
   "cell_type": "code",
   "execution_count": null,
   "metadata": {},
   "outputs": [],
   "source": [
    "np_img = cv2.imread(outfile)"
   ]
  },
  {
   "cell_type": "code",
   "execution_count": null,
   "metadata": {},
   "outputs": [],
   "source": [
    "out_img = np_img.copy()"
   ]
  },
  {
   "cell_type": "code",
   "execution_count": null,
   "metadata": {},
   "outputs": [],
   "source": [
    "out_img[(np_img[:, :, 2] == 60)] = (0, 0, 128)"
   ]
  },
  {
   "cell_type": "code",
   "execution_count": null,
   "metadata": {},
   "outputs": [],
   "source": [
    "out_img[(np_img[:, :, 2] == 230)] = (0, 0, 0)"
   ]
  },
  {
   "cell_type": "code",
   "execution_count": null,
   "metadata": {},
   "outputs": [],
   "source": [
    "plt.imshow(out_img)"
   ]
  },
  {
   "cell_type": "code",
   "execution_count": null,
   "metadata": {},
   "outputs": [],
   "source": [
    "import matplotlib.pyplot as plt"
   ]
  },
  {
   "cell_type": "code",
   "execution_count": null,
   "metadata": {},
   "outputs": [],
   "source": [
    "cv2.imwrite(outfile, out_img)"
   ]
  },
  {
   "cell_type": "code",
   "execution_count": null,
   "metadata": {},
   "outputs": [],
   "source": [
    "outfile"
   ]
  },
  {
   "cell_type": "code",
   "execution_count": null,
   "metadata": {},
   "outputs": [],
   "source": [
    "import numpy as np"
   ]
  },
  {
   "cell_type": "code",
   "execution_count": null,
   "metadata": {},
   "outputs": [],
   "source": []
  }
 ],
 "metadata": {
  "kernelspec": {
   "display_name": "Python 3",
   "language": "python",
   "name": "python3"
  },
  "language_info": {
   "codemirror_mode": {
    "name": "ipython",
    "version": 3
   },
   "file_extension": ".py",
   "mimetype": "text/x-python",
   "name": "python",
   "nbconvert_exporter": "python",
   "pygments_lexer": "ipython3",
   "version": "3.6.6"
  }
 },
 "nbformat": 4,
 "nbformat_minor": 4
}
