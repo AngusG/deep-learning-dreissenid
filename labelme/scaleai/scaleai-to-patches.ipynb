{
 "cells": [
  {
   "cell_type": "markdown",
   "metadata": {},
   "source": [
    "# voc-images-and-masks-to-patch\n",
    "\n",
    "This notebook converts a single 2250x2250 px image and its segmentation mask to 81 patches of width `w=242` for training and testing machine learning models. \n",
    "\n",
    "Its use differs slightly between the data labeled with LabeMe versus Scale."
   ]
  },
  {
   "cell_type": "code",
   "execution_count": null,
   "metadata": {},
   "outputs": [],
   "source": [
    "#see load_label_png.py also.\n",
    "import os\n",
    "import glob\n",
    "import numpy as np\n",
    "import PIL.Image\n",
    "\n",
    "import matplotlib.pyplot as plt\n",
    "%matplotlib inline"
   ]
  },
  {
   "cell_type": "code",
   "execution_count": null,
   "metadata": {},
   "outputs": [],
   "source": [
    "path = '/scratch/ssd/gallowaa/cciw/dataset_raw_v0-2-x/Test/GLNI/land/scale/'\n",
    "out_path = os.path.join(path, 'patches')\n",
    "list_of_labels = glob.glob(path + '*crop.png')\n",
    "list_of_images = glob.glob(path + '*crop.jpg') # scale\n",
    "print(len(list_of_labels))\n",
    "print(len(list_of_images))\n",
    "assert len(list_of_labels) == len(list_of_images)"
   ]
  },
  {
   "cell_type": "markdown",
   "metadata": {},
   "source": [
    "## Set patch width `w`"
   ]
  },
  {
   "cell_type": "code",
   "execution_count": null,
   "metadata": {},
   "outputs": [],
   "source": [
    "w = 250 # in pixels. Results in 81 images for 2250x2250 (9x9)"
   ]
  },
  {
   "cell_type": "markdown",
   "metadata": {},
   "source": [
    "# Save cropped masks"
   ]
  },
  {
   "cell_type": "code",
   "execution_count": null,
   "metadata": {},
   "outputs": [],
   "source": [
    "for i in range(len(list_of_labels)):\n",
    "    \n",
    "    lab_stem_name = list_of_labels[i].split('.')[0].split('/')[-1]\n",
    "    \n",
    "    lab_inp_file = os.path.join(path, lab_stem_name)        \n",
    "    lab_out_file = os.path.join(out_path, lab_stem_name)\n",
    "\n",
    "    lab = PIL.Image.open(lab_inp_file + '.png')\n",
    "\n",
    "    cnt = 0\n",
    "    for row in range(lab.size[0] // w):\n",
    "        for col in range(lab.size[0] // w):\n",
    "            top = w * row\n",
    "            bot = w * (row + 1)\n",
    "            left  = w * col\n",
    "            right = w * (col + 1)\n",
    "            lab.crop(\n",
    "                (left, top, right, bot)\n",
    "            ).save(lab_out_file + '-' + str(cnt) + '.png')\n",
    "            cnt += 1\n",
    "    print(i, 'finished saving %d images' % cnt)"
   ]
  },
  {
   "cell_type": "markdown",
   "metadata": {},
   "source": [
    "# Save cropped images"
   ]
  },
  {
   "cell_type": "code",
   "execution_count": null,
   "metadata": {},
   "outputs": [],
   "source": [
    "for i in range(len(list_of_images)):\n",
    "    \n",
    "    img_stem_name = list_of_images[i].split('.')[0].split('/')[-1]\n",
    "    \n",
    "    img_inp_file = os.path.join(path, img_stem_name)\n",
    "    img_out_file = os.path.join(out_path, img_stem_name)\n",
    "    \n",
    "    img = PIL.Image.open(img_inp_file + '.jpg')\n",
    "    \n",
    "    cnt = 0\n",
    "    for row in range(img.size[0] // w):\n",
    "        for col in range(img.size[0] // w):\n",
    "            top = w * row\n",
    "            bot = w * (row + 1)\n",
    "            left  = w * col\n",
    "            right = w * (col + 1)\n",
    "            img.crop(\n",
    "                (left, top, right, bot)\n",
    "            ).save(img_out_file + '-' + str(cnt) + '.jpg')\n",
    "            cnt += 1\n",
    "    print(i, 'finished saving %d images' % cnt)"
   ]
  },
  {
   "cell_type": "markdown",
   "metadata": {},
   "source": [
    "# Visualization"
   ]
  },
  {
   "cell_type": "code",
   "execution_count": null,
   "metadata": {},
   "outputs": [],
   "source": [
    "wvz = 242 # 340, 283, 242, 212\n",
    "lbl = np.asarray(img)\n",
    "n_plot = lbl.shape[0] // wvz\n",
    "fig, axes = plt.subplots(n_plot, n_plot, figsize=(12, 12))\n",
    "\n",
    "for row in range(lbl.shape[0] // wvz):\n",
    "    for col in range(lbl.shape[0] // wvz):\n",
    "        axes[row, col].imshow(lbl[row*wvz:(1+row)*wvz, col*wvz:(col+1)*wvz])\n",
    "        axes[row, col].axis('off')\n",
    "#plt.tight_layout()        \n",
    "#plt.savefig(file + '_viz.png')"
   ]
  }
 ],
 "metadata": {
  "kernelspec": {
   "display_name": "Python 3",
   "language": "python",
   "name": "python3"
  },
  "language_info": {
   "codemirror_mode": {
    "name": "ipython",
    "version": 3
   },
   "file_extension": ".py",
   "mimetype": "text/x-python",
   "name": "python",
   "nbconvert_exporter": "python",
   "pygments_lexer": "ipython3",
   "version": "3.6.7"
  }
 },
 "nbformat": 4,
 "nbformat_minor": 2
}
