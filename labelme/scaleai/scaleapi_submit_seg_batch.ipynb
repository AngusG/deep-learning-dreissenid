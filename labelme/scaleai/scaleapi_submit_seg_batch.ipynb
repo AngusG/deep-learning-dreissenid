{
 "cells": [
  {
   "cell_type": "code",
   "execution_count": null,
   "metadata": {},
   "outputs": [],
   "source": [
    "import os\n",
    "import csv\n",
    "import scaleapi"
   ]
  },
  {
   "cell_type": "code",
   "execution_count": null,
   "metadata": {},
   "outputs": [],
   "source": [
    "# use this key for debugging, does not incur charges\n",
    "API_KEY = 'test_c4362bc26016421392275cb8d93289d7'\n",
    "# use this key for real labels\n",
    "#API_KEY = 'live_2ff4b5744abf4bf1912fee4e74f1e463'\n",
    "\n",
    "client = scaleapi.ScaleClient(API_KEY)\n",
    "#client = scaleapi.ScaleClient()\n",
    "\n",
    "#csv_path = '/scratch/ssd/gallowaa/cciw/dataset_raw_v0-2-x/Test/WHERD'\n",
    "#csv_file = 'WHERD_to_label.csv'\n",
    "\n",
    "#csv_path = '/scratch/ssd/gallowaa/cciw/dataset_raw_v0-2-x/Test/Tripod'\n",
    "#csv_file = 'Tripod_to_label.csv'\n",
    "\n",
    "#csv_path = '/scratch/ssd/gallowaa/cciw/dataset_raw_v0-2-x/Test/GLNI/land'\n",
    "#csv_path = '/scratch/ssd/gallowaa/cciw/dataset_raw_v0-2-x/Test/GLNI/port'\n",
    "csv_path = '/scratch/ssd/gallowaa/cciw/dataset_raw/Test/Lab/'\n",
    "#csv_file = 'to_label_scale.csv'\n",
    "csv_file = 'Lab-batch-11.csv'"
   ]
  },
  {
   "cell_type": "markdown",
   "metadata": {},
   "source": [
    "# Create a top level project\n",
    "For more information see https://scale.com/docs/#projects"
   ]
  },
  {
   "cell_type": "code",
   "execution_count": null,
   "metadata": {},
   "outputs": [],
   "source": [
    "import requests\n",
    "import json\n",
    "payload = {\n",
    "    'type': 'segmentannotation',\n",
    "    'name': 'lab_mussel_segmentation',\n",
    "    'params': {\n",
    "        'instruction': 'Please draw a tight polygon around the **mussels** in the image.'\n",
    "    },\n",
    "}\n",
    "\n",
    "headers = {\"Content-Type\": \"application/json\"}\n",
    "\n",
    "create_project_request = requests.post(\"https://api.scale.com/v1/projects\",\n",
    "  json=payload,\n",
    "  headers=headers,\n",
    "  auth=(API_KEY, ''))\n",
    "\n",
    "print(create_project_request.json())"
   ]
  },
  {
   "cell_type": "markdown",
   "metadata": {},
   "source": [
    "# Group submissions in a batch\n",
    "For more information see https://scale.com/docs#batch-creation"
   ]
  },
  {
   "cell_type": "code",
   "execution_count": null,
   "metadata": {},
   "outputs": [],
   "source": [
    "import requests\n",
    "import json\n",
    "\n",
    "payload = {\n",
    "    'project': 'lab_mussel_segmentation',\n",
    "    'name': 'Lab-0',\n",
    "    'callback': 'gallowaa@uoguelph.ca',\n",
    "}\n",
    "\n",
    "headers = {\"Content-Type\": \"application/json\"}\n",
    "\n",
    "create_batch_request = requests.post(\"https://api.scale.com/v1/batches\",\n",
    "  json=payload,\n",
    "  headers=headers,\n",
    "  auth=(API_KEY, ''))\n",
    "\n",
    "print(create_batch_request.json())"
   ]
  },
  {
   "cell_type": "code",
   "execution_count": null,
   "metadata": {},
   "outputs": [],
   "source": [
    "with open(os.path.join(csv_path, csv_file)) as f:\n",
    "    csv_reader = csv.reader(f, delimiter=',')\n",
    "    line_count = 0\n",
    "    for row in csv_reader:\n",
    "        print(row[0])\n",
    "        line_count += 1\n",
    "    print(f'Processed {line_count} lines.')"
   ]
  },
  {
   "cell_type": "code",
   "execution_count": null,
   "metadata": {},
   "outputs": [],
   "source": [
    "with open(os.path.join(csv_path, csv_file)) as f:\n",
    "    csv_reader = csv.reader(f, delimiter=',')\n",
    "    line_count = 0\n",
    "    for row in csv_reader:\n",
    "        print(row[0])\n",
    "        resp = client.create_segmentannotation_task(\n",
    "            #project='lab_mussel_segmentation',\n",
    "            #batch='Lab-0',\n",
    "            urgency='immediate',\n",
    "            callback_url='gallowaa@uoguelph.ca',\n",
    "            instruction='Draw a tight polygon around the live **mussels** in the image.',\n",
    "            attachment_type='image',\n",
    "            attachment=row[0],\n",
    "            labels=[\n",
    "              'background',\n",
    "              'mussel',\n",
    "            ],\n",
    "            allow_unlabeled=False\n",
    "        )\n",
    "        print(resp)\n",
    "        line_count += 1\n",
    "    print(f'Processed {line_count} lines.')"
   ]
  },
  {
   "cell_type": "code",
   "execution_count": null,
   "metadata": {},
   "outputs": [],
   "source": [
    "resp"
   ]
  },
  {
   "cell_type": "code",
   "execution_count": null,
   "metadata": {},
   "outputs": [],
   "source": [
    "# WHERD  - Submitted 6 jobs at @ 8:37 pm, done 11:52-11:57pm\n",
    "# Tripod - Submitted 3 jobs at @ 8:55 pm\n",
    "# GLNI   - Submitted 15 jobs at @ 12:05 am\n",
    "# Lab    - Submitted 4 jobs Feb 22 @ 11pm\n",
    "# Lab    - Submitted 1 jobs Feb 23 @ 3:09pm"
   ]
  }
 ],
 "metadata": {
  "kernelspec": {
   "display_name": "Python 3",
   "language": "python",
   "name": "python3"
  },
  "language_info": {
   "codemirror_mode": {
    "name": "ipython",
    "version": 3
   },
   "file_extension": ".py",
   "mimetype": "text/x-python",
   "name": "python",
   "nbconvert_exporter": "python",
   "pygments_lexer": "ipython3",
   "version": "3.6.7"
  }
 },
 "nbformat": 4,
 "nbformat_minor": 4
}
