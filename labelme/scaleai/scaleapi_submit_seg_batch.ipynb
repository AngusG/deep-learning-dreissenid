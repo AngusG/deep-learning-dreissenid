{
 "cells": [
  {
   "cell_type": "code",
   "execution_count": null,
   "metadata": {},
   "outputs": [],
   "source": [
    "import os\n",
    "import csv\n",
    "import scaleapi"
   ]
  },
  {
   "cell_type": "code",
   "execution_count": null,
   "metadata": {},
   "outputs": [],
   "source": [
    "# use this key for debugging, does not incur charges\n",
    "client = scaleapi.ScaleClient('test_c4362bc26016421392275cb8d93289d7')\n",
    "\n",
    "# use this key for real labels\n",
    "#client = scaleapi.ScaleClient('live_2ff4b5744abf4bf1912fee4e74f1e463')\n",
    "\n",
    "#csv_path = '/scratch/ssd/gallowaa/cciw/dataset_raw_v0-2-x/Test/WHERD'\n",
    "#csv_file = 'WHERD_to_label.csv'\n",
    "\n",
    "#csv_path = '/scratch/ssd/gallowaa/cciw/dataset_raw_v0-2-x/Test/Tripod'\n",
    "#csv_file = 'Tripod_to_label.csv'\n",
    "\n",
    "#csv_path = '/scratch/ssd/gallowaa/cciw/dataset_raw_v0-2-x/Test/GLNI/land'\n",
    "csv_path = '/scratch/ssd/gallowaa/cciw/dataset_raw_v0-2-x/Test/GLNI/port'\n",
    "csv_file = 'to_label.csv'"
   ]
  },
  {
   "cell_type": "code",
   "execution_count": null,
   "metadata": {},
   "outputs": [],
   "source": [
    "with open(os.path.join(csv_path, csv_file)) as f:\n",
    "    csv_reader = csv.reader(f, delimiter=',')\n",
    "    line_count = 0\n",
    "    for row in csv_reader:\n",
    "        print(row[0])\n",
    "        resp = client.create_segmentannotation_task(\n",
    "            callback_url='gallowaa@uoguelph.ca',\n",
    "            instruction='Draw a tight polygon around the live **mussels** in the image. Ignore the empty white shells.',\n",
    "            attachment_type='image',\n",
    "            attachment=row[0],\n",
    "            labels=[\n",
    "              'background',\n",
    "              'mussel',\n",
    "            ],\n",
    "            allow_unlabeled=False\n",
    "        )\n",
    "        line_count += 1\n",
    "        print(resp)\n",
    "    print(f'Processed {line_count} lines.')"
   ]
  },
  {
   "cell_type": "code",
   "execution_count": null,
   "metadata": {},
   "outputs": [],
   "source": [
    "# WHERD  - Submitted 6 jobs at @ 8:37 pm, done 11:52-11:57pm\n",
    "# Tripod - Submitted 3 jobs at @ 8:55 pm\n",
    "# GLNI   - Submitted 15 jobs at @ 12:05 am"
   ]
  }
 ],
 "metadata": {
  "kernelspec": {
   "display_name": "Python 3",
   "language": "python",
   "name": "python3"
  },
  "language_info": {
   "codemirror_mode": {
    "name": "ipython",
    "version": 3
   },
   "file_extension": ".py",
   "mimetype": "text/x-python",
   "name": "python",
   "nbconvert_exporter": "python",
   "pygments_lexer": "ipython3",
   "version": "3.6.7"
  }
 },
 "nbformat": 4,
 "nbformat_minor": 4
}
