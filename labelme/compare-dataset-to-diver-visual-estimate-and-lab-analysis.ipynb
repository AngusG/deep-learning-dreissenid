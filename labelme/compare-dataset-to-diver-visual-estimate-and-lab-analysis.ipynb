{
 "cells": [
  {
   "cell_type": "markdown",
   "metadata": {},
   "source": [
    "# Compare the segmentation labels to lab analysis and estimated coverage"
   ]
  },
  {
   "cell_type": "code",
   "execution_count": null,
   "metadata": {},
   "outputs": [],
   "source": [
    "import os\n",
    "import os.path as osp\n",
    "import glob\n",
    "\n",
    "import pandas as pd\n",
    "import numpy as np\n",
    "\n",
    "import cv2\n",
    "from tqdm import tqdm\n",
    "from sklearn.metrics import r2_score\n",
    "\n",
    "import matplotlib\n",
    "matplotlib.rc('text', usetex=True)\n",
    "import matplotlib.pyplot as plt\n",
    "plt.rc('text', usetex=True)\n",
    "plt.rc('font', family='serif')"
   ]
  },
  {
   "cell_type": "code",
   "execution_count": null,
   "metadata": {},
   "outputs": [],
   "source": [
    "# uncomment to set the path to the full size images and labels on the Google Drive\n",
    "#root = 'My Drive/ADIG_Labelled_Dataset/Test'\n",
    "#root = '/scratch/ssd/gallowaa/cciw/VOCdevkit/Train-all-Team-Mussels/'\n",
    "root = os.environ['DATA_PATH'] + '/cciw/VOCdevkit/Train-v120-originals/'\n",
    "\n",
    "label_path = os.path.join(root, 'SegmentationClass')\n",
    "image_path = os.path.join(root, 'JPEGImages')"
   ]
  },
  {
   "cell_type": "code",
   "execution_count": null,
   "metadata": {},
   "outputs": [],
   "source": [
    "# Search for all png label files\n",
    "all_images = glob.glob(osp.join(label_path, '*.png'))\n",
    "print(len(all_images))\n",
    "all_images.sort()\n",
    "\n",
    "# show the first few files\n",
    "all_images[:5]"
   ]
  },
  {
   "cell_type": "code",
   "execution_count": null,
   "metadata": {},
   "outputs": [],
   "source": [
    "# change me!\n",
    "DATA_PATH = os.environ['DATA_PATH'] + '/cciw/Data'\n",
    "\n",
    "imagetable_path = os.path.join(DATA_PATH, 'Tables', 'ImageTable.csv')\n",
    "image_df = pd.read_csv(imagetable_path, index_col=0)\n",
    "\n",
    "analysis_path = os.path.join(DATA_PATH, 'Tables', 'Analysis.csv')\n",
    "dive_path = os.path.join(DATA_PATH, 'Tables', 'Dives.csv')\n",
    "\n",
    "analysis_df = pd.read_csv(analysis_path, index_col=0, dtype={'Count':float})\n",
    "dive_df = pd.read_csv(dive_path, index_col=0, parse_dates=['Date'])\n",
    "data_df = pd.merge(analysis_df, dive_df, on='Dive Index', how='outer')\n",
    "data_df.columns"
   ]
  },
  {
   "cell_type": "code",
   "execution_count": null,
   "metadata": {},
   "outputs": [],
   "source": [
    "lab_targets = np.zeros((len(all_images), 3)) # 0 = biomass, 1 = count\n",
    "\n",
    "for i in range(len(all_images)):\n",
    "    key = all_images[i].split('/')[-1].split('.')[0].split('_image')[0]\n",
    "    #print(key)\n",
    "    guid = image_df[image_df['Name'].str.contains(key)]['Analysis Index'].astype('int64')\n",
    "    #print(guid)\n",
    "    row = data_df[data_df['Analysis Index'].values == np.unique(guid.values)]\n",
    "    \n",
    "    lab_targets[i, 0] = row['Count'].values\n",
    "    lab_targets[i, 1] = row['Biomass'].values\n",
    "    lab_targets[i, 2] = row['Live Coverage'].values\n",
    "    #lab_targets[i, 3] = row['Overall Coverage'].values"
   ]
  },
  {
   "cell_type": "markdown",
   "metadata": {},
   "source": [
    "# Read all masks from disk and sum up the mussel pixels\n",
    "\n",
    "Takes 26 seconds to read 109 images from my local SSD"
   ]
  },
  {
   "cell_type": "code",
   "execution_count": null,
   "metadata": {},
   "outputs": [],
   "source": [
    "pix_ct = []\n",
    "for i in tqdm(range(len(all_images))):\n",
    "    im   = cv2.imread(all_images[i])\n",
    "    _, cts = np.unique(im, return_counts=True) \n",
    "    try:\n",
    "        pix_ct.append(cts[1] / cts.sum())\n",
    "    except:\n",
    "        pix_ct.append(0)\n",
    "pix_ct_np = np.asarray(pix_ct)\n",
    "pix_ct_np = pix_ct_np / pix_ct_np.max()"
   ]
  },
  {
   "cell_type": "code",
   "execution_count": null,
   "metadata": {},
   "outputs": [],
   "source": [
    "lab_targets[np.isnan(lab_targets)] = 0\n",
    "\n",
    "for i in range(3):\n",
    "    lab_targets[:, i] = lab_targets[:, i] / lab_targets[:, i].max()\n",
    "#r_val = np.corrcoef(pix_ct_np, y)[1, 0]\n",
    "x = pix_ct_np.copy()#[pix_ct_np < 0.01]\n",
    "#y = y[pix_ct_np < 0.01]\n",
    "#print(len(y))\n",
    "\n",
    "#A = np.vstack([x, np.ones(len(x))]).T\n",
    "#m, c = np.linalg.lstsq(A, y, rcond=None)[0]"
   ]
  },
  {
   "cell_type": "markdown",
   "metadata": {},
   "source": [
    "# Simple criteria for finding outliers"
   ]
  },
  {
   "cell_type": "code",
   "execution_count": null,
   "metadata": {},
   "outputs": [],
   "source": [
    "mask_y = lab_targets[:, 2] > 0.4\n",
    "mask_x = x < 0.2\n",
    "upper_left = mask_x & mask_y\n",
    "\n",
    "mask_y = lab_targets[:, 2] > 0.38\n",
    "mask_x = x < 0.1\n",
    "upper_left |= (mask_x & mask_y)\n",
    "\n",
    "mask_y = lab_targets[:, 2] < 0.6\n",
    "mask_x = x > 0.6\n",
    "bottom_right = mask_x & mask_y\n",
    "\n",
    "outliers = upper_left | bottom_right\n",
    "\n",
    "inliers = np.invert(outliers)\n",
    "print('Live Coverage R^2 value on %d inliers = %.4f' % (len(x[inliers]), r2_score(lab_targets[:, 2][inliers], x[inliers])))"
   ]
  },
  {
   "cell_type": "code",
   "execution_count": null,
   "metadata": {},
   "outputs": [],
   "source": [
    "font = 14\n",
    "COLOR_OUTLIERS = True  # Set to True to show outliers in red\n",
    "fig, ax = plt.subplots(1, 3, figsize=(12.5, 3.5), sharex=True)\n",
    "\n",
    "for i in range(3):\n",
    "    \n",
    "    ax[i].scatter(x, lab_targets[:, i], marker='o', s=40, facecolors='none', edgecolors='b')\n",
    "    \n",
    "    if i == 0:\n",
    "        ax[i].set_ylabel('Count', fontsize=font)\n",
    "    elif i == 1:\n",
    "        ax[i].set_ylabel('Biomass (grams)', fontsize=font)\n",
    "    elif i == 2:\n",
    "        ax[i].set_ylabel('Live Coverage (\\%)', fontsize=font)\n",
    "    \n",
    "    if COLOR_OUTLIERS:\n",
    "        ax[i].scatter(x[outliers], lab_targets[:, i][outliers], \n",
    "                      marker='o', s=40, facecolors='none', edgecolors='r')    \n",
    "        ax[i].annotate(r'$R^2$ = %.3f' % r2_score(lab_targets[:, i][inliers], x[inliers]), \n",
    "                       xy=(.6, 0.01), fontsize=font, xycoords='axes fraction')\n",
    "    else:\n",
    "        ax[i].annotate(r'$R^2$ = %.3f' % r2_score(lab_targets[:, i], x), \n",
    "                       xy=(.6, 0.01), fontsize=font, xycoords='axes fraction')\n",
    "    ax[i].grid()\n",
    "    #ax[i].set_ylim(0, 1.05)\n",
    "    #ax[i].set_xlim(0, 1.05)\n",
    "\n",
    "ax[1].set_xlabel('Normalized Ratio of Mussel Pixels in Image', fontsize=font)\n",
    "\n",
    "fname = 'Train-all-109-annotate-outliers'\n",
    "#plt.tight_layout()\n",
    "#fig.savefig(fname + '.png')\n",
    "#fig.savefig(fname + '.eps', format='eps')"
   ]
  },
  {
   "cell_type": "code",
   "execution_count": null,
   "metadata": {},
   "outputs": [],
   "source": [
    "def linear_regression(x, y):\n",
    "    A = np.vstack([x, np.ones(len(x))]).T\n",
    "    (m, c), res, r, s = np.linalg.lstsq(A, y, rcond=-1)\n",
    "    std = np.sqrt(res[0] / len(y))\n",
    "    return m * x + c"
   ]
  },
  {
   "cell_type": "markdown",
   "metadata": {},
   "source": [
    "# Examine outliers in more detail"
   ]
  },
  {
   "cell_type": "code",
   "execution_count": null,
   "metadata": {},
   "outputs": [],
   "source": [
    "for i, tf in enumerate(upper_left):\n",
    "    if tf:\n",
    "        key = all_images[i].split('/')[-1].split('.')[0].split('_image')[0]\n",
    "        print('>', key)\n",
    "        guid = image_df[image_df['Name'].str.contains(key)]['Analysis Index'].astype('int64')\n",
    "        row = data_df[data_df['Analysis Index'].values == np.unique(guid.values)]\n",
    "        print('Count   %d' % row['Count'].values)\n",
    "        print('Biomass %.2f' % row['Biomass'].values)\n",
    "        print('LiveCov %d' % row['Live Coverage'].values)"
   ]
  },
  {
   "cell_type": "code",
   "execution_count": null,
   "metadata": {},
   "outputs": [],
   "source": [
    "for i, tf in enumerate(upper_left):\n",
    "    if tf:\n",
    "        key = all_images[i].split('/')[-1].split('.')[0].split('_image')[0]\n",
    "        print('>', key)\n",
    "        guid = image_df[image_df['Name'].str.contains(key)]['Analysis Index'].astype('int64')\n",
    "        row = data_df[data_df['Analysis Index'].values == np.unique(guid.values)]\n",
    "        print('Count   %d' % row['Count'].values)\n",
    "        print('Biomass %.2f' % row['Biomass'].values)\n",
    "        print('LiveCov %d' % row['Live Coverage'].values)"
   ]
  },
  {
   "cell_type": "code",
   "execution_count": null,
   "metadata": {},
   "outputs": [],
   "source": []
  }
 ],
 "metadata": {
  "kernelspec": {
   "display_name": "Python 3",
   "language": "python",
   "name": "python3"
  },
  "language_info": {
   "codemirror_mode": {
    "name": "ipython",
    "version": 3
   },
   "file_extension": ".py",
   "mimetype": "text/x-python",
   "name": "python",
   "nbconvert_exporter": "python",
   "pygments_lexer": "ipython3",
   "version": "3.6.7"
  }
 },
 "nbformat": 4,
 "nbformat_minor": 2
}
