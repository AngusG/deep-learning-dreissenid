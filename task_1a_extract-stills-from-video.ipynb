{
 "cells": [
  {
   "cell_type": "code",
   "execution_count": null,
   "metadata": {},
   "outputs": [],
   "source": [
    "import os\n",
    "import cv2\n",
    "from glob import glob\n",
    "import numpy as np\n",
    "import pandas as pd\n",
    "import matplotlib.pyplot as plt\n",
    "%matplotlib inline\n",
    "# https://ipython.org/ipython-doc/3/config/extensions/autoreload.html\n",
    "%load_ext autoreload\n",
    "%autoreload 2"
   ]
  },
  {
   "cell_type": "code",
   "execution_count": null,
   "metadata": {},
   "outputs": [],
   "source": [
    "figsize = (8, 6)\n",
    "save_figures = False"
   ]
  },
  {
   "cell_type": "code",
   "execution_count": null,
   "metadata": {},
   "outputs": [],
   "source": [
    "#path = '/scratch/ssd/cciw/Videos-20200114T160100Z-001/Quad1'\n",
    "file = 'GLNI_12-1_2016-07-11_video-1.mp4'\n",
    "#outpath = file.split('.')[0]"
   ]
  },
  {
   "cell_type": "code",
   "execution_count": null,
   "metadata": {},
   "outputs": [],
   "source": [
    "#f = os.path.join(path, file)"
   ]
  },
  {
   "cell_type": "code",
   "execution_count": null,
   "metadata": {},
   "outputs": [],
   "source": [
    "DATA_PATH = r'/scratch/gallowaa/cciw/Data'\n",
    "\n",
    "# Search for all video files on Google Drive...\n",
    "all_videos = glob(os.path.join(DATA_PATH, 'Videos_and_stills/GLNI/*/*/*/Videos/Quad*/*.mp4'))\n",
    "\n",
    "videotable_path = os.path.join(DATA_PATH, 'Tables', 'QuadratVideos.csv')\n",
    "video_df = pd.read_csv(videotable_path, index_col=0)"
   ]
  },
  {
   "cell_type": "code",
   "execution_count": null,
   "metadata": {},
   "outputs": [],
   "source": [
    "vpath = video_df.iloc[video_df[video_df['Name'] == file].index]['Quadrat Video Path']"
   ]
  },
  {
   "cell_type": "code",
   "execution_count": null,
   "metadata": {},
   "outputs": [],
   "source": [
    "tokens = video_df[video_df['Name'] == file]['Quadrat Video Path'].values[0].split('\\\\')\n",
    "print(tokens)"
   ]
  },
  {
   "cell_type": "code",
   "execution_count": null,
   "metadata": {},
   "outputs": [],
   "source": [
    "video_path = DATA_PATH + '/Videos_and_stills/GLNI'\n",
    "for tok in tokens[4:-1]:\n",
    "    video_path += '/' + tok\n",
    "\n",
    "print(video_path)    \n",
    "out_path = os.path.join(video_path, 'data')\n",
    "video_path = os.path.join(video_path, file)\n",
    "\n",
    "if not os.path.exists(out_path):\n",
    "    os.mkdir(out_path)\n",
    "    print('Making dir ', out_path)"
   ]
  },
  {
   "cell_type": "code",
   "execution_count": null,
   "metadata": {},
   "outputs": [],
   "source": [
    "video_path"
   ]
  },
  {
   "cell_type": "code",
   "execution_count": null,
   "metadata": {},
   "outputs": [],
   "source": [
    "'/scratch/gallowaa/cciw/Data/Videos_and_stills/GLNI/12/2016/Jul.11/Videos/Quad1'"
   ]
  },
  {
   "cell_type": "code",
   "execution_count": null,
   "metadata": {},
   "outputs": [],
   "source": [
    "180 / np.pi * np.pi / 90"
   ]
  },
  {
   "cell_type": "code",
   "execution_count": null,
   "metadata": {},
   "outputs": [],
   "source": [
    "#cap.read()"
   ]
  },
  {
   "cell_type": "code",
   "execution_count": null,
   "metadata": {},
   "outputs": [],
   "source": [
    "FPS = 30\n",
    "cap = cv2.VideoCapture(video_path) #cap.set(cv2.CAP_PROP_FPS, FPS)"
   ]
  },
  {
   "cell_type": "code",
   "execution_count": null,
   "metadata": {},
   "outputs": [],
   "source": [
    "'''\n",
    "for j in range(10):\n",
    "    ret, im = cap.read()\n",
    "currentFrame = j\n",
    "'''\n",
    "currentFrame = 0\n",
    "for i in range(50):\n",
    "    \n",
    "    # Capture frame-by-frame\n",
    "    ret, im = cap.read()\n",
    "    \n",
    "    if not ret: break\n",
    "\n",
    "    # Saves image of the current frame in jpg file\n",
    "    name = 'pframe_pi45_' + str(currentFrame) + '.jpg'\n",
    "    save_path = os.path.join(out_path, name)\n",
    "    print ('Creating...' + name)\n",
    "    \n",
    "    # Do processing\n",
    "    #_, img = draw_lines(im, rho=1, theta=np.pi/2, mll=400, mlg=200, threshold=50, ds=1)    \n",
    "    img = draw_lines(im, rho=1, theta=np.pi/45, mll=400, mlg=200, threshold=100, ds=1)\n",
    "    cv2.imwrite(save_path, img)\n",
    "\n",
    "    # To stop duplicate images\n",
    "    currentFrame += 1\n",
    "\n",
    "# When everything done, release the capture\n",
    "cap.release()\n",
    "cv2.destroyAllWindows()"
   ]
  },
  {
   "cell_type": "code",
   "execution_count": null,
   "metadata": {},
   "outputs": [],
   "source": [
    "ret, im = cap.read()\n",
    "plt.imshow(im)"
   ]
  },
  {
   "cell_type": "code",
   "execution_count": null,
   "metadata": {},
   "outputs": [],
   "source": [
    "#from utils import draw_lines"
   ]
  },
  {
   "cell_type": "code",
   "execution_count": null,
   "metadata": {},
   "outputs": [],
   "source": [
    "img = draw_lines(im, rho=1, theta=np.pi/90, mll=400, mlg=250, threshold=100, ds=1)"
   ]
  },
  {
   "cell_type": "code",
   "execution_count": null,
   "metadata": {},
   "outputs": [],
   "source": [
    "#cv2.circle(img, (800, 400), 10, (255, 0, 0), thickness=2, lineType=8, shift=0)\n",
    "\n",
    "plt.figure(figsize=figsize)\n",
    "plt.imshow(img)\n",
    "plt.tight_layout()\n",
    "if save_figures:\n",
    "    plt.savefig('img/' + outpath + '-Step-2.png')\n",
    "plt.show()"
   ]
  },
  {
   "cell_type": "code",
   "execution_count": null,
   "metadata": {},
   "outputs": [],
   "source": [
    "plt.imshow(edges)"
   ]
  },
  {
   "cell_type": "code",
   "execution_count": null,
   "metadata": {},
   "outputs": [],
   "source": []
  }
 ],
 "metadata": {
  "kernelspec": {
   "display_name": "Python 3",
   "language": "python",
   "name": "python3"
  },
  "language_info": {
   "codemirror_mode": {
    "name": "ipython",
    "version": 3
   },
   "file_extension": ".py",
   "mimetype": "text/x-python",
   "name": "python",
   "nbconvert_exporter": "python",
   "pygments_lexer": "ipython3",
   "version": "3.6.7"
  }
 },
 "nbformat": 4,
 "nbformat_minor": 2
}
