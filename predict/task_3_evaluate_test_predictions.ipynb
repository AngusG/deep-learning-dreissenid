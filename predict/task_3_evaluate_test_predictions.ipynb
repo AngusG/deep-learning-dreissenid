{
 "cells": [
  {
   "cell_type": "markdown",
   "metadata": {
    "colab_type": "text",
    "id": "0UXd9CuzgNx2"
   },
   "source": [
    "# Evaluate a Pre-Trained Segmentation Model in Colab on 2019 data\n",
    "\n",
    "\n",
    "This notebook is for generating predictions on the GLNI 2019 test set and evaluating the proportion of variance ($R^2$) in live coverage, biomass, and count, explained by the predictions.\n",
    "\n",
    "Since I do not have access to the lab analysis tables for the 2019 data, it currently performs the analysis on the training images as a demonstration, but in line comments are provided in order to make the transition to the 2019 data.\n",
    "\n",
    "This notebook is designed to be as lean as possible, it __does not__ aim to provide interactive visualizations, for this see other notebooks, for example: `task_3_evaluate_notebook_in_colab`"
   ]
  },
  {
   "cell_type": "markdown",
   "metadata": {},
   "source": [
    "__Note:__ To maintain a high priority Colab user status such that sufficient GPU resources are available in the future, ensure to free the runtime when finished running this notebook. This can be done using 'Runtime > Manage Sessions' and click 'Terminate'."
   ]
  },
  {
   "cell_type": "code",
   "execution_count": 1,
   "metadata": {},
   "outputs": [
    {
     "name": "stdout",
     "output_type": "stream",
     "text": [
      "Gen RAM Free: 64.5 GB  | Proc size: 54.0 MB\n",
      "GPU RAM Free: 11176MB | Used: 2MB | Util   0% | Total 11178MB\n",
      "\n",
      "GPU memory is sufficient to proceeed.\n"
     ]
    }
   ],
   "source": [
    "import sys\n",
    "\n",
    "# Check if notebook is running in Colab or local workstation\n",
    "IN_COLAB = 'google.colab' in sys.modules\n",
    "\n",
    "if IN_COLAB:\n",
    "    !ln -sf /opt/bin/nvidia-smi /usr/bin/nvidia-smi\n",
    "    !pip install gputil\n",
    "    !pip install psutil\n",
    "    !pip install humanize\n",
    "\n",
    "import GPUtil as GPU\n",
    "import os\n",
    "import humanize\n",
    "import psutil\n",
    "import sys\n",
    "GPUs = GPU.getGPUs()\n",
    "\n",
    "try:\n",
    "    # XXX: only one GPU on Colab and isn’t guaranteed\n",
    "    gpu = GPUs[1]\n",
    "\n",
    "    def printm():\n",
    "        process = psutil.Process(os.getpid())\n",
    "        print(\"Gen RAM Free: \" + humanize.naturalsize(psutil.virtual_memory().available),\n",
    "              \" | Proc size: \" + humanize.naturalsize(process.memory_info().rss))\n",
    "        print(\"GPU RAM Free: {0:.0f}MB | Used: {1:.0f}MB | Util {2:3.0f}% | Total {3:.0f}MB\".format(\n",
    "            gpu.memoryFree, gpu.memoryUsed, gpu.memoryUtil*100, gpu.memoryTotal))\n",
    "    printm()\n",
    "\n",
    "    # Check if GPU capacity is sufficient to proceed\n",
    "    if gpu.memoryFree < 5000:\n",
    "        print(\"\\nInsufficient memory! Some cells may fail. Please try restarting the runtime using 'Runtime → Restart Runtime...' from the menu bar. If that doesn't work, terminate this session and try again later.\")\n",
    "    else:\n",
    "        print('\\nGPU memory is sufficient to proceeed.')\n",
    "except:\n",
    "    print('Select the Runtime → \"Change runtime type\" menu to enable a GPU accelerator, ')\n",
    "    print('and then re-execute this cell.')"
   ]
  },
  {
   "cell_type": "code",
   "execution_count": 2,
   "metadata": {
    "colab": {
     "base_uri": "https://localhost:8080/",
     "height": 71
    },
    "colab_type": "code",
    "id": "4pzGY41DgyyQ",
    "outputId": "6bebf55b-f9f5-4a59-abdd-4c101878f4d1"
   },
   "outputs": [],
   "source": [
    "if IN_COLAB:\n",
    "\n",
    "    from google.colab import drive\n",
    "    drive.mount('/content/drive')\n",
    "    DATA_PATH = r'/content/drive/My Drive/Data'\n",
    "\n",
    "    # cd into git repo so python can find utils\n",
    "    %cd '/content/drive/My Drive/cciw-zebra-mussel/predict'\n",
    "\n",
    "    sys.path.append('/content/drive/My Drive')"
   ]
  },
  {
   "cell_type": "code",
   "execution_count": 3,
   "metadata": {
    "colab": {},
    "colab_type": "code",
    "id": "bneyBxcYgNx7"
   },
   "outputs": [],
   "source": [
    "import os\n",
    "import os.path as osp\n",
    "import csv\n",
    "\n",
    "import glob\n",
    "\n",
    "# for manually reading high resolution images\n",
    "import cv2\n",
    "import numpy as np\n",
    "\n",
    "# for comparing predictions to lab analysis data frames\n",
    "import pandas as pd\n",
    "\n",
    "# for plotting\n",
    "import matplotlib.pyplot as plt\n",
    "\n",
    "# pytorch core library\n",
    "import torch\n",
    "\n",
    "# pytorch neural network functions\n",
    "from torch import nn\n",
    "\n",
    "from tqdm import tqdm_notebook  # notebook friendly progress bar\n",
    "\n",
    "# evaluation metrics\n",
    "from sklearn.metrics import r2_score\n",
    "\n",
    "from task_3_utils import img_to_nchw_tensor, pretty_image"
   ]
  },
  {
   "cell_type": "code",
   "execution_count": 4,
   "metadata": {},
   "outputs": [
    {
     "name": "stdout",
     "output_type": "stream",
     "text": [
      "Found GPU, cuda\n"
     ]
    }
   ],
   "source": [
    "\"\"\"Confim that this cell prints \"Found GPU, cuda\". If not, select \"GPU\" as \n",
    "\"Hardware Accelerator\" under the \"Runtime\" tab of the main menu.\n",
    "\"\"\"\n",
    "if torch.cuda.is_available():\n",
    "    device = torch.device('cuda')\n",
    "    print('Found GPU,', device)"
   ]
  },
  {
   "cell_type": "markdown",
   "metadata": {
    "colab_type": "text",
    "id": "n4P0mldogNyQ"
   },
   "source": [
    "## 1. Load a pre-trained model checkpoint"
   ]
  },
  {
   "cell_type": "code",
   "execution_count": 10,
   "metadata": {
    "colab": {
     "base_uri": "https://localhost:8080/",
     "height": 71
    },
    "colab_type": "code",
    "id": "n89QOGLxgNyS",
    "outputId": "904c901b-f3e2-4a84-afd8-27eaad8aadf7"
   },
   "outputs": [
    {
     "name": "stdout",
     "output_type": "stream",
     "text": [
      "Loading /scratch/gallowaa/cciw/logs/cmp-dataset/train_v120/deeplabv3_resnet50/lr1e-01/wd5e-04/bs40/ep80/seed1/checkpoint/deeplabv3_resnet50_lr1e-01_wd5e-04_bs40_ep80_seed1_epoch79.ckpt\n",
      "==> Resuming from checkpoint..\n",
      "Loaded model deeplabv3_resnet50_lr1e-01_wd5e-04_bs40_ep80_seed1_epoch79 trained to epoch  79\n",
      "Cross-entropy loss 0.1614 for train set, 0.9776 for validation set\n"
     ]
    },
    {
     "data": {
      "text/plain": [
       "DeepLabV3(\n",
       "  (backbone): IntermediateLayerGetter(\n",
       "    (conv1): Conv2d(3, 64, kernel_size=(7, 7), stride=(2, 2), padding=(3, 3), bias=False)\n",
       "    (bn1): BatchNorm2d(64, eps=1e-05, momentum=0.1, affine=True, track_running_stats=True)\n",
       "    (relu): ReLU(inplace=True)\n",
       "    (maxpool): MaxPool2d(kernel_size=3, stride=2, padding=1, dilation=1, ceil_mode=False)\n",
       "    (layer1): Sequential(\n",
       "      (0): Bottleneck(\n",
       "        (conv1): Conv2d(64, 64, kernel_size=(1, 1), stride=(1, 1), bias=False)\n",
       "        (bn1): BatchNorm2d(64, eps=1e-05, momentum=0.1, affine=True, track_running_stats=True)\n",
       "        (conv2): Conv2d(64, 64, kernel_size=(3, 3), stride=(1, 1), padding=(1, 1), bias=False)\n",
       "        (bn2): BatchNorm2d(64, eps=1e-05, momentum=0.1, affine=True, track_running_stats=True)\n",
       "        (conv3): Conv2d(64, 256, kernel_size=(1, 1), stride=(1, 1), bias=False)\n",
       "        (bn3): BatchNorm2d(256, eps=1e-05, momentum=0.1, affine=True, track_running_stats=True)\n",
       "        (relu): ReLU(inplace=True)\n",
       "        (downsample): Sequential(\n",
       "          (0): Conv2d(64, 256, kernel_size=(1, 1), stride=(1, 1), bias=False)\n",
       "          (1): BatchNorm2d(256, eps=1e-05, momentum=0.1, affine=True, track_running_stats=True)\n",
       "        )\n",
       "      )\n",
       "      (1): Bottleneck(\n",
       "        (conv1): Conv2d(256, 64, kernel_size=(1, 1), stride=(1, 1), bias=False)\n",
       "        (bn1): BatchNorm2d(64, eps=1e-05, momentum=0.1, affine=True, track_running_stats=True)\n",
       "        (conv2): Conv2d(64, 64, kernel_size=(3, 3), stride=(1, 1), padding=(1, 1), bias=False)\n",
       "        (bn2): BatchNorm2d(64, eps=1e-05, momentum=0.1, affine=True, track_running_stats=True)\n",
       "        (conv3): Conv2d(64, 256, kernel_size=(1, 1), stride=(1, 1), bias=False)\n",
       "        (bn3): BatchNorm2d(256, eps=1e-05, momentum=0.1, affine=True, track_running_stats=True)\n",
       "        (relu): ReLU(inplace=True)\n",
       "      )\n",
       "      (2): Bottleneck(\n",
       "        (conv1): Conv2d(256, 64, kernel_size=(1, 1), stride=(1, 1), bias=False)\n",
       "        (bn1): BatchNorm2d(64, eps=1e-05, momentum=0.1, affine=True, track_running_stats=True)\n",
       "        (conv2): Conv2d(64, 64, kernel_size=(3, 3), stride=(1, 1), padding=(1, 1), bias=False)\n",
       "        (bn2): BatchNorm2d(64, eps=1e-05, momentum=0.1, affine=True, track_running_stats=True)\n",
       "        (conv3): Conv2d(64, 256, kernel_size=(1, 1), stride=(1, 1), bias=False)\n",
       "        (bn3): BatchNorm2d(256, eps=1e-05, momentum=0.1, affine=True, track_running_stats=True)\n",
       "        (relu): ReLU(inplace=True)\n",
       "      )\n",
       "    )\n",
       "    (layer2): Sequential(\n",
       "      (0): Bottleneck(\n",
       "        (conv1): Conv2d(256, 128, kernel_size=(1, 1), stride=(1, 1), bias=False)\n",
       "        (bn1): BatchNorm2d(128, eps=1e-05, momentum=0.1, affine=True, track_running_stats=True)\n",
       "        (conv2): Conv2d(128, 128, kernel_size=(3, 3), stride=(2, 2), padding=(1, 1), bias=False)\n",
       "        (bn2): BatchNorm2d(128, eps=1e-05, momentum=0.1, affine=True, track_running_stats=True)\n",
       "        (conv3): Conv2d(128, 512, kernel_size=(1, 1), stride=(1, 1), bias=False)\n",
       "        (bn3): BatchNorm2d(512, eps=1e-05, momentum=0.1, affine=True, track_running_stats=True)\n",
       "        (relu): ReLU(inplace=True)\n",
       "        (downsample): Sequential(\n",
       "          (0): Conv2d(256, 512, kernel_size=(1, 1), stride=(2, 2), bias=False)\n",
       "          (1): BatchNorm2d(512, eps=1e-05, momentum=0.1, affine=True, track_running_stats=True)\n",
       "        )\n",
       "      )\n",
       "      (1): Bottleneck(\n",
       "        (conv1): Conv2d(512, 128, kernel_size=(1, 1), stride=(1, 1), bias=False)\n",
       "        (bn1): BatchNorm2d(128, eps=1e-05, momentum=0.1, affine=True, track_running_stats=True)\n",
       "        (conv2): Conv2d(128, 128, kernel_size=(3, 3), stride=(1, 1), padding=(1, 1), bias=False)\n",
       "        (bn2): BatchNorm2d(128, eps=1e-05, momentum=0.1, affine=True, track_running_stats=True)\n",
       "        (conv3): Conv2d(128, 512, kernel_size=(1, 1), stride=(1, 1), bias=False)\n",
       "        (bn3): BatchNorm2d(512, eps=1e-05, momentum=0.1, affine=True, track_running_stats=True)\n",
       "        (relu): ReLU(inplace=True)\n",
       "      )\n",
       "      (2): Bottleneck(\n",
       "        (conv1): Conv2d(512, 128, kernel_size=(1, 1), stride=(1, 1), bias=False)\n",
       "        (bn1): BatchNorm2d(128, eps=1e-05, momentum=0.1, affine=True, track_running_stats=True)\n",
       "        (conv2): Conv2d(128, 128, kernel_size=(3, 3), stride=(1, 1), padding=(1, 1), bias=False)\n",
       "        (bn2): BatchNorm2d(128, eps=1e-05, momentum=0.1, affine=True, track_running_stats=True)\n",
       "        (conv3): Conv2d(128, 512, kernel_size=(1, 1), stride=(1, 1), bias=False)\n",
       "        (bn3): BatchNorm2d(512, eps=1e-05, momentum=0.1, affine=True, track_running_stats=True)\n",
       "        (relu): ReLU(inplace=True)\n",
       "      )\n",
       "      (3): Bottleneck(\n",
       "        (conv1): Conv2d(512, 128, kernel_size=(1, 1), stride=(1, 1), bias=False)\n",
       "        (bn1): BatchNorm2d(128, eps=1e-05, momentum=0.1, affine=True, track_running_stats=True)\n",
       "        (conv2): Conv2d(128, 128, kernel_size=(3, 3), stride=(1, 1), padding=(1, 1), bias=False)\n",
       "        (bn2): BatchNorm2d(128, eps=1e-05, momentum=0.1, affine=True, track_running_stats=True)\n",
       "        (conv3): Conv2d(128, 512, kernel_size=(1, 1), stride=(1, 1), bias=False)\n",
       "        (bn3): BatchNorm2d(512, eps=1e-05, momentum=0.1, affine=True, track_running_stats=True)\n",
       "        (relu): ReLU(inplace=True)\n",
       "      )\n",
       "    )\n",
       "    (layer3): Sequential(\n",
       "      (0): Bottleneck(\n",
       "        (conv1): Conv2d(512, 256, kernel_size=(1, 1), stride=(1, 1), bias=False)\n",
       "        (bn1): BatchNorm2d(256, eps=1e-05, momentum=0.1, affine=True, track_running_stats=True)\n",
       "        (conv2): Conv2d(256, 256, kernel_size=(3, 3), stride=(1, 1), padding=(1, 1), bias=False)\n",
       "        (bn2): BatchNorm2d(256, eps=1e-05, momentum=0.1, affine=True, track_running_stats=True)\n",
       "        (conv3): Conv2d(256, 1024, kernel_size=(1, 1), stride=(1, 1), bias=False)\n",
       "        (bn3): BatchNorm2d(1024, eps=1e-05, momentum=0.1, affine=True, track_running_stats=True)\n",
       "        (relu): ReLU(inplace=True)\n",
       "        (downsample): Sequential(\n",
       "          (0): Conv2d(512, 1024, kernel_size=(1, 1), stride=(1, 1), bias=False)\n",
       "          (1): BatchNorm2d(1024, eps=1e-05, momentum=0.1, affine=True, track_running_stats=True)\n",
       "        )\n",
       "      )\n",
       "      (1): Bottleneck(\n",
       "        (conv1): Conv2d(1024, 256, kernel_size=(1, 1), stride=(1, 1), bias=False)\n",
       "        (bn1): BatchNorm2d(256, eps=1e-05, momentum=0.1, affine=True, track_running_stats=True)\n",
       "        (conv2): Conv2d(256, 256, kernel_size=(3, 3), stride=(1, 1), padding=(2, 2), dilation=(2, 2), bias=False)\n",
       "        (bn2): BatchNorm2d(256, eps=1e-05, momentum=0.1, affine=True, track_running_stats=True)\n",
       "        (conv3): Conv2d(256, 1024, kernel_size=(1, 1), stride=(1, 1), bias=False)\n",
       "        (bn3): BatchNorm2d(1024, eps=1e-05, momentum=0.1, affine=True, track_running_stats=True)\n",
       "        (relu): ReLU(inplace=True)\n",
       "      )\n",
       "      (2): Bottleneck(\n",
       "        (conv1): Conv2d(1024, 256, kernel_size=(1, 1), stride=(1, 1), bias=False)\n",
       "        (bn1): BatchNorm2d(256, eps=1e-05, momentum=0.1, affine=True, track_running_stats=True)\n",
       "        (conv2): Conv2d(256, 256, kernel_size=(3, 3), stride=(1, 1), padding=(2, 2), dilation=(2, 2), bias=False)\n",
       "        (bn2): BatchNorm2d(256, eps=1e-05, momentum=0.1, affine=True, track_running_stats=True)\n",
       "        (conv3): Conv2d(256, 1024, kernel_size=(1, 1), stride=(1, 1), bias=False)\n",
       "        (bn3): BatchNorm2d(1024, eps=1e-05, momentum=0.1, affine=True, track_running_stats=True)\n",
       "        (relu): ReLU(inplace=True)\n",
       "      )\n",
       "      (3): Bottleneck(\n",
       "        (conv1): Conv2d(1024, 256, kernel_size=(1, 1), stride=(1, 1), bias=False)\n",
       "        (bn1): BatchNorm2d(256, eps=1e-05, momentum=0.1, affine=True, track_running_stats=True)\n",
       "        (conv2): Conv2d(256, 256, kernel_size=(3, 3), stride=(1, 1), padding=(2, 2), dilation=(2, 2), bias=False)\n",
       "        (bn2): BatchNorm2d(256, eps=1e-05, momentum=0.1, affine=True, track_running_stats=True)\n",
       "        (conv3): Conv2d(256, 1024, kernel_size=(1, 1), stride=(1, 1), bias=False)\n",
       "        (bn3): BatchNorm2d(1024, eps=1e-05, momentum=0.1, affine=True, track_running_stats=True)\n",
       "        (relu): ReLU(inplace=True)\n",
       "      )\n",
       "      (4): Bottleneck(\n",
       "        (conv1): Conv2d(1024, 256, kernel_size=(1, 1), stride=(1, 1), bias=False)\n",
       "        (bn1): BatchNorm2d(256, eps=1e-05, momentum=0.1, affine=True, track_running_stats=True)\n",
       "        (conv2): Conv2d(256, 256, kernel_size=(3, 3), stride=(1, 1), padding=(2, 2), dilation=(2, 2), bias=False)\n",
       "        (bn2): BatchNorm2d(256, eps=1e-05, momentum=0.1, affine=True, track_running_stats=True)\n",
       "        (conv3): Conv2d(256, 1024, kernel_size=(1, 1), stride=(1, 1), bias=False)\n",
       "        (bn3): BatchNorm2d(1024, eps=1e-05, momentum=0.1, affine=True, track_running_stats=True)\n",
       "        (relu): ReLU(inplace=True)\n",
       "      )\n",
       "      (5): Bottleneck(\n",
       "        (conv1): Conv2d(1024, 256, kernel_size=(1, 1), stride=(1, 1), bias=False)\n",
       "        (bn1): BatchNorm2d(256, eps=1e-05, momentum=0.1, affine=True, track_running_stats=True)\n",
       "        (conv2): Conv2d(256, 256, kernel_size=(3, 3), stride=(1, 1), padding=(2, 2), dilation=(2, 2), bias=False)\n",
       "        (bn2): BatchNorm2d(256, eps=1e-05, momentum=0.1, affine=True, track_running_stats=True)\n",
       "        (conv3): Conv2d(256, 1024, kernel_size=(1, 1), stride=(1, 1), bias=False)\n",
       "        (bn3): BatchNorm2d(1024, eps=1e-05, momentum=0.1, affine=True, track_running_stats=True)\n",
       "        (relu): ReLU(inplace=True)\n",
       "      )\n",
       "    )\n",
       "    (layer4): Sequential(\n",
       "      (0): Bottleneck(\n",
       "        (conv1): Conv2d(1024, 512, kernel_size=(1, 1), stride=(1, 1), bias=False)\n",
       "        (bn1): BatchNorm2d(512, eps=1e-05, momentum=0.1, affine=True, track_running_stats=True)\n",
       "        (conv2): Conv2d(512, 512, kernel_size=(3, 3), stride=(1, 1), padding=(2, 2), dilation=(2, 2), bias=False)\n",
       "        (bn2): BatchNorm2d(512, eps=1e-05, momentum=0.1, affine=True, track_running_stats=True)\n",
       "        (conv3): Conv2d(512, 2048, kernel_size=(1, 1), stride=(1, 1), bias=False)\n",
       "        (bn3): BatchNorm2d(2048, eps=1e-05, momentum=0.1, affine=True, track_running_stats=True)\n",
       "        (relu): ReLU(inplace=True)\n",
       "        (downsample): Sequential(\n",
       "          (0): Conv2d(1024, 2048, kernel_size=(1, 1), stride=(1, 1), bias=False)\n",
       "          (1): BatchNorm2d(2048, eps=1e-05, momentum=0.1, affine=True, track_running_stats=True)\n",
       "        )\n",
       "      )\n",
       "      (1): Bottleneck(\n",
       "        (conv1): Conv2d(2048, 512, kernel_size=(1, 1), stride=(1, 1), bias=False)\n",
       "        (bn1): BatchNorm2d(512, eps=1e-05, momentum=0.1, affine=True, track_running_stats=True)\n",
       "        (conv2): Conv2d(512, 512, kernel_size=(3, 3), stride=(1, 1), padding=(4, 4), dilation=(4, 4), bias=False)\n",
       "        (bn2): BatchNorm2d(512, eps=1e-05, momentum=0.1, affine=True, track_running_stats=True)\n",
       "        (conv3): Conv2d(512, 2048, kernel_size=(1, 1), stride=(1, 1), bias=False)\n",
       "        (bn3): BatchNorm2d(2048, eps=1e-05, momentum=0.1, affine=True, track_running_stats=True)\n",
       "        (relu): ReLU(inplace=True)\n",
       "      )\n",
       "      (2): Bottleneck(\n",
       "        (conv1): Conv2d(2048, 512, kernel_size=(1, 1), stride=(1, 1), bias=False)\n",
       "        (bn1): BatchNorm2d(512, eps=1e-05, momentum=0.1, affine=True, track_running_stats=True)\n",
       "        (conv2): Conv2d(512, 512, kernel_size=(3, 3), stride=(1, 1), padding=(4, 4), dilation=(4, 4), bias=False)\n",
       "        (bn2): BatchNorm2d(512, eps=1e-05, momentum=0.1, affine=True, track_running_stats=True)\n",
       "        (conv3): Conv2d(512, 2048, kernel_size=(1, 1), stride=(1, 1), bias=False)\n",
       "        (bn3): BatchNorm2d(2048, eps=1e-05, momentum=0.1, affine=True, track_running_stats=True)\n",
       "        (relu): ReLU(inplace=True)\n",
       "      )\n",
       "    )\n",
       "  )\n",
       "  (classifier): DeepLabHead(\n",
       "    (0): ASPP(\n",
       "      (convs): ModuleList(\n",
       "        (0): Sequential(\n",
       "          (0): Conv2d(2048, 256, kernel_size=(1, 1), stride=(1, 1), bias=False)\n",
       "          (1): BatchNorm2d(256, eps=1e-05, momentum=0.1, affine=True, track_running_stats=True)\n",
       "          (2): ReLU()\n",
       "        )\n",
       "        (1): ASPPConv(\n",
       "          (0): Conv2d(2048, 256, kernel_size=(3, 3), stride=(1, 1), padding=(12, 12), dilation=(12, 12), bias=False)\n",
       "          (1): BatchNorm2d(256, eps=1e-05, momentum=0.1, affine=True, track_running_stats=True)\n",
       "          (2): ReLU()\n",
       "        )\n",
       "        (2): ASPPConv(\n",
       "          (0): Conv2d(2048, 256, kernel_size=(3, 3), stride=(1, 1), padding=(24, 24), dilation=(24, 24), bias=False)\n",
       "          (1): BatchNorm2d(256, eps=1e-05, momentum=0.1, affine=True, track_running_stats=True)\n",
       "          (2): ReLU()\n",
       "        )\n",
       "        (3): ASPPConv(\n",
       "          (0): Conv2d(2048, 256, kernel_size=(3, 3), stride=(1, 1), padding=(36, 36), dilation=(36, 36), bias=False)\n",
       "          (1): BatchNorm2d(256, eps=1e-05, momentum=0.1, affine=True, track_running_stats=True)\n",
       "          (2): ReLU()\n",
       "        )\n",
       "        (4): ASPPPooling(\n",
       "          (0): AdaptiveAvgPool2d(output_size=1)\n",
       "          (1): Conv2d(2048, 256, kernel_size=(1, 1), stride=(1, 1), bias=False)\n",
       "          (2): BatchNorm2d(256, eps=1e-05, momentum=0.1, affine=True, track_running_stats=True)\n",
       "          (3): ReLU()\n",
       "        )\n",
       "      )\n",
       "      (project): Sequential(\n",
       "        (0): Conv2d(1280, 256, kernel_size=(1, 1), stride=(1, 1), bias=False)\n",
       "        (1): BatchNorm2d(256, eps=1e-05, momentum=0.1, affine=True, track_running_stats=True)\n",
       "        (2): ReLU()\n",
       "        (3): Dropout(p=0.5, inplace=False)\n",
       "      )\n",
       "    )\n",
       "    (1): Conv2d(256, 256, kernel_size=(3, 3), stride=(1, 1), padding=(1, 1), bias=False)\n",
       "    (2): BatchNorm2d(256, eps=1e-05, momentum=0.1, affine=True, track_running_stats=True)\n",
       "    (3): ReLU()\n",
       "    (4): Conv2d(256, 1, kernel_size=(1, 1), stride=(1, 1))\n",
       "  )\n",
       ")"
      ]
     },
     "execution_count": 10,
     "metadata": {},
     "output_type": "execute_result"
    }
   ],
   "source": [
    "if IN_COLAB:\n",
    "    root = osp.join(\n",
    "        DATA_PATH, 'Checkpoints/deeplabv3_resnet50_lr1e-01_wd5e-04_bs40_ep80_seed1')\n",
    "    \n",
    "else:\n",
    "    root = osp.join(\n",
    "        os.environ['DATA_PATH'], 'cciw/logs/cmp-dataset/train_v120/deeplabv3_resnet50/lr1e-01/wd5e-04/bs40/ep80/seed1/checkpoint')\n",
    "\n",
    "ckpt_file = 'deeplabv3_resnet50_lr1e-01_wd5e-04_bs40_ep80_seed1_epoch79.ckpt'\n",
    "\n",
    "model_to_load = osp.join(root, ckpt_file)\n",
    "                         \n",
    "print('Loading', model_to_load)                         \n",
    "         \n",
    "checkpoint = torch.load(model_to_load)\n",
    "                        \n",
    "train_loss = checkpoint['trn_loss']\n",
    "val_loss = checkpoint['val_loss']\n",
    "print('==> Resuming from checkpoint..')\n",
    "net = checkpoint['net']\n",
    "last_epoch = checkpoint['epoch']\n",
    "torch.set_rng_state(checkpoint['rng_state'])\n",
    "\n",
    "# later appended to figure filenames\n",
    "model_stem = ckpt_file.split('.')[0]\n",
    "\n",
    "print('Loaded model %s trained to epoch ' % model_stem, last_epoch)\n",
    "print(\n",
    "    'Cross-entropy loss {:.4f} for train set, {:.4f} for validation set'.format(train_loss, val_loss))\n",
    "\n",
    "sig = nn.Sigmoid()  # initializes a sigmoid function\n",
    "\n",
    "net.eval()"
   ]
  },
  {
   "cell_type": "markdown",
   "metadata": {
    "colab_type": "text",
    "id": "ne_OPnTPgNzh"
   },
   "source": [
    "## 2. Set path to original, i.e., full size images\n",
    "\n",
    "Here we manually load and preprocess the original images and png masks using OpenCV.\n",
    "\n",
    "### Note to Dominique: set `root_path` to point to validation images after enabling 2019 tables"
   ]
  },
  {
   "cell_type": "code",
   "execution_count": 48,
   "metadata": {
    "colab": {
     "base_uri": "https://localhost:8080/",
     "height": 53
    },
    "colab_type": "code",
    "id": "rouYvCy3gNzj",
    "outputId": "0cd6d473-73c3-4f2e-97ca-df03fbb55f7a"
   },
   "outputs": [
    {
     "name": "stdout",
     "output_type": "stream",
     "text": [
      "403\n",
      "0\n"
     ]
    }
   ],
   "source": [
    "if IN_COLAB:\n",
    "    # uncomment me after enabling 2019 table!\n",
    "    root_path = osp.join(DATA_PATH, 'ADIG_Labelled_Dataset/val_v101/GLNI') \n",
    "    #root_path = osp.join(DATA_PATH, 'ADIG_Labelled_Dataset/train_v120/')\n",
    "else:\n",
    "    #root_path = '/scratch/ssd/gallowaa/cciw/VOCdevkit/Validation-v101-originals/'\n",
    "    #root_path = '/scratch/ssd/gallowaa/cciw/VOCdevkit/Train-v112-originals/'\n",
    "    #root_path = '/scratch/ssd/gallowaa/cciw/dataset_raw/Test/GLNI/all-unlabelled/'\n",
    "    root_path = '/scratch/ssd/gallowaa/cciw/dataset_raw/GLNI-2019-403/'\n",
    "    \n",
    "#jpeg_files = glob.glob(osp.join(root_path, 'JPEGImages/') + '*.jpg')\n",
    "#png_files = glob.glob(osp.join(root_path, 'SegmentationClass/') + '*_crop.png')\n",
    "\n",
    "jpeg_files = glob.glob(root_path + '*.jpg')\n",
    "png_files = glob.glob(root_path + '*_crop.png')\n",
    "\n",
    "jpeg_files.sort()\n",
    "png_files.sort()\n",
    "\n",
    "\"\"\"\n",
    "Should equal 121 for train-v112\n",
    "Should equal 152 for train-v120\n",
    "Should equal  55 for val-v101\n",
    "\"\"\"\n",
    "print(len(jpeg_files))\n",
    "print(len(png_files))"
   ]
  },
  {
   "cell_type": "code",
   "execution_count": 20,
   "metadata": {},
   "outputs": [],
   "source": [
    "fontsize = 16\n",
    "\n",
    "left = 0.02  # the left side of the subplots of the figure\n",
    "right = 0.98  # the right side of the subplots of the figure\n",
    "bottom = 0.05  # the bottom of the subplots of the figure\n",
    "top = 0.95  # the top of the subplots of the figure\n",
    "wspace = 0.15  # the amount of width reserved for space between subplots, expressed as a fraction of the average axis width\n",
    "hspace = 0.1   # the amount of height reserved for space between subplots, expressed as a fraction of the average axis height\n",
    "\n",
    "BIOMASS_IDX = 0\n",
    "COUNT_IDX = 1\n",
    "LIVE_COV_IDX = 2"
   ]
  },
  {
   "cell_type": "markdown",
   "metadata": {
    "colab_type": "text",
    "id": "9h2AhUsjgNz-"
   },
   "source": [
    "## 3. Populate dataframe of lab measurements associated with `jpeg_files`\n",
    "\n",
    "Here we predict the mussel biomass from the lab analysis using a) the masks, and b) model predictions on the \n",
    "full size images. "
   ]
  },
  {
   "cell_type": "code",
   "execution_count": 21,
   "metadata": {
    "colab": {},
    "colab_type": "code",
    "id": "vYuNMNd9gNz_"
   },
   "outputs": [],
   "source": [
    "if not IN_COLAB:\n",
    "\n",
    "    # set DATA_PATH local machine\n",
    "    DATA_PATH = osp.join(os.environ['DATA_PATH'], 'cciw/Data')\n",
    "    \n",
    "    # enable LaTeX style fonts only on local workstation\n",
    "    import matplotlib\n",
    "    matplotlib.rc('text', usetex=True)\n",
    "    plt.rc('text', usetex=True)\n",
    "    plt.rc('font', family='serif')\n",
    "    \n",
    "    # local plotting functions\n",
    "    from plot_utils import *\n",
    "\n",
    "else:    \n",
    "    # these functions are defined in plot_utils\n",
    "    # but that package uses latex fonts which are incompatible with Colab\n",
    "    def pretty_axis(ax, fontsize):\n",
    "        ax.set_ylim(0, 1.05)\n",
    "        ax.set_xlim(0, 1.05)\n",
    "        ax.grid()\n",
    "        ax.set_aspect('equal')\n",
    "        ax.tick_params(labelsize=fontsize - 2)\n",
    "\n",
    "    def linear_regression(x, y):\n",
    "        A = np.vstack([x, np.ones(len(x))]).T\n",
    "        (m, c), _, _, _ = np.linalg.lstsq(A, y, rcond=-1)\n",
    "        return m * x + c\n",
    "\n",
    "    def draw_lines(ax, x, y):\n",
    "        x_ = np.linspace(0, 1)\n",
    "        A = np.vstack([x, np.ones(len(x))]).T\n",
    "        (m, c), res, r, s = np.linalg.lstsq(A, y, rcond=-1)\n",
    "        std = np.sqrt(res[0] / len(y))\n",
    "        ax.plot(x_, m * x_ + c, 'k', linestyle='-')\n",
    "        ax.plot(x_, m * x_ + c + 1.96 * std, '--', color='gray')\n",
    "        ax.plot(x_, m * x_ + c - 1.96 * std, '--', color='gray')\n"
   ]
  },
  {
   "cell_type": "code",
   "execution_count": 22,
   "metadata": {},
   "outputs": [],
   "source": [
    "# the validation set has version code 101\n",
    "imagetable_path = osp.join(DATA_PATH, 'Tables', '2019', 'ImageTable2019.csv')\n",
    "analysis_path = osp.join(DATA_PATH, 'Tables', '2019', 'Analysis2019.csv')\n",
    "dive_path = osp.join(DATA_PATH, 'Tables', '2019', 'Dives2019.csv')\n",
    "'''\n",
    "imagetable_path = osp.join(DATA_PATH, 'Tables', 'ImageTable.csv')\n",
    "analysis_path = osp.join(DATA_PATH, 'Tables', 'Analysis.csv')\n",
    "dive_path = osp.join(DATA_PATH, 'Tables', 'Dives.csv')\n",
    "'''\n",
    "image_df = pd.read_csv(imagetable_path, index_col=0)\n",
    "analysis_df = pd.read_csv(analysis_path, index_col=0, dtype={'Count': float})\n",
    "dive_df = pd.read_csv(dive_path, index_col=0, parse_dates=['Date'])\n",
    "data_df = pd.merge(analysis_df, dive_df, on='Dive Index', how='outer')"
   ]
  },
  {
   "cell_type": "code",
   "execution_count": 23,
   "metadata": {},
   "outputs": [],
   "source": [
    "#image_df"
   ]
  },
  {
   "cell_type": "code",
   "execution_count": 24,
   "metadata": {},
   "outputs": [],
   "source": [
    "#data_df.loc[data_df['Live Coverage'].notnull()]"
   ]
  },
  {
   "cell_type": "markdown",
   "metadata": {},
   "source": [
    "# 3. a) Do predictions for all images"
   ]
  },
  {
   "cell_type": "code",
   "execution_count": 25,
   "metadata": {},
   "outputs": [
    {
     "name": "stdout",
     "output_type": "stream",
     "text": [
      "Folder /scratch/gallowaa/cciw/logs/cmp-dataset/train_v120/deeplabv3_resnet50/lr1e-01/wd5e-04/bs40/ep80/seed1/checkpoint/predictions-403 already exists\n"
     ]
    }
   ],
   "source": [
    "model_root = ckpt_file.split('.')[0]\n",
    "\n",
    "prediction_path = ''\n",
    "for t in model_to_load.split('/')[:-1]:\n",
    "    prediction_path += t + '/'\n",
    "prediction_path = osp.join(prediction_path, 'predictions-403')\n",
    "if not osp.exists(prediction_path):\n",
    "    os.mkdir(prediction_path)\n",
    "    print('Creating folder', prediction_path)\n",
    "else:\n",
    "    print('Folder', prediction_path, 'already exists')"
   ]
  },
  {
   "cell_type": "code",
   "execution_count": 26,
   "metadata": {
    "colab": {
     "base_uri": "https://localhost:8080/",
     "height": 35
    },
    "colab_type": "code",
    "id": "8bwN2IhcgN0G",
    "outputId": "06676eec-0c7e-4733-887d-c47a7b211f9c"
   },
   "outputs": [
    {
     "data": {
      "application/vnd.jupyter.widget-view+json": {
       "model_id": "d136b2c30ab7494fb74f697279cd63d1",
       "version_major": 2,
       "version_minor": 0
      },
      "text/plain": [
       "HBox(children=(IntProgress(value=0, max=55), HTML(value='')))"
      ]
     },
     "metadata": {},
     "output_type": "display_data"
    },
    {
     "name": "stdout",
     "output_type": "stream",
     "text": [
      "\n"
     ]
    }
   ],
   "source": [
    "prd_ct = []  # for storing the number of mussel pixels in each prediction\n",
    "\n",
    "# This cell takes some time because we're randomly reading large images from Google Drive\n",
    "# This loop runs at 1.5 seconds per image on my workstation.\n",
    "for i in tqdm_notebook(range(len(jpeg_files)), unit=' image'):\n",
    "\n",
    "    bgr_img = cv2.imread(osp.join(root_path, jpeg_files[i]))\n",
    "\n",
    "    img = cv2.cvtColor(bgr_img, cv2.COLOR_BGR2RGB)\n",
    "\n",
    "    # pre-processing image consistent with PyTorch training transforms\n",
    "    nchw_tensor = img_to_nchw_tensor(img, device)\n",
    "\n",
    "    # saves memory in forward pass if no gradients required\n",
    "    with torch.no_grad():\n",
    "        pred = sig(net(nchw_tensor)['out'])\n",
    "    pred_np = pred.squeeze().detach().cpu().numpy()\n",
    "\n",
    "    prd_ct.append(pred.round().sum().item() / np.prod(pred.shape[2:]))\n",
    "\n",
    "    '''\n",
    "    plt.close('all')\n",
    "    fig, axes = plt.subplots(1, 2, figsize=(12, 6))\n",
    "    axes = axes.flatten()\n",
    "    axes[0].imshow(img)\n",
    "    axes[0].set_title('Input', fontsize=fontsize)\n",
    "    axes[1].imshow(img, alpha=0.75)\n",
    "    axes[1].imshow(pred_np, alpha=0.5)\n",
    "    axes[1].set_title('Input and Preds', fontsize=fontsize)\n",
    "    pretty_image(axes)\n",
    "    plt.tight_layout()\n",
    "    #plt.show()\n",
    "    image_root = jpeg_files[i].split('/')[-1].split('.')[0]\n",
    "    fig.savefig(osp.join(\n",
    "        prediction_path, image_root + '__' + model_root + '.jpg'))\n",
    "    '''\n",
    "\n",
    "prd_ct_np = np.asarray(prd_ct)\n",
    "x_pred = prd_ct_np.copy()\n",
    "# Normalize inputs between 0 and 1\n",
    "x_pred = x_pred / x_pred.max()"
   ]
  },
  {
   "cell_type": "code",
   "execution_count": 27,
   "metadata": {},
   "outputs": [],
   "source": [
    "#npyf = 'GLNI_2019_403_deeplabv3.npy'\n",
    "npyf = 'GLNI_2019_55_deeplabv3.npy'\n",
    "np.save(npyf, x_pred)\n",
    "x_pred = np.load(npyf)"
   ]
  },
  {
   "cell_type": "code",
   "execution_count": 29,
   "metadata": {},
   "outputs": [
    {
     "data": {
      "text/plain": [
       "(55,)"
      ]
     },
     "execution_count": 29,
     "metadata": {},
     "output_type": "execute_result"
    }
   ],
   "source": [
    "x_pred.shape"
   ]
  },
  {
   "cell_type": "markdown",
   "metadata": {},
   "source": [
    "Denote segmentation masks `x_seg_label` and predictions `x_pred`"
   ]
  },
  {
   "cell_type": "code",
   "execution_count": 49,
   "metadata": {
    "colab": {},
    "colab_type": "code",
    "id": "ioB337i5gN0J"
   },
   "outputs": [
    {
     "name": "stdout",
     "output_type": "stream",
     "text": [
      "Got 92 valid biomass measurements\n",
      "Got 92 valid count measurements\n",
      "Got 386 valid live coverage measurements\n"
     ]
    }
   ],
   "source": [
    "# 0 = biomass, 1 = count, 2 = live coverage\n",
    "lab_targets = np.zeros((len(jpeg_files), 3))\n",
    "\n",
    "for i in range(len(jpeg_files)):\n",
    "\n",
    "    # get unique identifier from jpeg filename which acts as a key into dataframe\n",
    "    root_fname = jpeg_files[i].split(\n",
    "        '/')[-1].split('.')[0].split('_image')[0].split('GLNI_')[1]\n",
    "\n",
    "    # get a globally unique ID corresponding to image\n",
    "    # get a globally unique ID corresponding to image\n",
    "    try:\n",
    "        guid = image_df[image_df['Image Name'].str.contains(\n",
    "            root_fname)]['Analysis Index'].astype('int64')\n",
    "\n",
    "        # extract relevant row from data frame\n",
    "        row = data_df[data_df['Analysis Index'].values == np.unique(guid.values)]\n",
    "\n",
    "        # extract Biomass, Count, and Live Coverage from row\n",
    "        lab_targets[i, BIOMASS_IDX] = row['Biomass'].values\n",
    "        lab_targets[i, COUNT_IDX] = row['Count'].values\n",
    "        lab_targets[i, LIVE_COV_IDX] = row['Live Coverage'].values\n",
    "    \n",
    "    except ValueError:\n",
    "        lab_targets[i, BIOMASS_IDX] = np.nan\n",
    "        lab_targets[i, COUNT_IDX] = np.nan\n",
    "        lab_targets[i, LIVE_COV_IDX] = np.nan   \n",
    "\n",
    "valid_biomass = np.invert(np.isnan(lab_targets[:, BIOMASS_IDX]))\n",
    "valid_count = np.invert(np.isnan(lab_targets[:, COUNT_IDX]))\n",
    "valid_live_cov = np.invert(np.isnan(lab_targets[:, LIVE_COV_IDX]))\n",
    "\n",
    "biomass = lab_targets[:, BIOMASS_IDX][valid_biomass]\n",
    "count = lab_targets[:, COUNT_IDX][valid_count]\n",
    "live_cov = lab_targets[:, LIVE_COV_IDX][valid_live_cov]\n",
    "\n",
    "# Normalize targets between 0 and 1\n",
    "bio_max = biomass.max()\n",
    "biomass = biomass / bio_max\n",
    "count_max = count.max()\n",
    "count = count / count.max()\n",
    "live_max = live_cov.max()\n",
    "live_cov = live_cov / live_cov.max()\n",
    "\n",
    "print('Got %d valid biomass measurements' % len(biomass))\n",
    "print('Got %d valid count measurements' % len(count))\n",
    "print('Got %d valid live coverage measurements' % len(live_cov))"
   ]
  },
  {
   "cell_type": "code",
   "execution_count": 31,
   "metadata": {},
   "outputs": [],
   "source": [
    "#x_pred"
   ]
  },
  {
   "cell_type": "markdown",
   "metadata": {},
   "source": [
    "# Predict Live Coverage, Biomass, and Count"
   ]
  },
  {
   "cell_type": "code",
   "execution_count": 32,
   "metadata": {},
   "outputs": [],
   "source": [
    "if not IN_COLAB:\n",
    "    title_stem = '$\\mathbf{R^2}$ = '\n",
    "else:\n",
    "    # no latex for Colab\n",
    "    title_stem = 'R2 = '"
   ]
  },
  {
   "cell_type": "code",
   "execution_count": 33,
   "metadata": {},
   "outputs": [
    {
     "data": {
      "image/png": "[encoded data removed]",
      "text/plain": [
       "<Figure size 864x324 with 3 Axes>"
      ]
     },
     "metadata": {
      "needs_background": "light"
     },
     "output_type": "display_data"
    }
   ],
   "source": [
    "fig, ax = plt.subplots(1, 3, figsize=(12, 4.5), sharex=True, sharey=False)\n",
    "\n",
    "## live coverage ##\n",
    "ax[0].scatter(x_pred[valid_live_cov], live_cov, marker='o', s=40,\n",
    "              facecolors='none', edgecolors='k')\n",
    "ax[0].set_ylabel('Live Coverage', fontsize=fontsize)\n",
    "ax[0].set_title(title_stem + '%.3f' % r2_score(\n",
    "    live_cov, linear_regression(x_pred[valid_live_cov], live_cov)), fontsize=fontsize)\n",
    "draw_lines(ax[0], x_pred[valid_live_cov], live_cov)\n",
    "\n",
    "## biomass ##\n",
    "ax[1].scatter(x_pred[valid_biomass], biomass, marker='o', s=40,\n",
    "              facecolors='none', edgecolors='k')\n",
    "ax[1].set_ylabel('Biomass', fontsize=fontsize)\n",
    "ax[1].set_xlabel('Fraction of Mussel Pixels \\n in Prediction',\n",
    "                 fontsize=fontsize)\n",
    "ax[1].set_title(title_stem + '%.3f' % r2_score(biomass, linear_regression(\n",
    "    x_pred[valid_biomass], biomass)),  fontsize=fontsize + 1)\n",
    "draw_lines(ax[1], x_pred[valid_biomass], biomass)\n",
    "\n",
    "## count ##\n",
    "ax[2].scatter(x_pred[valid_count], count, marker='o',\n",
    "              s=40, facecolors='none', edgecolors='k')\n",
    "ax[2].set_ylabel('Count', fontsize=fontsize)\n",
    "ax[2].set_title(title_stem + '%.3f' % r2_score(\n",
    "    count, linear_regression(x_pred[valid_count], count)), fontsize=fontsize + 1)\n",
    "draw_lines(ax[2], x_pred[valid_count], count)\n",
    "\n",
    "if not IN_COLAB:\n",
    "    draw_sublabel(ax[0], r'\\textbf{a)}', fontsize, (0.85, 0.05))\n",
    "    draw_sublabel(ax[1], r'\\textbf{b)}', fontsize, (0.85, 0.05))\n",
    "    draw_sublabel(ax[2], r'\\textbf{c)}', fontsize, (0.85, 0.05))\n",
    "\n",
    "pretty_axis(ax[0], fontsize)\n",
    "pretty_axis(ax[1], fontsize)\n",
    "pretty_axis(ax[2], fontsize)\n",
    "\n",
    "plt.tight_layout()\n",
    "\n",
    "# uncomment to save figure\n",
    "#fname = 'val_v101_livecov_biomass_and_count_from_predictions_abc'\n",
    "#fig.savefig(fname + '.png')\n",
    "#fig.savefig(fname + '.eps', format='eps')"
   ]
  },
  {
   "cell_type": "code",
   "execution_count": 34,
   "metadata": {},
   "outputs": [],
   "source": [
    "npyf = 'GLNI_2019_403_deeplabv3.npy'\n",
    "xp = np.load(npyf)"
   ]
  },
  {
   "cell_type": "code",
   "execution_count": null,
   "metadata": {},
   "outputs": [],
   "source": [
    "#fig, ax = plt.subplots(1, 1)\n",
    "#power_law_prediction_ax(ax, x_pred[valid_count], count * count_max, -2, 0, fontsize)"
   ]
  },
  {
   "cell_type": "code",
   "execution_count": null,
   "metadata": {},
   "outputs": [],
   "source": [
    "#r2_score(countin, linear_regression(x_pred[valid_count][count < 1], countin))"
   ]
  },
  {
   "cell_type": "code",
   "execution_count": 35,
   "metadata": {},
   "outputs": [],
   "source": [
    "countin = count[count < 1]"
   ]
  },
  {
   "cell_type": "code",
   "execution_count": 36,
   "metadata": {},
   "outputs": [
    {
     "data": {
      "text/plain": [
       "6"
      ]
     },
     "execution_count": 36,
     "metadata": {},
     "output_type": "execute_result"
    }
   ],
   "source": [
    "len(countin)"
   ]
  },
  {
   "cell_type": "code",
   "execution_count": 37,
   "metadata": {},
   "outputs": [],
   "source": [
    "def get_linear_regression_params(x, y):\n",
    "    A = np.vstack([x, np.ones(len(x))]).T\n",
    "    (m, c), _, _, _ = np.linalg.lstsq(A, y, rcond=-1)\n",
    "    return m, c"
   ]
  },
  {
   "cell_type": "code",
   "execution_count": 38,
   "metadata": {},
   "outputs": [],
   "source": [
    "m_ct, c_ct = get_linear_regression_params(x_pred[valid_count][count < 1], count[count < 1])\n",
    "\n",
    "m_bio, c_bio = get_linear_regression_params(x_pred[valid_biomass], biomass)\n",
    "\n",
    "m_cov, c_cov = get_linear_regression_params(x_pred[valid_live_cov], live_cov)"
   ]
  },
  {
   "cell_type": "code",
   "execution_count": 51,
   "metadata": {},
   "outputs": [],
   "source": [
    "pcount = (m_ct * xp + c_ct) * count_max\n",
    "pbio = (m_bio * xp + c_bio) * bio_max\n",
    "pcov = (m_cov * xp + c_cov) * live_max"
   ]
  },
  {
   "cell_type": "code",
   "execution_count": 89,
   "metadata": {},
   "outputs": [],
   "source": [
    "#int(pcount[0])"
   ]
  },
  {
   "cell_type": "code",
   "execution_count": 91,
   "metadata": {},
   "outputs": [],
   "source": []
  },
  {
   "cell_type": "code",
   "execution_count": 58,
   "metadata": {},
   "outputs": [],
   "source": [
    "pcount = np.clip(pcount, 0, 1000)\n",
    "pbio = np.clip(pbio, 0, 1000)\n",
    "pcov = np.clip(pcov, 0, 100)"
   ]
  },
  {
   "cell_type": "code",
   "execution_count": 92,
   "metadata": {},
   "outputs": [],
   "source": [
    "csvname = 'GLNI_2019_403_deeplabv3.csv'\n",
    "\n",
    "with open(csvname, 'w') as logfile:\n",
    "    logwriter = csv.writer(logfile, delimiter=',')\n",
    "    logwriter.writerow(['Image', 'Live Coverage', 'Biomass', 'Count'])\n",
    "    \n",
    "    for i in range(len(jpeg_files)):\n",
    "        \n",
    "        # get jpeg filename\n",
    "        image_name = jpeg_files[i].split('/')[-1].split('.')[0].split('_crop')[0]\n",
    "        \n",
    "        logwriter.writerow([image_name, \n",
    "                            np.round(pcov[i], 1), \n",
    "                            np.round(pbio[i], 1),\n",
    "                            int(np.round(pcount[i], 0))])"
   ]
  },
  {
   "cell_type": "markdown",
   "metadata": {},
   "source": [
    "# 3. b) Load masks for all images\n",
    "\n",
    "This will be used as a baseline when predicting live coverage, count, biomass. \n",
    "\n",
    "The following cell __will not__ run if using the 44 JPEG images from `Unlabeled_GLNI_OOD_Resolution` as they are unlabelled."
   ]
  },
  {
   "cell_type": "code",
   "execution_count": null,
   "metadata": {},
   "outputs": [],
   "source": [
    "lab_ct = []  # for storing the number of mussel pixels in each mask\n",
    "\n",
    "# This loop should run faster as model is not used, \n",
    "# it runs at 4.5 images per second on my workstation\n",
    "for i in tqdm_notebook(range(len(png_files)), unit=' image'):\n",
    "    \n",
    "    bgr_lab = cv2.imread(osp.join(root_path, png_files[i]))\n",
    "    _, cts = np.unique(bgr_lab, return_counts=True)\n",
    "\n",
    "    # check if mask contains both classes\n",
    "    if len(cts) > 1:\n",
    "        lab_ct.append(cts[1] / cts.sum())\n",
    "    # or only one class (background)\n",
    "    else:\n",
    "        lab_ct.append(0)\n",
    "\n",
    "lab_ct_np = np.asarray(lab_ct)        \n",
    "x_seg_label = lab_ct_np.copy()\n",
    "# Normalize inputs between 0 and 1\n",
    "x_seg_label = x_seg_label / x_seg_label.max()"
   ]
  },
  {
   "cell_type": "markdown",
   "metadata": {},
   "source": [
    "## 4. Live Coverage\n",
    "\n",
    "From segmentation masks `x_seg_label` and predictions `x_pred`"
   ]
  },
  {
   "cell_type": "code",
   "execution_count": null,
   "metadata": {},
   "outputs": [],
   "source": [
    "fig, ax = plt.subplots(1, 2, figsize=(8, 4), sharex=True, sharey=True)\n",
    "\n",
    "ax[0].scatter(x_seg_label[valid_live_cov], live_cov, marker='o',\n",
    "              s=40, facecolors='none', edgecolors='k')\n",
    "ax[1].scatter(x_pred[valid_live_cov], live_cov, marker='o',\n",
    "              s=40, facecolors='none', edgecolors='k')\n",
    "\n",
    "ax[0].set_ylabel('Live Coverage', fontsize=fontsize)\n",
    "ax[0].set_xlabel(\n",
    "    'Fraction of Mussel Pixels \\n in Segmentation Mask', fontsize=fontsize)\n",
    "ax[1].set_xlabel('Fraction of Mussel Pixels \\n in Prediction',\n",
    "                 fontsize=fontsize)\n",
    "\n",
    "draw_lines(ax[0], x_seg_label[valid_live_cov], live_cov)\n",
    "draw_lines(ax[1], x_pred[valid_live_cov], live_cov)\n",
    "\n",
    "ax[0].set_title(title_stem + '%.3f' % r2_score(live_cov, linear_regression(\n",
    "    x_seg_label[valid_live_cov], live_cov)),  fontsize=fontsize)\n",
    "ax[1].set_title(title_stem + '%.3f' % r2_score(live_cov, linear_regression(\n",
    "    x_pred[valid_live_cov], live_cov)),  fontsize=fontsize)\n",
    "\n",
    "pretty_axis(ax[0], fontsize)\n",
    "pretty_axis(ax[1], fontsize)\n",
    "\n",
    "plt.tight_layout()"
   ]
  },
  {
   "cell_type": "markdown",
   "metadata": {},
   "source": [
    "## 5. Biomass\n",
    "\n",
    "From segmentation masks `x_seg_label` and predictions `x_pred`"
   ]
  },
  {
   "cell_type": "code",
   "execution_count": null,
   "metadata": {
    "colab": {
     "base_uri": "https://localhost:8080/",
     "height": 297
    },
    "colab_type": "code",
    "id": "IA-2nitYgN0N",
    "outputId": "1bbca420-004a-44b6-c41c-78ffccfc46f1"
   },
   "outputs": [],
   "source": [
    "fig, ax = plt.subplots(1, 2, figsize=(8, 4), sharex=True, sharey=True)\n",
    "\n",
    "ax[0].scatter(x_seg_label[valid_biomass], biomass, marker='o',\n",
    "              s=40, facecolors='none', edgecolors='k')\n",
    "ax[1].scatter(x_pred[valid_biomass], biomass, marker='o',\n",
    "              s=40, facecolors='none', edgecolors='k')\n",
    "ax[0].set_ylabel('Biomass', fontsize=fontsize)\n",
    "ax[0].set_xlabel(\n",
    "    'Fraction of Mussel Pixels \\n in Segmentation Mask', fontsize=fontsize)\n",
    "ax[1].set_xlabel('Fraction of Mussel Pixels \\n in Prediction',\n",
    "                 fontsize=fontsize)\n",
    "\n",
    "draw_lines(ax[0], x_seg_label[valid_biomass], biomass)\n",
    "draw_lines(ax[1], x_pred[valid_biomass], biomass)\n",
    "\n",
    "ax[0].set_title(title_stem + '%.3f' % r2_score(biomass, linear_regression(\n",
    "    x_seg_label[valid_biomass], biomass)),  fontsize=fontsize)\n",
    "ax[1].set_title(title_stem + '%.3f' % r2_score(\n",
    "    biomass, linear_regression(x_pred[valid_biomass], biomass)),  fontsize=fontsize)\n",
    "\n",
    "pretty_axis(ax[0], fontsize)\n",
    "pretty_axis(ax[1], fontsize)\n",
    "\n",
    "plt.tight_layout()"
   ]
  },
  {
   "cell_type": "markdown",
   "metadata": {},
   "source": [
    "## 6. Count\n",
    "\n",
    "From segmentation masks `x_seg_label` and predictions `x_pred`"
   ]
  },
  {
   "cell_type": "code",
   "execution_count": null,
   "metadata": {},
   "outputs": [],
   "source": [
    "fig, ax = plt.subplots(1, 2, figsize=(8, 4), sharex=True, sharey=True)\n",
    "\n",
    "ax[0].scatter(x_seg_label[valid_count], count, marker='o',\n",
    "              s=40, facecolors='none', edgecolors='k')\n",
    "ax[1].scatter(x_pred[valid_count], count, marker='o',\n",
    "              s=40, facecolors='none', edgecolors='k')\n",
    "ax[0].set_ylabel('Count', fontsize=fontsize)\n",
    "ax[0].set_xlabel(\n",
    "    'Fraction of Mussel Pixels \\n in Segmentation Mask', fontsize=fontsize)\n",
    "ax[1].set_xlabel('Fraction of Mussel Pixels \\n in Prediction',\n",
    "                 fontsize=fontsize)\n",
    "\n",
    "draw_lines(ax[0], x_seg_label[valid_count], count)\n",
    "draw_lines(ax[1], x_pred[valid_count], count)\n",
    "\n",
    "ax[0].set_title(title_stem + '%.3f' % r2_score(\n",
    "    count, linear_regression(x_seg_label[valid_count], count)),  fontsize=fontsize)\n",
    "ax[1].set_title(title_stem + '%.3f' % r2_score(\n",
    "    count, linear_regression(x_pred[valid_count], count)),  fontsize=fontsize)\n",
    "\n",
    "pretty_axis(ax[0], fontsize)\n",
    "pretty_axis(ax[1], fontsize)\n",
    "\n",
    "plt.tight_layout()"
   ]
  },
  {
   "cell_type": "markdown",
   "metadata": {},
   "source": [
    "# Optionally evaluate on out-of-distribution resolution for testing robustness\n",
    "\n",
    "These GLNI 2019 images are from a 3788x6738 pixel source instead of the 4924x7378 pixels used for training. They are unlabeled, but suitable for testing against lab analysis.\n",
    "\n",
    "After running this cell go back to step 3. a), but do not 3. b)."
   ]
  },
  {
   "cell_type": "code",
   "execution_count": null,
   "metadata": {},
   "outputs": [],
   "source": [
    "if IN_COLAB:\n",
    "    root_path = osp.join(DATA_PATH, 'ADIG_Labelled_Dataset/val_v101/Unlabeled_GLNI_OOD_Resolution/') \n",
    "    jpeg_files = glob.glob(root_path + '*.jpg')\n",
    "else:\n",
    "    root_path = '/scratch/ssd/gallowaa/cciw/dataset_raw/Test/GLNI/Unlabeled_GLNI_OOD_Resolution/'\n",
    "    jpeg_files = glob.glob(root_path + '*.jpg')\n",
    "\n",
    "jpeg_files.sort()    \n",
    "print(len(jpeg_files)) # should equal 44"
   ]
  },
  {
   "cell_type": "markdown",
   "metadata": {},
   "source": [
    "### Plot predictions \n",
    "\n",
    "Predictions are saved into the same folder as the checkpoint."
   ]
  },
  {
   "cell_type": "code",
   "execution_count": null,
   "metadata": {
    "scrolled": false
   },
   "outputs": [],
   "source": [
    "for i in tqdm_notebook(range(len(jpeg_files)), unit=' image'):\n",
    "\n",
    "    image_root = jpeg_files[i].split('/')[-1].split('.')[0]\n",
    "\n",
    "    bgr_img = cv2.imread(osp.join(root_path, jpeg_files[i]))\n",
    "\n",
    "    img = cv2.cvtColor(bgr_img, cv2.COLOR_BGR2RGB)\n",
    "\n",
    "    # pre-processing image consistent with PyTorch training transforms\n",
    "    nchw_tensor = img_to_nchw_tensor(img, device)\n",
    "\n",
    "    # saves memory in forward pass if no gradients required\n",
    "    with torch.no_grad():\n",
    "        pred = sig(net(nchw_tensor)['out'])\n",
    "    pred_np = pred.squeeze().detach().cpu().numpy()\n",
    "\n",
    "    image = cv2.cvtColor(bgr_img, cv2.COLOR_BGR2RGB)\n",
    "\n",
    "    plt.close('all')\n",
    "    fig, axes = plt.subplots(1, 2, figsize=(12, 6))\n",
    "    axes = axes.flatten()\n",
    "    axes[0].imshow(image)\n",
    "    axes[0].set_title('Input', fontsize=fontsize)\n",
    "    axes[1].imshow(image, alpha=0.75)\n",
    "    axes[1].imshow(pred_np, alpha=0.5)\n",
    "    axes[1].set_title('Input and Preds', fontsize=fontsize)\n",
    "    pretty_image(axes)\n",
    "    plt.tight_layout()\n",
    "    plt.show()\n",
    "\n",
    "    fig.savefig(osp.join(prediction_path, image_root +\n",
    "                         '__' + model_root + '.jpg'))"
   ]
  }
 ],
 "metadata": {
  "accelerator": "GPU",
  "colab": {
   "collapsed_sections": [],
   "name": "task_3_evaluate_checkpoint_in_colab.ipynb",
   "provenance": []
  },
  "kernelspec": {
   "display_name": "Python 3",
   "language": "python",
   "name": "python3"
  },
  "language_info": {
   "codemirror_mode": {
    "name": "ipython",
    "version": 3
   },
   "file_extension": ".py",
   "mimetype": "text/x-python",
   "name": "python",
   "nbconvert_exporter": "python",
   "pygments_lexer": "ipython3",
   "version": "3.6.6"
  }
 },
 "nbformat": 4,
 "nbformat_minor": 1
}
