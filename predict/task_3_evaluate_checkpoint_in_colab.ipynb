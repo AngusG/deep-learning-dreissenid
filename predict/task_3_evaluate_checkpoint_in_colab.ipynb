{
 "cells": [
  {
   "cell_type": "markdown",
   "metadata": {
    "colab_type": "text",
    "id": "0UXd9CuzgNx2"
   },
   "source": [
    "# Evaluate a Pre-Trained Segmentation Model in Colab\n",
    "\n",
    "Demonstrates image pre-processing, prediction and validation statistics. But first, some preliminaries...\n",
    "\n",
    "__Note:__ To maintain a high priority Colab user status such that sufficient GPU resources are available in the future, ensure to free the runtime when finished running this notebook. This can be done using 'Runtime > Manage Sessions' and click 'Terminate'."
   ]
  },
  {
   "cell_type": "code",
   "execution_count": null,
   "metadata": {},
   "outputs": [],
   "source": [
    "import os\n",
    "import sys\n",
    "\n",
    "IN_COLAB = 'google.colab' in sys.modules\n",
    "\n",
    "if IN_COLAB:\n",
    "    !ln - sf / opt/bin/nvidia-smi / usr/bin/nvidia-smi\n",
    "    !pip install gputil\n",
    "    !pip install psutil\n",
    "    !pip install humanize\n",
    "    \n",
    "    # Check if notebook is running in Colab or local workstation\n",
    "    import GPUtil as GPU\n",
    "    import humanize\n",
    "    import psutil\n",
    "\n",
    "    GPUs = GPU.getGPUs()\n",
    "\n",
    "    try:\n",
    "        # XXX: only one GPU on Colab and isn’t guaranteed\n",
    "        gpu = GPUs[0]\n",
    "\n",
    "        def printm():\n",
    "            process = psutil.Process(os.getpid())\n",
    "            print(\"Gen RAM Free: \" + humanize.naturalsize(psutil.virtual_memory().available),\n",
    "                  \" | Proc size: \" + humanize.naturalsize(process.memory_info().rss))\n",
    "            print(\"GPU RAM Free: {0:.0f}MB | Used: {1:.0f}MB | Util {2:3.0f}% | Total {3:.0f}MB\".format(\n",
    "                gpu.memoryFree, gpu.memoryUsed, gpu.memoryUtil*100, gpu.memoryTotal))\n",
    "        printm()\n",
    "\n",
    "        # Check if GPU capacity is sufficient to proceed\n",
    "        if gpu.memoryFree < 10000:\n",
    "            print(\"\\nInsufficient memory! Some cells may fail. Please try restarting the runtime using 'Runtime → Restart Runtime...' from the menu bar. If that doesn't work, terminate this session and try again later.\")\n",
    "        else:\n",
    "            print('\\nGPU memory is sufficient to proceeed.')\n",
    "    except:\n",
    "        print('Select the Runtime → \"Change runtime type\" menu to enable a GPU accelerator, ')\n",
    "        print('and then re-execute this cell.')"
   ]
  },
  {
   "cell_type": "code",
   "execution_count": null,
   "metadata": {
    "colab": {
     "base_uri": "https://localhost:8080/",
     "height": 71
    },
    "colab_type": "code",
    "id": "4pzGY41DgyyQ",
    "outputId": "6bebf55b-f9f5-4a59-abdd-4c101878f4d1"
   },
   "outputs": [],
   "source": [
    "if IN_COLAB:\n",
    "\n",
    "    from google.colab import drive\n",
    "    drive.mount('/content/drive')\n",
    "    DATA_PATH = r'/content/drive/My Drive/Data'\n",
    "\n",
    "    # cd into git repo so python can find utils\n",
    "    %cd '/content/drive/My Drive/cciw-zebra-mussel/predict'\n",
    "\n",
    "    sys.path.append('/content/drive/My Drive')\n",
    "\n",
    "    # clone repo, install packages not installed by default\n",
    "    !pip install pydensecrf"
   ]
  },
  {
   "cell_type": "code",
   "execution_count": null,
   "metadata": {
    "colab": {},
    "colab_type": "code",
    "id": "bneyBxcYgNx7"
   },
   "outputs": [],
   "source": [
    "from folder2lmdb import VOCSegmentationLMDB\n",
    "from task_3_utils import evaluate, evaluate_loss, eval_binary_iou, pretty_image\n",
    "import transforms as T\n",
    "from sklearn.metrics import jaccard_score as jsc\n",
    "from sklearn.metrics import r2_score\n",
    "from tqdm import tqdm  # progress bar\n",
    "import pydensecrf.utils as utils\n",
    "import pydensecrf.densecrf as dcrf\n",
    "from torch.utils.data import DataLoader\n",
    "from torch import nn\n",
    "import torch\n",
    "import matplotlib.pyplot as plt\n",
    "import os\n",
    "import os.path as osp\n",
    "import csv\n",
    "\n",
    "import glob\n",
    "\n",
    "# for manually reading high resolution images\n",
    "import cv2\n",
    "import numpy as np\n",
    "\n",
    "# for comparing predictions to lab analysis data frames\n",
    "import pandas as pd\n",
    "\n",
    "# for plotting\n",
    "import matplotlib\n",
    "# enable LaTeX style fonts\n",
    "matplotlib.rc('text', usetex=True)\n",
    "plt.rc('text', usetex=True)\n",
    "plt.rc('font', family='serif')\n",
    "\n",
    "# pytorch core library\n",
    "# pytorch neural network functions\n",
    "# pytorch dataloader\n",
    "\n",
    "# for post-processing model predictions by conditional random field\n",
    "\n",
    "\n",
    "# evaluation metrics\n",
    "\n",
    "# local imports (files provided by this repo)\n",
    "\n",
    "# various helper functions, metrics that can be evaluated on the GPU\n",
    "\n",
    "# Custom dataloader for rapidly loading images from a single LMDB file"
   ]
  },
  {
   "cell_type": "code",
   "execution_count": null,
   "metadata": {},
   "outputs": [],
   "source": [
    "\"\"\"Confim that this cell prints \"Found GPU, cuda\". If not, select \"GPU\" as \n",
    "\"Hardware Accelerator\" under the \"Runtime\" tab of the main menu.\n",
    "\"\"\"\n",
    "if torch.cuda.is_available():\n",
    "    device = torch.device('cuda')\n",
    "    print('Found GPU,', device)"
   ]
  },
  {
   "cell_type": "markdown",
   "metadata": {
    "colab_type": "text",
    "id": "n4P0mldogNyQ"
   },
   "source": [
    "## 1. Load a pre-trained model checkpoint\n",
    "\n",
    "The architecture is fully-convolutional network (FCN) 8s."
   ]
  },
  {
   "cell_type": "code",
   "execution_count": null,
   "metadata": {},
   "outputs": [],
   "source": [
    "from fcn import FCN8slim\n",
    "net = FCN8slim(n_class=1).to(device)"
   ]
  },
  {
   "cell_type": "code",
   "execution_count": null,
   "metadata": {},
   "outputs": [],
   "source": [
    "#os.environ['DATA_PATH'] + '/cciw'"
   ]
  },
  {
   "cell_type": "code",
   "execution_count": null,
   "metadata": {
    "colab": {
     "base_uri": "https://localhost:8080/",
     "height": 71
    },
    "colab_type": "code",
    "id": "n89QOGLxgNyS",
    "outputId": "904c901b-f3e2-4a84-afd8-27eaad8aadf7"
   },
   "outputs": [],
   "source": [
    "if IN_COLAB:\n",
    "    root = osp.join(DATA_PATH, 'Checkpoints/fcn8slim_lr1e-03_wd5e-04_bs32_ep50_seed1')\n",
    "else:\n",
    "    #root = '/scratch/gallowaa/cciw/logs/lab-v1.0.0/fcn8slim/lr1e-03/wd5e-04/bs32/ep50/seed1/checkpoint' # a\n",
    "    #root = '/scratch/gallowaa/cciw/logs/v1.0.1-debug/fcn8s/lr1e-03/wd5e-04/bs25/ep80/seed4/checkpoint' # b\n",
    "    #root = '/scratch/gallowaa/cciw/logs/v1.1.0-debug/fcn8s/lr1e-03/wd5e-04/bs25/ep80/seed9/checkpoint/' # c\n",
    "    #root = '/scratch/gallowaa/cciw/logs/v111/trainval/fcn8s/lr1e-03/wd5e-04/bs40/ep80/seed2/checkpoint/' # d\n",
    "    #root = '/scratch/gallowaa/cciw/logs/v111/trainval/fcn8slim/lr1e-04/wd5e-04/bs40/ep80/seed1/checkpoint/' # e\n",
    "    \n",
    "    #root = osp.join(os.environ['DATA_PATH'], '/scratch/gallowaa/cciw/logs/cmp-dataset/train_v120/fcn32slim/lr1e-04/wd5e-04/bs40/ep80/seed2/checkpoint/')\n",
    "    root = osp.join(os.environ['DATA_PATH'], '/scratch/gallowaa/cciw/logs/cmp-dataset/train_v120/fcn8slim/lr5e-03/wd5e-04/bs40/ep80/seed1/checkpoint/')\n",
    "\n",
    "#ckpt_file = 'fcn8slim_lr1e-03_wd5e-04_bs32_ep50_seed1_epoch40.ckpt' # a\n",
    "#ckpt_file = 'fcn8s_lr1e-03_wd5e-04_bs25_ep80_seed4_epoch70.ckpt' # b\n",
    "#ckpt_file = 'fcn8s_lr1e-03_wd5e-04_bs25_ep80_seed9_epoch10.ckpt'\n",
    "#ckpt_file = 'fcn8s_lr1e-03_wd5e-04_bs40_ep80_seed2amp_epoch40.pt' # d\n",
    "#ckpt_file = 'fcn8slim_lr1e-04_wd5e-04_bs40_ep80_seed1amp_epoch79.pt' # e\n",
    "\n",
    "#ckpt_file = 'fcn32slim_lr1e-04_wd5e-04_bs40_ep80_seed2_epoch79.ckpt'\n",
    "ckpt_file = 'fcn8slim_lr5e-03_wd5e-04_bs40_ep80_seed1_epoch79.ckpt'\n",
    "\n",
    "\"\"\"Feel free to try these other checkpoints later after running epoch40 to get a \n",
    "feel for how the evaluation metrics change when model isn't trained as long.\"\"\"\n",
    "#ckpt_file = 'fcn8slim_lr1e-03_wd5e-04_bs32_ep50_seed1_epoch10.ckpt'\n",
    "#ckpt_file = 'fcn8slim_lr1e-03_wd5e-04_bs32_ep50_seed1_epoch0.ckpt'\n",
    "\n",
    "checkpoint = torch.load(osp.join(root, ckpt_file))\n",
    "train_loss = checkpoint['trn_loss']\n",
    "val_loss = checkpoint['val_loss']\n",
    "print('==> Resuming from checkpoint..')\n",
    "net = checkpoint['net']\n",
    "last_epoch = checkpoint['epoch']\n",
    "torch.set_rng_state(checkpoint['rng_state'])\n",
    "# AMP\n",
    "#net.load_state_dict(checkpoint['net'])\n",
    "#amp.load_state_dict(checkpoint['amp'])\n",
    "\n",
    "# later appended to figure filenames\n",
    "model_stem = ckpt_file.split('.')[0]\n",
    "\n",
    "print('Loaded model %s trained to epoch ' % model_stem, last_epoch)\n",
    "print('Cross-entropy loss {:.4f} for train set, {:.4f} for validation set'.format(train_loss, val_loss))"
   ]
  },
  {
   "cell_type": "code",
   "execution_count": null,
   "metadata": {},
   "outputs": [],
   "source": [
    "os.environ['DATA_PATH'] = '/scratch/gallowaa/'"
   ]
  },
  {
   "cell_type": "code",
   "execution_count": null,
   "metadata": {},
   "outputs": [],
   "source": [
    "SEED = 1\n",
    "\n",
    "if IN_COLAB:\n",
    "    root = osp.join(\n",
    "        DATA_PATH, 'Checkpoints/deeplabv3_resnet50_lr1e-01_wd5e-04_bs40_ep80_seed1')\n",
    "\n",
    "else:\n",
    "    root = osp.join(\n",
    "        os.environ['DATA_PATH'], 'cciw/logs/cmp-dataset/train_v120/deeplabv3_resnet50/lr1e-01/wd5e-04/bs40/ep80/seed%d/checkpoint' % SEED)\n",
    "\n",
    "ckpt_file = 'deeplabv3_resnet50_lr1e-01_wd5e-04_bs40_ep80_seed%d_epoch40.ckpt' % SEED\n",
    "\n",
    "model_to_load = osp.join(root, ckpt_file)\n",
    "\n",
    "print('Loading', model_to_load)\n",
    "\n",
    "checkpoint = torch.load(model_to_load)\n",
    "\n",
    "train_loss = checkpoint['trn_loss']\n",
    "val_loss = checkpoint['val_loss']\n",
    "print('==> Resuming from checkpoint..')\n",
    "net = checkpoint['net']\n",
    "last_epoch = checkpoint['epoch']\n",
    "torch.set_rng_state(checkpoint['rng_state'])\n",
    "\n",
    "# later appended to figure filenames\n",
    "model_stem = ckpt_file.split('.')[0]\n",
    "\n",
    "print('Loaded model %s trained to epoch ' % model_stem, last_epoch)\n",
    "print(\n",
    "    'Cross-entropy loss {:.4f} for train set, {:.4f} for validation set'.format(train_loss, val_loss))\n",
    "\n",
    "sig = nn.Sigmoid()  # initializes a sigmoid function\n",
    "\n",
    "net.eval()"
   ]
  },
  {
   "cell_type": "markdown",
   "metadata": {
    "colab_type": "text",
    "id": "-NGC_m6igNyY"
   },
   "source": [
    "## 2. Define Image Pre-Processing Transforms and Data Augmentation\n",
    "\n",
    "Here, we define transforms to be applied to input images (`inputs`) and segmentation masks (`targets`)\n",
    "on the fly as we draw mini-batches like:\n",
    "\n",
    "```\n",
    "for inputs, targets in dataloader:\n",
    "    pass\n",
    "```\n",
    "\n",
    "These transforms are documented here: https://pytorch.org/docs/stable/torchvision/transforms.html\n",
    "\n",
    "We may wish to experiment with additional ones in the future, e.g., `ColorJitter` to perturb the image colours, \n",
    "or `Grayscale` to convert the dataset to Greyscale and quantify the marginal impact of colour information on model performance."
   ]
  },
  {
   "cell_type": "code",
   "execution_count": null,
   "metadata": {
    "colab": {},
    "colab_type": "code",
    "id": "b_ERno-wgNya"
   },
   "outputs": [],
   "source": [
    "training_tforms = []\n",
    "\n",
    "# Randomly crop images to square 224x224\n",
    "training_tforms.append(T.RandomCrop(224)) \n",
    "\n",
    "# With probability 0.5, flip the images and masks horizontally.\n",
    "# This increases the effective size of our training set, as \n",
    "# mussels are rotation invariant.\n",
    "training_tforms.append(T.RandomHorizontalFlip(0.5)) \n",
    "\n",
    "# Similarly, flip the images and masks vertically with probability 0.5.\n",
    "training_tforms.append(T.RandomVerticalFlip(0.5))\n",
    "\n",
    "# Convert images from Python Imaging Library (PIL aka Pillow) format to PyTorch Tensor.\n",
    "training_tforms.append(T.ToTensor())\n",
    "\n",
    "\"\"\"\n",
    "T.Normalize performs: image = (image - mean) / std\n",
    "\n",
    "The first argument (a triple) to T.Normalize are the global \n",
    "RGB pixel mean values, and the second argument is their standard deviation. \n",
    "\n",
    "For a mini-batch 'inputs' comprised of N samples, \n",
    "C channels, e.g. 3 for RGB images, height H, width W, and \n",
    "inputs.shape = torch.Size([N, C, H, W]), this can be obtained using:\n",
    "\n",
    "inputs.mean(dim=(0, 2, 3)), which will output a tensor, e.g., \n",
    "tensor([0.2613, 0.2528, 0.2255]). \n",
    "\n",
    "The standard deviation can be obtained similarly with:\n",
    "inputs.std(dim=(0, 2, 3))\n",
    "\n",
    "The global values can simply be obtained by averaging over all \n",
    "mini-batches in the dataset.\n",
    "\n",
    "For the natural mussel dataset (i.e. not the Lab images), \n",
    "these global pixel values are somewhat meaningless to due \n",
    "significant changes in lighting and hue, so we simply\n",
    "pass the triple (0.5, 0.5, 0.5) for both mean and std to\n",
    "normalize the input image pixels from [0, 1] to [-1, 1]. \n",
    "This centers the images and resulting feedforward activations \n",
    "around zero and allows training to proceed more smoothly.\n",
    "\"\"\"\n",
    "training_tforms.append(T.Normalize((0.5, 0.5, 0.5), (0.5, 0.5, 0.5)))\n",
    "\n",
    "# Finally, Compose several transforms together.\n",
    "training_tforms = T.Compose(training_tforms)"
   ]
  },
  {
   "cell_type": "markdown",
   "metadata": {
    "colab_type": "text",
    "id": "WIZZZkGsgNyg"
   },
   "source": [
    "For validation and testing, we often want these transforms to be deterministic to be sure the model is making progress with respect to the natural image distribution. We will evaluate on fixed 250x250 patches rather than randomly cropping.\n",
    "\n",
    "For evaluating robustness, we could add `ColorJitter` and do scaling or shearing with various Affine transforms here..."
   ]
  },
  {
   "cell_type": "code",
   "execution_count": null,
   "metadata": {
    "colab": {},
    "colab_type": "code",
    "id": "yTETb4fcgNyi"
   },
   "outputs": [],
   "source": [
    "test_tform = T.Compose([\n",
    "    T.CenterCrop(224),\n",
    "    T.ToTensor(),\n",
    "    T.Normalize((0.5, 0.5, 0.5), (0.5, 0.5, 0.5))\n",
    "])"
   ]
  },
  {
   "cell_type": "markdown",
   "metadata": {
    "colab_type": "text",
    "id": "J7DgZ6KggNyn"
   },
   "source": [
    "## 3. Create Efficient Data Loaders"
   ]
  },
  {
   "cell_type": "markdown",
   "metadata": {
    "colab_type": "text",
    "id": "qZHnWKZZgNyp"
   },
   "source": [
    "Specify the mini-batch size (`batch_size`) for validation, and path to serialized LMDB dataset `dataset_root`. \n",
    "\n",
    "The `batch_size` is arbitrary at test time since we aren't using `nn.BatchNorm()`, the main consideration here \n",
    "is to use the largest `batch_size` the GPU memory allows to maximize throughput. The default setting should be fine."
   ]
  },
  {
   "cell_type": "code",
   "execution_count": null,
   "metadata": {
    "colab": {},
    "colab_type": "code",
    "id": "cbRHNLJCgNyr"
   },
   "outputs": [],
   "source": [
    "batch_size = 50\n",
    "\n",
    "if IN_COLAB:\n",
    "    dataset_root = osp.join(DATA_PATH, 'Lab_dataset_train_validation/LMDB/')\n",
    "else:\n",
    "    dataset_root = '/scratch/ssd/gallowaa/cciw/LMDB'\n",
    "    #dataset_root = '/scratch/ssd/gallowaa/cciw/Lab'"
   ]
  },
  {
   "cell_type": "markdown",
   "metadata": {
    "colab_type": "text",
    "id": "PHcdHi6WgNyw"
   },
   "source": [
    "The `VOCSegmentationLMDB` class was adapted from https://pytorch.org/docs/stable/torchvision/datasets.html#torchvision.datasets.VOCSegmentation\n",
    "to enable reading data from a single `*.lmdb` database which is much more efficient on conventional hard drives than randomly reading images.\n",
    "\n",
    "Note that transforms provided to the `transforms` argument apply to both input images and masks. \n",
    "The label values will be rotated accordingly as the input images, but the labels are unaffected by the normalization due to being limited to values 0/1."
   ]
  },
  {
   "cell_type": "code",
   "execution_count": null,
   "metadata": {
    "colab": {},
    "colab_type": "code",
    "id": "y4Z5FsLggNyx"
   },
   "outputs": [],
   "source": [
    "validation_set = VOCSegmentationLMDB(\n",
    "    root=osp.join(dataset_root, 'val_v101.lmdb'), transforms=test_tform)\n",
    "\n",
    "val_loader = DataLoader(validation_set, batch_size=batch_size, shuffle=False)"
   ]
  },
  {
   "cell_type": "code",
   "execution_count": null,
   "metadata": {
    "colab": {},
    "colab_type": "code",
    "id": "zCVrVJpmgNy3"
   },
   "outputs": [],
   "source": [
    "training_set = VOCSegmentationLMDB(\n",
    "    root=osp.join(dataset_root, 'train_v111.lmdb'), transforms=test_tform)\n",
    "\n",
    "train_loader = DataLoader(training_set, batch_size=batch_size, shuffle=False)"
   ]
  },
  {
   "cell_type": "markdown",
   "metadata": {
    "colab_type": "text",
    "id": "esid2a7ugNy7"
   },
   "source": [
    "To compute the `pos_weight` from the dataset, uncomment the following cell.\n",
    "Note that the `batch_pos_weight` may be `inf` for a batch comprised entirely of \n",
    "masks without any mussels. Increase the `batch_size` to avoid this."
   ]
  },
  {
   "cell_type": "code",
   "execution_count": null,
   "metadata": {
    "colab": {},
    "colab_type": "code",
    "id": "sLXNyotfgNy9"
   },
   "outputs": [],
   "source": [
    "total_mussel = 0.\n",
    "total_pixels = 0.\n",
    "for idx, data in enumerate(val_loader):\n",
    "    total_mussel += (data[1] == 1).sum().float().item()\n",
    "    total_pixels += (data[1] == 0).sum().float().item()\n",
    "    print('Batch %d of %d, pos_weight=%.4f' % (idx, len(val_loader), total_mussel / total_pixels))\n",
    "print('pos_weight={:.4f}'.format(total_pixels / total_mussel))"
   ]
  },
  {
   "cell_type": "code",
   "execution_count": null,
   "metadata": {
    "colab": {},
    "colab_type": "code",
    "id": "UnzXpijsgNzC"
   },
   "outputs": [],
   "source": [
    "pos_weight = torch.FloatTensor([12.4924]).to(device)\n",
    "loss_fn = nn.BCEWithLogitsLoss(pos_weight=pos_weight)\n",
    "\n",
    "sig = nn.Sigmoid()  # initializes a sigmoid function"
   ]
  },
  {
   "cell_type": "markdown",
   "metadata": {
    "colab_type": "text",
    "id": "slfr2kKjgNzG"
   },
   "source": [
    "## 4. Compute training and validation cross-entropy losses\n",
    "\n",
    "to ensure model was loaded correctly and that the data were pre-processed in consistent manner w.r.t. the training script.\n",
    "\n",
    "Note: the cross-entropy loss is a proxy for what we ultimately want to measure, the intersection of the prediction and masks divided by their union."
   ]
  },
  {
   "cell_type": "code",
   "execution_count": null,
   "metadata": {
    "colab": {
     "base_uri": "https://localhost:8080/",
     "height": 53
    },
    "colab_type": "code",
    "id": "B1UPU2vngNzI",
    "outputId": "e792b292-9a72-4eaa-cb88-e5cc55016938"
   },
   "outputs": [],
   "source": [
    "calculate_validation_loss = evaluate_loss(net, val_loader, loss_fn, device)\n",
    "assert np.allclose(calculate_validation_loss, val_loss, atol=1e-3)\n",
    "print('\\n Validation loss of {:.4f} matches checkpoint'.format(calculate_validation_loss))"
   ]
  },
  {
   "cell_type": "code",
   "execution_count": null,
   "metadata": {
    "colab": {
     "base_uri": "https://localhost:8080/",
     "height": 71
    },
    "colab_type": "code",
    "id": "A9y3K27BgNzN",
    "outputId": "34070730-985b-4910-b257-988404d958e4"
   },
   "outputs": [],
   "source": [
    "# note: train loss may not match exactly \n",
    "calculate_train_loss = evaluate_loss(net, train_loader, loss_fn, device)\n",
    "\n",
    "print('\\n Calculated train loss of {:.4f}'.format(calculate_train_loss))\n",
    "print('\\n Checkpoint train loss of {:.4f}'.format(train_loss))"
   ]
  },
  {
   "cell_type": "markdown",
   "metadata": {
    "colab_type": "text",
    "id": "HKJUfvJMgNzS"
   },
   "source": [
    "## 5. Compute the Mean Intersection-over-Union (mIoU) Score on the Validation Set\n",
    "\n",
    "The mean Intersection-over-Union (IoU), aka Jaccard Score or Jaccard Index, on the validation/test dataset is \n",
    "the main performance metric we use to evaluate semantic segmentation models.\n",
    "\n",
    "Detail: using `torch.no_grad()` saves memory if we will not be \n",
    "doing error backpropagation as intermediate activations can be \n",
    "discarded. Otherwise these are retained in GPU memory in case \n",
    "we want to compute gradients. See https://pytorch.org/docs/stable/autograd.html#torch.autograd.no_grad."
   ]
  },
  {
   "cell_type": "code",
   "execution_count": null,
   "metadata": {
    "colab": {
     "base_uri": "https://localhost:8080/",
     "height": 71
    },
    "colab_type": "code",
    "id": "yrSSNlXOgNzT",
    "outputId": "2cc68f6d-180d-41ea-8f25-222506385190"
   },
   "outputs": [],
   "source": [
    "batch = 0\n",
    "running_iou = 0\n",
    "\n",
    "net.eval()\n",
    "\n",
    "with torch.no_grad():\n",
    "    \n",
    "    for inputs, targets in tqdm(val_loader, unit=' images', unit_scale=batch_size):\n",
    "        inputs, targets = inputs.to(device), targets.to(device)\n",
    "        \n",
    "        \"\"\"Apply the sigmoid function here so that output lies in [0, 1]. \n",
    "        Previously it was applied internally by the loss_fn.\n",
    "        \n",
    "        This line does a feedforward pass, or prediction.\"\"\"\n",
    "        pred = sig(net(inputs))\n",
    "        \n",
    "        bin_iou = eval_binary_iou(pred.round(), targets)\n",
    "        \n",
    "        if (bin_iou > 0).sum() > 1:\n",
    "            iou = bin_iou[bin_iou > 0].mean().item()\n",
    "            running_iou += iou\n",
    "            batch += 1\n",
    "    running_iou = running_iou / batch\n",
    "\n",
    "print('\\n mIoU = %.4f' % running_iou)  # 0.8638 for epoch40 model"
   ]
  },
  {
   "cell_type": "markdown",
   "metadata": {
    "colab_type": "text",
    "id": "I0SKkX68gNzY"
   },
   "source": [
    "## 6. Visualize Validation Predictions on 250x250 Patches"
   ]
  },
  {
   "cell_type": "code",
   "execution_count": null,
   "metadata": {
    "colab": {
     "base_uri": "https://localhost:8080/",
     "height": 53
    },
    "colab_type": "code",
    "id": "tHtz3FrOgNzZ",
    "outputId": "1ab8e419-80ec-473b-9589-8e0862241a58"
   },
   "outputs": [],
   "source": [
    "nhwc = inputs.permute(0, 2, 3, 1).detach().cpu().numpy()\n",
    "pred_np = pred.detach().cpu().numpy()\n",
    "targets_np = targets.detach().cpu().numpy()\n",
    "\n",
    "# put pixels back into range [0, 1] for matplotlib\n",
    "nhwc = (nhwc * 0.5) + 0.5\n",
    "\n",
    "print(nhwc.shape)\n",
    "print(nhwc.min(), nhwc.max())"
   ]
  },
  {
   "cell_type": "code",
   "execution_count": null,
   "metadata": {
    "colab": {
     "base_uri": "https://localhost:8080/",
     "height": 225
    },
    "colab_type": "code",
    "id": "ChCTI-rZgNzd",
    "outputId": "67b7bda6-fa0a-4e01-baaf-d00483215445"
   },
   "outputs": [],
   "source": [
    "j = 0  # change me! (in 0 to 45)\n",
    "\n",
    "N_PLOTS = 4\n",
    "fig, ax = plt.subplots(1, N_PLOTS, figsize=(16, 4))\n",
    "\n",
    "ax[0].imshow((nhwc[j]))\n",
    "ax[1].imshow(pred_np[j].squeeze())\n",
    "ax[2].imshow(pred_np[j].round().squeeze())\n",
    "ax[3].imshow(targets_np[j])\n",
    "\n",
    "for i in range(N_PLOTS):\n",
    "    ax[i].axis('off')"
   ]
  },
  {
   "cell_type": "markdown",
   "metadata": {
    "colab_type": "text",
    "id": "ne_OPnTPgNzh"
   },
   "source": [
    "## 7. i) Visualize Predictions on Whole Images\n",
    "\n",
    "Here we manually load and preprocess the original images and png masks using OpenCV.\n",
    "\n",
    "`root_path` -- will also be used in "
   ]
  },
  {
   "cell_type": "code",
   "execution_count": null,
   "metadata": {
    "colab": {
     "base_uri": "https://localhost:8080/",
     "height": 53
    },
    "colab_type": "code",
    "id": "rouYvCy3gNzj",
    "outputId": "0cd6d473-73c3-4f2e-97ca-df03fbb55f7a"
   },
   "outputs": [],
   "source": [
    "if IN_COLAB:\n",
    "    root_path = osp.join(DATA_PATH, 'ADIG_Labelled_Dataset/Test/Lab/')\n",
    "else:\n",
    "    #root_path = '/scratch/ssd/gallowaa/cciw/dataset_raw/Test/Lab/done/'\n",
    "    #root_path = '/scratch/ssd/gallowaa/cciw/VOCdevkit/Validation-v102-originals/'\n",
    "    root_path = '/scratch/ssd/gallowaa/cciw/VOCdevkit/Train-v120-originals/'\n",
    "    #root_path = '/scratch/ssd/gallowaa/cciw/dataset_raw/Train/2018-06/land/'\n",
    "\n",
    "#jpeg_files = glob.glob(root_path + '*.jpg')\n",
    "#png_files = glob.glob(root_path + '*crop.png')\n",
    "\n",
    "# in-situ\n",
    "jpeg_files = glob.glob(osp.join(root_path, 'JPEGImages/') + '*.jpg')\n",
    "png_files = glob.glob(osp.join(root_path, 'SegmentationClass/') + '*_crop.png')\n",
    "\n",
    "jpeg_files.sort()\n",
    "png_files.sort()\n",
    "\n",
    "# Should equal 55 for underwater val_1.0.1 data, or 36 for v1.0.0 Lab data\n",
    "print(len(jpeg_files)) \n",
    "print(len(png_files))"
   ]
  },
  {
   "cell_type": "code",
   "execution_count": null,
   "metadata": {},
   "outputs": [],
   "source": [
    "#jpeg_files"
   ]
  },
  {
   "cell_type": "code",
   "execution_count": null,
   "metadata": {},
   "outputs": [],
   "source": [
    "# for LOM bonus train images\n",
    "root_path = '/scratch/ssd/gallowaa/cciw/dataset_raw/unused-train-cropped/'\n",
    "jpeg_files = glob.glob(root_path + '*.jpg')\n",
    "jpeg_files.sort()\n",
    "print(len(jpeg_files))"
   ]
  },
  {
   "cell_type": "code",
   "execution_count": null,
   "metadata": {
    "colab": {
     "base_uri": "https://localhost:8080/",
     "height": 107
    },
    "colab_type": "code",
    "id": "6tV5s7MngNzo",
    "outputId": "9441fb56-1751-46e5-8ee2-0769902aff70"
   },
   "outputs": [],
   "source": [
    "\"\"\"\n",
    "These are the full resolution files that correspond to the 1350 patches of \n",
    "the validation split `val_v100.lmdb`.\"\"\"\n",
    "'''\n",
    "val_mask = png_files[-5:]\n",
    "val_jpeg = jpeg_files[-5:]\n",
    "val_jpeg\n",
    "'''"
   ]
  },
  {
   "cell_type": "code",
   "execution_count": null,
   "metadata": {},
   "outputs": [],
   "source": [
    "\"\"\"Set to True to save the model predictions in PNG format, \n",
    "otherwise proceed to predict biomass without saving images\"\"\"\n",
    "SAVE_PREDICTIONS = True\n",
    "\n",
    "split = 'train'\n",
    "version = 'v120'\n",
    "\n",
    "if SAVE_PREDICTIONS:\n",
    "    prediction_path = ''\n",
    "    for t in root.split('/')[:-1]:\n",
    "        prediction_path += t + '/'\n",
    "\n",
    "    prediction_path = osp.join(prediction_path, 'predictions-lom-%s-%s' % (split, version))\n",
    "\n",
    "    if not osp.exists(prediction_path):\n",
    "        os.mkdir(prediction_path)\n",
    "\n",
    "    # src is the training dataset, tgt is the testing dataset\n",
    "    src = 'train_v120'\n",
    "    tgt = split + '_' + version\n",
    "    print(prediction_path)"
   ]
  },
  {
   "cell_type": "code",
   "execution_count": null,
   "metadata": {},
   "outputs": [],
   "source": [
    "fontsize = 16\n",
    "\n",
    "left = 0.02  # the left side of the subplots of the figure\n",
    "right = 0.98   # the right side of the subplots of the figure\n",
    "bottom = 0.05  # the bottom of the subplots of the figure\n",
    "top = 0.95     # the top of the subplots of the figure\n",
    "wspace = 0.15  # the amount of width reserved for space between subplots,\n",
    "# expressed as a fraction of the average axis width\n",
    "hspace = 0.1  # the amount of height reserved for space between subplots,\n",
    "# expressed as a fraction of the average axis height"
   ]
  },
  {
   "cell_type": "code",
   "execution_count": null,
   "metadata": {},
   "outputs": [],
   "source": [
    "from task_3_utils import img_to_nchw_tensor"
   ]
  },
  {
   "cell_type": "code",
   "execution_count": null,
   "metadata": {},
   "outputs": [],
   "source": [
    "DO_FIGURE = False"
   ]
  },
  {
   "cell_type": "code",
   "execution_count": null,
   "metadata": {
    "colab": {
     "base_uri": "https://localhost:8080/",
     "height": 35
    },
    "colab_type": "code",
    "id": "cxaxZTfigNzs",
    "outputId": "394b6282-16e5-4596-dd56-4272301189a4",
    "scrolled": false
   },
   "outputs": [],
   "source": [
    "iou_list = []\n",
    "\n",
    "for i in range(len(jpeg_files)):\n",
    "\n",
    "    image_stem = jpeg_files[i].split('/')[-1].split('.')[0]\n",
    "\n",
    "    bgr_lab = cv2.imread(osp.join(root_path, png_files[i]))\n",
    "    labc = cv2.cvtColor(bgr_lab, cv2.COLOR_BGR2RGB)\n",
    "\n",
    "    bgr_img = cv2.imread(osp.join(root_path, jpeg_files[i]))\n",
    "    imgc = cv2.cvtColor(bgr_img, cv2.COLOR_BGR2RGB)\n",
    "\n",
    "    nchw_tensor = img_to_nchw_tensor(imgc, device)\n",
    "\n",
    "    with torch.no_grad():\n",
    "        pred = sig(net(nchw_tensor)['out']) # remove 'out' for vanilla FCN\n",
    "    pred_np = pred.detach().cpu().numpy().squeeze()\n",
    "    \n",
    "    mask = np.zeros((labc.shape[0], labc.shape[1]), dtype='float32')\n",
    "    mask[labc[:, :, 0] == 128] = 1    \n",
    "    \n",
    "    t_one_hot = np.zeros((2, mask.shape[0], mask.shape[1]))\n",
    "    t_one_hot[1, :, :][mask == 1] = 1\n",
    "    t_one_hot[0, :, :][mask == 0] = 1\n",
    "\n",
    "    p_one_hot = np.zeros((2, pred_np.shape[0], pred_np.shape[1]))\n",
    "    p_one_hot[1, :, :][pred_np.squeeze().round() == 1] = 1\n",
    "    p_one_hot[0, :, :][pred_np.squeeze().round() == 0] = 1\n",
    "\n",
    "    jaccard_fcn = jsc(p_one_hot.reshape(1, -1), t_one_hot.reshape(1, -1), average='samples')\n",
    "\n",
    "    # OpenCV loads the PNG mask as indexed color RGB, \n",
    "    # we need to convert it to a binary mask. \n",
    "    # The `0' in labc[:, :, 0] is the R channel.\n",
    "    '''\n",
    "    mask = np.zeros((labc.shape[0], labc.shape[1]), dtype='float32')\n",
    "    mask[labc[:, :, 0] == 128] = 1    \n",
    "\n",
    "    # https://scikit-learn.org/stable/modules/generated/sklearn.metrics.jaccard_score.html\n",
    "    jaccard_fcn = jsc(pred_np.round().reshape(-1, 1), mask.reshape(-1, 1))\n",
    "    '''\n",
    "    \n",
    "    print('Image %d of %d, IoU %.4f' % (i, len(png_files), jaccard_fcn))\n",
    "    iou_list.append(jaccard_fcn)\n",
    "\n",
    "    #image = cv2.cvtColor(bgr_img[sy:sy+w, sx:sx+w, :], cv2.COLOR_BGR2RGB)\n",
    "    image = cv2.cvtColor(bgr_img, cv2.COLOR_BGR2RGB)\n",
    "\n",
    "    plt.close('all')\n",
    "    fig, axes = plt.subplots(1, 3, figsize=(10, 4))\n",
    "    axes = axes.flatten()\n",
    "    axes[0].imshow(image)\n",
    "    axes[0].set_title('Input', fontsize=fontsize)\n",
    "    axes[1].imshow(image, alpha=0.75)\n",
    "    axes[1].imshow(pred_np, alpha=0.5)\n",
    "    axes[1].set_title('Input \\& Preds, IoU = %.4f' % jaccard_fcn, fontsize=fontsize)\n",
    "    axes[2].imshow(mask)\n",
    "    axes[2].set_title('Ground Truth', fontsize=fontsize)\n",
    "    plt.subplots_adjust(left=left, bottom=bottom, right=right, top=top, wspace=wspace, hspace=hspace)\n",
    "    pretty_image(axes)\n",
    "    #plt.tight_layout()\n",
    "\n",
    "    if SAVE_PREDICTIONS:\n",
    "        #filename = src + '-' + tgt + '__' + image_stem + '_patch_width%d' % w + '__' + model_stem\n",
    "        filename = src + '-' + tgt + '__' + image_stem + '__' + model_stem\n",
    "        out_file = osp.join(prediction_path, filename)\n",
    "        fig.savefig(out_file + '.png', format='png')\n",
    "        #fig.savefig(out_file + '.eps', format='eps')\n",
    "\n",
    "print(np.asarray(iou_list).mean())"
   ]
  },
  {
   "cell_type": "markdown",
   "metadata": {},
   "source": [
    "## Make predictions on GLNI test set (N=189) for LOM jour"
   ]
  },
  {
   "cell_type": "code",
   "execution_count": null,
   "metadata": {},
   "outputs": [],
   "source": [
    "# this cell added May 26, 2020 for LOM Journal.\n",
    "# updated July 17, 2020 for LOM journal. Blend soft predictions with orig image.\n",
    "\n",
    "iou_list = []\n",
    "\n",
    "for i in range(len(jpeg_files)):\n",
    "\n",
    "    image_stem = jpeg_files[i].split('/')[-1].split('.')[0]\n",
    "\n",
    "    bgr_img = cv2.imread(osp.join(root_path, jpeg_files[i]))\n",
    "    imgc = cv2.cvtColor(bgr_img, cv2.COLOR_BGR2RGB)\n",
    "\n",
    "    scale_percent = 100\n",
    "    '''\n",
    "    width = int(imgc.shape[1] * scale_percent / 100)\n",
    "    height = int(imgc.shape[0] * scale_percent / 100)\n",
    "    imgc = cv2.resize(imgc, (width, height)) # resize image\n",
    "    '''\n",
    "\n",
    "    nchw_tensor = img_to_nchw_tensor(imgc, device)\n",
    "\n",
    "    with torch.no_grad():\n",
    "        pred = sig(net(nchw_tensor)['out']) # remove 'out' for vanilla FCN\n",
    "    pred_np = pred.detach().cpu().numpy().squeeze()\n",
    "\n",
    "    p = (pred_np * 255).astype('uint8')\n",
    "    src2 = np.zeros((p.shape[0], p.shape[1], 3), np.uint8)\n",
    "    src2[:, :, 2] = p\n",
    "    dst = cv2.addWeighted(imgc, 0.75, src2, 0.5, 0.5)\n",
    "\n",
    "    if SAVE_PREDICTIONS:\n",
    "        filename = src + '-' + tgt + '__' + image_stem + '__' + model_stem\n",
    "        out_file = osp.join(prediction_path, filename)\n",
    "        cv2.imwrite(out_file + '_scale%d_preds.jpg' % scale_percent, cv2.cvtColor(dst, cv2.COLOR_RGB2BGR))"
   ]
  },
  {
   "cell_type": "markdown",
   "metadata": {},
   "source": [
    "## Save predictions on GLNI test set (N=189) as CSV for LOM jour"
   ]
  },
  {
   "cell_type": "code",
   "execution_count": null,
   "metadata": {},
   "outputs": [],
   "source": [
    "# this cell added June 5, 2020 for saving predictions.\n",
    "csvfile = 'predictions_%s-%s_%s' % (split, version, model_stem) \n",
    "csvfile += '.csv'\n",
    "print('Creating', csvfile)\n",
    "\n",
    "with open(csvfile, 'w') as f:\n",
    "    csvwriter = csv.writer(f, delimiter=',')\n",
    "    csvwriter.writerow(['image', 'mussel_pixels', 'total_pixels'])\n",
    "    \n",
    "    for i in tqdm(range(len(jpeg_files))):\n",
    "\n",
    "        image_stem = jpeg_files[i].split('/')[-1].split('.')[0]\n",
    "\n",
    "        bgr_img = cv2.imread(osp.join(root_path, jpeg_files[i]))\n",
    "        imgc = cv2.cvtColor(bgr_img, cv2.COLOR_BGR2RGB)\n",
    "        \n",
    "        # resize image\n",
    "        width = int(imgc.shape[1] * scale_percent / 100)\n",
    "        height = int(imgc.shape[0] * scale_percent / 100)\n",
    "        imgc = cv2.resize(imgc, (width, height)) \n",
    "\n",
    "        nchw_tensor = img_to_nchw_tensor(imgc, device)\n",
    "\n",
    "        with torch.no_grad():\n",
    "            pred = sig(net(nchw_tensor)['out']) # remove 'out' for vanilla FCN\n",
    "        pred_np = pred.detach().cpu().numpy().squeeze()\n",
    "        \n",
    "        csvwriter.writerow([image_stem, pred_np.round().sum(), np.prod(imgc.shape[:2])])"
   ]
  },
  {
   "cell_type": "markdown",
   "metadata": {
    "colab_type": "text",
    "id": "lDACpG6UgNzz"
   },
   "source": [
    "### 7. ii) Refine the Predictions with Post-Processing by CRF\n",
    "\n",
    "Notice the sand in the middle of the image index `i=0` which is initially prediced as mussel. The CRF excels at \n",
    "suppressing such false positives and mIoU increases by 10 pts. Unfortunately it introduces some spurious detection \n",
    "of grid lines, thus doesn't help on all images. Meta-parameters of the CRF can be tuned further."
   ]
  },
  {
   "cell_type": "code",
   "execution_count": null,
   "metadata": {
    "colab": {},
    "colab_type": "code",
    "id": "5aHJkOD-gNz0"
   },
   "outputs": [],
   "source": [
    "def run_crf(rgb, pred_np):\n",
    "    \"\"\"\n",
    "    Takes an input image and corresponding model predictions, then \n",
    "    runs a conditional random field (CRF) on the predictions.\n",
    "    \n",
    "    @param rgb: is an rgb image in uint8 format (pixels 0-255)\n",
    "    @param pred_np: are model predictions in greyscale format as float [0,1]\n",
    "    \"\"\"\n",
    "    MAX_ITER = 20\n",
    "    labels = np.stack([pred_np, 1 - pred_np])\n",
    "    c, h, w = labels.shape[0], labels.shape[1], labels.shape[2]\n",
    "    labels = labels.astype('float') / labels.max()\n",
    "    U = utils.unary_from_softmax(labels)\n",
    "    U = np.ascontiguousarray(U)\n",
    "    d = dcrf.DenseCRF2D(w, h, c)\n",
    "    d.setUnaryEnergy(U)\n",
    "    \"\"\"\n",
    "    @param compat=3, Potts model - it introduces a penalty for nearby similar \n",
    "    pixels that are assigned different labels. \n",
    "    \"\"\"\n",
    "    # This adds the color-independent term, features are the locations only.\n",
    "    d.addPairwiseGaussian(sxy=3, compat=6)\n",
    "    \n",
    "    # This adds the color-dependent term, i.e. features are (x,y,r,g,b).\n",
    "    # im is an image-array, e.g. im.dtype == np.uint8\n",
    "    d.addPairwiseBilateral(sxy=80, srgb=13, rgbim=rgb, compat=10)\n",
    "    \n",
    "    Q = d.inference(MAX_ITER)\n",
    "    Q = np.array(Q).reshape((c, h, w))\n",
    "    \n",
    "    # binarize output\n",
    "    Q[0][Q[0] >= 0.5] = 1\n",
    "    Q[0][Q[0] < 0.5] = 0\n",
    "    \n",
    "    return Q[0, :, :]"
   ]
  },
  {
   "cell_type": "code",
   "execution_count": null,
   "metadata": {
    "colab": {
     "base_uri": "https://localhost:8080/",
     "height": 35
    },
    "colab_type": "code",
    "id": "69VutcNqgNz4",
    "outputId": "ebb2560e-eece-4093-9836-ef0961bb1c61"
   },
   "outputs": [],
   "source": [
    "pred_crf = run_crf(image, pred_np)\n",
    "jaccard_crf = jsc(pred_crf.reshape(-1, 1), mask.reshape(-1, 1))\n",
    "print('CRF IoU %.4f' % jaccard_crf)"
   ]
  },
  {
   "cell_type": "code",
   "execution_count": null,
   "metadata": {},
   "outputs": [],
   "source": [
    "fig, axes = plt.subplots(1, 3, figsize=(10, 4))\n",
    "axes = axes.flatten()\n",
    "axes[0].imshow(image)\n",
    "axes[0].set_title('Input', fontsize=fontsize)\n",
    "axes[1].imshow(image, alpha=0.75)\n",
    "axes[1].imshow(pred_np.round(), alpha=0.5)\n",
    "axes[1].set_title('FCN Preds, IoU = %.4f' % jaccard_fcn, fontsize=fontsize)\n",
    "\n",
    "axes[2].imshow(image, alpha=0.75)\n",
    "axes[2].imshow(pred_crf, alpha=0.5)\n",
    "axes[2].set_title('Post CRF Preds, IoU = %.4f' % jaccard_crf, fontsize=fontsize)\n",
    "\n",
    "plt.subplots_adjust(left=left, bottom=bottom, right=right, top=top, wspace=wspace, hspace=hspace)\n",
    "pretty_image(axes)\n",
    "\n",
    "if SAVE_PREDICTIONS:\n",
    "    filename = src + '-' + tgt + '__' + image_stem + '_patch_width%d_crf' % w + '__' + model_stem\n",
    "    #filename = src + '-' + tgt + '__' + image_stem + '__' + model_stem\n",
    "    out_file = osp.join(prediction_path, filename)\n",
    "    fig.savefig(out_file + '.png', format='png')\n",
    "    fig.savefig(out_file + '.eps', format='eps')"
   ]
  },
  {
   "cell_type": "code",
   "execution_count": null,
   "metadata": {
    "colab": {
     "base_uri": "https://localhost:8080/",
     "height": 734
    },
    "colab_type": "code",
    "id": "8Sw4tggogNz7",
    "outputId": "b6a42a2e-28ba-43f0-cf3d-81109e565c38"
   },
   "outputs": [],
   "source": [
    "fig, axes = plt.subplots(2, 2, figsize=(12, 12))\n",
    "axes = axes.flatten()\n",
    "\n",
    "axes[0].imshow(image)\n",
    "axes[0].set_title('Input')\n",
    "\n",
    "axes[1].imshow(mask)\n",
    "axes[1].set_title('Ground Truth Segmentation', fontsize=fontsize)\n",
    "\n",
    "axes[2].imshow(image, alpha=0.75)\n",
    "axes[2].imshow(pred_np.round(), alpha=0.5)\n",
    "axes[2].set_title('Input \\& Soft Preds, IoU = %.4f' % jaccard_fcn, fontsize=fontsize)\n",
    "\n",
    "axes[3].imshow(image, alpha=0.75)\n",
    "axes[3].imshow(pred_crf, alpha=0.5)\n",
    "axes[3].set_title('Input \\& CRF Preds, IoU = %.4f' % jaccard_crf, fontsize=fontsize)\n",
    "\n",
    "pretty_image(axes)"
   ]
  },
  {
   "cell_type": "markdown",
   "metadata": {
    "colab_type": "text",
    "id": "9h2AhUsjgNz-"
   },
   "source": [
    "## 8. Predict Mussel Biomass\n",
    "\n",
    "Here we predict the mussel biomass from the lab analysis using a) the masks, and b) model predictions on the \n",
    "full size images. "
   ]
  },
  {
   "cell_type": "code",
   "execution_count": null,
   "metadata": {
    "colab": {},
    "colab_type": "code",
    "id": "vYuNMNd9gNz_"
   },
   "outputs": [],
   "source": [
    "if not IN_COLAB:\n",
    "    DATA_PATH = r'/scratch/gallowaa/cciw/Data'\n",
    "\n",
    "imagetable_path = os.path.join(DATA_PATH, 'Tables', 'ImageTable.csv')\n",
    "image_df = pd.read_csv(imagetable_path, index_col=0)\n",
    "analysis_path = os.path.join(DATA_PATH, 'Tables', 'Analysis.csv')\n",
    "dive_path = os.path.join(DATA_PATH, 'Tables', 'Dives.csv')\n",
    "analysis_df = pd.read_csv(analysis_path, index_col=0, dtype={'Count':float})\n",
    "dive_df = pd.read_csv(dive_path, index_col=0, parse_dates=['Date'])\n",
    "data_df = pd.merge(analysis_df, dive_df, on='Dive Index', how='outer')"
   ]
  },
  {
   "cell_type": "code",
   "execution_count": null,
   "metadata": {
    "colab": {},
    "colab_type": "code",
    "id": "CfUSnfsugN0D"
   },
   "outputs": [],
   "source": [
    "\"\"\"\n",
    "numpy array with manually estimated camera distance based on counting \n",
    "squares along horizontal and vertical axes of each Lab image.\n",
    "\n",
    "Useful to determine how much performance can be gained by accounting \n",
    "for camera distance programmatically.\"\"\"\n",
    "#scale = np.load('lab_board_dims.npy')"
   ]
  },
  {
   "cell_type": "markdown",
   "metadata": {},
   "source": [
    "Relates to Deliverable 2. c) *Predicted semantic segmentation (mussel/no-mussel) for all images in 2019 testing set in png image format.*"
   ]
  },
  {
   "cell_type": "code",
   "execution_count": null,
   "metadata": {
    "colab": {
     "base_uri": "https://localhost:8080/",
     "height": 35
    },
    "colab_type": "code",
    "id": "8bwN2IhcgN0G",
    "outputId": "06676eec-0c7e-4733-887d-c47a7b211f9c"
   },
   "outputs": [],
   "source": [
    "lab_ct = []  # for storing the number of mussel pixels in each mask\n",
    "prd_ct = []  # for storing the number of mussel pixels in each prediction\n",
    "\n",
    "# This cell is slow because we're randomly reading large images from Google Drive\n",
    "for i in tqdm(range(len(jpeg_files)), unit=' image'):\n",
    "    \n",
    "    bgr_img = cv2.imread(osp.join(root_path, jpeg_files[i]))\n",
    "    bgr_lab = cv2.imread(osp.join(root_path, png_files[i]))\n",
    "    \n",
    "    _, cts = np.unique(bgr_lab, return_counts=True)\n",
    "    if len(cts) > 1:\n",
    "        lab_ct.append(cts[1] / cts.sum())    \n",
    "    else:\n",
    "        lab_ct.append(0)\n",
    "    \n",
    "    img = cv2.cvtColor(bgr_img, cv2.COLOR_BGR2RGB)\n",
    "    lab = cv2.cvtColor(bgr_lab, cv2.COLOR_BGR2RGB)\n",
    "\n",
    "    # pre-processing image consistent with PyTorch training transforms\n",
    "    nchw_tensor = img_to_nchw_tensor(img, device)\n",
    "\n",
    "    with torch.no_grad():\n",
    "        pred = sig(net(nchw_tensor))\n",
    "    \n",
    "    prd_ct.append(pred.round().sum().item() / cts.sum())\n",
    "\n",
    "    if SAVE_PREDICTIONS:\n",
    "        '''\n",
    "        prediction = (pred.squeeze().round() * 255)\n",
    "        prediction_np = prediction.detach().cpu().numpy().astype('uint8')\n",
    "        out_file = osp.join(prediction_path, \n",
    "                            jpeg_files[i].split('/')[-1].split('.')[0] + '_' + ckpt_file.split('.')[0] + '.png')\n",
    "        cv2.imwrite(out_file, prediction_np)\n",
    "        '''"
   ]
  },
  {
   "cell_type": "code",
   "execution_count": null,
   "metadata": {
    "colab": {},
    "colab_type": "code",
    "id": "ioB337i5gN0J"
   },
   "outputs": [],
   "source": [
    "CORRECT_CAMERA_DISTANCE = False\n",
    "\n",
    "lab_ct_np = np.asarray(lab_ct)\n",
    "prd_ct_np = np.asarray(prd_ct)\n",
    "\n",
    "lab_targets = np.zeros((len(jpeg_files), 2)) # 0 = biomass, 1 = count\n",
    "\n",
    "for i in range(len(jpeg_files)):\n",
    "    \n",
    "    # adjust the pixel_ct by size of grid (16 squares high, 25 wide)\n",
    "    if CORRECT_CAMERA_DISTANCE:\n",
    "        lab_ct_np[i] = lab_ct_np[i] * (np.prod(scale[i]) / (16 * 25))\n",
    "        prd_ct_np[i] = prd_ct_np[i] * (np.prod(scale[i]) / (16 * 25))\n",
    "    \n",
    "    if 'scale' in png_files[i]:\n",
    "        root_fname = png_files[i].split('/')[-1].split('.')[0].split('_scale')[0][4:-8]\n",
    "    else:\n",
    "        root_fname = png_files[i].split('/')[-1].split('.')[0].split('_mask')[0][4:-8]\n",
    "        \n",
    "    guid = image_df[image_df['Name'].str.contains(root_fname)]['Analysis Index'].astype('int64')\n",
    "    row = data_df[data_df['Analysis Index'].values == np.unique(guid.values)]\n",
    "    lab_targets[i, 0] = row['Biomass'].values\n",
    "    lab_targets[i, 1] = row['Count'].values\n",
    "    \n",
    "lab_ct_np = lab_ct_np / lab_ct_np.max()    \n",
    "prd_ct_np = prd_ct_np / prd_ct_np.max()\n",
    "\n",
    "lab_targets[np.isnan(lab_targets)] = 0\n",
    "y = lab_targets[:, 0] / lab_targets[:, 0].max()"
   ]
  },
  {
   "cell_type": "markdown",
   "metadata": {
    "colab_type": "text",
    "id": "BdpOKTgorNqW"
   },
   "source": [
    "Finally, plot biomass versus pixels predicted as mussel. Interestingly, the \n",
    "model **predictions** outperform the **masks** in terms of accounting for \n",
    "variance in biomass. This holds both when `CORRECT_CAMERA_DISTANCE=True` or `=False`.\n",
    "\n",
    "This is likely due to a CLT-style smoothing effect, or the model paying \"equal \n",
    "attention\" to all images, whereas the Lab images were labelled by different \n",
    "people (myself and Scale) and likely have idiosyncrasies."
   ]
  },
  {
   "cell_type": "code",
   "execution_count": null,
   "metadata": {
    "colab": {
     "base_uri": "https://localhost:8080/",
     "height": 297
    },
    "colab_type": "code",
    "id": "IA-2nitYgN0N",
    "outputId": "1bbca420-004a-44b6-c41c-78ffccfc46f1"
   },
   "outputs": [],
   "source": [
    "fig, ax = plt.subplots(1, 2, figsize=(8, 4), sharex=True, sharey=True)\n",
    "\n",
    "ax[0].scatter(lab_ct_np, y, marker='o', s=40, facecolors='none', edgecolors='b')\n",
    "ax[1].scatter(prd_ct_np, y, c='k') #, marker='o', s=40, facecolors='none', edgecolors='k')\n",
    "ax[0].set_ylabel('Mussel Biomass (grams)', fontsize=fontsize)\n",
    "ax[0].set_ylim(0, 1.05)\n",
    "ax[0].set_xlim(0, 1.05)\n",
    "ax[0].set_xlabel('Fraction of Mussel Pixels \\n (Mask)', fontsize=fontsize)\n",
    "ax[1].set_xlabel('Fraction of Mussel Pixels \\n (Prediction)', fontsize=fontsize)\n",
    "ax[0].tick_params(labelsize=fontsize-2)\n",
    "ax[1].tick_params(labelsize=fontsize-2)\n",
    "\n",
    "x = np.linspace(0, 1)\n",
    "\n",
    "A = np.vstack([lab_ct_np, np.ones(len(lab_ct_np))]).T\n",
    "m, c = np.linalg.lstsq(A, y, rcond=None)[0]\n",
    "ax[0].plot(x, m*x + c, 'b', linestyle='-', label='masks')\n",
    "\n",
    "A = np.vstack([prd_ct_np, np.ones(len(prd_ct_np))]).T\n",
    "m, c = np.linalg.lstsq(A, y, rcond=None)[0]\n",
    "ax[1].plot(x, m*x + c, 'k', linestyle='--', label='preds')\n",
    "\n",
    "ax[0].annotate(r'$\\mathbf{R^2}$ = %.4f' % r2_score(y, lab_ct_np), \n",
    "            xy=(.05, .85), fontsize=fontsize + 1, xycoords='axes fraction', color='b')\n",
    "\n",
    "ax[1].annotate(r'$\\mathbf{R^2}$ = %.4f' % r2_score(y, prd_ct_np), \n",
    "            xy=(.05, .85), fontsize=fontsize + 1, xycoords='axes fraction', color='k')\n",
    "\n",
    "ax[0].grid()\n",
    "ax[1].grid()\n",
    "\n",
    "#ax[0].legend(loc='lower right', fontsize=fontsize-2)\n",
    "#ax[1].legend(loc='lower right', fontsize=fontsize-2)\n",
    "\n",
    "ax[0].set_aspect('equal')\n",
    "ax[1].set_aspect('equal')\n",
    "\n",
    "plt.tight_layout()"
   ]
  },
  {
   "cell_type": "markdown",
   "metadata": {
    "colab_type": "text",
    "id": "rkBPnFLogN0S"
   },
   "source": [
    "### Optionally save the plot as png or vector graphic"
   ]
  },
  {
   "cell_type": "code",
   "execution_count": null,
   "metadata": {
    "colab": {},
    "colab_type": "code",
    "id": "I8G_zejAgN0T"
   },
   "outputs": [],
   "source": [
    "fname = 'lab_predict_biomass_from_pixels_no_camera' + src + '-' + tgt + '__' + model_stem\n",
    "fig.savefig(fname + '.png')\n",
    "fig.savefig(fname + '.eps', format='eps')"
   ]
  },
  {
   "cell_type": "markdown",
   "metadata": {},
   "source": [
    "# End of current demo\n",
    "\n",
    "__ToDo:__ CSV file containing predicted (i) percentage coverage, (ii) total mussels count, (iii) total\n",
    "mussels biomass and (iv) mussels size distribution with error estimates for each image\n",
    "acquired in 2019. \n",
    "\n",
    "To do after troubleshooting performance on the *in situ* dataset."
   ]
  },
  {
   "cell_type": "code",
   "execution_count": null,
   "metadata": {},
   "outputs": [],
   "source": []
  },
  {
   "cell_type": "code",
   "execution_count": null,
   "metadata": {},
   "outputs": [],
   "source": []
  }
 ],
 "metadata": {
  "accelerator": "GPU",
  "colab": {
   "collapsed_sections": [],
   "name": "task_3_evaluate_checkpoint_in_colab.ipynb",
   "provenance": []
  },
  "kernelspec": {
   "display_name": "Python 3",
   "language": "python",
   "name": "python3"
  },
  "language_info": {
   "codemirror_mode": {
    "name": "ipython",
    "version": 3
   },
   "file_extension": ".py",
   "mimetype": "text/x-python",
   "name": "python",
   "nbconvert_exporter": "python",
   "pygments_lexer": "ipython3",
   "version": "3.6.6"
  }
 },
 "nbformat": 4,
 "nbformat_minor": 1
}
