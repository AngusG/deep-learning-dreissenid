{
 "cells": [
  {
   "cell_type": "markdown",
   "metadata": {},
   "source": [
    "# Evaluate a Pre-Trained Segmentation Model in Colab\n",
    "\n",
    "Demonstrates image pre-processing, prediction and validation statistics"
   ]
  },
  {
   "cell_type": "code",
   "execution_count": null,
   "metadata": {},
   "outputs": [],
   "source": [
    "import os\n",
    "import os.path as osp\n",
    "\n",
    "import glob\n",
    "\n",
    "import cv2\n",
    "import numpy as np\n",
    "import pandas as pd\n",
    "\n",
    "import matplotlib.pyplot as plt\n",
    "\n",
    "import torch\n",
    "from torch import nn\n",
    "from torch.utils.data import DataLoader\n",
    "\n",
    "import pydensecrf.densecrf as dcrf\n",
    "import pydensecrf.utils as utils\n",
    "\n",
    "from tqdm import tqdm  # progress bar\n",
    "\n",
    "from sklearn.metrics import r2_score\n",
    "from sklearn.metrics import jaccard_score as jsc\n",
    "\n",
    "# local imports\n",
    "import transforms as T\n",
    "from task_3_utils import evaluate, evaluate_loss, eval_binary_iou, pretty_image\n",
    "from folder2lmdb import VOCSegmentationLMDB"
   ]
  },
  {
   "cell_type": "code",
   "execution_count": null,
   "metadata": {},
   "outputs": [],
   "source": [
    "%load_ext autoreload\n",
    "%autoreload 2\n",
    "%matplotlib inline"
   ]
  },
  {
   "cell_type": "code",
   "execution_count": null,
   "metadata": {},
   "outputs": [],
   "source": [
    "if torch.cuda.is_available():\n",
    "    device = torch.device('cuda')\n",
    "    print('Found GPU,', device)"
   ]
  },
  {
   "cell_type": "markdown",
   "metadata": {},
   "source": [
    "## 1. Load a pre-trained model checkpoint\n",
    "\n",
    "The architecture is fully-convolutional network (FCN) 8s."
   ]
  },
  {
   "cell_type": "code",
   "execution_count": null,
   "metadata": {},
   "outputs": [],
   "source": [
    "root = '/scratch/gallowaa/cciw/logs/lab-v1.0.0/fcn8slim/lr1e-03/wd5e-04/bs32/ep50/seed1/checkpoint'\n",
    "\n",
    "ckpt_file = 'fcn8slim_lr1e-03_wd5e-04_bs32_ep50_seed1_epoch40.ckpt'\n",
    "\n",
    "print('==> Resuming from checkpoint..')\n",
    "checkpoint = torch.load(os.path.join(root, ckpt_file))\n",
    "net = checkpoint['net']\n",
    "train_loss = checkpoint['trn_loss']\n",
    "val_loss = checkpoint['val_loss']\n",
    "last_epoch = checkpoint['epoch']\n",
    "torch.set_rng_state(checkpoint['rng_state'])\n",
    "\n",
    "print('Loaded model trained to epoch ', last_epoch)\n",
    "print('Cross-entropy loss {:.4f} for train set, {:.4f} for validation set'.format(train_loss, val_loss))"
   ]
  },
  {
   "cell_type": "markdown",
   "metadata": {},
   "source": [
    "## 2. Define Image Pre-Processing Transforms and Data Augmentation\n",
    "\n",
    "Here, we define transforms to be applied to input images (`inputs`) and segmentation masks (`targets`)\n",
    "on the fly as we draw mini-batches like:\n",
    "\n",
    "```\n",
    "for inputs, targets in dataloader:\n",
    "    pass\n",
    "```\n",
    "\n",
    "These transforms are documented here: https://pytorch.org/docs/stable/torchvision/transforms.html\n",
    "\n",
    "We may wish to experiment with additional ones in the future, e.g., `ColorJitter` to perturb the image colours, \n",
    "or `Grayscale` to convert the dataset to Greyscale and quantify the marginal impact of colour information on model performance."
   ]
  },
  {
   "cell_type": "code",
   "execution_count": null,
   "metadata": {},
   "outputs": [],
   "source": [
    "training_tforms = []\n",
    "\n",
    "# Randomly crop images to square 224x224\n",
    "training_tforms.append(T.RandomCrop(224)) \n",
    "\n",
    "# With probability 0.5, flip the images and masks horizontally.\n",
    "# This increases the effective size of our training set, as \n",
    "# mussels are rotation invariant.\n",
    "training_tforms.append(T.RandomHorizontalFlip(0.5)) \n",
    "\n",
    "# Similarly, flip the images and masks vertically with probability 0.5.\n",
    "training_tforms.append(T.RandomVerticalFlip(0.5))\n",
    "\n",
    "# Convert images from Python Imaging Library (PIL aka Pillow) format to PyTorch Tensor.\n",
    "training_tforms.append(T.ToTensor())\n",
    "\n",
    "\"\"\"\n",
    "T.Normalize performs: image = (image - mean) / std\n",
    "\n",
    "The first argument (a triple) to T.Normalize are the global \n",
    "RGB pixel mean values, and the second argument is their standard deviation. \n",
    "\n",
    "For a mini-batch 'inputs' comprised of N samples, \n",
    "C channels, e.g. 3 for RGB images, height H, width W, and \n",
    "inputs.shape = torch.Size([N, C, H, W]), this can be obtained using:\n",
    "\n",
    "inputs.mean(dim=(0, 2, 3)), which will output a tensor, e.g., \n",
    "tensor([0.2613, 0.2528, 0.2255]). \n",
    "\n",
    "The standard deviation can be obtained similarly with:\n",
    "inputs.std(dim=(0, 2, 3))\n",
    "\n",
    "The global values can simply be obtained by averaging over all \n",
    "mini-batches in the dataset.\n",
    "\n",
    "For the natural mussel dataset (i.e. not the Lab images), \n",
    "these global pixel values are somewhat meaningless to due \n",
    "significant changes in lighting and hue, so we simply\n",
    "pass the triple (0.5, 0.5, 0.5) for both mean and std to\n",
    "normalize the input image pixels from [0, 1] to [-1, 1]. \n",
    "This centers the images and resulting feedforward activations \n",
    "around zero and allows training to proceed more smoothly.\n",
    "\"\"\"\n",
    "training_tforms.append(T.Normalize((0.5, 0.5, 0.5), (0.5, 0.5, 0.5)))\n",
    "\n",
    "# Finally, Compose several transforms together.\n",
    "training_tforms = T.Compose(training_tforms)"
   ]
  },
  {
   "cell_type": "markdown",
   "metadata": {},
   "source": [
    "For validation and testing, we often want these transforms to be deterministic to be sure the model is making progress with respec to the natural image distribution. We will evaluate on fixed 250x250 patches rather than randomly cropping.\n",
    "\n",
    "For evaluating robustness, we could add `ColorJitter` and do scaling or shearing with various Affine transforms here..."
   ]
  },
  {
   "cell_type": "code",
   "execution_count": null,
   "metadata": {},
   "outputs": [],
   "source": [
    "test_tform = T.Compose([\n",
    "    T.ToTensor(),\n",
    "    T.Normalize((0.5, 0.5, 0.5), (0.5, 0.5, 0.5))\n",
    "])"
   ]
  },
  {
   "cell_type": "markdown",
   "metadata": {},
   "source": [
    "## 3. Create Efficient Data Loaders"
   ]
  },
  {
   "cell_type": "markdown",
   "metadata": {},
   "source": [
    "Specify the mini-batch size (`batch_size`) for validation, and path to serialized LMDB dataset `dataset_root`. \n",
    "\n",
    "The `batch_size` is arbitrary at test time since we aren't using `nn.BatchNorm()`, the main consideration here \n",
    "is to use the largest `batch_size` the GPU memory allows to maximize throughput. The default setting should be fine."
   ]
  },
  {
   "cell_type": "code",
   "execution_count": null,
   "metadata": {},
   "outputs": [],
   "source": [
    "batch_size = 50\n",
    "dataset_root = '/scratch/ssd/gallowaa/cciw/Lab'"
   ]
  },
  {
   "cell_type": "markdown",
   "metadata": {},
   "source": [
    "The `VOCSegmentationLMDB` class was adapted from https://pytorch.org/docs/stable/torchvision/datasets.html#torchvision.datasets.VOCSegmentation\n",
    "to enable reading data from a single `*.lmdb` database which is much more efficient on conventional hard drives than randomly reading images.\n",
    "\n",
    "Note that transforms provided to the `transforms` argument apply to both input images and masks. \n",
    "The label values will be rotated accordingly as the input images, but the labels are unaffected by the normalization due to being limited to values 0/1."
   ]
  },
  {
   "cell_type": "code",
   "execution_count": null,
   "metadata": {},
   "outputs": [],
   "source": [
    "validation_set = VOCSegmentationLMDB(\n",
    "    root=osp.join(dataset_root, 'val_v100.lmdb'), transforms=test_tform)\n",
    "\n",
    "val_loader = DataLoader(validation_set, batch_size=batch_size, shuffle=False)"
   ]
  },
  {
   "cell_type": "code",
   "execution_count": null,
   "metadata": {},
   "outputs": [],
   "source": [
    "training_set = VOCSegmentationLMDB(\n",
    "    root=osp.join(dataset_root, 'train_v100.lmdb'), transforms=test_tform)\n",
    "\n",
    "train_loader = DataLoader(training_set, batch_size=batch_size, shuffle=False)"
   ]
  },
  {
   "cell_type": "markdown",
   "metadata": {},
   "source": [
    "To compute the `pos_weight` from the dataset, uncomment the following cell.\n",
    "Note that the `batch_pos_weight` may be `inf` for a batch comprised entirely of \n",
    "masks without any mussels. Increase the `batch_size` to avoid this."
   ]
  },
  {
   "cell_type": "code",
   "execution_count": null,
   "metadata": {},
   "outputs": [],
   "source": [
    "\"\"\"\n",
    "running_mean = 0.\n",
    "for idx, data in enumerate(train_loader):\n",
    "    batch_pos_weight = 1 / ((data[1] == 1).sum().float() / (data[1] == 0).sum())\n",
    "    running_mean += batch_pos_weight\n",
    "    print('Batch %d of %d, pos_weight=%.4f' % (idx, len(train_loader), batch_pos_weight))\n",
    "pos_weight = running_mean / len(train_loader)\n",
    "print('pos_weight={:.4f}'.format(pos_weight))\n",
    "\"\"\""
   ]
  },
  {
   "cell_type": "code",
   "execution_count": null,
   "metadata": {},
   "outputs": [],
   "source": [
    "pos_weight = torch.FloatTensor([12.4924]).to(device)\n",
    "loss_fn = nn.BCEWithLogitsLoss(pos_weight=pos_weight)\n",
    "\n",
    "sig = nn.Sigmoid()  # initializes a sigmoid function"
   ]
  },
  {
   "cell_type": "markdown",
   "metadata": {},
   "source": [
    "## 4. Compute training and validation cross-entropy losses\n",
    "\n",
    "to ensure model was loaded correctly and that the data were pre-processed in consistent manner w.r.t. the training script.\n",
    "\n",
    "Note: the cross-entropy loss is a proxy for what we ultimately want to measure, the intersection of the prediction and masks divided by their union."
   ]
  },
  {
   "cell_type": "code",
   "execution_count": null,
   "metadata": {},
   "outputs": [],
   "source": [
    "calculate_validation_loss = evaluate_loss(net, val_loader, loss_fn, device)\n",
    "assert np.allclose(calculate_validation_loss, val_loss)\n",
    "print('Validation loss of {:.4f} matches checkpoint'.format(calculate_validation_loss))"
   ]
  },
  {
   "cell_type": "code",
   "execution_count": null,
   "metadata": {},
   "outputs": [],
   "source": [
    "# note: train loss may not match exactly \n",
    "\n",
    "calculate_train_loss = evaluate_loss(net, train_loader, loss_fn, device)\n",
    "print('Calculated train loss of {:.4f}'.format(calculate_train_loss))\n",
    "print('Checkpoint train loss of {:.4f}'.format(train_loss))"
   ]
  },
  {
   "cell_type": "markdown",
   "metadata": {},
   "source": [
    "## 5. Compute the Mean Intersection-over-Union (mIoU) Score on the Validation Set\n",
    "\n",
    "The mean Intersection-over-Union (IoU), aka Jaccard Score or Jaccard Index, on the validation/test dataset is \n",
    "the main performance metric we use to evaluate semantic segmentation models.\n",
    "\n",
    "Detail: using `torch.no_grad()` saves memory if we will not be \n",
    "doing error backpropagation as intermediate activations can be \n",
    "discarded. Otherwise these are retained in GPU memory in case \n",
    "we want to compute gradients. See https://pytorch.org/docs/stable/autograd.html#torch.autograd.no_grad."
   ]
  },
  {
   "cell_type": "code",
   "execution_count": null,
   "metadata": {},
   "outputs": [],
   "source": [
    "batch = 0\n",
    "running_iou = 0\n",
    "\n",
    "with torch.no_grad():\n",
    "    \n",
    "    for inputs, targets in tqdm(val_loader, unit=' images', unit_scale=batch_size):\n",
    "        inputs, targets = inputs.to(device), targets.to(device)\n",
    "        \n",
    "        \"\"\"Apply the sigmoid function here so that output lies in [0, 1]. \n",
    "        Previously it was applied internally by the loss_fn.\n",
    "        \n",
    "        This line does a feedforward pass, or prediction.\"\"\"\n",
    "        pred = sig(net(inputs))\n",
    "        \n",
    "        bin_iou = eval_binary_iou(pred.round(), targets)\n",
    "        \n",
    "        if (bin_iou > 0).sum() > 1:\n",
    "            iou = bin_iou[bin_iou > 0].mean().item()\n",
    "            running_iou += iou\n",
    "            batch += 1\n",
    "    running_iou = running_iou / batch\n",
    "\n",
    "print('mIoU = %.4f' % running_iou)"
   ]
  },
  {
   "cell_type": "markdown",
   "metadata": {},
   "source": [
    "## 6. Visualize Validation Predictions on 250x250 Patches"
   ]
  },
  {
   "cell_type": "code",
   "execution_count": null,
   "metadata": {},
   "outputs": [],
   "source": [
    "nhwc = inputs.permute(0, 2, 3, 1).detach().cpu().numpy()\n",
    "pred_np = pred.detach().cpu().numpy()\n",
    "targets_np = targets.detach().cpu().numpy()\n",
    "\n",
    "# put pixels back into range [0, 1] for matplotlib\n",
    "nhwc = (nhwc * 0.5) + 0.5\n",
    "\n",
    "print(nhwc.shape)\n",
    "print(nhwc.min())\n",
    "print(nhwc.max())"
   ]
  },
  {
   "cell_type": "code",
   "execution_count": null,
   "metadata": {},
   "outputs": [],
   "source": [
    "j = 0  # change me!\n",
    "\n",
    "N_PLOTS = 4\n",
    "fig, ax = plt.subplots(1, N_PLOTS, figsize=(16, 4))\n",
    "\n",
    "ax[0].imshow((nhwc[j]))\n",
    "ax[1].imshow(pred_np[j].squeeze())\n",
    "ax[2].imshow(pred_np[j].round().squeeze())\n",
    "ax[3].imshow(targets_np[j])\n",
    "\n",
    "for i in range(N_PLOTS):\n",
    "    ax[i].axis('off')"
   ]
  },
  {
   "cell_type": "markdown",
   "metadata": {},
   "source": [
    "## 7. i) Visualize Predictions on Whole Images\n",
    "\n",
    "Here we manually load and preprocess the original images and png masks using OpenCV.\n",
    "\n",
    "`root_path` -- will also be used in "
   ]
  },
  {
   "cell_type": "code",
   "execution_count": null,
   "metadata": {},
   "outputs": [],
   "source": [
    "root_path = '/scratch/ssd/gallowaa/cciw/dataset_raw/Test/Lab/done/'\n",
    "jpeg_files = glob.glob(root_path + '*.jpg')\n",
    "png_files = glob.glob(root_path + '*_final.png')\n",
    "jpeg_files.sort()\n",
    "png_files.sort()\n",
    "print(len(jpeg_files))\n",
    "print(len(png_files))"
   ]
  },
  {
   "cell_type": "code",
   "execution_count": null,
   "metadata": {},
   "outputs": [],
   "source": [
    "# these are the files that correspond to 1350 patches in `val_v100.lmdb`\n",
    "val_jpeg = jpeg_files[-5:]\n",
    "val_jpeg"
   ]
  },
  {
   "cell_type": "code",
   "execution_count": null,
   "metadata": {},
   "outputs": [],
   "source": [
    "i = 0  # increment me to try new images\n",
    "\n",
    "bgr_img = cv2.imread(osp.join(root_path, val_jpeg[i]))\n",
    "bgr_lab = cv2.imread(osp.join(root_path, val_mask[i]))\n",
    "\n",
    "img = cv2.cvtColor(bgr_img, cv2.COLOR_BGR2RGB)\n",
    "lab = cv2.cvtColor(bgr_lab, cv2.COLOR_BGR2RGB)\n",
    "\n",
    "w = 1000  # to keep memory consumption reasonable, we take a wxw crop\n",
    "sy = 50\n",
    "sx = 1000\n",
    "\n",
    "imgc = img[sy:sy + w, sx:sx + w, :]\n",
    "labc = lab[sy:sy + w, sx:sx + w]\n",
    "\n",
    "# pre-processing image consistent with PyTorch training transforms\n",
    "imgc = imgc / 255\n",
    "imgc = ((imgc - np.array([0.5, 0.5, 0.5])) / np.array([0.5, 0.5, 0.5]))\n",
    "\n",
    "imgt = torch.FloatTensor(imgc).to(device)\n",
    "imgt = imgt.unsqueeze(0)\n",
    "\n",
    "# Note: need to call contigious after the permute \n",
    "# else max pooling will fail\n",
    "nchw_tensor = imgt.permute(0, 3, 1, 2).contiguous()\n",
    "\n",
    "with torch.no_grad():\n",
    "    pred = sig(net(nchw_tensor))\n",
    "    \n",
    "inputs_nhwc = nchw_tensor.permute(0, 2, 3, 1)\n",
    "\n",
    "inputs_nhwc_np = inputs_nhwc.detach().cpu().numpy()\n",
    "\n",
    "# put pixels back into range [0, 1] for matplotlib\n",
    "inputs_nhwc_np = (inputs_nhwc_np * 0.5) + 0.5\n",
    "\n",
    "pred_np = pred.detach().cpu().numpy()\n",
    "\n",
    "# OpenCV loads the PNG mask as indexed color RGB, \n",
    "# we need to convert it to a binary mask. \n",
    "# The `0' in labc[:, :, 0] is the R channel.\n",
    "mask = np.zeros((w, w), dtype='float32')\n",
    "mask[labc[:, :, 0] == 128] = 1\n",
    "\n",
    "image = (inputs_nhwc_np.squeeze() * 255).astype('uint8')\n",
    "pred_np = pred_np.squeeze()\n",
    "\n",
    "# https://scikit-learn.org/stable/modules/generated/sklearn.metrics.jaccard_score.html\n",
    "jaccard_fcn = jsc(pred_np.round().reshape(-1, 1), mask.reshape(-1, 1))\n",
    "print('FCN IoU %.4f' % jaccard_fcn)"
   ]
  },
  {
   "cell_type": "code",
   "execution_count": null,
   "metadata": {},
   "outputs": [],
   "source": [
    "fig, axes = plt.subplots(1, 3, figsize=(12, 4))\n",
    "axes = axes.flatten()\n",
    "\n",
    "axes[0].imshow(image)\n",
    "axes[0].set_title('Input')\n",
    "\n",
    "axes[1].imshow(image, alpha=0.5)\n",
    "axes[1].imshow(pred_np, alpha=0.5)\n",
    "axes[1].set_title('Input & Soft FCN Preds, IoU = %.4f' % jaccard_fcn)\n",
    "\n",
    "axes[2].imshow(mask)\n",
    "axes[2].set_title('Ground Truth Segmentation Mask')\n",
    "\n",
    "pretty_image(axes)\n",
    "\n",
    "#fig.savefig('img/' + ckpt_file.split('.')[0] + '_' + files[i].split('.')[0] + '_full.png')"
   ]
  },
  {
   "cell_type": "markdown",
   "metadata": {},
   "source": [
    "### 7. ii) Refine the Predictions with Post-Processing by CRF"
   ]
  },
  {
   "cell_type": "code",
   "execution_count": null,
   "metadata": {},
   "outputs": [],
   "source": [
    "def run_crf(rgb, pred_np):\n",
    "    \"\"\"\n",
    "    Takes an input image and corresponding model predictions, then \n",
    "    runs a conditional random field (CRF) on the predictions.\n",
    "    \n",
    "    @param rgb: is an rgb image in uint8 format (pixels 0-255)\n",
    "    @param pred_np: are model predictions in greyscale format as float [0,1]\n",
    "    \"\"\"\n",
    "    MAX_ITER = 20\n",
    "    labels = np.stack([pred_np, 1 - pred_np])\n",
    "    c, h, w = labels.shape[0], labels.shape[1], labels.shape[2]\n",
    "    labels = labels.astype('float') / labels.max()\n",
    "    U = utils.unary_from_softmax(labels)\n",
    "    U = np.ascontiguousarray(U)\n",
    "    d = dcrf.DenseCRF2D(w, h, c)\n",
    "    d.setUnaryEnergy(U)\n",
    "    \"\"\"\n",
    "    @param compat=3, Potts model - it introduces a penalty for nearby similar \n",
    "    pixels that are assigned different labels. \n",
    "    \"\"\"\n",
    "    # This adds the color-independent term, features are the locations only.\n",
    "    d.addPairwiseGaussian(sxy=3, compat=6)\n",
    "    \n",
    "    # This adds the color-dependent term, i.e. features are (x,y,r,g,b).\n",
    "    # im is an image-array, e.g. im.dtype == np.uint8\n",
    "    d.addPairwiseBilateral(sxy=80, srgb=13, rgbim=rgb, compat=10)\n",
    "    \n",
    "    Q = d.inference(MAX_ITER)\n",
    "    Q = np.array(Q).reshape((c, h, w))\n",
    "    \n",
    "    # binarize output\n",
    "    Q[0][Q[0] >= 0.5] = 1\n",
    "    Q[0][Q[0] < 0.5] = 0\n",
    "    \n",
    "    return Q[0, :, :]"
   ]
  },
  {
   "cell_type": "code",
   "execution_count": null,
   "metadata": {},
   "outputs": [],
   "source": [
    "pred_crf = run_crf(image, pred_np)\n",
    "jaccard_crf = jsc(pred_crf.reshape(-1, 1), mask.reshape(-1, 1))\n",
    "print('CRF IoU %.4f' % jaccard_crf)"
   ]
  },
  {
   "cell_type": "code",
   "execution_count": null,
   "metadata": {},
   "outputs": [],
   "source": [
    "fig, axes = plt.subplots(2, 2, figsize=(12, 12))\n",
    "axes = axes.flatten()\n",
    "\n",
    "axes[0].imshow(image)\n",
    "axes[0].set_title('Input')\n",
    "\n",
    "axes[1].imshow(mask)\n",
    "axes[1].set_title('Ground Truth Segmentation Mask')\n",
    "\n",
    "axes[2].imshow(image, alpha=0.75)\n",
    "axes[2].imshow(pred_np.round(), alpha=0.5)\n",
    "axes[2].set_title('Input & Soft FCN Preds, IoU = %.4f' % jaccard_fcn)\n",
    "\n",
    "axes[3].imshow(image, alpha=0.75)\n",
    "axes[3].imshow(pred_crf, alpha=0.5)\n",
    "axes[3].set_title('Input & CRF Preds, IoU = %.4f' % jaccard_crf)\n",
    "\n",
    "pretty_image(axes)"
   ]
  },
  {
   "cell_type": "markdown",
   "metadata": {},
   "source": [
    "## 8. Predict Mussel Biomass\n",
    "\n",
    "Here we predict the mussel biomass from the lab analysis using a) the masks, and b) model predictions. "
   ]
  },
  {
   "cell_type": "code",
   "execution_count": null,
   "metadata": {},
   "outputs": [],
   "source": [
    "DATA_PATH = r'/scratch/gallowaa/cciw/Data'\n",
    "#MASK_PATH = '/scratch/ssd/gallowaa/cciw/dataset_raw/Test/Lab/done'\n",
    "\n",
    "imagetable_path = os.path.join(DATA_PATH, 'Tables', 'ImageTable.csv')\n",
    "image_df = pd.read_csv(imagetable_path, index_col=0)\n",
    "analysis_path = os.path.join(DATA_PATH, 'Tables', 'Analysis.csv')\n",
    "dive_path = os.path.join(DATA_PATH, 'Tables', 'Dives.csv')\n",
    "analysis_df = pd.read_csv(analysis_path, index_col=0, dtype={'Count':float})\n",
    "dive_df = pd.read_csv(dive_path, index_col=0, parse_dates=['Date'])\n",
    "data_df = pd.merge(analysis_df, dive_df, on='Dive Index', how='outer')"
   ]
  },
  {
   "cell_type": "code",
   "execution_count": null,
   "metadata": {},
   "outputs": [],
   "source": [
    "\"\"\"\n",
    "numpy array with manually estimated camera distance based on counting \n",
    "squares along horizontal and vertical axes of each Lab image.\n",
    "\n",
    "Useful to determine how much performance can be gained by accounting \n",
    "for camera distance programmatically.\"\"\"\n",
    "scale = np.load('lab_board_dims.npy')"
   ]
  },
  {
   "cell_type": "code",
   "execution_count": null,
   "metadata": {},
   "outputs": [],
   "source": [
    "lab_ct = []  # for storing the number of mussel pixels in each mask\n",
    "prd_ct = []  # for storing the number of mussel pixels in each prediction\n",
    "\n",
    "for i in tqdm(range(len(jpeg_files)), unit=' images'):\n",
    "    \n",
    "    bgr_img = cv2.imread(osp.join(root_path, jpeg_files[i]))\n",
    "    bgr_lab = cv2.imread(osp.join(root_path, png_files[i]))\n",
    "    \n",
    "    _, cts = np.unique(bgr_lab, return_counts=True)\n",
    "    lab_ct.append(cts[1] / cts.sum())    \n",
    "    \n",
    "    img = cv2.cvtColor(bgr_img, cv2.COLOR_BGR2RGB)\n",
    "    lab = cv2.cvtColor(bgr_lab, cv2.COLOR_BGR2RGB)\n",
    "\n",
    "    # pre-processing image consistent with PyTorch training transforms\n",
    "    img = img / 255.\n",
    "    img = ((img - np.array([0.5, 0.5, 0.5])) / np.array([0.5, 0.5, 0.5]))\n",
    "\n",
    "    imgt = torch.FloatTensor(img).to(device)\n",
    "    imgt = imgt.unsqueeze(0)\n",
    "\n",
    "    # Note: need to call contigious after the permute \n",
    "    # else max pooling will fail\n",
    "    nchw_tensor = imgt.permute(0, 3, 1, 2).contiguous()\n",
    "\n",
    "    with torch.no_grad():\n",
    "        pred = sig(net(nchw_tensor))\n",
    "    \n",
    "    prd_ct.append(pred.round().sum().item() / cts.sum())"
   ]
  },
  {
   "cell_type": "code",
   "execution_count": null,
   "metadata": {},
   "outputs": [],
   "source": [
    "lab_ct_np = np.asarray(lab_ct)\n",
    "prd_ct_np = np.asarray(prd_ct)\n",
    "\n",
    "lab_targets = np.zeros((len(jpeg_files), 2)) # 0 = biomass, 1 = count\n",
    "\n",
    "for i in range(len(jpeg_files)):\n",
    "    \n",
    "    # adjust the pixel_ct by size of grid\n",
    "    lab_ct_np[i] = lab_ct_np[i] * (np.prod(scale[i]) / (16 * 25))\n",
    "    prd_ct_np[i] = prd_ct_np[i] * (np.prod(scale[i]) / (16 * 25))\n",
    "    \n",
    "    if 'scale' in png_files[i]:\n",
    "        root_fname = png_files[i].split('/')[-1].split('.')[0].split('_scale')[0][4:-8]\n",
    "    else:\n",
    "        root_fname = png_files[i].split('/')[-1].split('.')[0].split('_mask')[0][4:-8]\n",
    "        \n",
    "    guid = image_df[image_df['Name'].str.contains(root_fname)]['Analysis Index'].astype('int64')\n",
    "    row = data_df[data_df['Analysis Index'].values == np.unique(guid.values)]\n",
    "    lab_targets[i, 0] = row['Biomass'].values\n",
    "    lab_targets[i, 1] = row['Count'].values\n",
    "    \n",
    "lab_ct_np = lab_ct_np / lab_ct_np.max()    \n",
    "prd_ct_np = prd_ct_np / prd_ct_np.max()\n",
    "\n",
    "lab_targets[np.isnan(lab_targets)] = 0\n",
    "y = lab_targets[:, 0] / lab_targets[:, 0].max()"
   ]
  },
  {
   "cell_type": "code",
   "execution_count": null,
   "metadata": {},
   "outputs": [],
   "source": [
    "fig, ax = plt.subplots(1, 2, figsize=(8, 4), sharex=True)\n",
    "\n",
    "ax[0].scatter(lab_ct_np, y, marker='o', s=40, facecolors='none', edgecolors='b')\n",
    "ax[1].scatter(prd_ct_np, y, c='k') #, marker='o', s=40, facecolors='none', edgecolors='k')\n",
    "ax[0].set_ylabel('Mussel Biomass (g)')\n",
    "ax[0].set_ylim(0, 1.05)\n",
    "ax[0].set_xlim(0, 1.05)\n",
    "ax[0].set_xlabel('Fraction of Mussel Pixels in Mask')\n",
    "ax[1].set_xlabel('Fraction of Mussel Pixels in Prediction')\n",
    "\n",
    "x = np.linspace(0, 1)\n",
    "\n",
    "A = np.vstack([lab_ct_np, np.ones(len(lab_ct_np))]).T\n",
    "m, c = np.linalg.lstsq(A, y, rcond=None)[0]\n",
    "ax[0].plot(x, m*x + c, 'b', linestyle='-', label='masks')\n",
    "\n",
    "A = np.vstack([prd_ct_np, np.ones(len(prd_ct_np))]).T\n",
    "m, c = np.linalg.lstsq(A, y, rcond=None)[0]\n",
    "ax[1].plot(x, m*x + c, 'k', linestyle='--', label='preds')\n",
    "\n",
    "ax[0].annotate(r'$R^2$ = %.4f' % r2_score(y, lab_ct_np), \n",
    "            xy=(.05, .85), fontsize=16, xycoords='axes fraction', color='b')\n",
    "\n",
    "ax[1].annotate(r'$R^2$ = %.4f' % r2_score(y, prd_ct_np), \n",
    "            xy=(.05, .85), fontsize=16, xycoords='axes fraction', color='k')\n",
    "\n",
    "ax[0].grid()\n",
    "ax[1].grid()\n",
    "\n",
    "ax[0].legend(loc='lower right')\n",
    "ax[1].legend(loc='lower right')\n",
    "plt.tight_layout()"
   ]
  },
  {
   "cell_type": "markdown",
   "metadata": {},
   "source": [
    "### Optionally save the plot as png or vector graphic"
   ]
  },
  {
   "cell_type": "code",
   "execution_count": null,
   "metadata": {},
   "outputs": [],
   "source": [
    "fname = 'Lab_predict_biomass_from_labels'\n",
    "fig.savefig(fname + '.png')\n",
    "fig.savefig(fname + '.eps', format='eps')"
   ]
  }
 ],
 "metadata": {
  "kernelspec": {
   "display_name": "Python 3",
   "language": "python",
   "name": "python3"
  },
  "language_info": {
   "codemirror_mode": {
    "name": "ipython",
    "version": 3
   },
   "file_extension": ".py",
   "mimetype": "text/x-python",
   "name": "python",
   "nbconvert_exporter": "python",
   "pygments_lexer": "ipython3",
   "version": "3.6.6"
  }
 },
 "nbformat": 4,
 "nbformat_minor": 2
}
