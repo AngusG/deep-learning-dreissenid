{
 "cells": [
  {
   "cell_type": "markdown",
   "metadata": {},
   "source": [
    "# For plotting statistics from the lab analysis only\n",
    "\n",
    "This notebook should be self contained, you may need to change the `DATA_PATH` if running locally so it can find the data tables."
   ]
  },
  {
   "cell_type": "code",
   "execution_count": 1,
   "metadata": {},
   "outputs": [],
   "source": [
    "SAVE = False"
   ]
  },
  {
   "cell_type": "code",
   "execution_count": 2,
   "metadata": {},
   "outputs": [],
   "source": [
    "import csv\n",
    "import sys\n",
    "\n",
    "import os\n",
    "import os.path as osp\n",
    "\n",
    "import glob\n",
    "\n",
    "import numpy as np\n",
    "\n",
    "# for comparing predictions to lab analysis data frames\n",
    "import pandas as pd\n",
    "\n",
    "# for plotting\n",
    "import matplotlib\n",
    "# enable LaTeX style fonts\n",
    "matplotlib.rc('text', usetex=True)\n",
    "import matplotlib.pyplot as plt\n",
    "plt.rc('text', usetex=True)\n",
    "plt.rc('font', family='serif')\n",
    "\n",
    "# evaluation metrics\n",
    "from sklearn.metrics import r2_score\n",
    "\n",
    "from plot_utils import *\n",
    "\n",
    "IN_COLAB = 'google.colab' in sys.modules"
   ]
  },
  {
   "cell_type": "code",
   "execution_count": 3,
   "metadata": {},
   "outputs": [
    {
     "data": {
      "text/plain": [
       "\"\\nroot_path = '/scratch/ssd/gallowaa/cciw/dataset_raw/Test/Lab/done/'\\njpeg_files = glob.glob(root_path + '*.jpg')\\njpeg_files.sort()\\n# Should equal 40\\nprint(len(jpeg_files)) \\n\\ncsvfile = 'lab-v100-originals-files.csv'\\n\\nwith open(csvfile, 'w') as f:\\n    csvwriter = csv.writer(f, delimiter=',')#, #escapechar='', quoting=csv.QUOTE_NONE)\\n    for i in range(len(jpeg_files)):\\n        csvwriter.writerow([jpeg_files[i].split('/')[-1]])\\n\""
      ]
     },
     "execution_count": 3,
     "metadata": {},
     "output_type": "execute_result"
    }
   ],
   "source": [
    "'''\n",
    "root_path = '/scratch/ssd/gallowaa/cciw/dataset_raw/Test/Lab/done/'\n",
    "jpeg_files = glob.glob(root_path + '*.jpg')\n",
    "jpeg_files.sort()\n",
    "# Should equal 40\n",
    "print(len(jpeg_files)) \n",
    "\n",
    "csvfile = 'lab-v100-originals-files.csv'\n",
    "\n",
    "with open(csvfile, 'w') as f:\n",
    "    csvwriter = csv.writer(f, delimiter=',')#, #escapechar='', quoting=csv.QUOTE_NONE)\n",
    "    for i in range(len(jpeg_files)):\n",
    "        csvwriter.writerow([jpeg_files[i].split('/')[-1]])\n",
    "'''"
   ]
  },
  {
   "cell_type": "markdown",
   "metadata": {},
   "source": [
    "The list of files is now stored in a csv file in this repo for portability"
   ]
  },
  {
   "cell_type": "code",
   "execution_count": 4,
   "metadata": {},
   "outputs": [
    {
     "name": "stdout",
     "output_type": "stream",
     "text": [
      "40\n"
     ]
    }
   ],
   "source": [
    "jpeg_files = []\n",
    "\n",
    "csvfile = 'lab-v100-originals-files.csv'\n",
    "with open(csvfile, 'r') as f:\n",
    "    spamreader = csv.reader(f, delimiter=',', quotechar='|')\n",
    "    for row in spamreader:\n",
    "        jpeg_files.append(row[0])\n",
    "print(len(jpeg_files))        "
   ]
  },
  {
   "cell_type": "code",
   "execution_count": 8,
   "metadata": {},
   "outputs": [],
   "source": [
    "os.environ['DATA_PATH'] = '/scratch/gallowaa'"
   ]
  },
  {
   "cell_type": "code",
   "execution_count": 9,
   "metadata": {},
   "outputs": [],
   "source": [
    "if IN_COLAB:\n",
    "    from google.colab import drive\n",
    "    drive.mount('/content/drive')\n",
    "    DATA_PATH = r'/content/drive/My Drive/Data'\n",
    "else:\n",
    "    DATA_PATH = osp.join(os.environ['DATA_PATH'], 'cciw/Data')\n",
    "\n",
    "imagetable_path = os.path.join(DATA_PATH, 'Tables', 'ImageTable.csv')\n",
    "image_df = pd.read_csv(imagetable_path, index_col=0)\n",
    "analysis_path = os.path.join(DATA_PATH, 'Tables', 'Analysis.csv')\n",
    "dive_path = os.path.join(DATA_PATH, 'Tables', 'Dives.csv')\n",
    "analysis_df = pd.read_csv(analysis_path, index_col=0, dtype={'Count':float})\n",
    "dive_df = pd.read_csv(dive_path, index_col=0, parse_dates=['Date'])\n",
    "data_df = pd.merge(analysis_df, dive_df, on='Dive Index', how='outer')"
   ]
  },
  {
   "cell_type": "code",
   "execution_count": 10,
   "metadata": {},
   "outputs": [
    {
     "data": {
      "text/html": [
       "<div>\n",
       "<style scoped>\n",
       "    .dataframe tbody tr th:only-of-type {\n",
       "        vertical-align: middle;\n",
       "    }\n",
       "\n",
       "    .dataframe tbody tr th {\n",
       "        vertical-align: top;\n",
       "    }\n",
       "\n",
       "    .dataframe thead th {\n",
       "        text-align: right;\n",
       "    }\n",
       "</style>\n",
       "<table border=\"1\" class=\"dataframe\">\n",
       "  <thead>\n",
       "    <tr style=\"text-align: right;\">\n",
       "      <th></th>\n",
       "      <th>Live Coverage</th>\n",
       "      <th>Empty Coverage</th>\n",
       "      <th>Biomass</th>\n",
       "      <th>Count</th>\n",
       "      <th>16mm</th>\n",
       "      <th>14mm</th>\n",
       "      <th>12.5mm</th>\n",
       "      <th>10mm</th>\n",
       "      <th>8mm</th>\n",
       "      <th>6.3mm</th>\n",
       "      <th>4mm</th>\n",
       "      <th>2mm</th>\n",
       "    </tr>\n",
       "  </thead>\n",
       "  <tbody>\n",
       "    <tr>\n",
       "      <th>0</th>\n",
       "      <td>0.0</td>\n",
       "      <td>0.0</td>\n",
       "      <td>0.00</td>\n",
       "      <td>0.0</td>\n",
       "      <td>NaN</td>\n",
       "      <td>NaN</td>\n",
       "      <td>NaN</td>\n",
       "      <td>NaN</td>\n",
       "      <td>NaN</td>\n",
       "      <td>NaN</td>\n",
       "      <td>NaN</td>\n",
       "      <td>NaN</td>\n",
       "    </tr>\n",
       "    <tr>\n",
       "      <th>1</th>\n",
       "      <td>0.0</td>\n",
       "      <td>0.0</td>\n",
       "      <td>0.00</td>\n",
       "      <td>0.0</td>\n",
       "      <td>NaN</td>\n",
       "      <td>NaN</td>\n",
       "      <td>NaN</td>\n",
       "      <td>NaN</td>\n",
       "      <td>NaN</td>\n",
       "      <td>NaN</td>\n",
       "      <td>NaN</td>\n",
       "      <td>NaN</td>\n",
       "    </tr>\n",
       "    <tr>\n",
       "      <th>2</th>\n",
       "      <td>3.0</td>\n",
       "      <td>0.0</td>\n",
       "      <td>45.17</td>\n",
       "      <td>132.0</td>\n",
       "      <td>0.007576</td>\n",
       "      <td>0.037879</td>\n",
       "      <td>0.250000</td>\n",
       "      <td>0.045455</td>\n",
       "      <td>0.030303</td>\n",
       "      <td>0.053030</td>\n",
       "      <td>0.234848</td>\n",
       "      <td>0.340909</td>\n",
       "    </tr>\n",
       "    <tr>\n",
       "      <th>3</th>\n",
       "      <td>98.0</td>\n",
       "      <td>0.0</td>\n",
       "      <td>345.11</td>\n",
       "      <td>833.0</td>\n",
       "      <td>0.000000</td>\n",
       "      <td>0.004802</td>\n",
       "      <td>0.075630</td>\n",
       "      <td>0.490996</td>\n",
       "      <td>0.181273</td>\n",
       "      <td>0.042017</td>\n",
       "      <td>0.088836</td>\n",
       "      <td>0.116447</td>\n",
       "    </tr>\n",
       "    <tr>\n",
       "      <th>4</th>\n",
       "      <td>99.0</td>\n",
       "      <td>0.0</td>\n",
       "      <td>319.84</td>\n",
       "      <td>647.0</td>\n",
       "      <td>0.000000</td>\n",
       "      <td>0.003091</td>\n",
       "      <td>0.091190</td>\n",
       "      <td>0.596600</td>\n",
       "      <td>0.202473</td>\n",
       "      <td>0.034003</td>\n",
       "      <td>0.035549</td>\n",
       "      <td>0.037094</td>\n",
       "    </tr>\n",
       "    <tr>\n",
       "      <th>...</th>\n",
       "      <td>...</td>\n",
       "      <td>...</td>\n",
       "      <td>...</td>\n",
       "      <td>...</td>\n",
       "      <td>...</td>\n",
       "      <td>...</td>\n",
       "      <td>...</td>\n",
       "      <td>...</td>\n",
       "      <td>...</td>\n",
       "      <td>...</td>\n",
       "      <td>...</td>\n",
       "      <td>...</td>\n",
       "    </tr>\n",
       "    <tr>\n",
       "      <th>1603</th>\n",
       "      <td>50.0</td>\n",
       "      <td>2.0</td>\n",
       "      <td>176.19</td>\n",
       "      <td>376.0</td>\n",
       "      <td>0.000000</td>\n",
       "      <td>0.000000</td>\n",
       "      <td>0.061170</td>\n",
       "      <td>0.441489</td>\n",
       "      <td>0.148936</td>\n",
       "      <td>0.125000</td>\n",
       "      <td>0.170213</td>\n",
       "      <td>0.053191</td>\n",
       "    </tr>\n",
       "    <tr>\n",
       "      <th>1604</th>\n",
       "      <td>40.0</td>\n",
       "      <td>5.0</td>\n",
       "      <td>173.68</td>\n",
       "      <td>401.0</td>\n",
       "      <td>0.000000</td>\n",
       "      <td>0.000000</td>\n",
       "      <td>0.059850</td>\n",
       "      <td>0.403990</td>\n",
       "      <td>0.184539</td>\n",
       "      <td>0.152120</td>\n",
       "      <td>0.104738</td>\n",
       "      <td>0.094763</td>\n",
       "    </tr>\n",
       "    <tr>\n",
       "      <th>1605</th>\n",
       "      <td>90.0</td>\n",
       "      <td>1.0</td>\n",
       "      <td>263.57</td>\n",
       "      <td>986.0</td>\n",
       "      <td>0.000000</td>\n",
       "      <td>0.000000</td>\n",
       "      <td>0.012170</td>\n",
       "      <td>0.250507</td>\n",
       "      <td>0.209939</td>\n",
       "      <td>0.118661</td>\n",
       "      <td>0.160243</td>\n",
       "      <td>0.248479</td>\n",
       "    </tr>\n",
       "    <tr>\n",
       "      <th>1606</th>\n",
       "      <td>70.0</td>\n",
       "      <td>1.0</td>\n",
       "      <td>198.31</td>\n",
       "      <td>745.0</td>\n",
       "      <td>0.000000</td>\n",
       "      <td>0.000000</td>\n",
       "      <td>0.010738</td>\n",
       "      <td>0.276510</td>\n",
       "      <td>0.194631</td>\n",
       "      <td>0.071141</td>\n",
       "      <td>0.095302</td>\n",
       "      <td>0.351678</td>\n",
       "    </tr>\n",
       "    <tr>\n",
       "      <th>1607</th>\n",
       "      <td>10.0</td>\n",
       "      <td>0.0</td>\n",
       "      <td>47.81</td>\n",
       "      <td>161.0</td>\n",
       "      <td>0.000000</td>\n",
       "      <td>0.000000</td>\n",
       "      <td>0.012422</td>\n",
       "      <td>0.248447</td>\n",
       "      <td>0.341615</td>\n",
       "      <td>0.267081</td>\n",
       "      <td>0.086957</td>\n",
       "      <td>0.043478</td>\n",
       "    </tr>\n",
       "  </tbody>\n",
       "</table>\n",
       "<p>1608 rows × 12 columns</p>\n",
       "</div>"
      ],
      "text/plain": [
       "      Live Coverage  Empty Coverage  Biomass  Count      16mm      14mm  \\\n",
       "0               0.0             0.0     0.00    0.0       NaN       NaN   \n",
       "1               0.0             0.0     0.00    0.0       NaN       NaN   \n",
       "2               3.0             0.0    45.17  132.0  0.007576  0.037879   \n",
       "3              98.0             0.0   345.11  833.0  0.000000  0.004802   \n",
       "4              99.0             0.0   319.84  647.0  0.000000  0.003091   \n",
       "...             ...             ...      ...    ...       ...       ...   \n",
       "1603           50.0             2.0   176.19  376.0  0.000000  0.000000   \n",
       "1604           40.0             5.0   173.68  401.0  0.000000  0.000000   \n",
       "1605           90.0             1.0   263.57  986.0  0.000000  0.000000   \n",
       "1606           70.0             1.0   198.31  745.0  0.000000  0.000000   \n",
       "1607           10.0             0.0    47.81  161.0  0.000000  0.000000   \n",
       "\n",
       "        12.5mm      10mm       8mm     6.3mm       4mm       2mm  \n",
       "0          NaN       NaN       NaN       NaN       NaN       NaN  \n",
       "1          NaN       NaN       NaN       NaN       NaN       NaN  \n",
       "2     0.250000  0.045455  0.030303  0.053030  0.234848  0.340909  \n",
       "3     0.075630  0.490996  0.181273  0.042017  0.088836  0.116447  \n",
       "4     0.091190  0.596600  0.202473  0.034003  0.035549  0.037094  \n",
       "...        ...       ...       ...       ...       ...       ...  \n",
       "1603  0.061170  0.441489  0.148936  0.125000  0.170213  0.053191  \n",
       "1604  0.059850  0.403990  0.184539  0.152120  0.104738  0.094763  \n",
       "1605  0.012170  0.250507  0.209939  0.118661  0.160243  0.248479  \n",
       "1606  0.010738  0.276510  0.194631  0.071141  0.095302  0.351678  \n",
       "1607  0.012422  0.248447  0.341615  0.267081  0.086957  0.043478  \n",
       "\n",
       "[1608 rows x 12 columns]"
      ]
     },
     "execution_count": 10,
     "metadata": {},
     "output_type": "execute_result"
    }
   ],
   "source": [
    "Y = data_df[['Live Coverage', 'Empty Coverage', 'Biomass', 'Count', '16mm', '14mm', '12.5mm', '10mm', '8mm', '6.3mm', '4mm', '2mm']]\n",
    "Y"
   ]
  },
  {
   "cell_type": "code",
   "execution_count": 11,
   "metadata": {},
   "outputs": [],
   "source": [
    "fontsize = 16\n",
    "\n",
    "left = 0.02  # the left side of the subplots of the figure\n",
    "right = 0.98   # the right side of the subplots of the figure\n",
    "bottom = 0.05  # the bottom of the subplots of the figure\n",
    "top = 0.95     # the top of the subplots of the figure\n",
    "wspace = 0.15  # the amount of width reserved for space between subplots,\n",
    "# expressed as a fraction of the average axis width\n",
    "hspace = 0.1  # the amount of height reserved for space between subplots,\n",
    "# expressed as a fraction of the average axis height\n",
    "\n",
    "BIOMASS_IDX = 0\n",
    "COUNT_IDX = 1\n",
    "PRED_COUNT_IDX = 2"
   ]
  },
  {
   "cell_type": "code",
   "execution_count": 12,
   "metadata": {},
   "outputs": [],
   "source": [
    "lab_targets = np.zeros((len(jpeg_files), 3)) # 0 = biomass, 1 = count\n",
    "\n",
    "names = ['16mm', '14mm', '12.5mm', '10mm', '8mm', '6.3mm', '4mm', '2mm']\n",
    "sieves = np.array([16, 14, 12.5, 10, 8, 6.3, 4, 2])\n",
    "\n",
    "for i in range(len(jpeg_files)):\n",
    "    \n",
    "    root_fname = jpeg_files[i].split('/')[-1].split('.')[0].split('_image')[0].split('Lab_')[1]\n",
    "    guid = image_df[image_df['Name'].str.contains(root_fname)]['Analysis Index'].astype('int64')\n",
    "    row = data_df[data_df['Analysis Index'].values == np.unique(guid.values)]\n",
    "    \n",
    "    lab_targets[i, BIOMASS_IDX] = row['Biomass'].values\n",
    "    lab_targets[i, COUNT_IDX] = row['Count'].values\n",
    "    \n",
    "    size_dist = np.zeros(len(names))\n",
    "    for j in range(len(names)):\n",
    "        size_dist[j] = row[names[j]].values\n",
    "        \n",
    "    lab_targets[i, PRED_COUNT_IDX] = (lab_targets[i, BIOMASS_IDX] * size_dist * 2 / sieves).sum()\n",
    "\n",
    "lab_targets[np.isnan(lab_targets)] = 0\n",
    "\n",
    "biomass = lab_targets[:, BIOMASS_IDX] / lab_targets[:, BIOMASS_IDX].max()\n",
    "a_count = lab_targets[:, COUNT_IDX] / lab_targets[:, COUNT_IDX].max()\n",
    "p_count = lab_targets[:, PRED_COUNT_IDX] / lab_targets[:, PRED_COUNT_IDX].max()"
   ]
  },
  {
   "cell_type": "code",
   "execution_count": 13,
   "metadata": {},
   "outputs": [
    {
     "data": {
      "image/png": "[encoded data removed]",
      "text/plain": [
       "<Figure size 576x288 with 2 Axes>"
      ]
     },
     "metadata": {
      "needs_background": "light"
     },
     "output_type": "display_data"
    }
   ],
   "source": [
    "fig, ax = plt.subplots(1, 2, figsize=(8, 4), sharex=True, sharey=True)\n",
    "\n",
    "ax[0].scatter(biomass, a_count, marker='o', s=40, facecolors='none', edgecolors='k')\n",
    "ax[0].set_ylabel('Count', fontsize=fontsize)\n",
    "ax[0].set_xlabel('Biomass (g)', fontsize=fontsize)\n",
    "\n",
    "ax[1].scatter(p_count, a_count, marker='o', s=40, facecolors='none', edgecolors='k')\n",
    "ax[1].set_xlabel('Biomass (g) \\n corrected by sieve', fontsize=fontsize)\n",
    "\n",
    "draw_lines(ax[0], biomass, a_count)\n",
    "draw_lines(ax[1], p_count, a_count)\n",
    "\n",
    "draw_rsquared(ax[0], a_count, biomass, fontsize)\n",
    "draw_rsquared(ax[1], a_count, p_count, fontsize)\n",
    "\n",
    "draw_sublabel(ax[0], r'\\textbf{a)}', fontsize, (0.85, 0.05))\n",
    "draw_sublabel(ax[1], r'\\textbf{b)}', fontsize, (0.85, 0.05))\n",
    "\n",
    "pretty_axis(ax[0], fontsize)\n",
    "pretty_axis(ax[1], fontsize)\n",
    "\n",
    "plt.tight_layout()"
   ]
  },
  {
   "cell_type": "code",
   "execution_count": null,
   "metadata": {},
   "outputs": [],
   "source": [
    "#fname = 'lab_count_from_biomass'\n",
    "#fig.savefig(fname + '.png')\n",
    "#fig.savefig(fname + '.eps', format='eps')"
   ]
  },
  {
   "cell_type": "markdown",
   "metadata": {},
   "source": [
    "# Plot biomass from live coverage"
   ]
  },
  {
   "cell_type": "code",
   "execution_count": 15,
   "metadata": {},
   "outputs": [
    {
     "name": "stdout",
     "output_type": "stream",
     "text": [
      "152\n",
      "152\n"
     ]
    }
   ],
   "source": [
    "#root_path = '/media/angus/cciw/VOCdevkit/Train-v120-originals/'\n",
    "#root_path = '/media/angus/cciw/VOCdevkit/Train-v111-originals/JPEGImages/'\n",
    "#root_path = '/scratch/ssd/gallowaa/cciw/VOCdevkit/Validation-v101-originals/JPEGImages/'\n",
    "root_path = '/scratch/ssd/gallowaa/cciw/VOCdevkit/Train-v120-originals/'\n",
    "\n",
    "jpeg_files = glob.glob(root_path + 'JPEGImages/*.jpg')\n",
    "jpeg_files.sort()\n",
    "\n",
    "# Should equal 121\n",
    "print(len(jpeg_files))    \n",
    "\n",
    "label_path = os.path.join(root_path, 'SegmentationClass')\n",
    "all_images = glob.glob(osp.join(label_path, '*.png'))\n",
    "all_images.sort()\n",
    "print(len(all_images))"
   ]
  },
  {
   "cell_type": "code",
   "execution_count": 16,
   "metadata": {},
   "outputs": [
    {
     "data": {
      "text/plain": [
       "\"\\njpeg_files = []\\n\\ncsvfile = 'train-v111-originals-files.csv'\\nwith open(csvfile, 'r') as f:\\n    spamreader = csv.reader(f, delimiter=',', quotechar='|')\\n    for row in spamreader:\\n        jpeg_files.append(row[0])\\nprint(len(jpeg_files))        \\n\""
      ]
     },
     "execution_count": 16,
     "metadata": {},
     "output_type": "execute_result"
    }
   ],
   "source": [
    "'''\n",
    "jpeg_files = []\n",
    "\n",
    "csvfile = 'train-v111-originals-files.csv'\n",
    "with open(csvfile, 'r') as f:\n",
    "    spamreader = csv.reader(f, delimiter=',', quotechar='|')\n",
    "    for row in spamreader:\n",
    "        jpeg_files.append(row[0])\n",
    "print(len(jpeg_files))        \n",
    "'''"
   ]
  },
  {
   "cell_type": "code",
   "execution_count": 17,
   "metadata": {},
   "outputs": [],
   "source": [
    "lab_targets = np.zeros((len(jpeg_files), 3)) # 0 = biomass, 1 = count, 2 = live coverage\n",
    "\n",
    "LIVE_COVERAGE = 2\n",
    "\n",
    "for i in range(len(jpeg_files)):\n",
    "    \n",
    "    root_fname = jpeg_files[i].split('/')[-1].split('.')[0].split('_image')[0].split('GLNI_')[1]\n",
    "    guid = image_df[image_df['Name'].str.contains(root_fname)]['Analysis Index'].astype('int64')\n",
    "    row = data_df[data_df['Analysis Index'].values == np.unique(guid.values)]\n",
    "    \n",
    "    lab_targets[i, BIOMASS_IDX] = row['Biomass'].values\n",
    "    lab_targets[i, COUNT_IDX] = row['Count'].values\n",
    "    lab_targets[i, LIVE_COVERAGE] = row['Live Coverage'].values\n",
    "\n",
    "valid_mask = np.invert(np.isnan(lab_targets[:, 0]))\n",
    "valid_mask = valid_mask & np.invert(np.isnan(lab_targets[:, 1]))\n",
    "valid_mask = valid_mask & np.invert(np.isnan(lab_targets[:, 2]))\n",
    "\n",
    "biomass = lab_targets[:, BIOMASS_IDX][valid_mask]\n",
    "count = lab_targets[:, COUNT_IDX][valid_mask]\n",
    "live_coverage = lab_targets[:, LIVE_COVERAGE][valid_mask]\n",
    "\n",
    "biomass = biomass / biomass.max()\n",
    "count = count / count.max()\n",
    "live_coverage = live_coverage / live_coverage.max()"
   ]
  },
  {
   "cell_type": "code",
   "execution_count": 18,
   "metadata": {},
   "outputs": [
    {
     "data": {
      "text/plain": [
       "143"
      ]
     },
     "execution_count": 18,
     "metadata": {},
     "output_type": "execute_result"
    }
   ],
   "source": [
    "valid_mask.sum()"
   ]
  },
  {
   "cell_type": "code",
   "execution_count": 19,
   "metadata": {},
   "outputs": [],
   "source": [
    "def draw_lines(ax, x, y, xlim):\n",
    "\n",
    "    x_ = np.linspace(0, xlim)\n",
    "\n",
    "    A = np.vstack([x, np.ones(len(x))]).T\n",
    "    (m, c), res, r, s = np.linalg.lstsq(A, y, rcond=-1)\n",
    "    std = np.sqrt(res[0] / len(y))\n",
    "\n",
    "    ax.plot(x_, m * x_ + c, 'k', linestyle='-')\n",
    "    ax.plot(x_, m * x_ + c + 1.96 * std, '--', color='gray')\n",
    "    ax.plot(x_, m * x_ + c - 1.96 * std, '--', color='gray')"
   ]
  },
  {
   "cell_type": "code",
   "execution_count": 20,
   "metadata": {},
   "outputs": [
    {
     "data": {
      "image/png": "[encoded data removed]",
      "text/plain": [
       "<Figure size 576x288 with 2 Axes>"
      ]
     },
     "metadata": {
      "needs_background": "light"
     },
     "output_type": "display_data"
    }
   ],
   "source": [
    "fig, ax = plt.subplots(1, 2, figsize=(8, 4), sharex=True, sharey=False)\n",
    "ax[0].scatter(live_coverage * 100, biomass, marker='o', s=40, facecolors='none', edgecolors='k')\n",
    "ax[0].set_xlabel('Live Coverage (\\%)', fontsize=fontsize)\n",
    "ax[0].set_ylabel('Biomass (g)', fontsize=fontsize)\n",
    "ax[1].scatter(live_coverage * 100, count, marker='o', s=40, facecolors='none', edgecolors='k')\n",
    "ax[1].set_ylabel('Count', fontsize=fontsize)\n",
    "ax[1].set_xlabel('Live Coverage (\\%)', fontsize=fontsize)\n",
    "#ax[0].plot(x * 100, y_hat, 'r', linestyle='-')\n",
    "draw_lines(ax[0], live_coverage*100, biomass, 100)\n",
    "draw_lines(ax[1], live_coverage*100, count, 100)\n",
    "ax[0].set_title(r'$\\mathbf{R^2}$ = %.3f' % r2_score(biomass, linear_regression(live_coverage, biomass)), fontsize=fontsize + 1)\n",
    "ax[1].set_title(r'$\\mathbf{R^2}$ = %.3f' % r2_score(count, linear_regression(live_coverage, count)), fontsize=fontsize + 1)\n",
    "\n",
    "draw_sublabel(ax[0], r'\\textbf{a)}', fontsize, (.1, .85))\n",
    "draw_sublabel(ax[1], r'\\textbf{b)}', fontsize, (.1, .85))\n",
    "\n",
    "#pretty_axis(ax[0], fontsize, 105, 1.05)\n",
    "#pretty_axis(ax[1], fontsize, 105, 1.05)\n",
    "\n",
    "plt.tight_layout()\n",
    "\n",
    "fname = 'train_v120_predict_biomass_and_count_from_live_coverage_ab'\n",
    "#fig.savefig(fname + '.eps', format='eps')\n",
    "#fig.savefig(fname + '.png', format='png')"
   ]
  },
  {
   "cell_type": "code",
   "execution_count": null,
   "metadata": {},
   "outputs": [],
   "source": [
    "x = count #live_coverage\n",
    "y = live_coverage\n",
    "A = np.vstack([x, np.ones(len(x))]).T\n",
    "(m, c), res, r, s = np.linalg.lstsq(A, y, rcond=-1)\n",
    "std = np.sqrt(res[0] / len(y))"
   ]
  },
  {
   "cell_type": "code",
   "execution_count": null,
   "metadata": {},
   "outputs": [],
   "source": [
    "#np.sqrt(res) / len(y)"
   ]
  },
  {
   "cell_type": "code",
   "execution_count": null,
   "metadata": {},
   "outputs": [],
   "source": [
    "std"
   ]
  },
  {
   "cell_type": "code",
   "execution_count": null,
   "metadata": {},
   "outputs": [],
   "source": []
  },
  {
   "cell_type": "code",
   "execution_count": null,
   "metadata": {},
   "outputs": [],
   "source": [
    "#np.linalg.lstsq?"
   ]
  },
  {
   "cell_type": "code",
   "execution_count": null,
   "metadata": {},
   "outputs": [],
   "source": [
    "#res"
   ]
  },
  {
   "cell_type": "code",
   "execution_count": null,
   "metadata": {},
   "outputs": [],
   "source": [
    "residuals = biomass - (live_coverage * m + c)\n",
    "#residuals.mean()"
   ]
  },
  {
   "cell_type": "code",
   "execution_count": null,
   "metadata": {},
   "outputs": [],
   "source": [
    "plt.scatter(live_coverage, residuals)"
   ]
  },
  {
   "cell_type": "code",
   "execution_count": null,
   "metadata": {},
   "outputs": [],
   "source": [
    "#fig, ax = plt.subplots(1, 1)\n",
    "#power_law_prediction_ax(ax, live_coverage, biomass, 0, 2, fontsize)"
   ]
  },
  {
   "cell_type": "code",
   "execution_count": null,
   "metadata": {},
   "outputs": [],
   "source": [
    "#fig, ax = plt.subplots(1, 1)\n",
    "#power_law_prediction_ax(ax, live_coverage, count, 0, 2, fontsize)"
   ]
  },
  {
   "cell_type": "code",
   "execution_count": null,
   "metadata": {},
   "outputs": [],
   "source": [
    "from power_law import *"
   ]
  },
  {
   "cell_type": "code",
   "execution_count": null,
   "metadata": {},
   "outputs": [],
   "source": [
    "def pretty_axis(ax, fontsize, xlim, ylim):\n",
    "    ax.set_ylim(0, ylim)\n",
    "    ax.set_xlim(0, xlim)\n",
    "    ax.grid()\n",
    "    ax.set_aspect('equal')\n",
    "    ax.tick_params(labelsize=fontsize - 2)"
   ]
  },
  {
   "cell_type": "markdown",
   "metadata": {},
   "source": [
    "# Live Coverage, Biomass, Count from Segmentation Masks"
   ]
  },
  {
   "cell_type": "code",
   "execution_count": 21,
   "metadata": {},
   "outputs": [],
   "source": [
    "import cv2\n",
    "from tqdm import tqdm"
   ]
  },
  {
   "cell_type": "code",
   "execution_count": 22,
   "metadata": {},
   "outputs": [
    {
     "name": "stderr",
     "output_type": "stream",
     "text": [
      "100%|██████████| 152/152 [00:26<00:00,  5.64it/s]\n"
     ]
    }
   ],
   "source": [
    "pix_ct = []\n",
    "for i in tqdm(range(len(all_images))):\n",
    "    im   = cv2.imread(all_images[i])\n",
    "    _, cts = np.unique(im, return_counts=True) \n",
    "    try:\n",
    "        pix_ct.append(cts[1] / cts.sum())\n",
    "    except:\n",
    "        pix_ct.append(0)\n",
    "pix_ct_np = np.asarray(pix_ct)\n",
    "pix_ct_np = pix_ct_np / pix_ct_np.max()"
   ]
  },
  {
   "cell_type": "code",
   "execution_count": 23,
   "metadata": {},
   "outputs": [],
   "source": [
    "x = pix_ct_np[valid_mask]"
   ]
  },
  {
   "cell_type": "code",
   "execution_count": 24,
   "metadata": {},
   "outputs": [
    {
     "name": "stdout",
     "output_type": "stream",
     "text": [
      "Live Coverage R^2 value on 126 inliers = 0.6396\n",
      "Live Coverage R^2 value on 143 inliers = 0.3839\n"
     ]
    }
   ],
   "source": [
    "# v111\n",
    "'''\n",
    "mask_y = live_coverage > 0.4\n",
    "mask_x = x < 0.2\n",
    "upper_left = mask_x & mask_y\n",
    "mask_y = live_coverage > 0.38\n",
    "mask_x = x < 0.1\n",
    "upper_left |= (mask_x & mask_y)\n",
    "mask_y = live_coverage < 0.6\n",
    "mask_x = x > 0.6\n",
    "bottom_right = mask_x & mask_y\n",
    "outliers = upper_left | bottom_right\n",
    "inliers = np.invert(outliers)\n",
    "'''\n",
    "# v120\n",
    "mask_y = live_coverage >= 0.8\n",
    "mask_x = x < 0.21\n",
    "upper_left = mask_x & mask_y\n",
    "\n",
    "mask_y = live_coverage < 0.25\n",
    "mask_x = x > 0.25\n",
    "bottom_right = mask_x & mask_y\n",
    "outliers = upper_left | bottom_right\n",
    "inliers = np.invert(outliers)\n",
    "\n",
    "xin = x[inliers]\n",
    "livein = live_coverage[inliers]\n",
    "countin = count[inliers]\n",
    "biomassin = biomass[inliers]\n",
    "\n",
    "print('Live Coverage R^2 value on %d inliers = %.4f' % (len(xin), r2_score(livein, linear_regression(xin, livein))))\n",
    "print('Live Coverage R^2 value on %d inliers = %.4f' % (len(x), r2_score(live_coverage, linear_regression(x, live_coverage))))"
   ]
  },
  {
   "cell_type": "code",
   "execution_count": null,
   "metadata": {},
   "outputs": [],
   "source": [
    "xin = xin / xin.max()"
   ]
  },
  {
   "cell_type": "code",
   "execution_count": null,
   "metadata": {},
   "outputs": [],
   "source": [
    "xin.max()"
   ]
  },
  {
   "cell_type": "code",
   "execution_count": null,
   "metadata": {},
   "outputs": [],
   "source": [
    "#143 - 126"
   ]
  },
  {
   "cell_type": "code",
   "execution_count": null,
   "metadata": {},
   "outputs": [],
   "source": [
    "fig, ax = plt.subplots(1, 3, figsize=(12, 4.5), sharex=True, sharey=False)\n",
    "\n",
    "ax[0].scatter(xin, livein, marker='o', s=40, facecolors='none', edgecolors='k')\n",
    "ax[0].scatter(x[outliers], live_coverage[outliers], marker='o', s=40, facecolors='none', edgecolors='r')\n",
    "ax[0].set_ylabel('Live Coverage', fontsize=fontsize)\n",
    "ax[0].set_title(r'$\\mathbf{R^2}$ = %.3f in, %.3f all' % (r2_score(livein, linear_regression(xin, livein)), r2_score(live_coverage, linear_regression(x, live_coverage))), fontsize=fontsize + 1)\n",
    "draw_lines(ax[0], xin, livein, 1)\n",
    "\n",
    "ax[1].scatter(xin, biomassin, marker='o', s=40, facecolors='none', edgecolors='k')\n",
    "ax[1].scatter(x[outliers], biomass[outliers], marker='o', s=40, facecolors='none', edgecolors='r')\n",
    "ax[1].set_ylabel('Biomass (g)', fontsize=fontsize)\n",
    "ax[1].set_xlabel('Fraction of Mussel Pixels \\n in Segmentation Mask', fontsize=fontsize)\n",
    "ax[1].set_title(r'$\\mathbf{R^2}$ = %.3f in, %.3f all' % (r2_score(xin, linear_regression(xin, biomassin)), r2_score(x, linear_regression(x, biomass))),  fontsize=fontsize + 1)\n",
    "draw_lines(ax[1], xin, biomassin, 1)\n",
    "\n",
    "ax[2].scatter(xin, countin, marker='o', s=40, facecolors='none', edgecolors='k')\n",
    "ax[2].scatter(x[outliers], count[outliers], marker='o', s=40, facecolors='none', edgecolors='r')\n",
    "ax[2].set_ylabel('Count', fontsize=fontsize)\n",
    "ax[2].set_title(r'$\\mathbf{R^2}$ = %.3f in, %.3f all' % (r2_score(xin, linear_regression(xin, countin)), r2_score(x, linear_regression(x, count))),  fontsize=fontsize + 1)\n",
    "draw_lines(ax[2], xin, countin, 1)\n",
    "\n",
    "draw_sublabel(ax[0], r'\\textbf{a)}', fontsize, (0.85, 0.05))\n",
    "draw_sublabel(ax[1], r'\\textbf{b)}', fontsize, (0.85, 0.05))\n",
    "draw_sublabel(ax[2], r'\\textbf{c)}', fontsize, (0.85, 0.05))\n",
    "\n",
    "pretty_axis(ax[0], fontsize, 1.05, 1.05)\n",
    "pretty_axis(ax[1], fontsize, 1.05, 1.05)\n",
    "pretty_axis(ax[2], fontsize, 1.05, 1.05)\n",
    "\n",
    "plt.tight_layout()\n",
    "\n",
    "if SAVE:\n",
    "    fname = 'train_v120_livecov_biomass_and_count_from_masks_abc'\n",
    "    fig.savefig(fname + '.png')\n",
    "    fig.savefig(fname + '.eps', format='eps')"
   ]
  },
  {
   "cell_type": "code",
   "execution_count": null,
   "metadata": {},
   "outputs": [],
   "source": [
    "fig, ax = plt.subplots(1, 2, figsize=(8, 4), sharex=True, sharey=False)\n",
    "\n",
    "ax[0].scatter(xin, 100*livein, marker='o', s=40, facecolors='none', edgecolors='k')\n",
    "ax[0].scatter(x[outliers], 100*live_coverage[outliers], marker='o', s=40, facecolors='none', edgecolors='r')\n",
    "ax[0].set_ylabel('Live Coverage (\\%)', fontsize=fontsize)\n",
    "ax[0].set_xlabel('Fraction of Mussel Pixels \\n in Segmentation Mask', fontsize=fontsize)\n",
    "ax[0].set_title(r'$\\mathbf{R^2}$ = %.3f' % r2_score(livein, linear_regression(xin, livein)), fontsize=fontsize + 1)\n",
    "draw_lines(ax[0], xin, 100*livein, 1)\n",
    "\n",
    "ax[1].scatter(xin, countin, marker='o', s=40, facecolors='none', edgecolors='k')\n",
    "ax[1].scatter(x[outliers], count[outliers], marker='o', s=40, facecolors='none', edgecolors='r')\n",
    "ax[1].set_ylabel('Biomass (g)', fontsize=fontsize)\n",
    "#ax[1].set_xlabel('Fraction of Mussel Pixels \\n (Mask)', fontsize=fontsize)\n",
    "ax[1].set_xlabel('Fraction of Mussel Pixels \\n in Segmentation Mask', fontsize=fontsize)\n",
    "ax[1].set_title(r'$\\mathbf{R^2}$ = %.3f' % r2_score(xin, linear_regression(xin, countin)),  fontsize=fontsize + 1)\n",
    "draw_lines(ax[1], xin, countin, 1)\n",
    "\n",
    "draw_sublabel(ax[0], r'\\textbf{e)}', fontsize, (0.85, 0.05))\n",
    "draw_sublabel(ax[1], r'\\textbf{f)}', fontsize, (0.85, 0.05))\n",
    "\n",
    "#pretty_axis(ax[0], fontsize)\n",
    "pretty_axis(ax[0], fontsize, 1.05, 105)\n",
    "pretty_axis(ax[1], fontsize, 1.05, 1.05)\n",
    "#pretty_axis(ax[1], fontsize)\n",
    "\n",
    "plt.tight_layout()\n",
    "fname = 'train_v120_live_coverage_and_biomass_from_masks_cd'\n",
    "#fig.savefig(fname + '.png')\n",
    "#fig.savefig(fname + '.eps', format='eps')"
   ]
  }
 ],
 "metadata": {
  "kernelspec": {
   "display_name": "Python 3",
   "language": "python",
   "name": "python3"
  },
  "language_info": {
   "codemirror_mode": {
    "name": "ipython",
    "version": 3
   },
   "file_extension": ".py",
   "mimetype": "text/x-python",
   "name": "python",
   "nbconvert_exporter": "python",
   "pygments_lexer": "ipython3",
   "version": "3.6.6"
  }
 },
 "nbformat": 4,
 "nbformat_minor": 2
}
