{
 "cells": [
  {
   "cell_type": "code",
   "execution_count": null,
   "metadata": {},
   "outputs": [],
   "source": [
    "import glob\n",
    "import datetime\n",
    "import numpy as np\n",
    "\n",
    "# for plotting\n",
    "import matplotlib\n",
    "import matplotlib.font_manager as fm\n",
    "#!wget https://github.com/Phonbopit/sarabun-webfont/raw/master/fonts/thsarabunnew-webfont.ttf\n",
    "fm.fontManager.ttflist += fm.createFontList(['thsarabunnew-webfont.ttf'])\n",
    "matplotlib.rc('font', family='TH Sarabun New')\n",
    "import matplotlib.pyplot as plt\n",
    "\n",
    "# matplotlib date helper functions\n",
    "from matplotlib.dates import (YEARLY, DateFormatter, datestr2num,\n",
    "                              rrulewrapper, RRuleLocator, drange)"
   ]
  },
  {
   "cell_type": "code",
   "execution_count": null,
   "metadata": {},
   "outputs": [],
   "source": [
    "tripod_files = glob.glob('./npy/Tripod*.npy')\n",
    "tripod_files.sort()\n",
    "print(len(tripod_files))\n",
    "tripod_files"
   ]
  },
  {
   "cell_type": "code",
   "execution_count": null,
   "metadata": {},
   "outputs": [],
   "source": [
    "# series 1 - use the mask from May 25 for all days\n",
    "s1_start_idx = 3\n",
    "data1 = np.load(tripod_files[s1_start_idx])\n",
    "data2 = np.load(tripod_files[s1_start_idx+1])\n",
    "data3 = np.load(tripod_files[s1_start_idx+2])\n",
    "\n",
    "iou1 = np.concatenate((np.expand_dims(data1, 1),\n",
    "                       np.expand_dims(data2, 1),\n",
    "                       np.expand_dims(data3, 1)), 1)\n",
    "# for s1_start_idx = 0\n",
    "'''\n",
    "iou1 = np.concatenate((np.expand_dims(data1[:, 0], 1),\n",
    "                       np.expand_dims(data2[:, 0], 1),\n",
    "                       np.expand_dims(data3[:, 0], 1)), 1)\n",
    "'''                       "
   ]
  },
  {
   "cell_type": "markdown",
   "metadata": {},
   "source": [
    "# Version 1"
   ]
  },
  {
   "cell_type": "code",
   "execution_count": null,
   "metadata": {},
   "outputs": [],
   "source": [
    "# FIGURE version 1 - series 1 only\n",
    "ms = 8\n",
    "font = 20\n",
    "\n",
    "formatter = DateFormatter('%m-%d')\n",
    "date1 = datetime.date(2019, 5, 22)\n",
    "date2 = datetime.date(2019, 7, 5)\n",
    "delta = datetime.timedelta(days=1)\n",
    "\n",
    "dates = drange(date1, date2, delta)\n",
    "\n",
    "\n",
    "fig, ax = plt.subplots(figsize=(6, 4))\n",
    "\n",
    "#COL = 1\n",
    "\n",
    "#plt.plot_date(dates, data1[:, 1], marker='o', markerfacecolor='none', c='k', markersize=8, label='C=2')\n",
    "plt.plot_date(dates[3], iou1.mean(axis=1)[3], c='r', markersize=ms)\n",
    "\n",
    "#plt.plot_date(dates, data1[:, 0], marker='o', markerfacecolor='none', c='k', markersize=8)\n",
    "plt.errorbar(dates, iou1.mean(axis=1), yerr=iou1.std(axis=1), elinewidth=1, capsize=2,\n",
    "             marker='o', markerfacecolor='none', c='k', markersize=ms, linestyle=' ')\n",
    "#plt.plot_date(dates[3], data1[3, 0], c='r', markersize=8)\n",
    "\n",
    "ax.xaxis.set_major_formatter(formatter)\n",
    "ax.xaxis.set_tick_params(rotation=30, labelsize=font)\n",
    "# ax.set_ylabel(r'\\textbf{IoU}', fontsize=font) # LaTeX\n",
    "#ax.set_xlabel(r'\\textbf{Date}', fontsize=font)\n",
    "ax.set_ylabel('IoU (C=1)', fontsize=font)  # LaTeX\n",
    "ax.set_xlabel('Date (MM-DD-2019)', fontsize=font)\n",
    "ax.tick_params(labelsize=font-2)\n",
    "ax.grid()\n",
    "\n",
    "# plt.legend()\n",
    "plt.tight_layout()\n",
    "plt.show()\n",
    "\n",
    "figure_name = tripod_files[0].split('/')[-1].split('.')[0]\n",
    "print(figure_name)\n",
    "#fig.savefig(figure_name + 'v1.png', format='png')\n",
    "#fig.savefig(figure_name + '.eps', format='eps')"
   ]
  },
  {
   "cell_type": "markdown",
   "metadata": {},
   "source": [
    "# Version 2"
   ]
  },
  {
   "cell_type": "code",
   "execution_count": null,
   "metadata": {},
   "outputs": [],
   "source": [
    "tripod_files"
   ]
  },
  {
   "cell_type": "code",
   "execution_count": null,
   "metadata": {},
   "outputs": [],
   "source": [
    "# series 2 - use the ten different masks\n",
    "s2_start_idx = 6\n",
    "data1_s2 = np.load(tripod_files[s2_start_idx])\n",
    "data2_s2 = np.load(tripod_files[s2_start_idx+1])\n",
    "data3_s2 = np.load(tripod_files[s2_start_idx+2])\n",
    "\n",
    "iou1_s2 = np.concatenate((np.expand_dims(data1_s2, 1),\n",
    "                          np.expand_dims(data2_s2, 1),\n",
    "                          np.expand_dims(data3_s2, 1)), 1)"
   ]
  },
  {
   "cell_type": "code",
   "execution_count": null,
   "metadata": {},
   "outputs": [],
   "source": [
    "# first, match the dates for labeled images to the DateFormatter axis\n",
    "root_path = '/scratch/ssd/gallowaa/cciw/dataset_raw/Test/Tripod/1352/biofouling/'\n",
    "jpeg_files = glob.glob(root_path + '*.jpg')\n",
    "jpeg_files.sort()\n",
    "dates_s2 = np.asarray([datestr2num(f.split('/')[-1].split('_')[2]) for f in jpeg_files])"
   ]
  },
  {
   "cell_type": "code",
   "execution_count": null,
   "metadata": {},
   "outputs": [],
   "source": [
    "# FIGURE version 2 - series 1 and 2\n",
    "ms = 8\n",
    "font = 20\n",
    "cs = 3\n",
    "\n",
    "# Calculated using notebook \"task_3_evaluate_checkpoint_on_tripod\"\n",
    "INTER_ANNOTATOR_AGREEMENT = 0.40643012523651123\n",
    "\n",
    "formatter = DateFormatter('%m-%d')\n",
    "date1 = datetime.date(2019, 5, 22)\n",
    "date2 = datetime.date(2019, 7, 5)\n",
    "delta = datetime.timedelta(days=1)\n",
    "\n",
    "dates = drange(date1, date2, delta)\n",
    "\n",
    "\n",
    "fig, ax = plt.subplots(figsize=(7, 5))\n",
    "\n",
    "#plt.plot_date(dates[3], iou1.mean(axis=1)[3], c='r', markersize=ms, label='One day labeled')\n",
    "# depict inter-annotator variability\n",
    "#ax.hlines(INTER_ANNOTATOR_AGREEMENT, dates[0], dates[-1], linestyle='--', color='green', label='Human')\n",
    "#ax.vlines(dates[3], 0, INTER_ANNOTATOR_AGREEMENT, linestyle='--', color='gray')\n",
    "plt.plot_date(dates[3], INTER_ANNOTATOR_AGREEMENT, markerfacecolor='gold', c='y', markersize=3*ms, marker='*', label='May 25 inter-human')\n",
    "\n",
    "# series 1\n",
    "#plt.errorbar(dates[3], iou1.mean(axis=1)[3], yerr=iou1.std(axis=1)[3], elinewidth=1, capsize=cs,\n",
    "#             marker='o', markerfacecolor='r', c='k', markersize=ms, linestyle=' ', label='May 25 label')\n",
    "\n",
    "plt.errorbar(dates, iou1.mean(axis=1), yerr=iou1.std(axis=1), elinewidth=1, capsize=cs-1,\n",
    "             marker='o', markerfacecolor='none', c='k', markersize=ms, linestyle=' ', label='IoU wrt May 25 label')\n",
    "\n",
    "# series 2\n",
    "plt.errorbar(dates_s2, iou1_s2.mean(axis=1), yerr=iou1_s2.std(axis=1), elinewidth=1, capsize=cs, capthick=1,\n",
    "             marker='^', markerfacecolor='b', c='k', markersize=ms, linestyle=' ', label='IoU wrt same-day label')\n",
    "\n",
    "#ax.set_xlim(dates[0], dates[-1])\n",
    "ax.xaxis.set_major_formatter(formatter)\n",
    "ax.xaxis.set_tick_params(rotation=30, labelsize=font)\n",
    "ax.set_ylabel('IoU (C=1)', fontsize=font)  # LaTeX\n",
    "ax.set_xlabel('Date (MM-DD-2019)', fontsize=font)\n",
    "ax.tick_params(labelsize=font-2)\n",
    "ax.grid()\n",
    "\n",
    "#plt.legend(fontsize=font-4)\n",
    "#plt.legend(loc='upper center', bbox_to_anchor=(0.5, 1.15), ncol=4, fancybox=True, shadow=True, fontsize=font-8)\n",
    "#plt.legend(loc='best', fontsize=font-7, fancybox=True, shadow=True)\n",
    "plt.legend(bbox_to_anchor=(0.54, 1.05), fontsize=font-7, fancybox=True, shadow=True)\n",
    "\n",
    "plt.tight_layout()\n",
    "plt.show()\n",
    "\n",
    "figure_name = tripod_files[4].split('/')[-1].split('.')[0]\n",
    "print(figure_name)\n",
    "fig.savefig(figure_name + '_v2-r2.png', format='png')\n",
    "#fig.savefig(figure_name + '_v2-r1.eps', format='eps')"
   ]
  },
  {
   "cell_type": "markdown",
   "metadata": {},
   "source": [
    "# Version 3 - In series 2, use the most recent labels for each day"
   ]
  },
  {
   "cell_type": "code",
   "execution_count": null,
   "metadata": {},
   "outputs": [],
   "source": [
    "#tripod_files[7]"
   ]
  },
  {
   "cell_type": "code",
   "execution_count": null,
   "metadata": {},
   "outputs": [],
   "source": [
    "# series 2 - use the ten different masks\n",
    "base_idx = 7\n",
    "data1_s2 = np.load(tripod_files[base_idx])\n",
    "data2_s2 = np.load(tripod_files[base_idx + 1])\n",
    "data3_s2 = np.load(tripod_files[base_idx + 2])\n",
    "\n",
    "iou1_s2_full = np.concatenate((np.expand_dims(data1_s2, 1),\n",
    "                               np.expand_dims(data2_s2, 1),\n",
    "                               np.expand_dims(data3_s2, 1)), 1)"
   ]
  },
  {
   "cell_type": "code",
   "execution_count": null,
   "metadata": {},
   "outputs": [],
   "source": [
    "mask = (dates[:, None] == dates_s2).any(axis=-1)"
   ]
  },
  {
   "cell_type": "code",
   "execution_count": null,
   "metadata": {},
   "outputs": [],
   "source": [
    "# FIGURE version 3 - series 1 and 2\n",
    "ms = 8\n",
    "font = 20\n",
    "\n",
    "formatter = DateFormatter('%m-%d')\n",
    "date1 = datetime.date(2019, 5, 22)\n",
    "date2 = datetime.date(2019, 7, 5)\n",
    "delta = datetime.timedelta(days=1)\n",
    "\n",
    "dates = drange(date1, date2, delta)\n",
    "\n",
    "\n",
    "fig, ax = plt.subplots(figsize=(7, 5))\n",
    "\n",
    "#plt.plot_date(dates[3], iou1.mean(axis=1)[3], c='r', markersize=ms, label='One day labeled')\n",
    "\n",
    "# series 1\n",
    "plt.errorbar(dates[3], iou1.mean(axis=1)[3], yerr=iou1.std(axis=1)[3], elinewidth=1, capsize=2,\n",
    "             marker='o', markerfacecolor='r', c='k', markersize=ms, linestyle=' ', label='Labeled')\n",
    "plt.errorbar(dates, iou1.mean(axis=1), yerr=iou1.std(axis=1), elinewidth=1, capsize=2,\n",
    "             marker='o', markerfacecolor='none', c='k', markersize=ms, linestyle=' ', label='Unlabeled')\n",
    "\n",
    "# series 2\n",
    "plt.errorbar(dates[mask], iou1_s2_full.mean(axis=1)[mask], yerr=iou1_s2_full.std(axis=1)[mask], elinewidth=1, capsize=3, \n",
    "             marker='^', markerfacecolor='b', c='k', markersize=ms, linestyle=' ', label='Labeled')\n",
    "\n",
    "plt.errorbar(dates, iou1_s2_full.mean(axis=1), yerr=iou1_s2_full.std(axis=1),elinewidth=1, capsize=3,\n",
    "             marker='^', markerfacecolor='none', c='k', markersize=ms, linestyle=' ', label='Unlabeled')\n",
    "\n",
    "ax.xaxis.set_major_formatter(formatter)\n",
    "ax.xaxis.set_tick_params(rotation=30, labelsize=font)\n",
    "ax.set_ylabel('IoU (C=1)', fontsize=font)  # LaTeX\n",
    "ax.set_xlabel('Date (MM-DD-2019)', fontsize=font)\n",
    "ax.tick_params(labelsize=font-2)\n",
    "ax.grid()\n",
    "\n",
    "# plt.legend(fontsize=font-4)\n",
    "plt.legend(loc='upper center', bbox_to_anchor=(0.5, 1.15),\n",
    "           ncol=4, fancybox=True, shadow=True, fontsize=font-8)\n",
    "plt.tight_layout()\n",
    "plt.show()\n",
    "\n",
    "figure_name = tripod_files[4].split('/')[-1].split('.')[0]\n",
    "print(figure_name)\n",
    "#fig.savefig(figure_name + 'v3.png', format='png')\n",
    "#fig.savefig(figure_name + '.eps', format='eps')"
   ]
  },
  {
   "cell_type": "code",
   "execution_count": null,
   "metadata": {},
   "outputs": [],
   "source": []
  }
 ],
 "metadata": {
  "kernelspec": {
   "display_name": "Python 3",
   "language": "python",
   "name": "python3"
  },
  "language_info": {
   "codemirror_mode": {
    "name": "ipython",
    "version": 3
   },
   "file_extension": ".py",
   "mimetype": "text/x-python",
   "name": "python",
   "nbconvert_exporter": "python",
   "pygments_lexer": "ipython3",
   "version": "3.6.6"
  }
 },
 "nbformat": 4,
 "nbformat_minor": 2
}
