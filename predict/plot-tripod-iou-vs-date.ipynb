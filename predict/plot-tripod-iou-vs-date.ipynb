{
 "cells": [
  {
   "cell_type": "code",
   "execution_count": null,
   "metadata": {},
   "outputs": [],
   "source": [
    "import glob\n",
    "import numpy as np\n",
    "import matplotlib.pyplot as plt"
   ]
  },
  {
   "cell_type": "code",
   "execution_count": null,
   "metadata": {},
   "outputs": [],
   "source": [
    "tripod_files = glob.glob('./npy/Tripod*.npy')\n",
    "tripod_files"
   ]
  },
  {
   "cell_type": "code",
   "execution_count": null,
   "metadata": {},
   "outputs": [],
   "source": [
    "data1 = np.load(tripod_files[0])\n",
    "data2 = np.load(tripod_files[1])\n",
    "data3 = np.load(tripod_files[2])"
   ]
  },
  {
   "cell_type": "code",
   "execution_count": null,
   "metadata": {},
   "outputs": [],
   "source": [
    "plt.plot(data1)\n",
    "plt.plot(data2)\n",
    "plt.plot(data3)"
   ]
  },
  {
   "cell_type": "code",
   "execution_count": null,
   "metadata": {},
   "outputs": [],
   "source": [
    "import matplotlib.pyplot as plt\n",
    "from matplotlib.dates import (YEARLY, DateFormatter,\n",
    "                              rrulewrapper, RRuleLocator, drange)\n",
    "import numpy as np\n",
    "import datetime\n",
    "\n",
    "# Fixing random state for reproducibility\n",
    "np.random.seed(19680801)\n",
    "\n",
    "# tick every 5th easter\n",
    "#rule = rrulewrapper(YEARLY, byeaster=1, interval=1)\n",
    "\n",
    "#loc = RRuleLocator(rule)\n",
    "\n",
    "formatter = DateFormatter('%m-%d')\n",
    "date1 = datetime.date(2019, 5, 22)\n",
    "date2 = datetime.date(2019, 7, 5)\n",
    "delta = datetime.timedelta(days=1)\n",
    "\n",
    "dates = drange(date1, date2, delta)\n",
    "\n",
    "#s = np.random.rand(len(dates))  # make up some random y values\n",
    "\n",
    "fig, ax = plt.subplots()\n",
    "\n",
    "plt.plot_date(dates, data1, '.')\n",
    "#ax.xaxis.set_major_locator(loc)\n",
    "ax.xaxis.set_major_formatter(formatter)\n",
    "ax.xaxis.set_tick_params(rotation=30, labelsize=10)\n",
    "ax.set_ylabel('IoU')\n",
    "\n",
    "plt.show()"
   ]
  },
  {
   "cell_type": "code",
   "execution_count": null,
   "metadata": {},
   "outputs": [],
   "source": [
    "len(dates)"
   ]
  },
  {
   "cell_type": "code",
   "execution_count": null,
   "metadata": {},
   "outputs": [],
   "source": [
    "from dateutil.rrule import *\n",
    "from dateutil.parser import *\n",
    "from datetime import *\n",
    "\n",
    "import pprint\n",
    "import sys\n",
    "sys.displayhook = pprint.pprint"
   ]
  },
  {
   "cell_type": "code",
   "execution_count": null,
   "metadata": {},
   "outputs": [],
   "source": [
    "x_axis = list(rrule(DAILY, interval=1, dtstart=parse(\"20190522T090000\"), until=parse(\"20190705T000000\")))"
   ]
  },
  {
   "cell_type": "code",
   "execution_count": null,
   "metadata": {},
   "outputs": [],
   "source": [
    "len(x_axis)"
   ]
  },
  {
   "cell_type": "code",
   "execution_count": null,
   "metadata": {},
   "outputs": [],
   "source": [
    "dates"
   ]
  },
  {
   "cell_type": "code",
   "execution_count": null,
   "metadata": {},
   "outputs": [],
   "source": []
  }
 ],
 "metadata": {
  "kernelspec": {
   "display_name": "Python 3",
   "language": "python",
   "name": "python3"
  },
  "language_info": {
   "codemirror_mode": {
    "name": "ipython",
    "version": 3
   },
   "file_extension": ".py",
   "mimetype": "text/x-python",
   "name": "python",
   "nbconvert_exporter": "python",
   "pygments_lexer": "ipython3",
   "version": "3.6.6"
  }
 },
 "nbformat": 4,
 "nbformat_minor": 2
}
