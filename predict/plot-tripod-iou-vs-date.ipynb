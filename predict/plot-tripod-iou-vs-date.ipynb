{
 "cells": [
  {
   "cell_type": "code",
   "execution_count": null,
   "metadata": {},
   "outputs": [],
   "source": [
    "import glob\n",
    "import numpy as np\n",
    "\n",
    "# for plotting\n",
    "import matplotlib\n",
    "# enable LaTeX style fonts\n",
    "matplotlib.rc('text', usetex=True)\n",
    "import matplotlib.pyplot as plt\n",
    "plt.rc('text', usetex=True)\n",
    "plt.rc('font', family='serif')\n",
    "\n",
    "from matplotlib.dates import (YEARLY, DateFormatter,\n",
    "                              rrulewrapper, RRuleLocator, drange)\n",
    "import datetime"
   ]
  },
  {
   "cell_type": "code",
   "execution_count": null,
   "metadata": {},
   "outputs": [],
   "source": [
    "tripod_files = glob.glob('./npy/Tripod*.npy')\n",
    "tripod_files"
   ]
  },
  {
   "cell_type": "code",
   "execution_count": null,
   "metadata": {},
   "outputs": [],
   "source": [
    "data1 = np.load(tripod_files[0])\n",
    "#data2 = np.load(tripod_files[1], allow_pickle=True)\n",
    "#data3 = np.load(tripod_files[2])"
   ]
  },
  {
   "cell_type": "code",
   "execution_count": null,
   "metadata": {},
   "outputs": [],
   "source": [
    "font = 20\n",
    "\n",
    "formatter = DateFormatter('%m-%d')\n",
    "date1 = datetime.date(2019, 5, 22)\n",
    "date2 = datetime.date(2019, 7, 5)\n",
    "delta = datetime.timedelta(days=1)\n",
    "\n",
    "dates = drange(date1, date2, delta)\n",
    "\n",
    "\n",
    "fig, ax = plt.subplots(figsize=(6, 4))\n",
    "\n",
    "plt.plot_date(dates, data1, marker='o', c='k', markersize=8)\n",
    "plt.plot_date(dates[3], data1[3], c='r', markersize=10)\n",
    "\n",
    "ax.xaxis.set_major_formatter(formatter)\n",
    "ax.xaxis.set_tick_params(rotation=30, labelsize=font)\n",
    "ax.set_ylabel(r'\\textbf{IoU}', fontsize=font)\n",
    "ax.set_xlabel(r'\\textbf{Date}', fontsize=font)\n",
    "ax.tick_params(labelsize=font-2)\n",
    "ax.grid()\n",
    "\n",
    "figure_name = tripod_files[0].split('/')[-1].split('.')[0]\n",
    "plt.tight_layout()\n",
    "plt.show()\n",
    "fig.savefig(figure_name + '.png', format='png')\n",
    "fig.savefig(figure_name + '.eps', format='eps')"
   ]
  },
  {
   "cell_type": "code",
   "execution_count": null,
   "metadata": {},
   "outputs": [],
   "source": []
  }
 ],
 "metadata": {
  "kernelspec": {
   "display_name": "Python 3",
   "language": "python",
   "name": "python3"
  },
  "language_info": {
   "codemirror_mode": {
    "name": "ipython",
    "version": 3
   },
   "file_extension": ".py",
   "mimetype": "text/x-python",
   "name": "python",
   "nbconvert_exporter": "python",
   "pygments_lexer": "ipython3",
   "version": "3.6.7"
  }
 },
 "nbformat": 4,
 "nbformat_minor": 2
}
