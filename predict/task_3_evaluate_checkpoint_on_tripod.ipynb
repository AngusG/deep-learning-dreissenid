{
 "cells": [
  {
   "cell_type": "markdown",
   "metadata": {
    "colab_type": "text",
    "id": "0UXd9CuzgNx2"
   },
   "source": [
    "# Evaluate Pre-Trained Models on the Tripod Test Split\n",
    "\n",
    "Used to generate figures and show how IoU degrades with time..\n",
    "\n",
    "__Note:__ To maintain a high priority Colab user status such that sufficient GPU resources are available in the future, ensure to free the runtime when finished running this notebook. This can be done using 'Runtime > Manage Sessions' and click 'Terminate'."
   ]
  },
  {
   "cell_type": "code",
   "execution_count": null,
   "metadata": {},
   "outputs": [],
   "source": [
    "# Check if notebook is running in Colab or local workstation\n",
    "import sys\n",
    "\n",
    "IN_COLAB = 'google.colab' in sys.modules\n",
    "\n",
    "if IN_COLAB:\n",
    "    !ln -sf /opt/bin/nvidia-smi /usr/bin/nvidia-smi\n",
    "    !pip install gputil\n",
    "    !pip install psutil\n",
    "    !pip install humanize\n",
    "\n",
    "import psutil\n",
    "import humanize\n",
    "import os\n",
    "import GPUtil as GPU\n",
    "GPUs = GPU.getGPUs()\n",
    "\n",
    "try:\n",
    "    # XXX: only one GPU on Colab and isn’t guaranteed\n",
    "    gpu = GPUs[1]\n",
    "    def printm():\n",
    "        process = psutil.Process(os.getpid())\n",
    "        print(\"Gen RAM Free: \" + humanize.naturalsize( psutil.virtual_memory().available ), \" | Proc size: \" + humanize.naturalsize( process.memory_info().rss))\n",
    "        print(\"GPU RAM Free: {0:.0f}MB | Used: {1:.0f}MB | Util {2:3.0f}% | Total {3:.0f}MB\".format(gpu.memoryFree, gpu.memoryUsed, gpu.memoryUtil*100, gpu.memoryTotal))\n",
    "    printm() \n",
    "\n",
    "    # Check if GPU capacity is sufficient to proceed\n",
    "    if gpu.memoryFree < 10000:\n",
    "        print(\"\\nInsufficient memory! Some cells may fail. Please try restarting the runtime using 'Runtime → Restart Runtime...' from the menu bar. If that doesn't work, terminate this session and try again later.\")\n",
    "    else:\n",
    "        print('\\nGPU memory is sufficient to proceeed.')\n",
    "except:\n",
    "    print('Select the Runtime → \"Change runtime type\" menu to enable a GPU accelerator, ')\n",
    "    print('and then re-execute this cell.')"
   ]
  },
  {
   "cell_type": "code",
   "execution_count": null,
   "metadata": {
    "colab": {
     "base_uri": "https://localhost:8080/",
     "height": 71
    },
    "colab_type": "code",
    "id": "4pzGY41DgyyQ",
    "outputId": "6bebf55b-f9f5-4a59-abdd-4c101878f4d1"
   },
   "outputs": [],
   "source": [
    "if IN_COLAB:\n",
    "\n",
    "    from google.colab import drive\n",
    "    drive.mount('/content/drive')\n",
    "    DATA_PATH = r'/content/drive/My Drive/Data'\n",
    "    \n",
    "    # cd into git repo so python can find utils\n",
    "    %cd '/content/drive/My Drive/cciw-zebra-mussel/predict'\n",
    "\n",
    "    sys.path.append('/content/drive/My Drive')\n",
    "    \n",
    "    # clone repo, install packages not installed by default\n",
    "    !pip install pydensecrf"
   ]
  },
  {
   "cell_type": "code",
   "execution_count": null,
   "metadata": {
    "colab": {},
    "colab_type": "code",
    "id": "bneyBxcYgNx7"
   },
   "outputs": [],
   "source": [
    "import os\n",
    "import os.path as osp\n",
    "\n",
    "import glob\n",
    "\n",
    "# for manually reading high resolution images\n",
    "import cv2\n",
    "import numpy as np\n",
    "\n",
    "# for comparing predictions to lab analysis data frames\n",
    "import pandas as pd\n",
    "\n",
    "# for plotting\n",
    "import matplotlib\n",
    "\n",
    "'''\n",
    "# enable LaTeX style fonts\n",
    "matplotlib.rc('text', usetex=True)\n",
    "import matplotlib.pyplot as plt\n",
    "plt.rc('text', usetex=True)\n",
    "plt.rc('font', family='serif')\n",
    "'''\n",
    "import matplotlib.font_manager as fm\n",
    "#!wget https://github.com/Phonbopit/sarabun-webfont/raw/master/fonts/thsarabunnew-webfont.ttf\n",
    "fm.fontManager.ttflist += fm.createFontList(['thsarabunnew-webfont.ttf'])\n",
    "matplotlib.rc('font', family='TH Sarabun New')\n",
    "import matplotlib.pyplot as plt\n",
    "\n",
    "# pytorch core library\n",
    "import torch\n",
    "# pytorch neural network functions\n",
    "from torch import nn\n",
    "# pytorch dataloader\n",
    "from torch.utils.data import DataLoader\n",
    "\n",
    "# for post-processing model predictions by conditional random field \n",
    "import pydensecrf.densecrf as dcrf\n",
    "import pydensecrf.utils as utils\n",
    "\n",
    "from tqdm import tqdm  # progress bar\n",
    "\n",
    "# evaluation metrics\n",
    "from sklearn.metrics import r2_score\n",
    "from sklearn.metrics import jaccard_score as jsc\n",
    "\n",
    "# local imports (files provided by this repo)\n",
    "import transforms as T\n",
    "\n",
    "# various helper functions, metrics that can be evaluated on the GPU\n",
    "from task_3_utils import evaluate, evaluate_loss, eval_binary_iou, pretty_image, img_to_nchw_tensor\n",
    "\n",
    "# Custom dataloader for rapidly loading images from a single LMDB file\n",
    "from folder2lmdb import VOCSegmentationLMDB"
   ]
  },
  {
   "cell_type": "code",
   "execution_count": null,
   "metadata": {},
   "outputs": [],
   "source": [
    "\"\"\"Confim that this cell prints \"Found GPU, cuda\". If not, select \"GPU\" as \n",
    "\"Hardware Accelerator\" under the \"Runtime\" tab of the main menu.\n",
    "\"\"\"\n",
    "if torch.cuda.is_available():\n",
    "    device = torch.device('cuda')\n",
    "    print('Found GPU,', device)"
   ]
  },
  {
   "cell_type": "markdown",
   "metadata": {
    "colab_type": "text",
    "id": "n4P0mldogNyQ"
   },
   "source": [
    "## 1. Load a pre-trained model checkpoint\n",
    "\n",
    "The architecture is fully-convolutional network (FCN) 8s."
   ]
  },
  {
   "cell_type": "code",
   "execution_count": null,
   "metadata": {
    "colab": {},
    "colab_type": "code",
    "id": "UnzXpijsgNzC"
   },
   "outputs": [],
   "source": [
    "sig = nn.Sigmoid()  # initializes a sigmoid function"
   ]
  },
  {
   "cell_type": "code",
   "execution_count": null,
   "metadata": {},
   "outputs": [],
   "source": [
    "CID = '564349c'\n",
    "SEED = 3\n",
    "\n",
    "os.environ['DATA_PATH'] = '/scratch/gallowaa/'\n",
    "\n",
    "if IN_COLAB:\n",
    "    root = osp.join(\n",
    "        DATA_PATH, 'Checkpoints/deeplabv3_resnet50_lr1e-01_wd5e-04_bs40_ep80_seed1')\n",
    "\n",
    "else:\n",
    "    root = osp.join(\n",
    "        # os.environ['DATA_PATH'], 'cciw/logs/cmp-dataset/train_v120/deeplabv3_resnet50/lr1e-01/wd5e-04/bs40/ep80/seed1/checkpoint')\n",
    "        os.environ['DATA_PATH'], 'cciw/logs/cmp-dataset/train_v120/deeplabv3_resnet50/lr1e-01/wd5e-04/bs40/ep80/seed%d/%s/checkpoint' % (SEED, CID))\n",
    "\n",
    "ckpt_file = 'deeplabv3_resnet50_lr1e-01_wd5e-04_bs40_ep80_seed%d_epoch40.ckpt' % SEED\n",
    "\n",
    "model_to_load = osp.join(root, ckpt_file)\n",
    "\n",
    "print('Loading', model_to_load)\n",
    "\n",
    "checkpoint = torch.load(model_to_load)\n",
    "\n",
    "train_loss = checkpoint['trn_loss']\n",
    "val_loss = checkpoint['val_loss']\n",
    "print('==> Resuming from checkpoint..')\n",
    "net = checkpoint['net']\n",
    "last_epoch = checkpoint['epoch']\n",
    "torch.set_rng_state(checkpoint['rng_state'])\n",
    "\n",
    "# later appended to figure filenames\n",
    "model_stem = ckpt_file.split('.')[0]\n",
    "\n",
    "print('Loaded model %s trained to epoch ' % model_stem, last_epoch)\n",
    "print(\n",
    "    'Cross-entropy loss {:.4f} for train set, {:.4f} for validation set'.format(train_loss, val_loss))\n",
    "\n",
    "sig = nn.Sigmoid()  # initializes a sigmoid function\n",
    "\n",
    "net.eval()"
   ]
  },
  {
   "cell_type": "markdown",
   "metadata": {
    "colab_type": "text",
    "id": "ne_OPnTPgNzh"
   },
   "source": [
    "## 7. i) Visualize Predictions on Whole Images\n",
    "\n",
    "Here we manually load and preprocess the original images and png masks using OpenCV.\n",
    "\n",
    "`root_path` -- will also be used in "
   ]
  },
  {
   "cell_type": "code",
   "execution_count": null,
   "metadata": {},
   "outputs": [],
   "source": [
    "#os.listdir('/scratch/ssd/gallowaa/cciw/dataset_raw/Test/Tripod/')\n",
    "\n",
    "# to create the biofouling images under: \n",
    "# '/scratch/ssd/gallowaa/cciw/dataset_raw/Test/Tripod/1352/biofouling/'\n",
    "\n",
    "'''\n",
    "for f in jpeg_files[:32][::4]:\n",
    "    #print(f)\n",
    "    bgr_img = cv2.imread(f)\n",
    "    image_stem = f.split('/')[-1].split('.')[0]\n",
    "    img_name = image_stem + '_crop%d' % seek_y\n",
    "    cv2.imwrite(osp.join(root_path, img_name + \".jpg\"), bgr_img[seek_y:, :, :])\n",
    "'''    "
   ]
  },
  {
   "cell_type": "code",
   "execution_count": null,
   "metadata": {
    "colab": {
     "base_uri": "https://localhost:8080/",
     "height": 53
    },
    "colab_type": "code",
    "id": "rouYvCy3gNzj",
    "outputId": "0cd6d473-73c3-4f2e-97ca-df03fbb55f7a"
   },
   "outputs": [],
   "source": [
    "if IN_COLAB:\n",
    "    root_path = osp.join(DATA_PATH, 'ADIG_Labelled_Dataset/Test/Lab/')\n",
    "else:\n",
    "    root_path = '/scratch/ssd/gallowaa/cciw/dataset_raw/Test/Tripod/1352/'\n",
    "    #root_path = '/scratch/ssd/gallowaa/cciw/dataset_raw/Test/Tripod/1352/biofouling'\n",
    "\n",
    "jpeg_files = glob.glob(root_path + '*1.jpg')\n",
    "png_files = glob.glob(root_path + 'biofouling/*.png')\n",
    "\n",
    "jpeg_files.sort()\n",
    "png_files.sort()\n",
    "\n",
    "# Note: there is only one segmentation mask (PNG file) per Tripod site\n",
    "print(len(jpeg_files)) \n",
    "print(len(png_files))"
   ]
  },
  {
   "cell_type": "code",
   "execution_count": null,
   "metadata": {},
   "outputs": [],
   "source": [
    "#png_files"
   ]
  },
  {
   "cell_type": "code",
   "execution_count": null,
   "metadata": {},
   "outputs": [],
   "source": [
    "#jpeg_files"
   ]
  },
  {
   "cell_type": "code",
   "execution_count": null,
   "metadata": {},
   "outputs": [],
   "source": [
    "\"\"\"Set to True to save the model predictions in PNG format, \n",
    "otherwise proceed to predict biomass without saving images\"\"\"\n",
    "SAVE_PREDICTIONS = False\n",
    "\n",
    "if SAVE_PREDICTIONS:\n",
    "    prediction_path = ''\n",
    "    for t in root.split('/')[:-1]:\n",
    "        prediction_path += t + '/'\n",
    "\n",
    "    #prediction_path = osp.join(prediction_path, 'predictions-tripod')\n",
    "    prediction_path = osp.join(prediction_path, 'predictions-tripod-biofouling')\n",
    "\n",
    "    if not osp.exists(prediction_path):\n",
    "        os.mkdir(prediction_path)\n",
    "        \n",
    "    print(prediction_path)\n",
    "\n",
    "    # src is the training dataset, tgt is the testing dataset\n",
    "    src = 'train_v120'\n",
    "    tgt = 'Tripod'"
   ]
  },
  {
   "cell_type": "code",
   "execution_count": null,
   "metadata": {},
   "outputs": [],
   "source": [
    "fontsize = 16\n",
    "\n",
    "left = 0.02  # the left side of the subplots of the figure\n",
    "right = 0.98   # the right side of the subplots of the figure\n",
    "bottom = 0.05  # the bottom of the subplots of the figure\n",
    "top = 0.95     # the top of the subplots of the figure\n",
    "wspace = 0.15  # the amount of width reserved for space between subplots,\n",
    "# expressed as a fraction of the average axis width\n",
    "hspace = 0.1  # the amount of height reserved for space between subplots,\n",
    "# expressed as a fraction of the average axis height"
   ]
  },
  {
   "cell_type": "markdown",
   "metadata": {},
   "source": [
    "# LOM: Figure 5 (Tripod images)"
   ]
  },
  {
   "cell_type": "code",
   "execution_count": null,
   "metadata": {},
   "outputs": [],
   "source": [
    "from task_3_utils import mask_and_preds_to_1hot"
   ]
  },
  {
   "cell_type": "code",
   "execution_count": null,
   "metadata": {},
   "outputs": [],
   "source": [
    "# need to import colour_fmt_crop_and_resize\n",
    "sys.path.append(\"..\") # Adds higher directory to python modules path.\n",
    "\n",
    "from utils.dataset_2_utils import colour_fmt_crop_and_resize"
   ]
  },
  {
   "cell_type": "code",
   "execution_count": null,
   "metadata": {},
   "outputs": [],
   "source": [
    "colour_fmt_crop_and_resize"
   ]
  },
  {
   "cell_type": "code",
   "execution_count": null,
   "metadata": {},
   "outputs": [],
   "source": [
    "sy = np.array([0, 1200])\n",
    "scales = np.array([100, 125])"
   ]
  },
  {
   "cell_type": "code",
   "execution_count": null,
   "metadata": {},
   "outputs": [],
   "source": [
    "# load mask\n",
    "bgr_lab = cv2.imread(osp.join(root_path, png_files[0]))\n",
    "\n",
    "# load a specific image at index i\n",
    "i = 10\n",
    "\n",
    "image_stem = jpeg_files[i].split('/')[-1].split('.')[0]\n",
    "bgr_img = cv2.imread(osp.join(root_path, jpeg_files[i]))\n",
    "\n",
    "#for seek_y in sy:\n",
    "#for scale_percent in scales:\n",
    "#seek_y = 1800\n",
    "seek_x = 1200\n",
    "seek_y = 0\n",
    "scale_percent = 100\n",
    "\n",
    "imgc, mask = colour_fmt_crop_and_resize(bgr_img, bgr_lab, seek_x, seek_y)\n",
    "\n",
    "img_name = image_stem + '_crop%d' % seek_y\n",
    "\n",
    "nchw_tensor = img_to_nchw_tensor(imgc, device)\n",
    "\n",
    "with torch.no_grad():\n",
    "    pred = sig(net(nchw_tensor)['out'])\n",
    "\n",
    "pred_np = pred.detach().cpu().numpy().squeeze()\n",
    "\n",
    "targets = torch.LongTensor(mask).to(device)\n",
    "iou1 = eval_binary_iou(pred, targets).item()\n",
    "\n",
    "'''\n",
    "p_one_hot, t_one_hot = mask_and_preds_to_1hot(pred_np, mask)\n",
    "iou2 = jsc(p_one_hot.reshape(1, -1),\n",
    "           t_one_hot.reshape(1, -1), average='samples')\n",
    "'''           \n",
    "#print(seek_y, scale_percent, iou1, iou2)\n",
    "print(seek_y, scale_percent, iou1)\n",
    "\n",
    "p = (pred_np * 255).astype('uint8')\n",
    "src2 = np.zeros(\n",
    "    (p.shape[0], p.shape[1], 3), np.uint8)\n",
    "src2[:, :, 2] = p\n",
    "dst = cv2.addWeighted(imgc, 0.6, src2, 0.5, 0.5)\n",
    "fig = plt.figure(figsize=(16, 12))\n",
    "plt.imshow(dst)\n",
    "plt.axis('off')\n",
    "plt.tight_layout()\n",
    "filename = src + '-' + tgt + '__' + image_stem + '__' + model_stem + \\\n",
    "    '_scale%d_iou1_%.3f_iou2_%.3f_crop%d' % (scale_percent, iou1, iou2, seek_y)\n",
    "out_file = osp.join(prediction_path, filename)\n",
    "print(out_file)"
   ]
  },
  {
   "cell_type": "code",
   "execution_count": null,
   "metadata": {},
   "outputs": [],
   "source": [
    "cv2.imwrite(osp.join(root_path, img_name + \".jpg\"), bgr_img[seek_y:, :, :])"
   ]
  },
  {
   "cell_type": "markdown",
   "metadata": {},
   "source": [
    "# Biofouling figure\n",
    "\n",
    "Series 1 - only use one mask"
   ]
  },
  {
   "cell_type": "code",
   "execution_count": null,
   "metadata": {
    "colab": {
     "base_uri": "https://localhost:8080/",
     "height": 35
    },
    "colab_type": "code",
    "id": "cxaxZTfigNzs",
    "outputId": "394b6282-16e5-4596-dd56-4272301189a4"
   },
   "outputs": [],
   "source": [
    "bgr_lab = cv2.imread(osp.join(root_path, png_files[1]))\n",
    "\n",
    "iou_list = []\n",
    "\n",
    "seek_x = 1200\n",
    "seek_y = 0 # for biofouling\n",
    "#seek_y = 1200 # else for original 1352 images\n",
    "\n",
    "for i in range(len(jpeg_files)):\n",
    "    image_stem = jpeg_files[i].split('/')[-1].split('.')[0]\n",
    "    bgr_img = cv2.imread(osp.join(root_path, jpeg_files[i]))\n",
    "    \n",
    "    imgc, mask = colour_fmt_crop_and_resize(bgr_img, bgr_lab, seek_x, seek_y)\n",
    "    img = imgc.copy()\n",
    "\n",
    "    nchw_tensor = img_to_nchw_tensor(imgc, device)\n",
    "\n",
    "    with torch.no_grad():\n",
    "        pred = sig(net(nchw_tensor)['out'])\n",
    "    pred_np = pred.detach().cpu().numpy().squeeze()\n",
    "\n",
    "    targets = torch.LongTensor(mask).to(device)\n",
    "    iou1 = eval_binary_iou(pred, targets).item()\n",
    "    print(iou1)\n",
    "    iou_list.append(iou1)\n",
    "    '''\n",
    "    p_one_hot, t_one_hot = mask_and_preds_to_1hot(pred_np, mask)\n",
    "    iou2 = jsc(p_one_hot.reshape(1, -1),\n",
    "               t_one_hot.reshape(1, -1), average='samples')\n",
    "    iou_list.append((iou1, iou2))\n",
    "    '''"
   ]
  },
  {
   "cell_type": "code",
   "execution_count": null,
   "metadata": {},
   "outputs": [],
   "source": [
    "#fname_npy = 'npy/Tripod_' + image_stem[4:] + '_biofouling_' + model_stem + \"_\" + CID + '.npy' # wrt may 25 fg cropped from img mask\n",
    "fname_npy = 'npy/Tripod_' + image_stem[4:] + '_biofouling_fg_' + model_stem + \"_\" + CID + '.npy' # wrt may 25 fg\n",
    "print(fname_npy)\n",
    "np.save(fname_npy, np.asarray(iou_list))"
   ]
  },
  {
   "cell_type": "markdown",
   "metadata": {},
   "source": [
    "Series 2 - for biofouling subset (10 images, 10 masks)"
   ]
  },
  {
   "cell_type": "code",
   "execution_count": null,
   "metadata": {},
   "outputs": [],
   "source": [
    "iou_list = []\n",
    "\n",
    "seek_y = 0 # for biofouling\n",
    "seek_x = 1200\n",
    "\n",
    "for i in range(len(jpeg_files)):\n",
    "    image_stem = jpeg_files[i].split('/')[-1].split('.')[0]\n",
    "    bgr_img = cv2.imread(osp.join(root_path, jpeg_files[i]))\n",
    "    bgr_lab = cv2.imread(osp.join(root_path, png_files[i]))\n",
    "    \n",
    "    imgc, mask = colour_fmt_crop_and_resize(bgr_img, bgr_lab, seek_x, seek_y)\n",
    "    img = imgc.copy()\n",
    "\n",
    "    nchw_tensor = img_to_nchw_tensor(imgc, device)\n",
    "\n",
    "    with torch.no_grad():\n",
    "        pred = sig(net(nchw_tensor)['out'])\n",
    "    pred_np = pred.detach().cpu().numpy().squeeze()\n",
    "\n",
    "    targets = torch.LongTensor(mask).to(device)\n",
    "    iou1 = eval_binary_iou(pred, targets).item()\n",
    "    print(iou1)\n",
    "    iou_list.append(iou1)"
   ]
  },
  {
   "cell_type": "code",
   "execution_count": null,
   "metadata": {},
   "outputs": [],
   "source": [
    "fname_npy = 'npy/Tripod_biofouling_10_labels_propagated_' + model_stem + \"_\" + CID + '.npy'\n",
    "print(fname_npy)\n",
    "np.save(fname_npy, np.asarray(iou_list))"
   ]
  },
  {
   "cell_type": "markdown",
   "metadata": {},
   "source": [
    "Series 3 - evaluate all images with most recent label from the 10 available"
   ]
  },
  {
   "cell_type": "code",
   "execution_count": null,
   "metadata": {},
   "outputs": [],
   "source": [
    "from matplotlib.dates import datestr2num"
   ]
  },
  {
   "cell_type": "code",
   "execution_count": null,
   "metadata": {},
   "outputs": [],
   "source": [
    "root_path = '/scratch/ssd/gallowaa/cciw/dataset_raw/Test/Tripod/1352/'\n",
    "\n",
    "jpeg_files = glob.glob(root_path + '*1.jpg')\n",
    "png_files = glob.glob(root_path + 'biofouling/*.png')\n",
    "\n",
    "jpeg_files.sort()\n",
    "png_files.sort()\n",
    "\n",
    "# Note: lengths will be unequal here\n",
    "print(len(jpeg_files)) \n",
    "print(len(png_files))\n",
    "\n",
    "# assume len(png_files) < len(jpeg_files)\n",
    "num_inserted = 0\n",
    "for i in range(len(png_files)):\n",
    "    png_date = png_files[i + num_inserted].split('/')[-1].split('_')[2]\n",
    "\n",
    "    for j in range(i + num_inserted, len(jpeg_files)):\n",
    "        jpeg_date = jpeg_files[j].split('/')[-1].split('_')[2]\n",
    "        #print(j, png_date, jpeg_date)\n",
    "\n",
    "        if datestr2num(png_date) > datestr2num(jpeg_date):\n",
    "            png_files.insert(i + num_inserted, png_files[i + num_inserted - 1])\n",
    "            num_inserted += 1\n",
    "        else:\n",
    "            # print('Exit!')\n",
    "            break\n",
    "\n",
    "    # print('\\n')\n",
    "    #print(png_files, len(png_files))\n",
    "    # print('\\n')\n",
    "\n",
    "while len(png_files) < len(jpeg_files):\n",
    "    png_files.append(png_files[-1])\n",
    "\n",
    "assert len(jpeg_files) == len(png_files)\n",
    "\n",
    "# Note: lengths should be equal here\n",
    "print(len(jpeg_files)) \n",
    "print(len(png_files))"
   ]
  },
  {
   "cell_type": "code",
   "execution_count": null,
   "metadata": {},
   "outputs": [],
   "source": [
    "bgr_img = cv2.imread(osp.join(root_path, jpeg_files[i]))\n",
    "bgr_lab = cv2.imread(osp.join(root_path, png_files[i]))"
   ]
  },
  {
   "cell_type": "code",
   "execution_count": null,
   "metadata": {},
   "outputs": [],
   "source": [
    "bgr_lab.shape"
   ]
  },
  {
   "cell_type": "code",
   "execution_count": null,
   "metadata": {},
   "outputs": [],
   "source": [
    "plt.close('all')\n",
    "fig, axes = plt.subplots(1, 1, figsize=(20, 15))\n",
    "p = (pred_np * 255).astype('uint8')\n",
    "src2 = np.zeros((p.shape[0], p.shape[1], 3), np.uint8)\n",
    "src2[:, :, 2] = p\n",
    "dst = cv2.addWeighted(img, 0.5, src2, 0.5, 0)\n",
    "axes.imshow(dst)\n",
    "#axes.imshow(img)\n",
    "axes.axis('off')\n",
    "\n",
    "plt.tight_layout()\n",
    "\n",
    "if SAVE_PREDICTIONS:\n",
    "    filename = src + '-' + tgt + '__' + image_stem + '__' + model_stem + '_iou_%.4f' % iou1\n",
    "    out_file = osp.join(prediction_path, filename)\n",
    "    #fig.savefig(out_file + '.jpg', format='jpeg')"
   ]
  },
  {
   "cell_type": "markdown",
   "metadata": {},
   "source": [
    "# Split up image into smaller chunks"
   ]
  },
  {
   "cell_type": "code",
   "execution_count": null,
   "metadata": {},
   "outputs": [],
   "source": [
    "#i = 1\n",
    "\n",
    "iou_zoom_list = []\n",
    "\n",
    "w_y = 1500\n",
    "w_x = 2000\n",
    "scale_percent = 150\n",
    "\n",
    "bgr_lab = cv2.imread(osp.join(root_path, png_files[0]))\n",
    "\n",
    "labc = cv2.cvtColor(bgr_lab, cv2.COLOR_BGR2RGB)\n",
    "\n",
    "for i in range(len(jpeg_files)):\n",
    "\n",
    "    image_stem = jpeg_files[i].split('/')[-1].split('.')[0]\n",
    "    bgr_img = cv2.imread(osp.join(root_path, jpeg_files[i]))\n",
    "    imgc = cv2.cvtColor(bgr_img, cv2.COLOR_BGR2RGB)\n",
    "    composite_image = np.zeros((bgr_lab.shape[0], bgr_lab.shape[1]))\n",
    "\n",
    "    for row in range(bgr_img.shape[0] // w_y):    \n",
    "        for col in range(bgr_img.shape[1] // w_x):\n",
    "\n",
    "            top = w_y * row\n",
    "            bot = w_y * (row + 1)\n",
    "            left  = w_x * col\n",
    "            right = w_x * (col + 1)\n",
    "\n",
    "            img = imgc[top:bot, left:right, :]\n",
    "            lab = labc[top:bot, left:right]\n",
    "\n",
    "            width = int(img.shape[0] * scale_percent / 100)\n",
    "            height = int(img.shape[1] * scale_percent / 100)\n",
    "            img = cv2.resize(img, (width, height)) # resize image\n",
    "            lab = cv2.resize(lab, (width, height)) # resize image\n",
    "\n",
    "            nchw_tensor = img_to_nchw_tensor(img, device)\n",
    "\n",
    "            with torch.no_grad():\n",
    "                pred = sig(net(nchw_tensor)['out'])\n",
    "            pred_np = pred.detach().cpu().numpy()\n",
    "\n",
    "            # OpenCV loads the PNG mask as indexed color RGB, \n",
    "            # we need to convert it to a binary mask. \n",
    "            # The `0' in labc[:, :, 0] is the R channel.\n",
    "            mask = np.zeros((lab.shape[0], lab.shape[1]), dtype='float32')\n",
    "            mask[lab[:, :, 0] == 128] = 1\n",
    "\n",
    "            pred_np = pred_np.squeeze()        \n",
    "            width = int(img.shape[0] * 100 / scale_percent)\n",
    "            height = int(img.shape[1] * 100 / scale_percent)\n",
    "            pred_np_native = cv2.resize(pred_np, (width, height)) # resize image\n",
    "            composite_image[top:bot, left:right] = pred_np_native * 255\n",
    "\n",
    "    pred = torch.FloatTensor((composite_image / 255)).to(device)\n",
    "    mask = np.zeros((labc.shape[0], labc.shape[1]), dtype='float32')\n",
    "    mask[labc[:, :, 0] == 128] = 1\n",
    "\n",
    "    targets = torch.LongTensor(mask)\n",
    "    targets = targets.to(device)\n",
    "\n",
    "    outputs = pred.squeeze(1).round().long()\n",
    "    intersection = (outputs & targets).float().sum((0, 1))\n",
    "    union = (outputs | targets).float().sum((0, 1))\n",
    "    iou = intersection / union\n",
    "    print(iou.item())\n",
    "    iou_zoom_list.append(iou)"
   ]
  },
  {
   "cell_type": "code",
   "execution_count": null,
   "metadata": {},
   "outputs": [],
   "source": [
    "np.save('npy/Tripod_zoom' + str(scale_percent) + '_' + image_stem[4:] + '_biofouling_' + model_stem + '.npy', np.asarray(iou_zoom_list))"
   ]
  },
  {
   "cell_type": "code",
   "execution_count": null,
   "metadata": {},
   "outputs": [],
   "source": [
    "#plt.figure(figsize=(20, 15))\n",
    "#plt.imshow(composite_image)"
   ]
  },
  {
   "cell_type": "code",
   "execution_count": null,
   "metadata": {},
   "outputs": [],
   "source": [
    "plt.close('all')\n",
    "fig, axes = plt.subplots(1, 1, figsize=(20, 15))\n",
    "#p = (pred_np * 255).astype('uint8')\n",
    "p = composite_image.astype('uint8')\n",
    "src2 = np.zeros((p.shape[0], p.shape[1], 3), np.uint8)\n",
    "src2[:, :, 2] = p\n",
    "dst = cv2.addWeighted(imgc, 0.5, src2, 0.5, 0)\n",
    "axes.imshow(dst)\n",
    "axes.axis('off')\n",
    "plt.tight_layout()\n",
    "\n",
    "if SAVE_PREDICTIONS:\n",
    "    filename = src + '-' + tgt + '__composite' + image_stem + '__' + model_stem + '_iou_%.4f' % iou\n",
    "    out_file = osp.join(prediction_path, filename)\n",
    "    fig.savefig(out_file + '.jpg', format='jpeg')"
   ]
  },
  {
   "cell_type": "code",
   "execution_count": null,
   "metadata": {},
   "outputs": [],
   "source": [
    "pred = torch.FloatTensor((composite_image / 255)).to(device)"
   ]
  },
  {
   "cell_type": "code",
   "execution_count": null,
   "metadata": {},
   "outputs": [],
   "source": [
    "mask = np.zeros((labc.shape[0], labc.shape[1]), dtype='float32')\n",
    "mask[labc[:, :, 0] == 128] = 1\n",
    "\n",
    "targets = torch.LongTensor(mask)\n",
    "targets = targets.to(device)\n",
    "\n",
    "outputs = pred.squeeze(1).round().long()\n",
    "intersection = (outputs & targets).float().sum((0, 1))\n",
    "union = (outputs | targets).float().sum((0, 1))\n",
    "iou = intersection / union\n",
    "print(iou.item())"
   ]
  },
  {
   "cell_type": "code",
   "execution_count": null,
   "metadata": {},
   "outputs": [],
   "source": [
    "w_y = 1500\n",
    "w_x = 2000\n",
    "scale_percent = 150\n",
    "\n",
    "bgr_lab = cv2.imread(osp.join(root_path, png_files[0]))\n",
    "\n",
    "labc = cv2.cvtColor(bgr_lab, cv2.COLOR_BGR2RGB)\n",
    "\n",
    "i = 3\n",
    "image_stem = jpeg_files[i].split('/')[-1].split('.')[0]\n",
    "bgr_img = cv2.imread(osp.join(root_path, jpeg_files[i]))\n",
    "imgc = cv2.cvtColor(bgr_img, cv2.COLOR_BGR2RGB)\n",
    "composite_image = np.zeros((bgr_lab.shape[0], bgr_lab.shape[1]))\n",
    "\n",
    "for row in range(bgr_img.shape[0] // w_y):    \n",
    "    for col in range(bgr_img.shape[1] // w_x):\n",
    "\n",
    "        top = w_y * row\n",
    "        bot = w_y * (row + 1)\n",
    "        left  = w_x * col\n",
    "        right = w_x * (col + 1)\n",
    "\n",
    "        img = imgc[top:bot, left:right, :]\n",
    "        lab = labc[top:bot, left:right]\n",
    "\n",
    "        width = int(img.shape[0] * scale_percent / 100)\n",
    "        height = int(img.shape[1] * scale_percent / 100)\n",
    "        img = cv2.resize(img, (width, height)) # resize image\n",
    "        lab = cv2.resize(lab, (width, height)) # resize image\n",
    "\n",
    "        nchw_tensor = img_to_nchw_tensor(img, device)\n",
    "\n",
    "        with torch.no_grad():\n",
    "            pred = sig(net(nchw_tensor)['out'])\n",
    "        pred_np = pred.detach().cpu().numpy()\n",
    "\n",
    "        # OpenCV loads the PNG mask as indexed color RGB, \n",
    "        # we need to convert it to a binary mask. \n",
    "        # The `0' in labc[:, :, 0] is the R channel.\n",
    "        mask = np.zeros((lab.shape[0], lab.shape[1]), dtype='float32')\n",
    "        mask[lab[:, :, 0] == 128] = 1\n",
    "\n",
    "        pred_np = pred_np.squeeze()        \n",
    "        width = int(img.shape[0] * 100 / scale_percent)\n",
    "        height = int(img.shape[1] * 100 / scale_percent)\n",
    "        pred_np_native = cv2.resize(pred_np, (width, height)) # resize image\n",
    "        composite_image[top:bot, left:right] = pred_np_native * 255\n",
    "\n",
    "pred = torch.FloatTensor((composite_image / 255)).to(device)\n",
    "mask = np.zeros((labc.shape[0], labc.shape[1]), dtype='float32')\n",
    "mask[labc[:, :, 0] == 128] = 1\n",
    "\n",
    "targets = torch.LongTensor(mask)\n",
    "targets = targets.to(device)\n",
    "\n",
    "outputs = pred.squeeze(1).round().long()\n",
    "intersection = (outputs & targets).float().sum((0, 1))\n",
    "union = (outputs | targets).float().sum((0, 1))\n",
    "iou = intersection / union\n",
    "print(iou.item())"
   ]
  },
  {
   "cell_type": "code",
   "execution_count": null,
   "metadata": {},
   "outputs": [],
   "source": [
    "#p = (pred_np * 255).astype('uint8')\n",
    "p = composite_image.astype('uint8')\n",
    "\n",
    "src2 = np.zeros((p.shape[0], p.shape[1], 3), np.uint8)\n",
    "src2[:, :, 2] = p\n",
    "dst = cv2.addWeighted(imgc, 0.6, src2, 0.5, 0.5)\n",
    "fig = plt.figure(figsize=(16, 12))\n",
    "plt.imshow(dst)\n",
    "plt.axis('off')\n",
    "plt.tight_layout()"
   ]
  },
  {
   "cell_type": "markdown",
   "metadata": {},
   "source": [
    "# Calculate IoU between May 25 labels\n",
    "\n",
    "For inter-annotator variability, and figure for supplement"
   ]
  },
  {
   "cell_type": "code",
   "execution_count": null,
   "metadata": {},
   "outputs": [],
   "source": [
    "root_path = '/scratch/ssd/gallowaa/cciw/dataset_raw/Test/Tripod/1352/biofouling/'    \n",
    "png_files = glob.glob(root_path + '*.png')\n",
    "png_files.sort()\n",
    "print(len(png_files))\n",
    "lab_fg_1 = cv2.cvtColor(cv2.imread(osp.join(root_path, png_files[1])), cv2.COLOR_BGR2RGB)\n",
    "mask_1 = np.zeros((lab_fg_1.shape[0], lab_fg_1.shape[1]), dtype='float32')\n",
    "mask_1[lab_fg_1[:, :, 0] == 128] = 1"
   ]
  },
  {
   "cell_type": "code",
   "execution_count": null,
   "metadata": {},
   "outputs": [],
   "source": [
    "plt.imshow(mask_1)"
   ]
  },
  {
   "cell_type": "code",
   "execution_count": null,
   "metadata": {},
   "outputs": [],
   "source": [
    "root_path = '/scratch/ssd/gallowaa/cciw/dataset_raw/Test/Tripod/1352/'    \n",
    "png_files = glob.glob(root_path + '*_final.png')\n",
    "png_files.sort()\n",
    "print(len(png_files))\n",
    "lab_full = cv2.cvtColor(cv2.imread(osp.join(root_path, png_files[0])), cv2.COLOR_BGR2RGB)\n",
    "seek_y = 1200\n",
    "lab_fg_2 = lab_full[seek_y:]\n",
    "mask_2 = np.zeros((lab_fg_2.shape[0], lab_fg_2.shape[1]), dtype='float32')\n",
    "mask_2[lab_fg_2[:, :, 0] == 128] = 1"
   ]
  },
  {
   "cell_type": "code",
   "execution_count": null,
   "metadata": {},
   "outputs": [],
   "source": [
    "m_1 = mask_1.astype('uint8')\n",
    "m_2 = mask_2.astype('uint8')\n",
    "\n",
    "t = (m_1.round() * 2).astype('uint8') + m_2\n",
    "\n",
    "fig, ax = plt.subplots(1, 1, figsize=(40., 18.))\n",
    "im = ax.imshow(t, cmap=plt.cm.get_cmap('magma', 4))\n",
    "ax.axis('off')\n",
    "\n",
    "labels = ['True Negative', 'False Negative', 'False Positive', 'True Positive']\n",
    "\n",
    "# This function formatter will replace integers with target names\n",
    "formatter = plt.FuncFormatter(lambda val, loc: labels[val])\n",
    "\n",
    "# We must be sure to specify the ticks matching our target names\n",
    "cbar = fig.colorbar(im, ax=ax, ticks=[0, 1, 2, 3], format=formatter, orientation=\"horizontal\", shrink=0.5, pad=0.05, aspect=30, fraction=0.05)\n",
    "cbar.ax.tick_params(labelsize=54)\n",
    "\n",
    "plt.tight_layout()\n",
    "plt.show()"
   ]
  },
  {
   "cell_type": "code",
   "execution_count": null,
   "metadata": {},
   "outputs": [],
   "source": [
    "fig.savefig('may_25_interhuman.jpg')"
   ]
  },
  {
   "cell_type": "code",
   "execution_count": null,
   "metadata": {},
   "outputs": [],
   "source": []
  }
 ],
 "metadata": {
  "accelerator": "GPU",
  "colab": {
   "collapsed_sections": [],
   "name": "task_3_evaluate_checkpoint_in_colab.ipynb",
   "provenance": []
  },
  "kernelspec": {
   "display_name": "Python 3",
   "language": "python",
   "name": "python3"
  },
  "language_info": {
   "codemirror_mode": {
    "name": "ipython",
    "version": 3
   },
   "file_extension": ".py",
   "mimetype": "text/x-python",
   "name": "python",
   "nbconvert_exporter": "python",
   "pygments_lexer": "ipython3",
   "version": "3.8.5"
  }
 },
 "nbformat": 4,
 "nbformat_minor": 4
}
