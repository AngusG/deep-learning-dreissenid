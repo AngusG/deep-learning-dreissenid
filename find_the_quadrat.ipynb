{
 "cells": [
  {
   "cell_type": "code",
   "execution_count": null,
   "metadata": {},
   "outputs": [],
   "source": [
    "import os \n",
    "import numpy as np\n",
    "import matplotlib.pyplot as plt\n",
    "from skimage import transform\n",
    "import cv2\n",
    "\n",
    "rad2deg = 180 / np.pi"
   ]
  },
  {
   "cell_type": "code",
   "execution_count": null,
   "metadata": {},
   "outputs": [],
   "source": [
    "%matplotlib inline"
   ]
  },
  {
   "cell_type": "code",
   "execution_count": null,
   "metadata": {},
   "outputs": [],
   "source": [
    "path = '/scratch/ssd/cciw/sample_data/'\n",
    "images = os.listdir(path)\n",
    "#img = images[-3]\n",
    "img = '1340_2016-07-11_1_GLN_3447.JPG'\n",
    "#img = '1349_2016-07-06_2_GLN_3061.JPG'\n",
    "#img = '1342_2016-07-07_2_GLN_3182.JPG'\n",
    "#img = 'sudoku.png'"
   ]
  },
  {
   "cell_type": "code",
   "execution_count": null,
   "metadata": {},
   "outputs": [],
   "source": [
    "f = os.path.join(path, img)"
   ]
  },
  {
   "cell_type": "code",
   "execution_count": null,
   "metadata": {},
   "outputs": [],
   "source": [
    "im = cv2.imread(f)"
   ]
  },
  {
   "cell_type": "code",
   "execution_count": null,
   "metadata": {},
   "outputs": [],
   "source": [
    "im.shape  # (height, width)"
   ]
  },
  {
   "cell_type": "code",
   "execution_count": null,
   "metadata": {},
   "outputs": [],
   "source": [
    "ds = 8  # naive downsampling by factor of 8\n",
    "plt.figure(figsize=(14, 10))\n",
    "plt.imshow(im[::ds, ::ds])"
   ]
  },
  {
   "cell_type": "code",
   "execution_count": null,
   "metadata": {},
   "outputs": [],
   "source": [
    "#img = im[::ds, ::ds].astype(np.uint8).copy()\n",
    "img = np.ascontiguousarray(im[::ds, ::ds], dtype=np.uint8)\n",
    "gray = cv2.cvtColor(img, cv2.COLOR_RGB2GRAY)  # convert to greyscale for edge detection\n",
    "print(gray.shape)"
   ]
  },
  {
   "cell_type": "code",
   "execution_count": null,
   "metadata": {},
   "outputs": [],
   "source": [
    "#from skimage.feature import corner_harris, corner_peaks, corner_subpix\n",
    "#coords = corner_peaks(corner_harris(gray), min_distance=50)\n",
    "#coords_subpix = corner_subpix(gray, coords, window_size=13)\n",
    "#print(coords_subpix)\n",
    "#coords\n",
    "#plt.figure(figsize=(8,8))\n",
    "#plt.imshow(gray)\n",
    "#plt.scatter(coords[:, 0], coords[:, 1], c='r')"
   ]
  },
  {
   "cell_type": "code",
   "execution_count": null,
   "metadata": {},
   "outputs": [],
   "source": [
    "cv2.Canny?"
   ]
  },
  {
   "cell_type": "code",
   "execution_count": null,
   "metadata": {},
   "outputs": [],
   "source": [
    "#print(lines[0, 0, 0]) \n",
    "#print(lines[0, 0, 1] * 180 / np.pi) "
   ]
  },
  {
   "cell_type": "code",
   "execution_count": null,
   "metadata": {},
   "outputs": [],
   "source": [
    "# indices, `DP' = data point\n",
    "DP_1 = 0\n",
    "DP_2 = 1\n",
    "X_COORD = 0\n",
    "Y_COORD = 1"
   ]
  },
  {
   "cell_type": "code",
   "execution_count": null,
   "metadata": {},
   "outputs": [],
   "source": [
    "cv2.HoughLinesP?"
   ]
  },
  {
   "cell_type": "code",
   "execution_count": null,
   "metadata": {},
   "outputs": [],
   "source": [
    "linesP.shape"
   ]
  },
  {
   "cell_type": "code",
   "execution_count": null,
   "metadata": {},
   "outputs": [],
   "source": [
    "'''\n",
    "@param threshold Accumulator threshold parameter. Only those lines are returned that get enough\n",
    "       votes ( \\f$>\\texttt{threshold}\\f$ ).\n",
    "@param minLineLength Minimum line length. Line segments shorter than that are rejected.\n",
    "@param maxLineGap Maximum allowed gap between points on the same line to link them.\n",
    "'''\n",
    "#img = im[::ds, ::ds].astype(np.uint8).copy()\n",
    "img = np.ascontiguousarray(im[::ds, ::ds], dtype=np.uint8)\n",
    "img_h = img.shape[0]\n",
    "img_w = img.shape[1]\n",
    "gray = cv2.cvtColor(img, cv2.COLOR_RGB2GRAY)\n",
    "\n",
    "#edges = cv2.Canny(gray, 100, 500, L2gradient=True)\n",
    "edges = cv2.Canny(gray, 20, 400, L2gradient=True) # GLN_3447\n",
    "\n",
    "# @param rho Distance resolution of the accumulator in pixels.\n",
    "rho = 1  \n",
    "# @param theta Angle resolution of the accumulator in radians.\n",
    "theta = np.pi / 90  # note, with 180 getting too many overlapping lines.\n",
    "\n",
    "lines  =  cv2.HoughLines(edges, rho, theta, threshold=100)\n",
    "#linesP = cv2.HoughLinesP(edges, 1, theta, 110)\n",
    "#linesP = cv2.HoughLinesP(edges, rho, theta, threshold=100, minLineLength=200, maxLineGap=100)\n",
    "\n",
    "#print(lines.shape)  # (N - number of lines found, r - pixels, theta - radians)\n",
    "#coords = []\n",
    "N = 1\n",
    "\n",
    "coords = np.zeros((N, 2, 2)).astype('int') # points, start/end, x/y\n",
    "angles = np.zeros(N)\n",
    "for i in range(len(lines[:N])):\n",
    "    for r, theta in lines[i]:\n",
    "        # theta is normal to the line wrt x-axis, so we subtract 90\n",
    "        if r > 0:\n",
    "            angles[i] = 90 - theta * 180 / np.pi\n",
    "        else: \n",
    "            angles[i] = 270 - theta * 180 / np.pi\n",
    "        print(i, '%.2f' % angles[i])\n",
    "        a = np.cos(theta)\n",
    "        b = np.sin(theta)\n",
    "        x0, y0 = a * r, b * r\n",
    "        x1 = int(x0 + img_w * -b)\n",
    "        y1 = int(y0 + img_w *  a)\n",
    "        x2 = int(x0 - img_w * -b)\n",
    "        y2 = int(y0 - img_w *  a)\n",
    "        #coords.append([[x1, y1], [x2, y2]])\n",
    "        coords[i, DP_1, X_COORD] = x1\n",
    "        coords[i, DP_1, Y_COORD] = y1\n",
    "        coords[i, DP_2, X_COORD] = x2\n",
    "        coords[i, DP_2, Y_COORD] = y2\n",
    "        print(i, (x1, y1), (x2, y2))\n",
    "        cv2.line(img, (x1, y1), (x2, y2), (0, 0, 255), 2)\n",
    "plt.figure(figsize=(8,8))\n",
    "plt.imshow(img)\n",
    "plt.xlabel('x')\n",
    "plt.ylabel('y')\n",
    "plt.show()        "
   ]
  },
  {
   "cell_type": "code",
   "execution_count": null,
   "metadata": {},
   "outputs": [],
   "source": [
    "coords"
   ]
  },
  {
   "cell_type": "markdown",
   "metadata": {},
   "source": [
    "## Post processing"
   ]
  },
  {
   "cell_type": "code",
   "execution_count": null,
   "metadata": {},
   "outputs": [],
   "source": [
    "tol = 5  # tolerance in degrees\n",
    "ref = angles[0]\n",
    "candidates = []\n",
    "candidates.append((0, a))\n",
    "similar_angles = []\n",
    "for i, a in enumerate(angles[1:]):\n",
    "    if a >= ref and ref + tol > a:\n",
    "        similar_angles.append((i + 1, a))\n",
    "    else:\n",
    "        candidates.append((i + 1, a))\n",
    "print(similar_angles)\n",
    "print(candidates)\n",
    "\n",
    "# Of the lines with a similar angle, keep only those that are offset\n",
    "ref_coord = coords[0]\n",
    "\n",
    "for i, a in similar_angles:\n",
    "    if abs(coords[i, DP_1, X_COORD] - ref_coord[DP_1, X_COORD]) > 50:\n",
    "        print('x-coords differ')\n",
    "        candidates.append((i, a))\n",
    "        ref_coord = coords[i]  # update ref_coord\n",
    "        \n",
    "    if abs(coords[i, DP_1, Y_COORD] - ref_coord[DP_1, Y_COORD]) > 50:\n",
    "        print('y-coords differ')\n",
    "        candidates.append((i, a))\n",
    "        ref_coord = coords[i]  # update ref_coord\n",
    "\n",
    "print(candidates)\n",
    "\n",
    "plt.figure(figsize=(8,8))\n",
    "img = np.ascontiguousarray(im[::ds, ::ds], dtype=np.uint8)\n",
    "for (i, _) in candidates:\n",
    "    cv2.line(img, (coords[i, DP_1, X_COORD], coords[i, DP_1, Y_COORD]), \n",
    "                  (coords[i, DP_2, X_COORD], coords[i, DP_2, Y_COORD]), (0, 0, 255), 2)\n",
    "plt.imshow(img)\n",
    "plt.xlabel('x')\n",
    "plt.ylabel('y')\n",
    "plt.show()"
   ]
  },
  {
   "cell_type": "markdown",
   "metadata": {},
   "source": [
    "## Probabilistic HoughLines"
   ]
  },
  {
   "cell_type": "code",
   "execution_count": null,
   "metadata": {},
   "outputs": [],
   "source": [
    "#edges = cv2.Canny(gray, 20, 400, L2gradient=True)\n",
    "plt.figure(figsize=(12, 10))\n",
    "plt.imshow(edges)"
   ]
  },
  {
   "cell_type": "code",
   "execution_count": null,
   "metadata": {},
   "outputs": [],
   "source": [
    "img = np.ascontiguousarray(im[::ds, ::ds], dtype=np.uint8)\n",
    "img_h = img.shape[0]\n",
    "img_w = img.shape[1]\n",
    "gray = cv2.cvtColor(img, cv2.COLOR_RGB2GRAY)\n",
    "\n",
    "# @param canny_threshold1\n",
    "# @param canny_threshold2\n",
    "canny_thresh1 = 20\n",
    "canny_thresh2 = 400\n",
    "\n",
    "# first pass using HoughLines to find rotation angle\n",
    "'''\n",
    "edges = cv2.Canny(gray, threshold1=canny_thresh1, threshold2=canny_thresh2, L2gradient=True) # GLN_3447\n",
    "lines = cv2.HoughLines(edges, rho, theta, threshold=100)\n",
    "rot_deg = 90 - lines[0][0][1] * rad2deg  # lines are sorted by number of votes, 0th line is best\n",
    "imgr = transform.rotate(np.ascontiguousarray(im[::ds, ::ds], dtype=np.uint8), -rot_deg, mode='symmetric')\n",
    "imgr = (255 * imgr).astype(np.uint8)\n",
    "grayr = cv2.cvtColor(imgr, cv2.COLOR_RGB2GRAY)\n",
    "'''\n",
    "# run the Canny edge detector on the rotated gray scale image\n",
    "edges = cv2.Canny(gray, threshold1=canny_thresh1, threshold2=canny_thresh2, L2gradient=True) # GLN_3447\n",
    "\n",
    "# @param rho Distance resolution of the accumulator (pixels).\n",
    "rho = 1  \n",
    "\n",
    "# @param theta Angle resolution of the accumulator (radians).\n",
    "theta = np.pi / 90\n",
    "\n",
    "# @param threshold Accumulator threshold, return lines with more than threshold of votes. (intersection points)\n",
    "threshold = 100\n",
    "\n",
    "# @param minLineLength Minimum line length. Line segments shorter than that are rejected. (pixels)\n",
    "mLL = 200\n",
    "\n",
    "# @param maxLineGap Maximum allowed gap between points on the same line to link them. (pixels)\n",
    "mLG = 100\n",
    "\n",
    "# run the probabilistic hough lines transform\n",
    "linesP = cv2.HoughLinesP(edges, rho, theta, threshold=threshold, minLineLength=mLL, maxLineGap=mLG)\n",
    "\n",
    "# @param lines The extremes of the detected lines if any (<N_LINES_FOUND>, 1, x_0, y_0, x_1, y_1). (pixels)\n",
    "print('Found %d lines' % len(linesP))\n",
    "\n",
    "N = 20  # top N results to draw\n",
    "if linesP is not None:\n",
    "    for i in range(len(linesP[:N])):\n",
    "        l = linesP[i][0]\n",
    "        cv2.line(img, (l[0], l[1]), (l[2], l[3]), (255,0,0), 3, cv2.LINE_AA)\n",
    "plt.figure(figsize=(12, 10))\n",
    "plt.imshow(img)\n",
    "plt.xlabel('x')\n",
    "plt.ylabel('y')\n",
    "plt.show()"
   ]
  },
  {
   "cell_type": "code",
   "execution_count": null,
   "metadata": {},
   "outputs": [],
   "source": [
    "# line below origin, rho positive, angle less than 180\n",
    "# line above origin, rho negative, angle less than 180\n",
    "lines = cv2.HoughLines(edges, rho, theta, threshold=100)\n",
    "rot_deg = 90 - lines[0][0][1] * rad2deg\n",
    "t = rot_deg / rad2deg"
   ]
  },
  {
   "cell_type": "code",
   "execution_count": null,
   "metadata": {},
   "outputs": [],
   "source": [
    "plt.figure(figsize=(12, 10))\n",
    "center = (coordsP[0, DP_1, X_COORD], coordsP[0, DP_1, Y_COORD])\n",
    "imgr = transform.rotate(np.ascontiguousarray(im[::ds, ::ds], dtype=np.uint8), -rot_deg, center=center, resize=False)\n",
    "imgr = (255 * imgr).astype(np.uint8)\n",
    "plt.imshow(imgr[:, :])\n",
    "plt.show()"
   ]
  },
  {
   "cell_type": "code",
   "execution_count": null,
   "metadata": {},
   "outputs": [],
   "source": [
    "coordsP = np.zeros((np.minimum(N, len(linesP)), 2, 2)).astype('int') # points, start/end, x/y\n",
    "\n",
    "for i in range(len(linesP[:N])):\n",
    "    l = linesP[i][0]\n",
    "    coordsP[i, DP_1, X_COORD] = l[0] # x1\n",
    "    coordsP[i, DP_1, Y_COORD] = l[1] # y1\n",
    "    coordsP[i, DP_2, X_COORD] = l[2] # x2\n",
    "    coordsP[i, DP_2, Y_COORD] = l[3] # y2\n",
    "    \n",
    "R = np.array([[np.cos(-t), -np.sin(-t)],\n",
    "              [np.sin(-t),  np.cos(-t)]])\n",
    "coordsP_r = np.dot(coordsP, R)\n",
    "coordsP_r[0]"
   ]
  },
  {
   "cell_type": "code",
   "execution_count": null,
   "metadata": {},
   "outputs": [],
   "source": [
    "for i in range(len(linesP[:N])):\n",
    "    \n",
    "    #l = linesP[i][0]\n",
    "    #cv2.line(img, (l[0], l[1]), (l[2], l[3]), (255, 0, 0), 3, cv2.LINE_AA)\n",
    "    '''\n",
    "    cv2.line(imgr, (int(coordsP_r[i, DP_1, X_COORD]),\n",
    "                    int(coordsP_r[i, DP_1, Y_COORD])),\n",
    "                   (int(coordsP_r[i, DP_2, X_COORD]),\n",
    "                    int(coordsP_r[i, DP_2, Y_COORD])),\n",
    "             (128, 0, 255), 3, cv2.LINE_AA)\n",
    "    '''\n",
    "    cv2.line(imgr, (int(coordsP_r[i, DP_1, X_COORD]),\n",
    "                    int(coordsP_r[i, DP_1, Y_COORD] + (coordsP[0, DP_1, Y_COORD] - coordsP_r[0, DP_1, Y_COORD]))),\n",
    "                   (int(coordsP_r[i, DP_2, X_COORD]),\n",
    "                    int(coordsP_r[i, DP_2, Y_COORD] + (coordsP[0, DP_1, Y_COORD] - coordsP_r[0, DP_1, Y_COORD]))),\n",
    "             (128, 0, 255), 3, cv2.LINE_AA)         "
   ]
  },
  {
   "cell_type": "code",
   "execution_count": null,
   "metadata": {},
   "outputs": [],
   "source": [
    "plt.figure(figsize=(12, 10))\n",
    "plt.imshow(imgr)"
   ]
  },
  {
   "cell_type": "markdown",
   "metadata": {},
   "source": [
    "# Find intersection points"
   ]
  },
  {
   "cell_type": "code",
   "execution_count": null,
   "metadata": {},
   "outputs": [],
   "source": []
  }
 ],
 "metadata": {
  "kernelspec": {
   "display_name": "Python 3",
   "language": "python",
   "name": "python3"
  },
  "language_info": {
   "codemirror_mode": {
    "name": "ipython",
    "version": 3
   },
   "file_extension": ".py",
   "mimetype": "text/x-python",
   "name": "python",
   "nbconvert_exporter": "python",
   "pygments_lexer": "ipython3",
   "version": "3.6.7"
  }
 },
 "nbformat": 4,
 "nbformat_minor": 2
}
