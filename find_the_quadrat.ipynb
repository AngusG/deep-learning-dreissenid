{
 "cells": [
  {
   "cell_type": "code",
   "execution_count": null,
   "metadata": {},
   "outputs": [],
   "source": [
    "import os \n",
    "import numpy as np\n",
    "import matplotlib.pyplot as plt\n",
    "import skimage\n",
    "import cv2"
   ]
  },
  {
   "cell_type": "code",
   "execution_count": null,
   "metadata": {},
   "outputs": [],
   "source": [
    "%matplotlib inline"
   ]
  },
  {
   "cell_type": "code",
   "execution_count": null,
   "metadata": {},
   "outputs": [],
   "source": [
    "path = '/scratch/ssd/cciw/sample_data/'\n",
    "#img = '1340_2016-07-11_1_GLN_3447.JPG'\n",
    "img = '1349_2016-07-06_2_GLN_3061.JPG'\n",
    "#img = 'sudoku.png'"
   ]
  },
  {
   "cell_type": "code",
   "execution_count": null,
   "metadata": {},
   "outputs": [],
   "source": [
    "f = os.path.join(path, img)"
   ]
  },
  {
   "cell_type": "code",
   "execution_count": null,
   "metadata": {},
   "outputs": [],
   "source": [
    "im = cv2.imread(f)"
   ]
  },
  {
   "cell_type": "code",
   "execution_count": null,
   "metadata": {},
   "outputs": [],
   "source": [
    "im.shape"
   ]
  },
  {
   "cell_type": "code",
   "execution_count": null,
   "metadata": {},
   "outputs": [],
   "source": [
    "#np.sqrt(im.shape[0]**2 + im.shape[1]**2)"
   ]
  },
  {
   "cell_type": "code",
   "execution_count": null,
   "metadata": {},
   "outputs": [],
   "source": [
    "ds = 8\n",
    "plt.imshow(im[::ds, ::ds])"
   ]
  },
  {
   "cell_type": "code",
   "execution_count": null,
   "metadata": {},
   "outputs": [],
   "source": [
    "#img = im[::ds, ::ds].astype(np.uint8).copy()\n",
    "img = np.ascontiguousarray(im[::ds, ::ds], dtype=np.uint8)\n",
    "gray = cv2.cvtColor(img, cv2.COLOR_RGB2GRAY)\n",
    "edges = cv2.Canny(gray, 100, 500)\n",
    "plt.imshow(edges)"
   ]
  },
  {
   "cell_type": "code",
   "execution_count": null,
   "metadata": {},
   "outputs": [],
   "source": [
    "'''\n",
    "@param rho Distance resolution of the accumulator in pixels.\n",
    "@param theta Angle resolution of the accumulator in radians.\n",
    "@param threshold Accumulator threshold parameter. Only those lines are returned that get enough\n",
    "       votes ( \\f$>\\texttt{threshold}\\f$ ).\n",
    "@param minLineLength Minimum line length. Line segments shorter than that are rejected.\n",
    "@param maxLineGap Maximum allowed gap between points on the same line to link them.\n",
    "'''\n",
    "#img = im[::ds, ::ds].astype(np.uint8).copy()\n",
    "img = np.ascontiguousarray(im[::ds, ::ds], dtype=np.uint8)\n",
    "gray = cv2.cvtColor(img, cv2.COLOR_RGB2GRAY)\n",
    "edges = cv2.Canny(gray, 100, 500)\n",
    "#plt.imshow(edges[:, 200:])\n",
    "theta = np.pi / 90  # note, with 180 getting too many overlapping lines.\n",
    "lines = cv2.HoughLines(edges, 1, theta, 10)\n",
    "print(lines.shape)\n",
    "#coords = []\n",
    "N = 2\n",
    "coords = np.zeros((N, 2, 2)) # points, start/end, x/y\n",
    "for i in range(len(lines[:N])):\n",
    "    for rho, theta in lines[i]:\n",
    "        print(i, abs(theta * 180 / np.pi - 90))\n",
    "        #if i == 0:\n",
    "        #    t = theta\n",
    "        a = np.cos(theta)\n",
    "        b = np.sin(theta)\n",
    "        x0 = a*rho\n",
    "        y0 = b*rho\n",
    "        x1 = int(x0 + img.shape[1]*(-b))\n",
    "        y1 = int(y0 + img.shape[1]*(a))\n",
    "        x2 = int(x0 - img.shape[1]*(-b))\n",
    "        y2 = int(y0 - img.shape[1]*(a))\n",
    "        #coords.append([[x1, y1], [x2, y2]])\n",
    "        coords[i, 0, 0] = x1\n",
    "        coords[i, 0, 1] = y1\n",
    "        coords[i, 1, 0] = x2\n",
    "        coords[i, 1, 1] = y2\n",
    "        print(i, x1, y1, x2, y2)\n",
    "        cv2.line(img, (x1, y1), (x2, y2), (0, 0, 255), 2)\n",
    "plt.imshow(img)        \n",
    "plt.xlabel('y')\n",
    "plt.ylabel('x')"
   ]
  },
  {
   "cell_type": "code",
   "execution_count": null,
   "metadata": {},
   "outputs": [],
   "source": [
    "%matplotlib"
   ]
  },
  {
   "cell_type": "code",
   "execution_count": null,
   "metadata": {},
   "outputs": [],
   "source": [
    "theta = lines[0, 0, 1]"
   ]
  },
  {
   "cell_type": "code",
   "execution_count": null,
   "metadata": {},
   "outputs": [],
   "source": [
    "theta"
   ]
  },
  {
   "cell_type": "code",
   "execution_count": null,
   "metadata": {},
   "outputs": [],
   "source": [
    "t = abs(theta - np.pi / 2)\n",
    "R = np.array([[np.cos(t), -np.sin(t)],\n",
    "              [np.sin(t),  np.cos(t)]])"
   ]
  },
  {
   "cell_type": "code",
   "execution_count": null,
   "metadata": {},
   "outputs": [],
   "source": [
    "print(coords)\n",
    "coords_r = np.dot(coords, R)\n",
    "print(coords_r)"
   ]
  },
  {
   "cell_type": "code",
   "execution_count": null,
   "metadata": {},
   "outputs": [],
   "source": [
    "print(coords_r[0, 0, 0]) \n",
    "print(coords_r[0, 1, 0])\n",
    "idx = int((coords_r[0, 0, 0] + coords_r[0, 1, 0]) / 2)\n",
    "print(idx)\n",
    "\n",
    "#print(coords_r[2, 0, 0]) \n",
    "#print(coords_r[2, 1, 0])\n",
    "#idx = int((coords_r[2, 0, 0] + coords_r[2, 1, 0]) / 2)\n",
    "#print(idx)"
   ]
  },
  {
   "cell_type": "code",
   "execution_count": null,
   "metadata": {},
   "outputs": [],
   "source": [
    "imgr = skimage.transform.rotate(img, abs(theta - np.pi/2)*180/np.pi)#.astype(np.uint8)\n",
    "imgr = (255 * imgr).astype(np.uint8)\n",
    "plt.imshow(imgr[:, :])"
   ]
  },
  {
   "cell_type": "code",
   "execution_count": null,
   "metadata": {},
   "outputs": [],
   "source": [
    "#np.dot()\n",
    "'''\n",
    "data = np.random.multivariate_normal(mean=[0, 0], \n",
    "                                     cov=np.array([[0.1, 0], [0, 0.001]]), size=1000)\n",
    "\n",
    "plt.scatter(data[:, 0], data[:, 1])\n",
    "dr = np.dot(data, R)\n",
    "plt.scatter(dr[:, 0], dr[:, 1])\n",
    "plt.xlim(-3, 3)\n",
    "plt.ylim(-3, 3)\n",
    "'''"
   ]
  },
  {
   "cell_type": "code",
   "execution_count": null,
   "metadata": {},
   "outputs": [],
   "source": [
    "x0, y0"
   ]
  },
  {
   "cell_type": "code",
   "execution_count": null,
   "metadata": {},
   "outputs": [],
   "source": [
    "run = coords[0][2] - coords[0][0]\n",
    "rise = coords[0][3] - coords[0][1]\n",
    "print(rise)\n",
    "print(run)\n",
    "print(rise/run)"
   ]
  },
  {
   "cell_type": "code",
   "execution_count": null,
   "metadata": {},
   "outputs": [],
   "source": [
    "#imgr.max()"
   ]
  },
  {
   "cell_type": "code",
   "execution_count": null,
   "metadata": {},
   "outputs": [],
   "source": [
    "#imgr_c.dtype"
   ]
  },
  {
   "cell_type": "code",
   "execution_count": null,
   "metadata": {},
   "outputs": [],
   "source": [
    "imgr_c = img.copy()\n",
    "gray = cv2.cvtColor(imgr_c, cv2.COLOR_RGB2GRAY)\n",
    "edges = cv2.Canny(gray, 100, 500)"
   ]
  },
  {
   "cell_type": "code",
   "execution_count": null,
   "metadata": {},
   "outputs": [],
   "source": [
    "plt.imshow(edges)"
   ]
  },
  {
   "cell_type": "code",
   "execution_count": null,
   "metadata": {},
   "outputs": [],
   "source": [
    "lines = cv2.HoughLinesP(\n",
    "    edges, rho=1, theta=np.pi/90, threshold=10, minLineLength=300, maxLineGap=70)\n",
    "print(lines.shape)\n",
    "hp_coords = np.zeros((N, 2, 2)) # points, start/end, x/y\n",
    "for i in range(len(lines[:N])):\n",
    "    for x1,y1,x2,y2 in lines[i]:\n",
    "        print(x1, y1, x2, y2)\n",
    "        hp_coords[i, 0, 0] = x1\n",
    "        hp_coords[i, 0, 1] = y1\n",
    "        hp_coords[i, 1, 0] = x2\n",
    "        hp_coords[i, 1, 1] = y2\n",
    "        cv2.line(imgr_c,(x1,y1),(x2,y2),(0,0,255),2)"
   ]
  },
  {
   "cell_type": "code",
   "execution_count": null,
   "metadata": {},
   "outputs": [],
   "source": [
    "#imgr = skimage.transform.rotate(img, theta * 180/np.pi)\n",
    "#plt.imshow(imgr[40:380, 330:660])\n",
    "plt.imshow(imgr_c)"
   ]
  },
  {
   "cell_type": "code",
   "execution_count": null,
   "metadata": {},
   "outputs": [],
   "source": []
  }
 ],
 "metadata": {
  "kernelspec": {
   "display_name": "Python 3",
   "language": "python",
   "name": "python3"
  },
  "language_info": {
   "codemirror_mode": {
    "name": "ipython",
    "version": 3
   },
   "file_extension": ".py",
   "mimetype": "text/x-python",
   "name": "python",
   "nbconvert_exporter": "python",
   "pygments_lexer": "ipython3",
   "version": "3.6.6"
  }
 },
 "nbformat": 4,
 "nbformat_minor": 2
}
